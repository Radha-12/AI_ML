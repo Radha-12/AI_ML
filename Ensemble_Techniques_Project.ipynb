{
  "nbformat": 4,
  "nbformat_minor": 0,
  "metadata": {
    "colab": {
      "provenance": [],
      "authorship_tag": "ABX9TyOlj9HbRA1zou7TaDbQfDR+",
      "include_colab_link": true
    },
    "kernelspec": {
      "name": "python3",
      "display_name": "Python 3"
    },
    "language_info": {
      "name": "python"
    }
  },
  "cells": [
    {
      "cell_type": "markdown",
      "metadata": {
        "id": "view-in-github",
        "colab_type": "text"
      },
      "source": [
        "<a href=\"https://colab.research.google.com/github/Radha-12/AI_ML/blob/main/Ensemble_Techniques_Project.ipynb\" target=\"_parent\"><img src=\"https://colab.research.google.com/assets/colab-badge.svg\" alt=\"Open In Colab\"/></a>"
      ]
    },
    {
      "cell_type": "markdown",
      "source": [
        "# **Ensemble Techniques Project**"
      ],
      "metadata": {
        "id": "eJAuZCBFlyTh"
      }
    },
    {
      "cell_type": "markdown",
      "source": [
        "**▶ PART - A**"
      ],
      "metadata": {
        "id": "hO4doIiVl6ac"
      }
    },
    {
      "cell_type": "markdown",
      "source": [
        "**1. Data Understanding**"
      ],
      "metadata": {
        "id": "dB4QH0tQzqZI"
      }
    },
    {
      "cell_type": "code",
      "source": [
        "#Import Neccessary libraries\n",
        "import matplotlib.pyplot as plt\n",
        "%matplotlib inline\n",
        "import pandas as pd\n",
        "import numpy as np\n",
        "import seaborn as sns\n",
        "from sklearn.model_selection import train_test_split, RandomizedSearchCV, GridSearchCV\n",
        "from sklearn.linear_model import LogisticRegression\n",
        "from sklearn.tree import DecisionTreeClassifier\n",
        "from sklearn.neighbors import KNeighborsClassifier\n",
        "from sklearn.svm import SVC\n",
        "from sklearn.preprocessing import LabelEncoder\n",
        "from sklearn.ensemble import BaggingClassifier\n",
        "from sklearn.ensemble import RandomForestClassifier, AdaBoostClassifier\n",
        "from sklearn.metrics import classification_report,accuracy_score,precision_score,recall_score,f1_score\n",
        "from scipy.stats import uniform, randint\n",
        "from xgboost import XGBClassifier\n",
        "import warnings\n",
        "warnings.filterwarnings('ignore')\n",
        "from scipy.stats import mode\n",
        "import pickle"
      ],
      "metadata": {
        "id": "fMfE54IMzr1l"
      },
      "execution_count": null,
      "outputs": []
    },
    {
      "cell_type": "code",
      "source": [
        "from google.colab import drive\n",
        "drive.mount('/content/drive')"
      ],
      "metadata": {
        "colab": {
          "base_uri": "https://localhost:8080/"
        },
        "id": "9pSK788lzv5J",
        "outputId": "87df5c44-ff66-4b10-aa55-e6abee74b976"
      },
      "execution_count": null,
      "outputs": [
        {
          "output_type": "stream",
          "name": "stdout",
          "text": [
            "Drive already mounted at /content/drive; to attempt to forcibly remount, call drive.mount(\"/content/drive\", force_remount=True).\n"
          ]
        }
      ]
    },
    {
      "cell_type": "code",
      "source": [
        "# To read all the 2 CSV files as DataFrame and store them into 2 separate variables.\n",
        "dfC1 = pd.read_csv('/content/drive/MyDrive/AI /Dec AI/Project - Ensemble Techniques/TelcomCustomer-Churn_1.csv')\n",
        "dfC2 = pd.read_csv('/content/drive/MyDrive/AI /Dec AI/Project - Ensemble Techniques/TelcomCustomer-Churn_2.csv')"
      ],
      "metadata": {
        "id": "MHL8pCUdzysY"
      },
      "execution_count": null,
      "outputs": []
    },
    {
      "cell_type": "code",
      "source": [
        "# To get the shapes of 2 dataframes\n",
        "print(dfC1.shape)\n",
        "print(dfC2.shape)"
      ],
      "metadata": {
        "colab": {
          "base_uri": "https://localhost:8080/"
        },
        "id": "XqDQcpC41uBr",
        "outputId": "1ad636be-a56d-47c5-a455-4cc66d71d8f1"
      },
      "execution_count": null,
      "outputs": [
        {
          "output_type": "stream",
          "name": "stdout",
          "text": [
            "(7043, 10)\n",
            "(7043, 12)\n"
          ]
        }
      ]
    },
    {
      "cell_type": "markdown",
      "source": [
        "dfC1 dataframe having 7043 instances and 10 columns.\n",
        "\n",
        "dfC2 dataframe having 7043 instances and 12 columns."
      ],
      "metadata": {
        "id": "zZXfhmVv4TAN"
      }
    },
    {
      "cell_type": "code",
      "source": [
        "dfC1.info()"
      ],
      "metadata": {
        "colab": {
          "base_uri": "https://localhost:8080/"
        },
        "id": "cMWFkuSW6ey5",
        "outputId": "12b0c1ef-daec-4e85-ffba-1ccf3d571e7b"
      },
      "execution_count": null,
      "outputs": [
        {
          "output_type": "stream",
          "name": "stdout",
          "text": [
            "<class 'pandas.core.frame.DataFrame'>\n",
            "RangeIndex: 7043 entries, 0 to 7042\n",
            "Data columns (total 10 columns):\n",
            " #   Column           Non-Null Count  Dtype \n",
            "---  ------           --------------  ----- \n",
            " 0   customerID       7043 non-null   object\n",
            " 1   gender           7043 non-null   object\n",
            " 2   SeniorCitizen    7043 non-null   int64 \n",
            " 3   Partner          7043 non-null   object\n",
            " 4   Dependents       7043 non-null   object\n",
            " 5   tenure           7043 non-null   int64 \n",
            " 6   PhoneService     7043 non-null   object\n",
            " 7   MultipleLines    7043 non-null   object\n",
            " 8   InternetService  7043 non-null   object\n",
            " 9   OnlineSecurity   7043 non-null   object\n",
            "dtypes: int64(2), object(8)\n",
            "memory usage: 550.4+ KB\n"
          ]
        }
      ]
    },
    {
      "cell_type": "markdown",
      "source": [
        "*  There are no null values that need to be treated.\n",
        "*  Features having Object values are customerID,Gender,Partner,Dependents,PhoneService,MultipleLines,InternetService,OnlineSecurity.\n",
        "*  Features having int values are SeniorCitizen and tenure.\n",
        "*  We have 7043 instances and 10 columns with memory usage is 550.4+ kB.\n",
        "\n",
        "\n",
        "\n"
      ],
      "metadata": {
        "id": "wkAAd2Dq4pll"
      }
    },
    {
      "cell_type": "code",
      "source": [
        "dfC2.info()"
      ],
      "metadata": {
        "colab": {
          "base_uri": "https://localhost:8080/"
        },
        "id": "p0vrV3mu6jCM",
        "outputId": "a298939c-f84e-4873-a80b-8b20e8341bbf"
      },
      "execution_count": null,
      "outputs": [
        {
          "output_type": "stream",
          "name": "stdout",
          "text": [
            "<class 'pandas.core.frame.DataFrame'>\n",
            "RangeIndex: 7043 entries, 0 to 7042\n",
            "Data columns (total 12 columns):\n",
            " #   Column            Non-Null Count  Dtype  \n",
            "---  ------            --------------  -----  \n",
            " 0   customerID        7043 non-null   object \n",
            " 1   OnlineBackup      7043 non-null   object \n",
            " 2   DeviceProtection  7043 non-null   object \n",
            " 3   TechSupport       7043 non-null   object \n",
            " 4   StreamingTV       7043 non-null   object \n",
            " 5   StreamingMovies   7043 non-null   object \n",
            " 6   Contract          7043 non-null   object \n",
            " 7   PaperlessBilling  7043 non-null   object \n",
            " 8   PaymentMethod     7043 non-null   object \n",
            " 9   MonthlyCharges    7043 non-null   float64\n",
            " 10  TotalCharges      7043 non-null   object \n",
            " 11  Churn             7043 non-null   object \n",
            "dtypes: float64(1), object(11)\n",
            "memory usage: 660.4+ KB\n"
          ]
        }
      ]
    },
    {
      "cell_type": "markdown",
      "source": [
        "*  There are no null values that need to be treated.\n",
        "*  Features having Object values are customerID, OnlineBackup,  DeviceProtection, TechSupport, StreamingTV, StreamingMovies, Contract,PaperlessBilling, PaymentMethod, TotalCharges, Churn.\n",
        "*  Features having float value is MonthlyCharges.\n",
        "*  We have 7043 instances and 12 columns with memory usage is 660.4+ kB."
      ],
      "metadata": {
        "id": "dy8PJN0A55s-"
      }
    },
    {
      "cell_type": "code",
      "source": [
        "# Compare 2 dataframes columns\n",
        "if set(dfC1.columns) == set(dfC2.columns):\n",
        "    print(\"All two DataFrames have same columns\")\n",
        "else:\n",
        "    print(\"Some difference in one of the DataFrames\")"
      ],
      "metadata": {
        "colab": {
          "base_uri": "https://localhost:8080/"
        },
        "id": "KsUdKiat4VIO",
        "outputId": "7cd27e64-d7ca-4bbd-b7e7-f005c2844809"
      },
      "execution_count": null,
      "outputs": [
        {
          "output_type": "stream",
          "name": "stdout",
          "text": [
            "Some difference in one of the DataFrames\n"
          ]
        }
      ]
    },
    {
      "cell_type": "markdown",
      "source": [
        "Found columns in one of the dataframes are not same with the other."
      ],
      "metadata": {
        "id": "ml-HTaE68IFx"
      }
    },
    {
      "cell_type": "markdown",
      "source": [
        "**2. Data Preparation and Exploration**"
      ],
      "metadata": {
        "id": "VJn083Y3EeNb"
      }
    },
    {
      "cell_type": "code",
      "source": [
        "# Creating copy of the dataframe\n",
        "df1=dfC1.copy(deep = True)\n",
        "df2=dfC2.copy(deep = True)"
      ],
      "metadata": {
        "id": "1I_d3M6EEqUT"
      },
      "execution_count": null,
      "outputs": []
    },
    {
      "cell_type": "code",
      "source": [
        "df = pd.merge(df1, df2,on='customerID') # To merge the two dataframes into a single dataframe"
      ],
      "metadata": {
        "id": "MRjTPToD46R-"
      },
      "execution_count": null,
      "outputs": []
    },
    {
      "cell_type": "markdown",
      "source": [
        "Merged the two dataframes on key ‘customerID’ to form a single DataFrame."
      ],
      "metadata": {
        "id": "oE4pbA9_9sVw"
      }
    },
    {
      "cell_type": "code",
      "source": [
        "df.info() # To get the Columns and instances along with datatypes and memory usage"
      ],
      "metadata": {
        "colab": {
          "base_uri": "https://localhost:8080/"
        },
        "id": "zxGT_FbR6Cuf",
        "outputId": "f682c067-af16-4e09-a388-8ff1a21c4011"
      },
      "execution_count": null,
      "outputs": [
        {
          "output_type": "stream",
          "name": "stdout",
          "text": [
            "<class 'pandas.core.frame.DataFrame'>\n",
            "Int64Index: 7043 entries, 0 to 7042\n",
            "Data columns (total 21 columns):\n",
            " #   Column            Non-Null Count  Dtype  \n",
            "---  ------            --------------  -----  \n",
            " 0   customerID        7043 non-null   object \n",
            " 1   gender            7043 non-null   object \n",
            " 2   SeniorCitizen     7043 non-null   int64  \n",
            " 3   Partner           7043 non-null   object \n",
            " 4   Dependents        7043 non-null   object \n",
            " 5   tenure            7043 non-null   int64  \n",
            " 6   PhoneService      7043 non-null   object \n",
            " 7   MultipleLines     7043 non-null   object \n",
            " 8   InternetService   7043 non-null   object \n",
            " 9   OnlineSecurity    7043 non-null   object \n",
            " 10  OnlineBackup      7043 non-null   object \n",
            " 11  DeviceProtection  7043 non-null   object \n",
            " 12  TechSupport       7043 non-null   object \n",
            " 13  StreamingTV       7043 non-null   object \n",
            " 14  StreamingMovies   7043 non-null   object \n",
            " 15  Contract          7043 non-null   object \n",
            " 16  PaperlessBilling  7043 non-null   object \n",
            " 17  PaymentMethod     7043 non-null   object \n",
            " 18  MonthlyCharges    7043 non-null   float64\n",
            " 19  TotalCharges      7043 non-null   object \n",
            " 20  Churn             7043 non-null   object \n",
            "dtypes: float64(1), int64(2), object(18)\n",
            "memory usage: 1.2+ MB\n"
          ]
        }
      ]
    },
    {
      "cell_type": "markdown",
      "source": [
        "*  There are no null values that need to be treated.\n",
        "*  Features having Object values are customerID, Gender, Partner, Dependents, PhoneService, MultipleLines, InternetService, OnlineSecurity, OnlineBackup,  DeviceProtection, TechSupport, StreamingTV, StreamingMovies, Contract,PaperlessBilling, PaymentMethod, TotalCharges, Churn.\n",
        "*  Features having float value is MonthlyCharges.\n",
        "*  Features having int value is tenure.\n",
        "*  We have 7043 instances and 21 columns with memory usage is 1.2+ MB."
      ],
      "metadata": {
        "id": "2CqzRjRE8lAH"
      }
    },
    {
      "cell_type": "code",
      "source": [
        "df.head()"
      ],
      "metadata": {
        "colab": {
          "base_uri": "https://localhost:8080/",
          "height": 386
        },
        "id": "JPP27xlpgTuY",
        "outputId": "054c41ac-151e-4fa5-accc-72e096c8f39e"
      },
      "execution_count": null,
      "outputs": [
        {
          "output_type": "execute_result",
          "data": {
            "text/plain": [
              "   customerID  gender  SeniorCitizen Partner Dependents  tenure PhoneService  \\\n",
              "0  7590-VHVEG  Female              0     Yes         No       1           No   \n",
              "1  5575-GNVDE    Male              0      No         No      34          Yes   \n",
              "2  3668-QPYBK    Male              0      No         No       2          Yes   \n",
              "3  7795-CFOCW    Male              0      No         No      45           No   \n",
              "4  9237-HQITU  Female              0      No         No       2          Yes   \n",
              "\n",
              "      MultipleLines InternetService OnlineSecurity  ... DeviceProtection  \\\n",
              "0  No phone service             DSL             No  ...               No   \n",
              "1                No             DSL            Yes  ...              Yes   \n",
              "2                No             DSL            Yes  ...               No   \n",
              "3  No phone service             DSL            Yes  ...              Yes   \n",
              "4                No     Fiber optic             No  ...               No   \n",
              "\n",
              "  TechSupport StreamingTV StreamingMovies        Contract PaperlessBilling  \\\n",
              "0          No          No              No  Month-to-month              Yes   \n",
              "1          No          No              No        One year               No   \n",
              "2          No          No              No  Month-to-month              Yes   \n",
              "3         Yes          No              No        One year               No   \n",
              "4          No          No              No  Month-to-month              Yes   \n",
              "\n",
              "               PaymentMethod MonthlyCharges  TotalCharges Churn  \n",
              "0           Electronic check          29.85         29.85    No  \n",
              "1               Mailed check          56.95        1889.5    No  \n",
              "2               Mailed check          53.85        108.15   Yes  \n",
              "3  Bank transfer (automatic)          42.30       1840.75    No  \n",
              "4           Electronic check          70.70        151.65   Yes  \n",
              "\n",
              "[5 rows x 21 columns]"
            ],
            "text/html": [
              "\n",
              "  <div id=\"df-50193e55-de7d-450b-8047-e17b74b9d4f0\">\n",
              "    <div class=\"colab-df-container\">\n",
              "      <div>\n",
              "<style scoped>\n",
              "    .dataframe tbody tr th:only-of-type {\n",
              "        vertical-align: middle;\n",
              "    }\n",
              "\n",
              "    .dataframe tbody tr th {\n",
              "        vertical-align: top;\n",
              "    }\n",
              "\n",
              "    .dataframe thead th {\n",
              "        text-align: right;\n",
              "    }\n",
              "</style>\n",
              "<table border=\"1\" class=\"dataframe\">\n",
              "  <thead>\n",
              "    <tr style=\"text-align: right;\">\n",
              "      <th></th>\n",
              "      <th>customerID</th>\n",
              "      <th>gender</th>\n",
              "      <th>SeniorCitizen</th>\n",
              "      <th>Partner</th>\n",
              "      <th>Dependents</th>\n",
              "      <th>tenure</th>\n",
              "      <th>PhoneService</th>\n",
              "      <th>MultipleLines</th>\n",
              "      <th>InternetService</th>\n",
              "      <th>OnlineSecurity</th>\n",
              "      <th>...</th>\n",
              "      <th>DeviceProtection</th>\n",
              "      <th>TechSupport</th>\n",
              "      <th>StreamingTV</th>\n",
              "      <th>StreamingMovies</th>\n",
              "      <th>Contract</th>\n",
              "      <th>PaperlessBilling</th>\n",
              "      <th>PaymentMethod</th>\n",
              "      <th>MonthlyCharges</th>\n",
              "      <th>TotalCharges</th>\n",
              "      <th>Churn</th>\n",
              "    </tr>\n",
              "  </thead>\n",
              "  <tbody>\n",
              "    <tr>\n",
              "      <th>0</th>\n",
              "      <td>7590-VHVEG</td>\n",
              "      <td>Female</td>\n",
              "      <td>0</td>\n",
              "      <td>Yes</td>\n",
              "      <td>No</td>\n",
              "      <td>1</td>\n",
              "      <td>No</td>\n",
              "      <td>No phone service</td>\n",
              "      <td>DSL</td>\n",
              "      <td>No</td>\n",
              "      <td>...</td>\n",
              "      <td>No</td>\n",
              "      <td>No</td>\n",
              "      <td>No</td>\n",
              "      <td>No</td>\n",
              "      <td>Month-to-month</td>\n",
              "      <td>Yes</td>\n",
              "      <td>Electronic check</td>\n",
              "      <td>29.85</td>\n",
              "      <td>29.85</td>\n",
              "      <td>No</td>\n",
              "    </tr>\n",
              "    <tr>\n",
              "      <th>1</th>\n",
              "      <td>5575-GNVDE</td>\n",
              "      <td>Male</td>\n",
              "      <td>0</td>\n",
              "      <td>No</td>\n",
              "      <td>No</td>\n",
              "      <td>34</td>\n",
              "      <td>Yes</td>\n",
              "      <td>No</td>\n",
              "      <td>DSL</td>\n",
              "      <td>Yes</td>\n",
              "      <td>...</td>\n",
              "      <td>Yes</td>\n",
              "      <td>No</td>\n",
              "      <td>No</td>\n",
              "      <td>No</td>\n",
              "      <td>One year</td>\n",
              "      <td>No</td>\n",
              "      <td>Mailed check</td>\n",
              "      <td>56.95</td>\n",
              "      <td>1889.5</td>\n",
              "      <td>No</td>\n",
              "    </tr>\n",
              "    <tr>\n",
              "      <th>2</th>\n",
              "      <td>3668-QPYBK</td>\n",
              "      <td>Male</td>\n",
              "      <td>0</td>\n",
              "      <td>No</td>\n",
              "      <td>No</td>\n",
              "      <td>2</td>\n",
              "      <td>Yes</td>\n",
              "      <td>No</td>\n",
              "      <td>DSL</td>\n",
              "      <td>Yes</td>\n",
              "      <td>...</td>\n",
              "      <td>No</td>\n",
              "      <td>No</td>\n",
              "      <td>No</td>\n",
              "      <td>No</td>\n",
              "      <td>Month-to-month</td>\n",
              "      <td>Yes</td>\n",
              "      <td>Mailed check</td>\n",
              "      <td>53.85</td>\n",
              "      <td>108.15</td>\n",
              "      <td>Yes</td>\n",
              "    </tr>\n",
              "    <tr>\n",
              "      <th>3</th>\n",
              "      <td>7795-CFOCW</td>\n",
              "      <td>Male</td>\n",
              "      <td>0</td>\n",
              "      <td>No</td>\n",
              "      <td>No</td>\n",
              "      <td>45</td>\n",
              "      <td>No</td>\n",
              "      <td>No phone service</td>\n",
              "      <td>DSL</td>\n",
              "      <td>Yes</td>\n",
              "      <td>...</td>\n",
              "      <td>Yes</td>\n",
              "      <td>Yes</td>\n",
              "      <td>No</td>\n",
              "      <td>No</td>\n",
              "      <td>One year</td>\n",
              "      <td>No</td>\n",
              "      <td>Bank transfer (automatic)</td>\n",
              "      <td>42.30</td>\n",
              "      <td>1840.75</td>\n",
              "      <td>No</td>\n",
              "    </tr>\n",
              "    <tr>\n",
              "      <th>4</th>\n",
              "      <td>9237-HQITU</td>\n",
              "      <td>Female</td>\n",
              "      <td>0</td>\n",
              "      <td>No</td>\n",
              "      <td>No</td>\n",
              "      <td>2</td>\n",
              "      <td>Yes</td>\n",
              "      <td>No</td>\n",
              "      <td>Fiber optic</td>\n",
              "      <td>No</td>\n",
              "      <td>...</td>\n",
              "      <td>No</td>\n",
              "      <td>No</td>\n",
              "      <td>No</td>\n",
              "      <td>No</td>\n",
              "      <td>Month-to-month</td>\n",
              "      <td>Yes</td>\n",
              "      <td>Electronic check</td>\n",
              "      <td>70.70</td>\n",
              "      <td>151.65</td>\n",
              "      <td>Yes</td>\n",
              "    </tr>\n",
              "  </tbody>\n",
              "</table>\n",
              "<p>5 rows × 21 columns</p>\n",
              "</div>\n",
              "      <button class=\"colab-df-convert\" onclick=\"convertToInteractive('df-50193e55-de7d-450b-8047-e17b74b9d4f0')\"\n",
              "              title=\"Convert this dataframe to an interactive table.\"\n",
              "              style=\"display:none;\">\n",
              "        \n",
              "  <svg xmlns=\"http://www.w3.org/2000/svg\" height=\"24px\"viewBox=\"0 0 24 24\"\n",
              "       width=\"24px\">\n",
              "    <path d=\"M0 0h24v24H0V0z\" fill=\"none\"/>\n",
              "    <path d=\"M18.56 5.44l.94 2.06.94-2.06 2.06-.94-2.06-.94-.94-2.06-.94 2.06-2.06.94zm-11 1L8.5 8.5l.94-2.06 2.06-.94-2.06-.94L8.5 2.5l-.94 2.06-2.06.94zm10 10l.94 2.06.94-2.06 2.06-.94-2.06-.94-.94-2.06-.94 2.06-2.06.94z\"/><path d=\"M17.41 7.96l-1.37-1.37c-.4-.4-.92-.59-1.43-.59-.52 0-1.04.2-1.43.59L10.3 9.45l-7.72 7.72c-.78.78-.78 2.05 0 2.83L4 21.41c.39.39.9.59 1.41.59.51 0 1.02-.2 1.41-.59l7.78-7.78 2.81-2.81c.8-.78.8-2.07 0-2.86zM5.41 20L4 18.59l7.72-7.72 1.47 1.35L5.41 20z\"/>\n",
              "  </svg>\n",
              "      </button>\n",
              "      \n",
              "  <style>\n",
              "    .colab-df-container {\n",
              "      display:flex;\n",
              "      flex-wrap:wrap;\n",
              "      gap: 12px;\n",
              "    }\n",
              "\n",
              "    .colab-df-convert {\n",
              "      background-color: #E8F0FE;\n",
              "      border: none;\n",
              "      border-radius: 50%;\n",
              "      cursor: pointer;\n",
              "      display: none;\n",
              "      fill: #1967D2;\n",
              "      height: 32px;\n",
              "      padding: 0 0 0 0;\n",
              "      width: 32px;\n",
              "    }\n",
              "\n",
              "    .colab-df-convert:hover {\n",
              "      background-color: #E2EBFA;\n",
              "      box-shadow: 0px 1px 2px rgba(60, 64, 67, 0.3), 0px 1px 3px 1px rgba(60, 64, 67, 0.15);\n",
              "      fill: #174EA6;\n",
              "    }\n",
              "\n",
              "    [theme=dark] .colab-df-convert {\n",
              "      background-color: #3B4455;\n",
              "      fill: #D2E3FC;\n",
              "    }\n",
              "\n",
              "    [theme=dark] .colab-df-convert:hover {\n",
              "      background-color: #434B5C;\n",
              "      box-shadow: 0px 1px 3px 1px rgba(0, 0, 0, 0.15);\n",
              "      filter: drop-shadow(0px 1px 2px rgba(0, 0, 0, 0.3));\n",
              "      fill: #FFFFFF;\n",
              "    }\n",
              "  </style>\n",
              "\n",
              "      <script>\n",
              "        const buttonEl =\n",
              "          document.querySelector('#df-50193e55-de7d-450b-8047-e17b74b9d4f0 button.colab-df-convert');\n",
              "        buttonEl.style.display =\n",
              "          google.colab.kernel.accessAllowed ? 'block' : 'none';\n",
              "\n",
              "        async function convertToInteractive(key) {\n",
              "          const element = document.querySelector('#df-50193e55-de7d-450b-8047-e17b74b9d4f0');\n",
              "          const dataTable =\n",
              "            await google.colab.kernel.invokeFunction('convertToInteractive',\n",
              "                                                     [key], {});\n",
              "          if (!dataTable) return;\n",
              "\n",
              "          const docLinkHtml = 'Like what you see? Visit the ' +\n",
              "            '<a target=\"_blank\" href=https://colab.research.google.com/notebooks/data_table.ipynb>data table notebook</a>'\n",
              "            + ' to learn more about interactive tables.';\n",
              "          element.innerHTML = '';\n",
              "          dataTable['output_type'] = 'display_data';\n",
              "          await google.colab.output.renderOutput(dataTable, element);\n",
              "          const docLink = document.createElement('div');\n",
              "          docLink.innerHTML = docLinkHtml;\n",
              "          element.appendChild(docLink);\n",
              "        }\n",
              "      </script>\n",
              "    </div>\n",
              "  </div>\n",
              "  "
            ]
          },
          "metadata": {},
          "execution_count": 73
        }
      ]
    },
    {
      "cell_type": "code",
      "source": [
        "# Check for all columns are incorporated in merged dataframe or not\n",
        "if set(['customerID','gender','SeniorCitizen','Partner','Dependents','tenure','PhoneService','MultipleLines','InternetService','OnlineSecurity','OnlineBackup','DeviceProtection','TechSupport','StreamingTV','StreamingMovies','Contract','PaperlessBilling','PaymentMethod','MonthlyCharges','TotalCharges','Churn']).issubset(df.columns):\n",
        "   print(\"All columns are present : Yes\")\n",
        "else:\n",
        "   print(\"All columns are not present : No\")"
      ],
      "metadata": {
        "colab": {
          "base_uri": "https://localhost:8080/"
        },
        "id": "ckyTPn0Q90Dy",
        "outputId": "82ddcd52-61e2-4a87-afec-ecb7d02aae44"
      },
      "execution_count": null,
      "outputs": [
        {
          "output_type": "stream",
          "name": "stdout",
          "text": [
            "All columns are present : Yes\n"
          ]
        }
      ]
    },
    {
      "cell_type": "code",
      "source": [
        "print(df1.shape[1])\n",
        "print(df2.shape[1])\n",
        "print(df.shape[1] - 1)"
      ],
      "metadata": {
        "colab": {
          "base_uri": "https://localhost:8080/"
        },
        "id": "lNF3g65APVXJ",
        "outputId": "ff636c4b-197c-4e8e-a9b1-cf380c51348d"
      },
      "execution_count": null,
      "outputs": [
        {
          "output_type": "stream",
          "name": "stdout",
          "text": [
            "10\n",
            "12\n",
            "20\n"
          ]
        }
      ]
    },
    {
      "cell_type": "code",
      "source": [
        "df1.shape[1] + df2.shape[1] -1 == df.shape[1]"
      ],
      "metadata": {
        "colab": {
          "base_uri": "https://localhost:8080/"
        },
        "id": "QcGEjfxrPXDq",
        "outputId": "fef1ccdb-a3e6-4043-84a4-02209840ba76"
      },
      "execution_count": null,
      "outputs": [
        {
          "output_type": "execute_result",
          "data": {
            "text/plain": [
              "True"
            ]
          },
          "metadata": {},
          "execution_count": 76
        }
      ]
    },
    {
      "cell_type": "markdown",
      "source": [
        "Found all the columns are incorported in merged dataframe."
      ],
      "metadata": {
        "id": "47tiW5y99ghS"
      }
    },
    {
      "cell_type": "code",
      "source": [
        "# Print Feature-wise percentage of Null values\n",
        "percent_missing = df.isnull().sum() * 100 / len(df)\n",
        "print(percent_missing)"
      ],
      "metadata": {
        "colab": {
          "base_uri": "https://localhost:8080/"
        },
        "id": "ObC2-HncHGhV",
        "outputId": "0080b48e-7f26-487a-c132-87f6aaf5f5ca"
      },
      "execution_count": null,
      "outputs": [
        {
          "output_type": "stream",
          "name": "stdout",
          "text": [
            "customerID          0.0\n",
            "gender              0.0\n",
            "SeniorCitizen       0.0\n",
            "Partner             0.0\n",
            "Dependents          0.0\n",
            "tenure              0.0\n",
            "PhoneService        0.0\n",
            "MultipleLines       0.0\n",
            "InternetService     0.0\n",
            "OnlineSecurity      0.0\n",
            "OnlineBackup        0.0\n",
            "DeviceProtection    0.0\n",
            "TechSupport         0.0\n",
            "StreamingTV         0.0\n",
            "StreamingMovies     0.0\n",
            "Contract            0.0\n",
            "PaperlessBilling    0.0\n",
            "PaymentMethod       0.0\n",
            "MonthlyCharges      0.0\n",
            "TotalCharges        0.0\n",
            "Churn               0.0\n",
            "dtype: float64\n"
          ]
        }
      ]
    },
    {
      "cell_type": "markdown",
      "source": [
        "Found there are no missing values in all the features/columns"
      ],
      "metadata": {
        "id": "XctkJzii-dsN"
      }
    },
    {
      "cell_type": "code",
      "source": [
        "# To change the values of the expected values like ‘?’, ‘a’, 1.5 in all the features to 0/1\n",
        "col_list = df.select_dtypes(include='object').columns"
      ],
      "metadata": {
        "id": "L38KbQdONc8k"
      },
      "execution_count": null,
      "outputs": []
    },
    {
      "cell_type": "code",
      "source": [
        "# Using for loop, for getting all the unique values of the features each\n",
        "for i in col_list:\n",
        "    print('Unique values in {} are \\n'.format(i),df[i].value_counts())\n",
        "    print(i)\n",
        "    print('*'*20)"
      ],
      "metadata": {
        "colab": {
          "base_uri": "https://localhost:8080/"
        },
        "id": "MvnT-t_CPou3",
        "outputId": "fa40790d-fdb6-4c6a-b446-dbc1c624c99a"
      },
      "execution_count": null,
      "outputs": [
        {
          "output_type": "stream",
          "name": "stdout",
          "text": [
            "Unique values in customerID are \n",
            " 7590-VHVEG    1\n",
            "3791-LGQCY    1\n",
            "6008-NAIXK    1\n",
            "5956-YHHRX    1\n",
            "5365-LLFYV    1\n",
            "             ..\n",
            "9796-MVYXX    1\n",
            "2637-FKFSY    1\n",
            "1552-AAGRX    1\n",
            "4304-TSPVK    1\n",
            "3186-AJIEK    1\n",
            "Name: customerID, Length: 7043, dtype: int64\n",
            "customerID\n",
            "********************\n",
            "Unique values in gender are \n",
            " Male      3555\n",
            "Female    3488\n",
            "Name: gender, dtype: int64\n",
            "gender\n",
            "********************\n",
            "Unique values in Partner are \n",
            " No     3641\n",
            "Yes    3402\n",
            "Name: Partner, dtype: int64\n",
            "Partner\n",
            "********************\n",
            "Unique values in Dependents are \n",
            " No     4933\n",
            "Yes    2110\n",
            "Name: Dependents, dtype: int64\n",
            "Dependents\n",
            "********************\n",
            "Unique values in PhoneService are \n",
            " Yes    6361\n",
            "No      682\n",
            "Name: PhoneService, dtype: int64\n",
            "PhoneService\n",
            "********************\n",
            "Unique values in MultipleLines are \n",
            " No                  3390\n",
            "Yes                 2971\n",
            "No phone service     682\n",
            "Name: MultipleLines, dtype: int64\n",
            "MultipleLines\n",
            "********************\n",
            "Unique values in InternetService are \n",
            " Fiber optic    3096\n",
            "DSL            2421\n",
            "No             1526\n",
            "Name: InternetService, dtype: int64\n",
            "InternetService\n",
            "********************\n",
            "Unique values in OnlineSecurity are \n",
            " No                     3498\n",
            "Yes                    2019\n",
            "No internet service    1526\n",
            "Name: OnlineSecurity, dtype: int64\n",
            "OnlineSecurity\n",
            "********************\n",
            "Unique values in OnlineBackup are \n",
            " No                     3088\n",
            "Yes                    2429\n",
            "No internet service    1526\n",
            "Name: OnlineBackup, dtype: int64\n",
            "OnlineBackup\n",
            "********************\n",
            "Unique values in DeviceProtection are \n",
            " No                     3095\n",
            "Yes                    2422\n",
            "No internet service    1526\n",
            "Name: DeviceProtection, dtype: int64\n",
            "DeviceProtection\n",
            "********************\n",
            "Unique values in TechSupport are \n",
            " No                     3473\n",
            "Yes                    2044\n",
            "No internet service    1526\n",
            "Name: TechSupport, dtype: int64\n",
            "TechSupport\n",
            "********************\n",
            "Unique values in StreamingTV are \n",
            " No                     2810\n",
            "Yes                    2707\n",
            "No internet service    1526\n",
            "Name: StreamingTV, dtype: int64\n",
            "StreamingTV\n",
            "********************\n",
            "Unique values in StreamingMovies are \n",
            " No                     2785\n",
            "Yes                    2732\n",
            "No internet service    1526\n",
            "Name: StreamingMovies, dtype: int64\n",
            "StreamingMovies\n",
            "********************\n",
            "Unique values in Contract are \n",
            " Month-to-month    3875\n",
            "Two year          1695\n",
            "One year          1473\n",
            "Name: Contract, dtype: int64\n",
            "Contract\n",
            "********************\n",
            "Unique values in PaperlessBilling are \n",
            " Yes    4171\n",
            "No     2872\n",
            "Name: PaperlessBilling, dtype: int64\n",
            "PaperlessBilling\n",
            "********************\n",
            "Unique values in PaymentMethod are \n",
            " Electronic check             2365\n",
            "Mailed check                 1612\n",
            "Bank transfer (automatic)    1544\n",
            "Credit card (automatic)      1522\n",
            "Name: PaymentMethod, dtype: int64\n",
            "PaymentMethod\n",
            "********************\n",
            "Unique values in TotalCharges are \n",
            "           11\n",
            "20.2      11\n",
            "19.75      9\n",
            "20.05      8\n",
            "19.9       8\n",
            "          ..\n",
            "6849.4     1\n",
            "692.35     1\n",
            "130.15     1\n",
            "3211.9     1\n",
            "6844.5     1\n",
            "Name: TotalCharges, Length: 6531, dtype: int64\n",
            "TotalCharges\n",
            "********************\n",
            "Unique values in Churn are \n",
            " No     5174\n",
            "Yes    1869\n",
            "Name: Churn, dtype: int64\n",
            "Churn\n",
            "********************\n"
          ]
        }
      ]
    },
    {
      "cell_type": "code",
      "source": [
        "# To change the datatypes of the following features: ‘TotalCharges’ to 'float64'\n",
        "\n",
        "df['TotalCharges'] = pd.to_numeric(df['TotalCharges'], errors='coerce')"
      ],
      "metadata": {
        "id": "GIQE_A0YWquy"
      },
      "execution_count": null,
      "outputs": []
    },
    {
      "cell_type": "code",
      "source": [
        "# Replacing ' ' with '0'\n",
        "df.replace(' ', inplace= True)\n",
        "df = df.fillna(0)"
      ],
      "metadata": {
        "id": "ts0H1v8FuQ7o"
      },
      "execution_count": null,
      "outputs": []
    },
    {
      "cell_type": "code",
      "source": [
        "# Replacing '0' with mean\n",
        "df['TotalCharges'] = np.where(df['TotalCharges']==0,df['TotalCharges'].mean(),df['TotalCharges'])"
      ],
      "metadata": {
        "id": "7nkXmSy-uGTj"
      },
      "execution_count": null,
      "outputs": []
    },
    {
      "cell_type": "code",
      "source": [
        "df.head(10)"
      ],
      "metadata": {
        "colab": {
          "base_uri": "https://localhost:8080/",
          "height": 630
        },
        "id": "UjZwbegtbVVM",
        "outputId": "be3559cd-2ef8-4362-cd37-a677a8b1f127"
      },
      "execution_count": null,
      "outputs": [
        {
          "output_type": "execute_result",
          "data": {
            "text/plain": [
              "   customerID  gender  SeniorCitizen Partner Dependents  tenure PhoneService  \\\n",
              "0  7590-VHVEG  Female              0     Yes         No       1           No   \n",
              "1  5575-GNVDE    Male              0      No         No      34          Yes   \n",
              "2  3668-QPYBK    Male              0      No         No       2          Yes   \n",
              "3  7795-CFOCW    Male              0      No         No      45           No   \n",
              "4  9237-HQITU  Female              0      No         No       2          Yes   \n",
              "5  9305-CDSKC  Female              0      No         No       8          Yes   \n",
              "6  1452-KIOVK    Male              0      No        Yes      22          Yes   \n",
              "7  6713-OKOMC  Female              0      No         No      10           No   \n",
              "8  7892-POOKP  Female              0     Yes         No      28          Yes   \n",
              "9  6388-TABGU    Male              0      No        Yes      62          Yes   \n",
              "\n",
              "      MultipleLines InternetService OnlineSecurity  ... DeviceProtection  \\\n",
              "0  No phone service             DSL             No  ...               No   \n",
              "1                No             DSL            Yes  ...              Yes   \n",
              "2                No             DSL            Yes  ...               No   \n",
              "3  No phone service             DSL            Yes  ...              Yes   \n",
              "4                No     Fiber optic             No  ...               No   \n",
              "5               Yes     Fiber optic             No  ...              Yes   \n",
              "6               Yes     Fiber optic             No  ...               No   \n",
              "7  No phone service             DSL            Yes  ...               No   \n",
              "8               Yes     Fiber optic             No  ...              Yes   \n",
              "9                No             DSL            Yes  ...               No   \n",
              "\n",
              "  TechSupport StreamingTV StreamingMovies        Contract PaperlessBilling  \\\n",
              "0          No          No              No  Month-to-month              Yes   \n",
              "1          No          No              No        One year               No   \n",
              "2          No          No              No  Month-to-month              Yes   \n",
              "3         Yes          No              No        One year               No   \n",
              "4          No          No              No  Month-to-month              Yes   \n",
              "5          No         Yes             Yes  Month-to-month              Yes   \n",
              "6          No         Yes              No  Month-to-month              Yes   \n",
              "7          No          No              No  Month-to-month               No   \n",
              "8         Yes         Yes             Yes  Month-to-month              Yes   \n",
              "9          No          No              No        One year               No   \n",
              "\n",
              "               PaymentMethod MonthlyCharges  TotalCharges  Churn  \n",
              "0           Electronic check          29.85         29.85     No  \n",
              "1               Mailed check          56.95       1889.50     No  \n",
              "2               Mailed check          53.85        108.15    Yes  \n",
              "3  Bank transfer (automatic)          42.30       1840.75     No  \n",
              "4           Electronic check          70.70        151.65    Yes  \n",
              "5           Electronic check          99.65        820.50    Yes  \n",
              "6    Credit card (automatic)          89.10       1949.40     No  \n",
              "7               Mailed check          29.75        301.90     No  \n",
              "8           Electronic check         104.80       3046.05    Yes  \n",
              "9  Bank transfer (automatic)          56.15       3487.95     No  \n",
              "\n",
              "[10 rows x 21 columns]"
            ],
            "text/html": [
              "\n",
              "  <div id=\"df-73c5b17a-5ddc-4e55-94ee-6ba67b9d099e\">\n",
              "    <div class=\"colab-df-container\">\n",
              "      <div>\n",
              "<style scoped>\n",
              "    .dataframe tbody tr th:only-of-type {\n",
              "        vertical-align: middle;\n",
              "    }\n",
              "\n",
              "    .dataframe tbody tr th {\n",
              "        vertical-align: top;\n",
              "    }\n",
              "\n",
              "    .dataframe thead th {\n",
              "        text-align: right;\n",
              "    }\n",
              "</style>\n",
              "<table border=\"1\" class=\"dataframe\">\n",
              "  <thead>\n",
              "    <tr style=\"text-align: right;\">\n",
              "      <th></th>\n",
              "      <th>customerID</th>\n",
              "      <th>gender</th>\n",
              "      <th>SeniorCitizen</th>\n",
              "      <th>Partner</th>\n",
              "      <th>Dependents</th>\n",
              "      <th>tenure</th>\n",
              "      <th>PhoneService</th>\n",
              "      <th>MultipleLines</th>\n",
              "      <th>InternetService</th>\n",
              "      <th>OnlineSecurity</th>\n",
              "      <th>...</th>\n",
              "      <th>DeviceProtection</th>\n",
              "      <th>TechSupport</th>\n",
              "      <th>StreamingTV</th>\n",
              "      <th>StreamingMovies</th>\n",
              "      <th>Contract</th>\n",
              "      <th>PaperlessBilling</th>\n",
              "      <th>PaymentMethod</th>\n",
              "      <th>MonthlyCharges</th>\n",
              "      <th>TotalCharges</th>\n",
              "      <th>Churn</th>\n",
              "    </tr>\n",
              "  </thead>\n",
              "  <tbody>\n",
              "    <tr>\n",
              "      <th>0</th>\n",
              "      <td>7590-VHVEG</td>\n",
              "      <td>Female</td>\n",
              "      <td>0</td>\n",
              "      <td>Yes</td>\n",
              "      <td>No</td>\n",
              "      <td>1</td>\n",
              "      <td>No</td>\n",
              "      <td>No phone service</td>\n",
              "      <td>DSL</td>\n",
              "      <td>No</td>\n",
              "      <td>...</td>\n",
              "      <td>No</td>\n",
              "      <td>No</td>\n",
              "      <td>No</td>\n",
              "      <td>No</td>\n",
              "      <td>Month-to-month</td>\n",
              "      <td>Yes</td>\n",
              "      <td>Electronic check</td>\n",
              "      <td>29.85</td>\n",
              "      <td>29.85</td>\n",
              "      <td>No</td>\n",
              "    </tr>\n",
              "    <tr>\n",
              "      <th>1</th>\n",
              "      <td>5575-GNVDE</td>\n",
              "      <td>Male</td>\n",
              "      <td>0</td>\n",
              "      <td>No</td>\n",
              "      <td>No</td>\n",
              "      <td>34</td>\n",
              "      <td>Yes</td>\n",
              "      <td>No</td>\n",
              "      <td>DSL</td>\n",
              "      <td>Yes</td>\n",
              "      <td>...</td>\n",
              "      <td>Yes</td>\n",
              "      <td>No</td>\n",
              "      <td>No</td>\n",
              "      <td>No</td>\n",
              "      <td>One year</td>\n",
              "      <td>No</td>\n",
              "      <td>Mailed check</td>\n",
              "      <td>56.95</td>\n",
              "      <td>1889.50</td>\n",
              "      <td>No</td>\n",
              "    </tr>\n",
              "    <tr>\n",
              "      <th>2</th>\n",
              "      <td>3668-QPYBK</td>\n",
              "      <td>Male</td>\n",
              "      <td>0</td>\n",
              "      <td>No</td>\n",
              "      <td>No</td>\n",
              "      <td>2</td>\n",
              "      <td>Yes</td>\n",
              "      <td>No</td>\n",
              "      <td>DSL</td>\n",
              "      <td>Yes</td>\n",
              "      <td>...</td>\n",
              "      <td>No</td>\n",
              "      <td>No</td>\n",
              "      <td>No</td>\n",
              "      <td>No</td>\n",
              "      <td>Month-to-month</td>\n",
              "      <td>Yes</td>\n",
              "      <td>Mailed check</td>\n",
              "      <td>53.85</td>\n",
              "      <td>108.15</td>\n",
              "      <td>Yes</td>\n",
              "    </tr>\n",
              "    <tr>\n",
              "      <th>3</th>\n",
              "      <td>7795-CFOCW</td>\n",
              "      <td>Male</td>\n",
              "      <td>0</td>\n",
              "      <td>No</td>\n",
              "      <td>No</td>\n",
              "      <td>45</td>\n",
              "      <td>No</td>\n",
              "      <td>No phone service</td>\n",
              "      <td>DSL</td>\n",
              "      <td>Yes</td>\n",
              "      <td>...</td>\n",
              "      <td>Yes</td>\n",
              "      <td>Yes</td>\n",
              "      <td>No</td>\n",
              "      <td>No</td>\n",
              "      <td>One year</td>\n",
              "      <td>No</td>\n",
              "      <td>Bank transfer (automatic)</td>\n",
              "      <td>42.30</td>\n",
              "      <td>1840.75</td>\n",
              "      <td>No</td>\n",
              "    </tr>\n",
              "    <tr>\n",
              "      <th>4</th>\n",
              "      <td>9237-HQITU</td>\n",
              "      <td>Female</td>\n",
              "      <td>0</td>\n",
              "      <td>No</td>\n",
              "      <td>No</td>\n",
              "      <td>2</td>\n",
              "      <td>Yes</td>\n",
              "      <td>No</td>\n",
              "      <td>Fiber optic</td>\n",
              "      <td>No</td>\n",
              "      <td>...</td>\n",
              "      <td>No</td>\n",
              "      <td>No</td>\n",
              "      <td>No</td>\n",
              "      <td>No</td>\n",
              "      <td>Month-to-month</td>\n",
              "      <td>Yes</td>\n",
              "      <td>Electronic check</td>\n",
              "      <td>70.70</td>\n",
              "      <td>151.65</td>\n",
              "      <td>Yes</td>\n",
              "    </tr>\n",
              "    <tr>\n",
              "      <th>5</th>\n",
              "      <td>9305-CDSKC</td>\n",
              "      <td>Female</td>\n",
              "      <td>0</td>\n",
              "      <td>No</td>\n",
              "      <td>No</td>\n",
              "      <td>8</td>\n",
              "      <td>Yes</td>\n",
              "      <td>Yes</td>\n",
              "      <td>Fiber optic</td>\n",
              "      <td>No</td>\n",
              "      <td>...</td>\n",
              "      <td>Yes</td>\n",
              "      <td>No</td>\n",
              "      <td>Yes</td>\n",
              "      <td>Yes</td>\n",
              "      <td>Month-to-month</td>\n",
              "      <td>Yes</td>\n",
              "      <td>Electronic check</td>\n",
              "      <td>99.65</td>\n",
              "      <td>820.50</td>\n",
              "      <td>Yes</td>\n",
              "    </tr>\n",
              "    <tr>\n",
              "      <th>6</th>\n",
              "      <td>1452-KIOVK</td>\n",
              "      <td>Male</td>\n",
              "      <td>0</td>\n",
              "      <td>No</td>\n",
              "      <td>Yes</td>\n",
              "      <td>22</td>\n",
              "      <td>Yes</td>\n",
              "      <td>Yes</td>\n",
              "      <td>Fiber optic</td>\n",
              "      <td>No</td>\n",
              "      <td>...</td>\n",
              "      <td>No</td>\n",
              "      <td>No</td>\n",
              "      <td>Yes</td>\n",
              "      <td>No</td>\n",
              "      <td>Month-to-month</td>\n",
              "      <td>Yes</td>\n",
              "      <td>Credit card (automatic)</td>\n",
              "      <td>89.10</td>\n",
              "      <td>1949.40</td>\n",
              "      <td>No</td>\n",
              "    </tr>\n",
              "    <tr>\n",
              "      <th>7</th>\n",
              "      <td>6713-OKOMC</td>\n",
              "      <td>Female</td>\n",
              "      <td>0</td>\n",
              "      <td>No</td>\n",
              "      <td>No</td>\n",
              "      <td>10</td>\n",
              "      <td>No</td>\n",
              "      <td>No phone service</td>\n",
              "      <td>DSL</td>\n",
              "      <td>Yes</td>\n",
              "      <td>...</td>\n",
              "      <td>No</td>\n",
              "      <td>No</td>\n",
              "      <td>No</td>\n",
              "      <td>No</td>\n",
              "      <td>Month-to-month</td>\n",
              "      <td>No</td>\n",
              "      <td>Mailed check</td>\n",
              "      <td>29.75</td>\n",
              "      <td>301.90</td>\n",
              "      <td>No</td>\n",
              "    </tr>\n",
              "    <tr>\n",
              "      <th>8</th>\n",
              "      <td>7892-POOKP</td>\n",
              "      <td>Female</td>\n",
              "      <td>0</td>\n",
              "      <td>Yes</td>\n",
              "      <td>No</td>\n",
              "      <td>28</td>\n",
              "      <td>Yes</td>\n",
              "      <td>Yes</td>\n",
              "      <td>Fiber optic</td>\n",
              "      <td>No</td>\n",
              "      <td>...</td>\n",
              "      <td>Yes</td>\n",
              "      <td>Yes</td>\n",
              "      <td>Yes</td>\n",
              "      <td>Yes</td>\n",
              "      <td>Month-to-month</td>\n",
              "      <td>Yes</td>\n",
              "      <td>Electronic check</td>\n",
              "      <td>104.80</td>\n",
              "      <td>3046.05</td>\n",
              "      <td>Yes</td>\n",
              "    </tr>\n",
              "    <tr>\n",
              "      <th>9</th>\n",
              "      <td>6388-TABGU</td>\n",
              "      <td>Male</td>\n",
              "      <td>0</td>\n",
              "      <td>No</td>\n",
              "      <td>Yes</td>\n",
              "      <td>62</td>\n",
              "      <td>Yes</td>\n",
              "      <td>No</td>\n",
              "      <td>DSL</td>\n",
              "      <td>Yes</td>\n",
              "      <td>...</td>\n",
              "      <td>No</td>\n",
              "      <td>No</td>\n",
              "      <td>No</td>\n",
              "      <td>No</td>\n",
              "      <td>One year</td>\n",
              "      <td>No</td>\n",
              "      <td>Bank transfer (automatic)</td>\n",
              "      <td>56.15</td>\n",
              "      <td>3487.95</td>\n",
              "      <td>No</td>\n",
              "    </tr>\n",
              "  </tbody>\n",
              "</table>\n",
              "<p>10 rows × 21 columns</p>\n",
              "</div>\n",
              "      <button class=\"colab-df-convert\" onclick=\"convertToInteractive('df-73c5b17a-5ddc-4e55-94ee-6ba67b9d099e')\"\n",
              "              title=\"Convert this dataframe to an interactive table.\"\n",
              "              style=\"display:none;\">\n",
              "        \n",
              "  <svg xmlns=\"http://www.w3.org/2000/svg\" height=\"24px\"viewBox=\"0 0 24 24\"\n",
              "       width=\"24px\">\n",
              "    <path d=\"M0 0h24v24H0V0z\" fill=\"none\"/>\n",
              "    <path d=\"M18.56 5.44l.94 2.06.94-2.06 2.06-.94-2.06-.94-.94-2.06-.94 2.06-2.06.94zm-11 1L8.5 8.5l.94-2.06 2.06-.94-2.06-.94L8.5 2.5l-.94 2.06-2.06.94zm10 10l.94 2.06.94-2.06 2.06-.94-2.06-.94-.94-2.06-.94 2.06-2.06.94z\"/><path d=\"M17.41 7.96l-1.37-1.37c-.4-.4-.92-.59-1.43-.59-.52 0-1.04.2-1.43.59L10.3 9.45l-7.72 7.72c-.78.78-.78 2.05 0 2.83L4 21.41c.39.39.9.59 1.41.59.51 0 1.02-.2 1.41-.59l7.78-7.78 2.81-2.81c.8-.78.8-2.07 0-2.86zM5.41 20L4 18.59l7.72-7.72 1.47 1.35L5.41 20z\"/>\n",
              "  </svg>\n",
              "      </button>\n",
              "      \n",
              "  <style>\n",
              "    .colab-df-container {\n",
              "      display:flex;\n",
              "      flex-wrap:wrap;\n",
              "      gap: 12px;\n",
              "    }\n",
              "\n",
              "    .colab-df-convert {\n",
              "      background-color: #E8F0FE;\n",
              "      border: none;\n",
              "      border-radius: 50%;\n",
              "      cursor: pointer;\n",
              "      display: none;\n",
              "      fill: #1967D2;\n",
              "      height: 32px;\n",
              "      padding: 0 0 0 0;\n",
              "      width: 32px;\n",
              "    }\n",
              "\n",
              "    .colab-df-convert:hover {\n",
              "      background-color: #E2EBFA;\n",
              "      box-shadow: 0px 1px 2px rgba(60, 64, 67, 0.3), 0px 1px 3px 1px rgba(60, 64, 67, 0.15);\n",
              "      fill: #174EA6;\n",
              "    }\n",
              "\n",
              "    [theme=dark] .colab-df-convert {\n",
              "      background-color: #3B4455;\n",
              "      fill: #D2E3FC;\n",
              "    }\n",
              "\n",
              "    [theme=dark] .colab-df-convert:hover {\n",
              "      background-color: #434B5C;\n",
              "      box-shadow: 0px 1px 3px 1px rgba(0, 0, 0, 0.15);\n",
              "      filter: drop-shadow(0px 1px 2px rgba(0, 0, 0, 0.3));\n",
              "      fill: #FFFFFF;\n",
              "    }\n",
              "  </style>\n",
              "\n",
              "      <script>\n",
              "        const buttonEl =\n",
              "          document.querySelector('#df-73c5b17a-5ddc-4e55-94ee-6ba67b9d099e button.colab-df-convert');\n",
              "        buttonEl.style.display =\n",
              "          google.colab.kernel.accessAllowed ? 'block' : 'none';\n",
              "\n",
              "        async function convertToInteractive(key) {\n",
              "          const element = document.querySelector('#df-73c5b17a-5ddc-4e55-94ee-6ba67b9d099e');\n",
              "          const dataTable =\n",
              "            await google.colab.kernel.invokeFunction('convertToInteractive',\n",
              "                                                     [key], {});\n",
              "          if (!dataTable) return;\n",
              "\n",
              "          const docLinkHtml = 'Like what you see? Visit the ' +\n",
              "            '<a target=\"_blank\" href=https://colab.research.google.com/notebooks/data_table.ipynb>data table notebook</a>'\n",
              "            + ' to learn more about interactive tables.';\n",
              "          element.innerHTML = '';\n",
              "          dataTable['output_type'] = 'display_data';\n",
              "          await google.colab.output.renderOutput(dataTable, element);\n",
              "          const docLink = document.createElement('div');\n",
              "          docLink.innerHTML = docLinkHtml;\n",
              "          element.appendChild(docLink);\n",
              "        }\n",
              "      </script>\n",
              "    </div>\n",
              "  </div>\n",
              "  "
            ]
          },
          "metadata": {},
          "execution_count": 83
        }
      ]
    },
    {
      "cell_type": "code",
      "source": [
        "# Using function to plot Pie-Charts for all categorical variables in the dataframe\n",
        "\n",
        "# Takes in a dataframe(df) and plots pie charts for all categorical columns.\n",
        "def pie_charts_for_CategoricalVar(df):\n",
        "    df_p = pd.DataFrame()\n",
        "    for i,col in enumerate(df.columns):\n",
        "        if df[col].dtypes == 'object' and col !='customerID': # To fetch all the features with datatype as 'Object' except customerID feature\n",
        "            df_p[col]= df[col]\n",
        "            k = df[col].value_counts()\n",
        "            plt.pie(k,autopct='%.0f%%',labels=df_p[col].value_counts().index)\n",
        "            plt.title(col,bbox={'facecolor':'0.9', 'pad':5})\n",
        "            plt.show()\n",
        "            print('-'*100)"
      ],
      "metadata": {
        "id": "FqCP3kNIinFj"
      },
      "execution_count": null,
      "outputs": []
    },
    {
      "cell_type": "code",
      "source": [
        "#calling the function to plot pie-charts for categorical variable\n",
        "\n",
        "pie_charts_for_CategoricalVar(df)   # dataframe = df"
      ],
      "metadata": {
        "colab": {
          "base_uri": "https://localhost:8080/",
          "height": 1000
        },
        "id": "HguCLJCRjBk3",
        "outputId": "0bcf831a-dadd-4929-dd69-8fec0732892d"
      },
      "execution_count": null,
      "outputs": [
        {
          "output_type": "display_data",
          "data": {
            "text/plain": [
              "<Figure size 640x480 with 1 Axes>"
            ],
            "image/png": "[encoded data removed]"
          },
          "metadata": {}
        },
        {
          "output_type": "stream",
          "name": "stdout",
          "text": [
            "----------------------------------------------------------------------------------------------------\n"
          ]
        },
        {
          "output_type": "display_data",
          "data": {
            "text/plain": [
              "<Figure size 640x480 with 1 Axes>"
            ],
            "image/png": "[encoded data removed]"
          },
          "metadata": {}
        },
        {
          "output_type": "stream",
          "name": "stdout",
          "text": [
            "----------------------------------------------------------------------------------------------------\n"
          ]
        },
        {
          "output_type": "display_data",
          "data": {
            "text/plain": [
              "<Figure size 640x480 with 1 Axes>"
            ],
            "image/png": "[encoded data removed]"
          },
          "metadata": {}
        },
        {
          "output_type": "stream",
          "name": "stdout",
          "text": [
            "----------------------------------------------------------------------------------------------------\n"
          ]
        },
        {
          "output_type": "display_data",
          "data": {
            "text/plain": [
              "<Figure size 640x480 with 1 Axes>"
            ],
            "image/png": "[encoded data removed]"
          },
          "metadata": {}
        },
        {
          "output_type": "stream",
          "name": "stdout",
          "text": [
            "----------------------------------------------------------------------------------------------------\n"
          ]
        },
        {
          "output_type": "display_data",
          "data": {
            "text/plain": [
              "<Figure size 640x480 with 1 Axes>"
            ],
            "image/png": "[encoded data removed]"
          },
          "metadata": {}
        },
        {
          "output_type": "stream",
          "name": "stdout",
          "text": [
            "----------------------------------------------------------------------------------------------------\n"
          ]
        },
        {
          "output_type": "display_data",
          "data": {
            "text/plain": [
              "<Figure size 640x480 with 1 Axes>"
            ],
            "image/png": "[encoded data removed]"
          },
          "metadata": {}
        },
        {
          "output_type": "stream",
          "name": "stdout",
          "text": [
            "----------------------------------------------------------------------------------------------------\n"
          ]
        },
        {
          "output_type": "display_data",
          "data": {
            "text/plain": [
              "<Figure size 640x480 with 1 Axes>"
            ],
            "image/png": "[encoded data removed]"
          },
          "metadata": {}
        },
        {
          "output_type": "stream",
          "name": "stdout",
          "text": [
            "----------------------------------------------------------------------------------------------------\n"
          ]
        },
        {
          "output_type": "display_data",
          "data": {
            "text/plain": [
              "<Figure size 640x480 with 1 Axes>"
            ],
            "image/png": "[encoded data removed]"
          },
          "metadata": {}
        },
        {
          "output_type": "stream",
          "name": "stdout",
          "text": [
            "----------------------------------------------------------------------------------------------------\n"
          ]
        },
        {
          "output_type": "display_data",
          "data": {
            "text/plain": [
              "<Figure size 640x480 with 1 Axes>"
            ],
            "image/png": "[encoded data removed]"
          },
          "metadata": {}
        },
        {
          "output_type": "stream",
          "name": "stdout",
          "text": [
            "----------------------------------------------------------------------------------------------------\n"
          ]
        },
        {
          "output_type": "display_data",
          "data": {
            "text/plain": [
              "<Figure size 640x480 with 1 Axes>"
            ],
            "image/png": "[encoded data removed]"
          },
          "metadata": {}
        },
        {
          "output_type": "stream",
          "name": "stdout",
          "text": [
            "----------------------------------------------------------------------------------------------------\n"
          ]
        },
        {
          "output_type": "display_data",
          "data": {
            "text/plain": [
              "<Figure size 640x480 with 1 Axes>"
            ],
            "image/png": "[encoded data removed]"
          },
          "metadata": {}
        },
        {
          "output_type": "stream",
          "name": "stdout",
          "text": [
            "----------------------------------------------------------------------------------------------------\n"
          ]
        },
        {
          "output_type": "display_data",
          "data": {
            "text/plain": [
              "<Figure size 640x480 with 1 Axes>"
            ],
            "image/png": "[encoded data removed]"
          },
          "metadata": {}
        },
        {
          "output_type": "stream",
          "name": "stdout",
          "text": [
            "----------------------------------------------------------------------------------------------------\n"
          ]
        },
        {
          "output_type": "display_data",
          "data": {
            "text/plain": [
              "<Figure size 640x480 with 1 Axes>"
            ],
            "image/png": "[encoded data removed]"
          },
          "metadata": {}
        },
        {
          "output_type": "stream",
          "name": "stdout",
          "text": [
            "----------------------------------------------------------------------------------------------------\n"
          ]
        },
        {
          "output_type": "display_data",
          "data": {
            "text/plain": [
              "<Figure size 640x480 with 1 Axes>"
            ],
            "image/png": "[encoded data removed]"
          },
          "metadata": {}
        },
        {
          "output_type": "stream",
          "name": "stdout",
          "text": [
            "----------------------------------------------------------------------------------------------------\n"
          ]
        },
        {
          "output_type": "display_data",
          "data": {
            "text/plain": [
              "<Figure size 640x480 with 1 Axes>"
            ],
            "image/png": "[encoded data removed]"
          },
          "metadata": {}
        },
        {
          "output_type": "stream",
          "name": "stdout",
          "text": [
            "----------------------------------------------------------------------------------------------------\n"
          ]
        },
        {
          "output_type": "display_data",
          "data": {
            "text/plain": [
              "<Figure size 640x480 with 1 Axes>"
            ],
            "image/png": "[encoded data removed]"
          },
          "metadata": {}
        },
        {
          "output_type": "stream",
          "name": "stdout",
          "text": [
            "----------------------------------------------------------------------------------------------------\n"
          ]
        }
      ]
    },
    {
      "cell_type": "markdown",
      "source": [
        "**InSights for Categorical features in pie plot:**\n",
        "*   For 'Gender' feature, found unique value as 'Female' with 50% and unique value as 'Male' with 50% from the dataframe.\n",
        "*   For 'Partner' feature, found unique value as 'No' with 52% and unique value as 'Yes' with 48% from the dataframe.\n",
        "*   For 'Dependents' feature, found unique value as 'No' with 70% and unique value as 'Yes' with 30% from the dataframe.\n",
        "*   For 'PhoneService' feature, found unique value as 'No' with 10% and unique value as 'Yes' with 90% from the dataframe.\n",
        "*   For 'MultipleLines' feature, found unique value as 'No' with 48%, unique values as 'Yes' with 42% and unique value as 'No phone service' with 10% from the dataframe.\n",
        "*   For 'InternetService' feature, found unique value as 'Fibre optic' with 44%,unique value as 'DSL' with 34% and unique value as 'No' with 22% from the dataframe.\n",
        "*   For 'OnlineSecurity' feature, found unique value as 'No' with 49%, unique values as 'Yes' with 29% and unique value as 'No internet service' with 22% from the dataframe.\n",
        "*   For 'OnlineBackup' feature, found unique value as 'No' with 44%, unique values as 'Yes' with 34% and unique value as 'No phone service' with 22% from the dataframe.\n",
        "*   For 'DeviceProtection' feature, found unique value as 'No' with 44%, unique values as 'Yes' with 34% and unique value as 'No phone service' with 22% from the dataframe.\n",
        "*   For 'TechSupport' feature, found unique value as 'No' with 49%, unique values as 'Yes' with 29% and unique value as 'No internet service' with 22% from the dataframe.\n",
        "*   For 'StreamingTV' feature, found unique value as 'No' with 40%, unique values as 'Yes' with 38% and unique value as 'No internet service' with 22% from the dataframe.\n",
        "*   For 'StreamingMovies' feature, found unique value as 'No' with 40%, unique values as 'Yes' with 38% and unique value as 'No internet service' with 22% from the dataframe.\n",
        "*   For 'Contract' feature, found unique value as 'Month_to_month' with 55%, unique values as 'Two year' with 24% and unique value as 'One year' with 21% from the dataframe.\n",
        "*   For 'PaperlessBilling' feature, found unique value as 'No' with 41% and unique values as 'Yes' with 59% from the dataframe.\n",
        "*   For 'PaymentMethod' feature, found unique value as 'Electronic check' with 34%, unique values as 'Mailed check' with 23%, unique values as 'Bank transfer(automatic)' with 22% and unique value as 'Credit card(automatic)' with 22% from the dataframe.\n",
        "*   For 'Churn' feature, found unique value as 'No' with 73% and unique values as 'Yes' with 27% from the dataframe.\n",
        "*   On comparing all the features, the size of the slice is same for 'OnlineBackup'- 'DeviceProtection' & 'StreamingTV' - 'StreamingMovies'.\n",
        "\n",
        "\n",
        "\n"
      ],
      "metadata": {
        "id": "gApAQtpj2GF0"
      }
    },
    {
      "cell_type": "code",
      "source": [
        "# To get the target feature 'Churn' instances with unique values\n",
        "df['Churn'].value_counts()"
      ],
      "metadata": {
        "colab": {
          "base_uri": "https://localhost:8080/"
        },
        "id": "F__7MSiZH-3f",
        "outputId": "6f85e471-dc22-47f1-e09d-03754b331287"
      },
      "execution_count": null,
      "outputs": [
        {
          "output_type": "execute_result",
          "data": {
            "text/plain": [
              "No     5174\n",
              "Yes    1869\n",
              "Name: Churn, dtype: int64"
            ]
          },
          "metadata": {},
          "execution_count": 86
        }
      ]
    },
    {
      "cell_type": "markdown",
      "source": [
        "For 'Churn' feature, found unique values count for 'No' is 5174 and for 'Yes' is 1869."
      ],
      "metadata": {
        "id": "5JbzeOfkJgk-"
      }
    },
    {
      "cell_type": "code",
      "source": [
        "# To plot the target feature 'Churn' instances with unique values using Bar plot\n",
        "df['Churn'].value_counts().plot(kind='bar')"
      ],
      "metadata": {
        "id": "W95lyujETVbp",
        "colab": {
          "base_uri": "https://localhost:8080/",
          "height": 455
        },
        "outputId": "9d7061d8-cd0b-4b95-8264-6d313a1dc730"
      },
      "execution_count": null,
      "outputs": [
        {
          "output_type": "execute_result",
          "data": {
            "text/plain": [
              "<Axes: >"
            ]
          },
          "metadata": {},
          "execution_count": 87
        },
        {
          "output_type": "display_data",
          "data": {
            "text/plain": [
              "<Figure size 640x480 with 1 Axes>"
            ],
            "image/png": "[encoded data removed]"
          },
          "metadata": {}
        }
      ]
    },
    {
      "cell_type": "code",
      "source": [
        "# To plot the target feature 'Churn' instances with unique values using Pie plot with percentages\n",
        "df['Churn'].value_counts().plot(kind='pie',autopct='%.0f%%')"
      ],
      "metadata": {
        "colab": {
          "base_uri": "https://localhost:8080/",
          "height": 423
        },
        "id": "HD6RD80msPEE",
        "outputId": "e7be5920-40eb-452f-df75-c6cd468233af"
      },
      "execution_count": null,
      "outputs": [
        {
          "output_type": "execute_result",
          "data": {
            "text/plain": [
              "<Axes: ylabel='Churn'>"
            ]
          },
          "metadata": {},
          "execution_count": 88
        },
        {
          "output_type": "display_data",
          "data": {
            "text/plain": [
              "<Figure size 640x480 with 1 Axes>"
            ],
            "image/png": "[encoded data removed]"
          },
          "metadata": {}
        }
      ]
    },
    {
      "cell_type": "markdown",
      "source": [
        "For 'Churn' feature, found unique value as 'No' with 73% and unique value as 'Yes' with 27% from the given data."
      ],
      "metadata": {
        "id": "uCIQvvP33Kau"
      }
    },
    {
      "cell_type": "code",
      "source": [
        "# To encode all the appropriate Categorical features\n",
        "for feature in df.columns: # Loop through all columns in the dataframe\n",
        "    if df[feature].dtype == 'object' and feature !='customerID': # Only apply for columns with categorical strings\n",
        "        df[feature] = pd.Categorical(df[feature])# Replace strings with an integer\n",
        "df.head(10)"
      ],
      "metadata": {
        "colab": {
          "base_uri": "https://localhost:8080/",
          "height": 630
        },
        "id": "vaO3-OcXRgk8",
        "outputId": "f6f90ae0-f00a-4e54-e1cd-67f8539489b0"
      },
      "execution_count": null,
      "outputs": [
        {
          "output_type": "execute_result",
          "data": {
            "text/plain": [
              "   customerID  gender  SeniorCitizen Partner Dependents  tenure PhoneService  \\\n",
              "0  7590-VHVEG  Female              0     Yes         No       1           No   \n",
              "1  5575-GNVDE    Male              0      No         No      34          Yes   \n",
              "2  3668-QPYBK    Male              0      No         No       2          Yes   \n",
              "3  7795-CFOCW    Male              0      No         No      45           No   \n",
              "4  9237-HQITU  Female              0      No         No       2          Yes   \n",
              "5  9305-CDSKC  Female              0      No         No       8          Yes   \n",
              "6  1452-KIOVK    Male              0      No        Yes      22          Yes   \n",
              "7  6713-OKOMC  Female              0      No         No      10           No   \n",
              "8  7892-POOKP  Female              0     Yes         No      28          Yes   \n",
              "9  6388-TABGU    Male              0      No        Yes      62          Yes   \n",
              "\n",
              "      MultipleLines InternetService OnlineSecurity  ... DeviceProtection  \\\n",
              "0  No phone service             DSL             No  ...               No   \n",
              "1                No             DSL            Yes  ...              Yes   \n",
              "2                No             DSL            Yes  ...               No   \n",
              "3  No phone service             DSL            Yes  ...              Yes   \n",
              "4                No     Fiber optic             No  ...               No   \n",
              "5               Yes     Fiber optic             No  ...              Yes   \n",
              "6               Yes     Fiber optic             No  ...               No   \n",
              "7  No phone service             DSL            Yes  ...               No   \n",
              "8               Yes     Fiber optic             No  ...              Yes   \n",
              "9                No             DSL            Yes  ...               No   \n",
              "\n",
              "  TechSupport StreamingTV StreamingMovies        Contract PaperlessBilling  \\\n",
              "0          No          No              No  Month-to-month              Yes   \n",
              "1          No          No              No        One year               No   \n",
              "2          No          No              No  Month-to-month              Yes   \n",
              "3         Yes          No              No        One year               No   \n",
              "4          No          No              No  Month-to-month              Yes   \n",
              "5          No         Yes             Yes  Month-to-month              Yes   \n",
              "6          No         Yes              No  Month-to-month              Yes   \n",
              "7          No          No              No  Month-to-month               No   \n",
              "8         Yes         Yes             Yes  Month-to-month              Yes   \n",
              "9          No          No              No        One year               No   \n",
              "\n",
              "               PaymentMethod MonthlyCharges  TotalCharges  Churn  \n",
              "0           Electronic check          29.85         29.85     No  \n",
              "1               Mailed check          56.95       1889.50     No  \n",
              "2               Mailed check          53.85        108.15    Yes  \n",
              "3  Bank transfer (automatic)          42.30       1840.75     No  \n",
              "4           Electronic check          70.70        151.65    Yes  \n",
              "5           Electronic check          99.65        820.50    Yes  \n",
              "6    Credit card (automatic)          89.10       1949.40     No  \n",
              "7               Mailed check          29.75        301.90     No  \n",
              "8           Electronic check         104.80       3046.05    Yes  \n",
              "9  Bank transfer (automatic)          56.15       3487.95     No  \n",
              "\n",
              "[10 rows x 21 columns]"
            ],
            "text/html": [
              "\n",
              "  <div id=\"df-90b577dd-62a2-47af-95e9-f40dc8c76364\">\n",
              "    <div class=\"colab-df-container\">\n",
              "      <div>\n",
              "<style scoped>\n",
              "    .dataframe tbody tr th:only-of-type {\n",
              "        vertical-align: middle;\n",
              "    }\n",
              "\n",
              "    .dataframe tbody tr th {\n",
              "        vertical-align: top;\n",
              "    }\n",
              "\n",
              "    .dataframe thead th {\n",
              "        text-align: right;\n",
              "    }\n",
              "</style>\n",
              "<table border=\"1\" class=\"dataframe\">\n",
              "  <thead>\n",
              "    <tr style=\"text-align: right;\">\n",
              "      <th></th>\n",
              "      <th>customerID</th>\n",
              "      <th>gender</th>\n",
              "      <th>SeniorCitizen</th>\n",
              "      <th>Partner</th>\n",
              "      <th>Dependents</th>\n",
              "      <th>tenure</th>\n",
              "      <th>PhoneService</th>\n",
              "      <th>MultipleLines</th>\n",
              "      <th>InternetService</th>\n",
              "      <th>OnlineSecurity</th>\n",
              "      <th>...</th>\n",
              "      <th>DeviceProtection</th>\n",
              "      <th>TechSupport</th>\n",
              "      <th>StreamingTV</th>\n",
              "      <th>StreamingMovies</th>\n",
              "      <th>Contract</th>\n",
              "      <th>PaperlessBilling</th>\n",
              "      <th>PaymentMethod</th>\n",
              "      <th>MonthlyCharges</th>\n",
              "      <th>TotalCharges</th>\n",
              "      <th>Churn</th>\n",
              "    </tr>\n",
              "  </thead>\n",
              "  <tbody>\n",
              "    <tr>\n",
              "      <th>0</th>\n",
              "      <td>7590-VHVEG</td>\n",
              "      <td>Female</td>\n",
              "      <td>0</td>\n",
              "      <td>Yes</td>\n",
              "      <td>No</td>\n",
              "      <td>1</td>\n",
              "      <td>No</td>\n",
              "      <td>No phone service</td>\n",
              "      <td>DSL</td>\n",
              "      <td>No</td>\n",
              "      <td>...</td>\n",
              "      <td>No</td>\n",
              "      <td>No</td>\n",
              "      <td>No</td>\n",
              "      <td>No</td>\n",
              "      <td>Month-to-month</td>\n",
              "      <td>Yes</td>\n",
              "      <td>Electronic check</td>\n",
              "      <td>29.85</td>\n",
              "      <td>29.85</td>\n",
              "      <td>No</td>\n",
              "    </tr>\n",
              "    <tr>\n",
              "      <th>1</th>\n",
              "      <td>5575-GNVDE</td>\n",
              "      <td>Male</td>\n",
              "      <td>0</td>\n",
              "      <td>No</td>\n",
              "      <td>No</td>\n",
              "      <td>34</td>\n",
              "      <td>Yes</td>\n",
              "      <td>No</td>\n",
              "      <td>DSL</td>\n",
              "      <td>Yes</td>\n",
              "      <td>...</td>\n",
              "      <td>Yes</td>\n",
              "      <td>No</td>\n",
              "      <td>No</td>\n",
              "      <td>No</td>\n",
              "      <td>One year</td>\n",
              "      <td>No</td>\n",
              "      <td>Mailed check</td>\n",
              "      <td>56.95</td>\n",
              "      <td>1889.50</td>\n",
              "      <td>No</td>\n",
              "    </tr>\n",
              "    <tr>\n",
              "      <th>2</th>\n",
              "      <td>3668-QPYBK</td>\n",
              "      <td>Male</td>\n",
              "      <td>0</td>\n",
              "      <td>No</td>\n",
              "      <td>No</td>\n",
              "      <td>2</td>\n",
              "      <td>Yes</td>\n",
              "      <td>No</td>\n",
              "      <td>DSL</td>\n",
              "      <td>Yes</td>\n",
              "      <td>...</td>\n",
              "      <td>No</td>\n",
              "      <td>No</td>\n",
              "      <td>No</td>\n",
              "      <td>No</td>\n",
              "      <td>Month-to-month</td>\n",
              "      <td>Yes</td>\n",
              "      <td>Mailed check</td>\n",
              "      <td>53.85</td>\n",
              "      <td>108.15</td>\n",
              "      <td>Yes</td>\n",
              "    </tr>\n",
              "    <tr>\n",
              "      <th>3</th>\n",
              "      <td>7795-CFOCW</td>\n",
              "      <td>Male</td>\n",
              "      <td>0</td>\n",
              "      <td>No</td>\n",
              "      <td>No</td>\n",
              "      <td>45</td>\n",
              "      <td>No</td>\n",
              "      <td>No phone service</td>\n",
              "      <td>DSL</td>\n",
              "      <td>Yes</td>\n",
              "      <td>...</td>\n",
              "      <td>Yes</td>\n",
              "      <td>Yes</td>\n",
              "      <td>No</td>\n",
              "      <td>No</td>\n",
              "      <td>One year</td>\n",
              "      <td>No</td>\n",
              "      <td>Bank transfer (automatic)</td>\n",
              "      <td>42.30</td>\n",
              "      <td>1840.75</td>\n",
              "      <td>No</td>\n",
              "    </tr>\n",
              "    <tr>\n",
              "      <th>4</th>\n",
              "      <td>9237-HQITU</td>\n",
              "      <td>Female</td>\n",
              "      <td>0</td>\n",
              "      <td>No</td>\n",
              "      <td>No</td>\n",
              "      <td>2</td>\n",
              "      <td>Yes</td>\n",
              "      <td>No</td>\n",
              "      <td>Fiber optic</td>\n",
              "      <td>No</td>\n",
              "      <td>...</td>\n",
              "      <td>No</td>\n",
              "      <td>No</td>\n",
              "      <td>No</td>\n",
              "      <td>No</td>\n",
              "      <td>Month-to-month</td>\n",
              "      <td>Yes</td>\n",
              "      <td>Electronic check</td>\n",
              "      <td>70.70</td>\n",
              "      <td>151.65</td>\n",
              "      <td>Yes</td>\n",
              "    </tr>\n",
              "    <tr>\n",
              "      <th>5</th>\n",
              "      <td>9305-CDSKC</td>\n",
              "      <td>Female</td>\n",
              "      <td>0</td>\n",
              "      <td>No</td>\n",
              "      <td>No</td>\n",
              "      <td>8</td>\n",
              "      <td>Yes</td>\n",
              "      <td>Yes</td>\n",
              "      <td>Fiber optic</td>\n",
              "      <td>No</td>\n",
              "      <td>...</td>\n",
              "      <td>Yes</td>\n",
              "      <td>No</td>\n",
              "      <td>Yes</td>\n",
              "      <td>Yes</td>\n",
              "      <td>Month-to-month</td>\n",
              "      <td>Yes</td>\n",
              "      <td>Electronic check</td>\n",
              "      <td>99.65</td>\n",
              "      <td>820.50</td>\n",
              "      <td>Yes</td>\n",
              "    </tr>\n",
              "    <tr>\n",
              "      <th>6</th>\n",
              "      <td>1452-KIOVK</td>\n",
              "      <td>Male</td>\n",
              "      <td>0</td>\n",
              "      <td>No</td>\n",
              "      <td>Yes</td>\n",
              "      <td>22</td>\n",
              "      <td>Yes</td>\n",
              "      <td>Yes</td>\n",
              "      <td>Fiber optic</td>\n",
              "      <td>No</td>\n",
              "      <td>...</td>\n",
              "      <td>No</td>\n",
              "      <td>No</td>\n",
              "      <td>Yes</td>\n",
              "      <td>No</td>\n",
              "      <td>Month-to-month</td>\n",
              "      <td>Yes</td>\n",
              "      <td>Credit card (automatic)</td>\n",
              "      <td>89.10</td>\n",
              "      <td>1949.40</td>\n",
              "      <td>No</td>\n",
              "    </tr>\n",
              "    <tr>\n",
              "      <th>7</th>\n",
              "      <td>6713-OKOMC</td>\n",
              "      <td>Female</td>\n",
              "      <td>0</td>\n",
              "      <td>No</td>\n",
              "      <td>No</td>\n",
              "      <td>10</td>\n",
              "      <td>No</td>\n",
              "      <td>No phone service</td>\n",
              "      <td>DSL</td>\n",
              "      <td>Yes</td>\n",
              "      <td>...</td>\n",
              "      <td>No</td>\n",
              "      <td>No</td>\n",
              "      <td>No</td>\n",
              "      <td>No</td>\n",
              "      <td>Month-to-month</td>\n",
              "      <td>No</td>\n",
              "      <td>Mailed check</td>\n",
              "      <td>29.75</td>\n",
              "      <td>301.90</td>\n",
              "      <td>No</td>\n",
              "    </tr>\n",
              "    <tr>\n",
              "      <th>8</th>\n",
              "      <td>7892-POOKP</td>\n",
              "      <td>Female</td>\n",
              "      <td>0</td>\n",
              "      <td>Yes</td>\n",
              "      <td>No</td>\n",
              "      <td>28</td>\n",
              "      <td>Yes</td>\n",
              "      <td>Yes</td>\n",
              "      <td>Fiber optic</td>\n",
              "      <td>No</td>\n",
              "      <td>...</td>\n",
              "      <td>Yes</td>\n",
              "      <td>Yes</td>\n",
              "      <td>Yes</td>\n",
              "      <td>Yes</td>\n",
              "      <td>Month-to-month</td>\n",
              "      <td>Yes</td>\n",
              "      <td>Electronic check</td>\n",
              "      <td>104.80</td>\n",
              "      <td>3046.05</td>\n",
              "      <td>Yes</td>\n",
              "    </tr>\n",
              "    <tr>\n",
              "      <th>9</th>\n",
              "      <td>6388-TABGU</td>\n",
              "      <td>Male</td>\n",
              "      <td>0</td>\n",
              "      <td>No</td>\n",
              "      <td>Yes</td>\n",
              "      <td>62</td>\n",
              "      <td>Yes</td>\n",
              "      <td>No</td>\n",
              "      <td>DSL</td>\n",
              "      <td>Yes</td>\n",
              "      <td>...</td>\n",
              "      <td>No</td>\n",
              "      <td>No</td>\n",
              "      <td>No</td>\n",
              "      <td>No</td>\n",
              "      <td>One year</td>\n",
              "      <td>No</td>\n",
              "      <td>Bank transfer (automatic)</td>\n",
              "      <td>56.15</td>\n",
              "      <td>3487.95</td>\n",
              "      <td>No</td>\n",
              "    </tr>\n",
              "  </tbody>\n",
              "</table>\n",
              "<p>10 rows × 21 columns</p>\n",
              "</div>\n",
              "      <button class=\"colab-df-convert\" onclick=\"convertToInteractive('df-90b577dd-62a2-47af-95e9-f40dc8c76364')\"\n",
              "              title=\"Convert this dataframe to an interactive table.\"\n",
              "              style=\"display:none;\">\n",
              "        \n",
              "  <svg xmlns=\"http://www.w3.org/2000/svg\" height=\"24px\"viewBox=\"0 0 24 24\"\n",
              "       width=\"24px\">\n",
              "    <path d=\"M0 0h24v24H0V0z\" fill=\"none\"/>\n",
              "    <path d=\"M18.56 5.44l.94 2.06.94-2.06 2.06-.94-2.06-.94-.94-2.06-.94 2.06-2.06.94zm-11 1L8.5 8.5l.94-2.06 2.06-.94-2.06-.94L8.5 2.5l-.94 2.06-2.06.94zm10 10l.94 2.06.94-2.06 2.06-.94-2.06-.94-.94-2.06-.94 2.06-2.06.94z\"/><path d=\"M17.41 7.96l-1.37-1.37c-.4-.4-.92-.59-1.43-.59-.52 0-1.04.2-1.43.59L10.3 9.45l-7.72 7.72c-.78.78-.78 2.05 0 2.83L4 21.41c.39.39.9.59 1.41.59.51 0 1.02-.2 1.41-.59l7.78-7.78 2.81-2.81c.8-.78.8-2.07 0-2.86zM5.41 20L4 18.59l7.72-7.72 1.47 1.35L5.41 20z\"/>\n",
              "  </svg>\n",
              "      </button>\n",
              "      \n",
              "  <style>\n",
              "    .colab-df-container {\n",
              "      display:flex;\n",
              "      flex-wrap:wrap;\n",
              "      gap: 12px;\n",
              "    }\n",
              "\n",
              "    .colab-df-convert {\n",
              "      background-color: #E8F0FE;\n",
              "      border: none;\n",
              "      border-radius: 50%;\n",
              "      cursor: pointer;\n",
              "      display: none;\n",
              "      fill: #1967D2;\n",
              "      height: 32px;\n",
              "      padding: 0 0 0 0;\n",
              "      width: 32px;\n",
              "    }\n",
              "\n",
              "    .colab-df-convert:hover {\n",
              "      background-color: #E2EBFA;\n",
              "      box-shadow: 0px 1px 2px rgba(60, 64, 67, 0.3), 0px 1px 3px 1px rgba(60, 64, 67, 0.15);\n",
              "      fill: #174EA6;\n",
              "    }\n",
              "\n",
              "    [theme=dark] .colab-df-convert {\n",
              "      background-color: #3B4455;\n",
              "      fill: #D2E3FC;\n",
              "    }\n",
              "\n",
              "    [theme=dark] .colab-df-convert:hover {\n",
              "      background-color: #434B5C;\n",
              "      box-shadow: 0px 1px 3px 1px rgba(0, 0, 0, 0.15);\n",
              "      filter: drop-shadow(0px 1px 2px rgba(0, 0, 0, 0.3));\n",
              "      fill: #FFFFFF;\n",
              "    }\n",
              "  </style>\n",
              "\n",
              "      <script>\n",
              "        const buttonEl =\n",
              "          document.querySelector('#df-90b577dd-62a2-47af-95e9-f40dc8c76364 button.colab-df-convert');\n",
              "        buttonEl.style.display =\n",
              "          google.colab.kernel.accessAllowed ? 'block' : 'none';\n",
              "\n",
              "        async function convertToInteractive(key) {\n",
              "          const element = document.querySelector('#df-90b577dd-62a2-47af-95e9-f40dc8c76364');\n",
              "          const dataTable =\n",
              "            await google.colab.kernel.invokeFunction('convertToInteractive',\n",
              "                                                     [key], {});\n",
              "          if (!dataTable) return;\n",
              "\n",
              "          const docLinkHtml = 'Like what you see? Visit the ' +\n",
              "            '<a target=\"_blank\" href=https://colab.research.google.com/notebooks/data_table.ipynb>data table notebook</a>'\n",
              "            + ' to learn more about interactive tables.';\n",
              "          element.innerHTML = '';\n",
              "          dataTable['output_type'] = 'display_data';\n",
              "          await google.colab.output.renderOutput(dataTable, element);\n",
              "          const docLink = document.createElement('div');\n",
              "          docLink.innerHTML = docLinkHtml;\n",
              "          element.appendChild(docLink);\n",
              "        }\n",
              "      </script>\n",
              "    </div>\n",
              "  </div>\n",
              "  "
            ]
          },
          "metadata": {},
          "execution_count": 89
        }
      ]
    },
    {
      "cell_type": "code",
      "source": [
        "# To replace the existing categorical values to numeric values\n",
        "RCols = {\n",
        "                \"Partner\":     {\"No\": 2, \"Yes\": 1},\n",
        "                \"Dependents\": {\"No\": 2, \"Yes\": 1},\n",
        "                \"PhoneService\": {\"No\": 2, \"Yes\": 1},\n",
        "                \"MultipleLines\":     {\"No\": 2, \"Yes\": 1, \"No phone service\": 3},\n",
        "                \"phone\":     {\"No\": 2, \"Yes\": 1},\n",
        "                \"OnlineSecurity\":     {\"No\": 2, \"Yes\": 1, \"No internet service\": 3},\n",
        "                \"OnlineBackup\":     {\"No\": 2, \"Yes\": 1, \"No internet service\": 3},\n",
        "                \"DeviceProtection\":     {\"No\": 2, \"Yes\": 1, \"No internet service\": 3},\n",
        "                \"TechSupport\":     {\"No\": 2, \"Yes\": 1, \"No internet service\": 3},\n",
        "                \"StreamingTV\":     {\"No\": 2, \"Yes\": 1, \"No internet service\": 3},\n",
        "                \"StreamingMovies\":     {\"No\": 2, \"Yes\": 1, \"No internet service\": 3},\n",
        "                \"PaperlessBilling\": {\"No\": 2, \"Yes\": 1},\n",
        "                  \"Churn\":     {\"No\": 0, \"Yes\": 1}\n",
        "                    }\n",
        "# To assign the few categorical variables with onehotcoding technique using get_dummies\n",
        "dummyCols=[\"gender\",\"InternetService\",\"Contract\",\"PaymentMethod\"]"
      ],
      "metadata": {
        "id": "uZECdclRRgz6"
      },
      "execution_count": null,
      "outputs": []
    },
    {
      "cell_type": "code",
      "source": [
        "df=df.replace(RCols) # To replace the columns with numeric values\n",
        "df=pd.get_dummies(df, columns=dummyCols) # using get_dummies for creating new columns\n",
        "df.head(10) # To get the first 10 rows of the dataframe"
      ],
      "metadata": {
        "colab": {
          "base_uri": "https://localhost:8080/",
          "height": 665
        },
        "id": "717-qRENRg_K",
        "outputId": "52ea24c4-830b-45c1-9fcf-73a307cf4722"
      },
      "execution_count": null,
      "outputs": [
        {
          "output_type": "execute_result",
          "data": {
            "text/plain": [
              "   customerID  SeniorCitizen Partner Dependents  tenure PhoneService  \\\n",
              "0  7590-VHVEG              0       1          2       1            2   \n",
              "1  5575-GNVDE              0       2          2      34            1   \n",
              "2  3668-QPYBK              0       2          2       2            1   \n",
              "3  7795-CFOCW              0       2          2      45            2   \n",
              "4  9237-HQITU              0       2          2       2            1   \n",
              "5  9305-CDSKC              0       2          2       8            1   \n",
              "6  1452-KIOVK              0       2          1      22            1   \n",
              "7  6713-OKOMC              0       2          2      10            2   \n",
              "8  7892-POOKP              0       1          2      28            1   \n",
              "9  6388-TABGU              0       2          1      62            1   \n",
              "\n",
              "  MultipleLines OnlineSecurity OnlineBackup DeviceProtection  ...  \\\n",
              "0             3              2            1                2  ...   \n",
              "1             2              1            2                1  ...   \n",
              "2             2              1            1                2  ...   \n",
              "3             3              1            2                1  ...   \n",
              "4             2              2            2                2  ...   \n",
              "5             1              2            2                1  ...   \n",
              "6             1              2            1                2  ...   \n",
              "7             3              1            2                2  ...   \n",
              "8             1              2            2                1  ...   \n",
              "9             2              1            1                2  ...   \n",
              "\n",
              "  InternetService_DSL InternetService_Fiber optic InternetService_No  \\\n",
              "0                   1                           0                  0   \n",
              "1                   1                           0                  0   \n",
              "2                   1                           0                  0   \n",
              "3                   1                           0                  0   \n",
              "4                   0                           1                  0   \n",
              "5                   0                           1                  0   \n",
              "6                   0                           1                  0   \n",
              "7                   1                           0                  0   \n",
              "8                   0                           1                  0   \n",
              "9                   1                           0                  0   \n",
              "\n",
              "  Contract_Month-to-month  Contract_One year  Contract_Two year  \\\n",
              "0                       1                  0                  0   \n",
              "1                       0                  1                  0   \n",
              "2                       1                  0                  0   \n",
              "3                       0                  1                  0   \n",
              "4                       1                  0                  0   \n",
              "5                       1                  0                  0   \n",
              "6                       1                  0                  0   \n",
              "7                       1                  0                  0   \n",
              "8                       1                  0                  0   \n",
              "9                       0                  1                  0   \n",
              "\n",
              "  PaymentMethod_Bank transfer (automatic)  \\\n",
              "0                                       0   \n",
              "1                                       0   \n",
              "2                                       0   \n",
              "3                                       1   \n",
              "4                                       0   \n",
              "5                                       0   \n",
              "6                                       0   \n",
              "7                                       0   \n",
              "8                                       0   \n",
              "9                                       1   \n",
              "\n",
              "   PaymentMethod_Credit card (automatic)  PaymentMethod_Electronic check  \\\n",
              "0                                      0                               1   \n",
              "1                                      0                               0   \n",
              "2                                      0                               0   \n",
              "3                                      0                               0   \n",
              "4                                      0                               1   \n",
              "5                                      0                               1   \n",
              "6                                      1                               0   \n",
              "7                                      0                               0   \n",
              "8                                      0                               1   \n",
              "9                                      0                               0   \n",
              "\n",
              "   PaymentMethod_Mailed check  \n",
              "0                           0  \n",
              "1                           1  \n",
              "2                           1  \n",
              "3                           0  \n",
              "4                           0  \n",
              "5                           0  \n",
              "6                           0  \n",
              "7                           1  \n",
              "8                           0  \n",
              "9                           0  \n",
              "\n",
              "[10 rows x 29 columns]"
            ],
            "text/html": [
              "\n",
              "  <div id=\"df-e34d8011-e78f-4d45-a789-c92cf6952e1d\">\n",
              "    <div class=\"colab-df-container\">\n",
              "      <div>\n",
              "<style scoped>\n",
              "    .dataframe tbody tr th:only-of-type {\n",
              "        vertical-align: middle;\n",
              "    }\n",
              "\n",
              "    .dataframe tbody tr th {\n",
              "        vertical-align: top;\n",
              "    }\n",
              "\n",
              "    .dataframe thead th {\n",
              "        text-align: right;\n",
              "    }\n",
              "</style>\n",
              "<table border=\"1\" class=\"dataframe\">\n",
              "  <thead>\n",
              "    <tr style=\"text-align: right;\">\n",
              "      <th></th>\n",
              "      <th>customerID</th>\n",
              "      <th>SeniorCitizen</th>\n",
              "      <th>Partner</th>\n",
              "      <th>Dependents</th>\n",
              "      <th>tenure</th>\n",
              "      <th>PhoneService</th>\n",
              "      <th>MultipleLines</th>\n",
              "      <th>OnlineSecurity</th>\n",
              "      <th>OnlineBackup</th>\n",
              "      <th>DeviceProtection</th>\n",
              "      <th>...</th>\n",
              "      <th>InternetService_DSL</th>\n",
              "      <th>InternetService_Fiber optic</th>\n",
              "      <th>InternetService_No</th>\n",
              "      <th>Contract_Month-to-month</th>\n",
              "      <th>Contract_One year</th>\n",
              "      <th>Contract_Two year</th>\n",
              "      <th>PaymentMethod_Bank transfer (automatic)</th>\n",
              "      <th>PaymentMethod_Credit card (automatic)</th>\n",
              "      <th>PaymentMethod_Electronic check</th>\n",
              "      <th>PaymentMethod_Mailed check</th>\n",
              "    </tr>\n",
              "  </thead>\n",
              "  <tbody>\n",
              "    <tr>\n",
              "      <th>0</th>\n",
              "      <td>7590-VHVEG</td>\n",
              "      <td>0</td>\n",
              "      <td>1</td>\n",
              "      <td>2</td>\n",
              "      <td>1</td>\n",
              "      <td>2</td>\n",
              "      <td>3</td>\n",
              "      <td>2</td>\n",
              "      <td>1</td>\n",
              "      <td>2</td>\n",
              "      <td>...</td>\n",
              "      <td>1</td>\n",
              "      <td>0</td>\n",
              "      <td>0</td>\n",
              "      <td>1</td>\n",
              "      <td>0</td>\n",
              "      <td>0</td>\n",
              "      <td>0</td>\n",
              "      <td>0</td>\n",
              "      <td>1</td>\n",
              "      <td>0</td>\n",
              "    </tr>\n",
              "    <tr>\n",
              "      <th>1</th>\n",
              "      <td>5575-GNVDE</td>\n",
              "      <td>0</td>\n",
              "      <td>2</td>\n",
              "      <td>2</td>\n",
              "      <td>34</td>\n",
              "      <td>1</td>\n",
              "      <td>2</td>\n",
              "      <td>1</td>\n",
              "      <td>2</td>\n",
              "      <td>1</td>\n",
              "      <td>...</td>\n",
              "      <td>1</td>\n",
              "      <td>0</td>\n",
              "      <td>0</td>\n",
              "      <td>0</td>\n",
              "      <td>1</td>\n",
              "      <td>0</td>\n",
              "      <td>0</td>\n",
              "      <td>0</td>\n",
              "      <td>0</td>\n",
              "      <td>1</td>\n",
              "    </tr>\n",
              "    <tr>\n",
              "      <th>2</th>\n",
              "      <td>3668-QPYBK</td>\n",
              "      <td>0</td>\n",
              "      <td>2</td>\n",
              "      <td>2</td>\n",
              "      <td>2</td>\n",
              "      <td>1</td>\n",
              "      <td>2</td>\n",
              "      <td>1</td>\n",
              "      <td>1</td>\n",
              "      <td>2</td>\n",
              "      <td>...</td>\n",
              "      <td>1</td>\n",
              "      <td>0</td>\n",
              "      <td>0</td>\n",
              "      <td>1</td>\n",
              "      <td>0</td>\n",
              "      <td>0</td>\n",
              "      <td>0</td>\n",
              "      <td>0</td>\n",
              "      <td>0</td>\n",
              "      <td>1</td>\n",
              "    </tr>\n",
              "    <tr>\n",
              "      <th>3</th>\n",
              "      <td>7795-CFOCW</td>\n",
              "      <td>0</td>\n",
              "      <td>2</td>\n",
              "      <td>2</td>\n",
              "      <td>45</td>\n",
              "      <td>2</td>\n",
              "      <td>3</td>\n",
              "      <td>1</td>\n",
              "      <td>2</td>\n",
              "      <td>1</td>\n",
              "      <td>...</td>\n",
              "      <td>1</td>\n",
              "      <td>0</td>\n",
              "      <td>0</td>\n",
              "      <td>0</td>\n",
              "      <td>1</td>\n",
              "      <td>0</td>\n",
              "      <td>1</td>\n",
              "      <td>0</td>\n",
              "      <td>0</td>\n",
              "      <td>0</td>\n",
              "    </tr>\n",
              "    <tr>\n",
              "      <th>4</th>\n",
              "      <td>9237-HQITU</td>\n",
              "      <td>0</td>\n",
              "      <td>2</td>\n",
              "      <td>2</td>\n",
              "      <td>2</td>\n",
              "      <td>1</td>\n",
              "      <td>2</td>\n",
              "      <td>2</td>\n",
              "      <td>2</td>\n",
              "      <td>2</td>\n",
              "      <td>...</td>\n",
              "      <td>0</td>\n",
              "      <td>1</td>\n",
              "      <td>0</td>\n",
              "      <td>1</td>\n",
              "      <td>0</td>\n",
              "      <td>0</td>\n",
              "      <td>0</td>\n",
              "      <td>0</td>\n",
              "      <td>1</td>\n",
              "      <td>0</td>\n",
              "    </tr>\n",
              "    <tr>\n",
              "      <th>5</th>\n",
              "      <td>9305-CDSKC</td>\n",
              "      <td>0</td>\n",
              "      <td>2</td>\n",
              "      <td>2</td>\n",
              "      <td>8</td>\n",
              "      <td>1</td>\n",
              "      <td>1</td>\n",
              "      <td>2</td>\n",
              "      <td>2</td>\n",
              "      <td>1</td>\n",
              "      <td>...</td>\n",
              "      <td>0</td>\n",
              "      <td>1</td>\n",
              "      <td>0</td>\n",
              "      <td>1</td>\n",
              "      <td>0</td>\n",
              "      <td>0</td>\n",
              "      <td>0</td>\n",
              "      <td>0</td>\n",
              "      <td>1</td>\n",
              "      <td>0</td>\n",
              "    </tr>\n",
              "    <tr>\n",
              "      <th>6</th>\n",
              "      <td>1452-KIOVK</td>\n",
              "      <td>0</td>\n",
              "      <td>2</td>\n",
              "      <td>1</td>\n",
              "      <td>22</td>\n",
              "      <td>1</td>\n",
              "      <td>1</td>\n",
              "      <td>2</td>\n",
              "      <td>1</td>\n",
              "      <td>2</td>\n",
              "      <td>...</td>\n",
              "      <td>0</td>\n",
              "      <td>1</td>\n",
              "      <td>0</td>\n",
              "      <td>1</td>\n",
              "      <td>0</td>\n",
              "      <td>0</td>\n",
              "      <td>0</td>\n",
              "      <td>1</td>\n",
              "      <td>0</td>\n",
              "      <td>0</td>\n",
              "    </tr>\n",
              "    <tr>\n",
              "      <th>7</th>\n",
              "      <td>6713-OKOMC</td>\n",
              "      <td>0</td>\n",
              "      <td>2</td>\n",
              "      <td>2</td>\n",
              "      <td>10</td>\n",
              "      <td>2</td>\n",
              "      <td>3</td>\n",
              "      <td>1</td>\n",
              "      <td>2</td>\n",
              "      <td>2</td>\n",
              "      <td>...</td>\n",
              "      <td>1</td>\n",
              "      <td>0</td>\n",
              "      <td>0</td>\n",
              "      <td>1</td>\n",
              "      <td>0</td>\n",
              "      <td>0</td>\n",
              "      <td>0</td>\n",
              "      <td>0</td>\n",
              "      <td>0</td>\n",
              "      <td>1</td>\n",
              "    </tr>\n",
              "    <tr>\n",
              "      <th>8</th>\n",
              "      <td>7892-POOKP</td>\n",
              "      <td>0</td>\n",
              "      <td>1</td>\n",
              "      <td>2</td>\n",
              "      <td>28</td>\n",
              "      <td>1</td>\n",
              "      <td>1</td>\n",
              "      <td>2</td>\n",
              "      <td>2</td>\n",
              "      <td>1</td>\n",
              "      <td>...</td>\n",
              "      <td>0</td>\n",
              "      <td>1</td>\n",
              "      <td>0</td>\n",
              "      <td>1</td>\n",
              "      <td>0</td>\n",
              "      <td>0</td>\n",
              "      <td>0</td>\n",
              "      <td>0</td>\n",
              "      <td>1</td>\n",
              "      <td>0</td>\n",
              "    </tr>\n",
              "    <tr>\n",
              "      <th>9</th>\n",
              "      <td>6388-TABGU</td>\n",
              "      <td>0</td>\n",
              "      <td>2</td>\n",
              "      <td>1</td>\n",
              "      <td>62</td>\n",
              "      <td>1</td>\n",
              "      <td>2</td>\n",
              "      <td>1</td>\n",
              "      <td>1</td>\n",
              "      <td>2</td>\n",
              "      <td>...</td>\n",
              "      <td>1</td>\n",
              "      <td>0</td>\n",
              "      <td>0</td>\n",
              "      <td>0</td>\n",
              "      <td>1</td>\n",
              "      <td>0</td>\n",
              "      <td>1</td>\n",
              "      <td>0</td>\n",
              "      <td>0</td>\n",
              "      <td>0</td>\n",
              "    </tr>\n",
              "  </tbody>\n",
              "</table>\n",
              "<p>10 rows × 29 columns</p>\n",
              "</div>\n",
              "      <button class=\"colab-df-convert\" onclick=\"convertToInteractive('df-e34d8011-e78f-4d45-a789-c92cf6952e1d')\"\n",
              "              title=\"Convert this dataframe to an interactive table.\"\n",
              "              style=\"display:none;\">\n",
              "        \n",
              "  <svg xmlns=\"http://www.w3.org/2000/svg\" height=\"24px\"viewBox=\"0 0 24 24\"\n",
              "       width=\"24px\">\n",
              "    <path d=\"M0 0h24v24H0V0z\" fill=\"none\"/>\n",
              "    <path d=\"M18.56 5.44l.94 2.06.94-2.06 2.06-.94-2.06-.94-.94-2.06-.94 2.06-2.06.94zm-11 1L8.5 8.5l.94-2.06 2.06-.94-2.06-.94L8.5 2.5l-.94 2.06-2.06.94zm10 10l.94 2.06.94-2.06 2.06-.94-2.06-.94-.94-2.06-.94 2.06-2.06.94z\"/><path d=\"M17.41 7.96l-1.37-1.37c-.4-.4-.92-.59-1.43-.59-.52 0-1.04.2-1.43.59L10.3 9.45l-7.72 7.72c-.78.78-.78 2.05 0 2.83L4 21.41c.39.39.9.59 1.41.59.51 0 1.02-.2 1.41-.59l7.78-7.78 2.81-2.81c.8-.78.8-2.07 0-2.86zM5.41 20L4 18.59l7.72-7.72 1.47 1.35L5.41 20z\"/>\n",
              "  </svg>\n",
              "      </button>\n",
              "      \n",
              "  <style>\n",
              "    .colab-df-container {\n",
              "      display:flex;\n",
              "      flex-wrap:wrap;\n",
              "      gap: 12px;\n",
              "    }\n",
              "\n",
              "    .colab-df-convert {\n",
              "      background-color: #E8F0FE;\n",
              "      border: none;\n",
              "      border-radius: 50%;\n",
              "      cursor: pointer;\n",
              "      display: none;\n",
              "      fill: #1967D2;\n",
              "      height: 32px;\n",
              "      padding: 0 0 0 0;\n",
              "      width: 32px;\n",
              "    }\n",
              "\n",
              "    .colab-df-convert:hover {\n",
              "      background-color: #E2EBFA;\n",
              "      box-shadow: 0px 1px 2px rgba(60, 64, 67, 0.3), 0px 1px 3px 1px rgba(60, 64, 67, 0.15);\n",
              "      fill: #174EA6;\n",
              "    }\n",
              "\n",
              "    [theme=dark] .colab-df-convert {\n",
              "      background-color: #3B4455;\n",
              "      fill: #D2E3FC;\n",
              "    }\n",
              "\n",
              "    [theme=dark] .colab-df-convert:hover {\n",
              "      background-color: #434B5C;\n",
              "      box-shadow: 0px 1px 3px 1px rgba(0, 0, 0, 0.15);\n",
              "      filter: drop-shadow(0px 1px 2px rgba(0, 0, 0, 0.3));\n",
              "      fill: #FFFFFF;\n",
              "    }\n",
              "  </style>\n",
              "\n",
              "      <script>\n",
              "        const buttonEl =\n",
              "          document.querySelector('#df-e34d8011-e78f-4d45-a789-c92cf6952e1d button.colab-df-convert');\n",
              "        buttonEl.style.display =\n",
              "          google.colab.kernel.accessAllowed ? 'block' : 'none';\n",
              "\n",
              "        async function convertToInteractive(key) {\n",
              "          const element = document.querySelector('#df-e34d8011-e78f-4d45-a789-c92cf6952e1d');\n",
              "          const dataTable =\n",
              "            await google.colab.kernel.invokeFunction('convertToInteractive',\n",
              "                                                     [key], {});\n",
              "          if (!dataTable) return;\n",
              "\n",
              "          const docLinkHtml = 'Like what you see? Visit the ' +\n",
              "            '<a target=\"_blank\" href=https://colab.research.google.com/notebooks/data_table.ipynb>data table notebook</a>'\n",
              "            + ' to learn more about interactive tables.';\n",
              "          element.innerHTML = '';\n",
              "          dataTable['output_type'] = 'display_data';\n",
              "          await google.colab.output.renderOutput(dataTable, element);\n",
              "          const docLink = document.createElement('div');\n",
              "          docLink.innerHTML = docLinkHtml;\n",
              "          element.appendChild(docLink);\n",
              "        }\n",
              "      </script>\n",
              "    </div>\n",
              "  </div>\n",
              "  "
            ]
          },
          "metadata": {},
          "execution_count": 91
        }
      ]
    },
    {
      "cell_type": "code",
      "source": [
        "df.info()"
      ],
      "metadata": {
        "colab": {
          "base_uri": "https://localhost:8080/"
        },
        "id": "6m1dUYwTRhNX",
        "outputId": "892f2eec-7757-45b5-d110-0f77f149366e"
      },
      "execution_count": null,
      "outputs": [
        {
          "output_type": "stream",
          "name": "stdout",
          "text": [
            "<class 'pandas.core.frame.DataFrame'>\n",
            "Int64Index: 7043 entries, 0 to 7042\n",
            "Data columns (total 29 columns):\n",
            " #   Column                                   Non-Null Count  Dtype   \n",
            "---  ------                                   --------------  -----   \n",
            " 0   customerID                               7043 non-null   object  \n",
            " 1   SeniorCitizen                            7043 non-null   int64   \n",
            " 2   Partner                                  7043 non-null   category\n",
            " 3   Dependents                               7043 non-null   category\n",
            " 4   tenure                                   7043 non-null   int64   \n",
            " 5   PhoneService                             7043 non-null   category\n",
            " 6   MultipleLines                            7043 non-null   category\n",
            " 7   OnlineSecurity                           7043 non-null   category\n",
            " 8   OnlineBackup                             7043 non-null   category\n",
            " 9   DeviceProtection                         7043 non-null   category\n",
            " 10  TechSupport                              7043 non-null   category\n",
            " 11  StreamingTV                              7043 non-null   category\n",
            " 12  StreamingMovies                          7043 non-null   category\n",
            " 13  PaperlessBilling                         7043 non-null   category\n",
            " 14  MonthlyCharges                           7043 non-null   float64 \n",
            " 15  TotalCharges                             7043 non-null   float64 \n",
            " 16  Churn                                    7043 non-null   category\n",
            " 17  gender_Female                            7043 non-null   uint8   \n",
            " 18  gender_Male                              7043 non-null   uint8   \n",
            " 19  InternetService_DSL                      7043 non-null   uint8   \n",
            " 20  InternetService_Fiber optic              7043 non-null   uint8   \n",
            " 21  InternetService_No                       7043 non-null   uint8   \n",
            " 22  Contract_Month-to-month                  7043 non-null   uint8   \n",
            " 23  Contract_One year                        7043 non-null   uint8   \n",
            " 24  Contract_Two year                        7043 non-null   uint8   \n",
            " 25  PaymentMethod_Bank transfer (automatic)  7043 non-null   uint8   \n",
            " 26  PaymentMethod_Credit card (automatic)    7043 non-null   uint8   \n",
            " 27  PaymentMethod_Electronic check           7043 non-null   uint8   \n",
            " 28  PaymentMethod_Mailed check               7043 non-null   uint8   \n",
            "dtypes: category(12), float64(2), int64(2), object(1), uint8(12)\n",
            "memory usage: 496.7+ KB\n"
          ]
        }
      ]
    },
    {
      "cell_type": "code",
      "source": [
        "# To change the datatypes of the following features: 'Partner','Dependents','PhoneService','MultipleLines','OnilneSecurity','OnlineBackup','DeviceProtection','TechSupport','StreamingTV','StreamingMovies','PaperlessBilling','Churn' to 'int/float'.\n",
        "\n",
        "lst_key = ['Partner','Dependents','PhoneService','MultipleLines','OnlineSecurity','OnlineBackup','DeviceProtection','TechSupport','StreamingTV','StreamingMovies','PaperlessBilling','Churn']\n",
        "lst_val = ['int64']*len(lst_key)"
      ],
      "metadata": {
        "id": "EX01BPYSRhYz"
      },
      "execution_count": null,
      "outputs": []
    },
    {
      "cell_type": "code",
      "source": [
        "data_dict = {lst_key[i]: lst_val[i] for i in range(len(lst_key))}"
      ],
      "metadata": {
        "id": "qdBU-XooTrSF"
      },
      "execution_count": null,
      "outputs": []
    },
    {
      "cell_type": "code",
      "source": [
        "data_dict"
      ],
      "metadata": {
        "colab": {
          "base_uri": "https://localhost:8080/"
        },
        "id": "OfzKow7FTrhv",
        "outputId": "a3bd3108-5d17-41a3-f4d1-26458b0420c2"
      },
      "execution_count": null,
      "outputs": [
        {
          "output_type": "execute_result",
          "data": {
            "text/plain": [
              "{'Partner': 'int64',\n",
              " 'Dependents': 'int64',\n",
              " 'PhoneService': 'int64',\n",
              " 'MultipleLines': 'int64',\n",
              " 'OnlineSecurity': 'int64',\n",
              " 'OnlineBackup': 'int64',\n",
              " 'DeviceProtection': 'int64',\n",
              " 'TechSupport': 'int64',\n",
              " 'StreamingTV': 'int64',\n",
              " 'StreamingMovies': 'int64',\n",
              " 'PaperlessBilling': 'int64',\n",
              " 'Churn': 'int64'}"
            ]
          },
          "metadata": {},
          "execution_count": 95
        }
      ]
    },
    {
      "cell_type": "code",
      "source": [
        "df_new = df.astype(data_dict) # To change the datatype 'int64' to 'object'for the above 11 features"
      ],
      "metadata": {
        "id": "zf3pgNBRVYmh"
      },
      "execution_count": null,
      "outputs": []
    },
    {
      "cell_type": "code",
      "source": [
        "df_new.dtypes # To get the individual feature data type"
      ],
      "metadata": {
        "colab": {
          "base_uri": "https://localhost:8080/"
        },
        "id": "JWPSp2vdVhxK",
        "outputId": "5c3439fb-c0e2-4053-83ea-a830f302b927"
      },
      "execution_count": null,
      "outputs": [
        {
          "output_type": "execute_result",
          "data": {
            "text/plain": [
              "customerID                                  object\n",
              "SeniorCitizen                                int64\n",
              "Partner                                      int64\n",
              "Dependents                                   int64\n",
              "tenure                                       int64\n",
              "PhoneService                                 int64\n",
              "MultipleLines                                int64\n",
              "OnlineSecurity                               int64\n",
              "OnlineBackup                                 int64\n",
              "DeviceProtection                             int64\n",
              "TechSupport                                  int64\n",
              "StreamingTV                                  int64\n",
              "StreamingMovies                              int64\n",
              "PaperlessBilling                             int64\n",
              "MonthlyCharges                             float64\n",
              "TotalCharges                               float64\n",
              "Churn                                        int64\n",
              "gender_Female                                uint8\n",
              "gender_Male                                  uint8\n",
              "InternetService_DSL                          uint8\n",
              "InternetService_Fiber optic                  uint8\n",
              "InternetService_No                           uint8\n",
              "Contract_Month-to-month                      uint8\n",
              "Contract_One year                            uint8\n",
              "Contract_Two year                            uint8\n",
              "PaymentMethod_Bank transfer (automatic)      uint8\n",
              "PaymentMethod_Credit card (automatic)        uint8\n",
              "PaymentMethod_Electronic check               uint8\n",
              "PaymentMethod_Mailed check                   uint8\n",
              "dtype: object"
            ]
          },
          "metadata": {},
          "execution_count": 97
        }
      ]
    },
    {
      "cell_type": "code",
      "source": [
        "df_new.drop('customerID', inplace = True, axis=1) # To drop the 'customerID' feature from the dataframe"
      ],
      "metadata": {
        "id": "hbp1qvHwu2cc"
      },
      "execution_count": null,
      "outputs": []
    },
    {
      "cell_type": "code",
      "source": [
        "df_new.head() # To fetch the first 5 rows of the dataframe"
      ],
      "metadata": {
        "colab": {
          "base_uri": "https://localhost:8080/",
          "height": 334
        },
        "id": "tMKUO6bwvZd1",
        "outputId": "04eea39d-5436-4b01-eace-cf784fd9bffd"
      },
      "execution_count": null,
      "outputs": [
        {
          "output_type": "execute_result",
          "data": {
            "text/plain": [
              "   SeniorCitizen  Partner  Dependents  tenure  PhoneService  MultipleLines  \\\n",
              "0              0        1           2       1             2              3   \n",
              "1              0        2           2      34             1              2   \n",
              "2              0        2           2       2             1              2   \n",
              "3              0        2           2      45             2              3   \n",
              "4              0        2           2       2             1              2   \n",
              "\n",
              "   OnlineSecurity  OnlineBackup  DeviceProtection  TechSupport  ...  \\\n",
              "0               2             1                 2            2  ...   \n",
              "1               1             2                 1            2  ...   \n",
              "2               1             1                 2            2  ...   \n",
              "3               1             2                 1            1  ...   \n",
              "4               2             2                 2            2  ...   \n",
              "\n",
              "   InternetService_DSL  InternetService_Fiber optic  InternetService_No  \\\n",
              "0                    1                            0                   0   \n",
              "1                    1                            0                   0   \n",
              "2                    1                            0                   0   \n",
              "3                    1                            0                   0   \n",
              "4                    0                            1                   0   \n",
              "\n",
              "   Contract_Month-to-month  Contract_One year  Contract_Two year  \\\n",
              "0                        1                  0                  0   \n",
              "1                        0                  1                  0   \n",
              "2                        1                  0                  0   \n",
              "3                        0                  1                  0   \n",
              "4                        1                  0                  0   \n",
              "\n",
              "   PaymentMethod_Bank transfer (automatic)  \\\n",
              "0                                        0   \n",
              "1                                        0   \n",
              "2                                        0   \n",
              "3                                        1   \n",
              "4                                        0   \n",
              "\n",
              "   PaymentMethod_Credit card (automatic)  PaymentMethod_Electronic check  \\\n",
              "0                                      0                               1   \n",
              "1                                      0                               0   \n",
              "2                                      0                               0   \n",
              "3                                      0                               0   \n",
              "4                                      0                               1   \n",
              "\n",
              "   PaymentMethod_Mailed check  \n",
              "0                           0  \n",
              "1                           1  \n",
              "2                           1  \n",
              "3                           0  \n",
              "4                           0  \n",
              "\n",
              "[5 rows x 28 columns]"
            ],
            "text/html": [
              "\n",
              "  <div id=\"df-c98c1659-fa71-4b78-b7ce-956261afb9c8\">\n",
              "    <div class=\"colab-df-container\">\n",
              "      <div>\n",
              "<style scoped>\n",
              "    .dataframe tbody tr th:only-of-type {\n",
              "        vertical-align: middle;\n",
              "    }\n",
              "\n",
              "    .dataframe tbody tr th {\n",
              "        vertical-align: top;\n",
              "    }\n",
              "\n",
              "    .dataframe thead th {\n",
              "        text-align: right;\n",
              "    }\n",
              "</style>\n",
              "<table border=\"1\" class=\"dataframe\">\n",
              "  <thead>\n",
              "    <tr style=\"text-align: right;\">\n",
              "      <th></th>\n",
              "      <th>SeniorCitizen</th>\n",
              "      <th>Partner</th>\n",
              "      <th>Dependents</th>\n",
              "      <th>tenure</th>\n",
              "      <th>PhoneService</th>\n",
              "      <th>MultipleLines</th>\n",
              "      <th>OnlineSecurity</th>\n",
              "      <th>OnlineBackup</th>\n",
              "      <th>DeviceProtection</th>\n",
              "      <th>TechSupport</th>\n",
              "      <th>...</th>\n",
              "      <th>InternetService_DSL</th>\n",
              "      <th>InternetService_Fiber optic</th>\n",
              "      <th>InternetService_No</th>\n",
              "      <th>Contract_Month-to-month</th>\n",
              "      <th>Contract_One year</th>\n",
              "      <th>Contract_Two year</th>\n",
              "      <th>PaymentMethod_Bank transfer (automatic)</th>\n",
              "      <th>PaymentMethod_Credit card (automatic)</th>\n",
              "      <th>PaymentMethod_Electronic check</th>\n",
              "      <th>PaymentMethod_Mailed check</th>\n",
              "    </tr>\n",
              "  </thead>\n",
              "  <tbody>\n",
              "    <tr>\n",
              "      <th>0</th>\n",
              "      <td>0</td>\n",
              "      <td>1</td>\n",
              "      <td>2</td>\n",
              "      <td>1</td>\n",
              "      <td>2</td>\n",
              "      <td>3</td>\n",
              "      <td>2</td>\n",
              "      <td>1</td>\n",
              "      <td>2</td>\n",
              "      <td>2</td>\n",
              "      <td>...</td>\n",
              "      <td>1</td>\n",
              "      <td>0</td>\n",
              "      <td>0</td>\n",
              "      <td>1</td>\n",
              "      <td>0</td>\n",
              "      <td>0</td>\n",
              "      <td>0</td>\n",
              "      <td>0</td>\n",
              "      <td>1</td>\n",
              "      <td>0</td>\n",
              "    </tr>\n",
              "    <tr>\n",
              "      <th>1</th>\n",
              "      <td>0</td>\n",
              "      <td>2</td>\n",
              "      <td>2</td>\n",
              "      <td>34</td>\n",
              "      <td>1</td>\n",
              "      <td>2</td>\n",
              "      <td>1</td>\n",
              "      <td>2</td>\n",
              "      <td>1</td>\n",
              "      <td>2</td>\n",
              "      <td>...</td>\n",
              "      <td>1</td>\n",
              "      <td>0</td>\n",
              "      <td>0</td>\n",
              "      <td>0</td>\n",
              "      <td>1</td>\n",
              "      <td>0</td>\n",
              "      <td>0</td>\n",
              "      <td>0</td>\n",
              "      <td>0</td>\n",
              "      <td>1</td>\n",
              "    </tr>\n",
              "    <tr>\n",
              "      <th>2</th>\n",
              "      <td>0</td>\n",
              "      <td>2</td>\n",
              "      <td>2</td>\n",
              "      <td>2</td>\n",
              "      <td>1</td>\n",
              "      <td>2</td>\n",
              "      <td>1</td>\n",
              "      <td>1</td>\n",
              "      <td>2</td>\n",
              "      <td>2</td>\n",
              "      <td>...</td>\n",
              "      <td>1</td>\n",
              "      <td>0</td>\n",
              "      <td>0</td>\n",
              "      <td>1</td>\n",
              "      <td>0</td>\n",
              "      <td>0</td>\n",
              "      <td>0</td>\n",
              "      <td>0</td>\n",
              "      <td>0</td>\n",
              "      <td>1</td>\n",
              "    </tr>\n",
              "    <tr>\n",
              "      <th>3</th>\n",
              "      <td>0</td>\n",
              "      <td>2</td>\n",
              "      <td>2</td>\n",
              "      <td>45</td>\n",
              "      <td>2</td>\n",
              "      <td>3</td>\n",
              "      <td>1</td>\n",
              "      <td>2</td>\n",
              "      <td>1</td>\n",
              "      <td>1</td>\n",
              "      <td>...</td>\n",
              "      <td>1</td>\n",
              "      <td>0</td>\n",
              "      <td>0</td>\n",
              "      <td>0</td>\n",
              "      <td>1</td>\n",
              "      <td>0</td>\n",
              "      <td>1</td>\n",
              "      <td>0</td>\n",
              "      <td>0</td>\n",
              "      <td>0</td>\n",
              "    </tr>\n",
              "    <tr>\n",
              "      <th>4</th>\n",
              "      <td>0</td>\n",
              "      <td>2</td>\n",
              "      <td>2</td>\n",
              "      <td>2</td>\n",
              "      <td>1</td>\n",
              "      <td>2</td>\n",
              "      <td>2</td>\n",
              "      <td>2</td>\n",
              "      <td>2</td>\n",
              "      <td>2</td>\n",
              "      <td>...</td>\n",
              "      <td>0</td>\n",
              "      <td>1</td>\n",
              "      <td>0</td>\n",
              "      <td>1</td>\n",
              "      <td>0</td>\n",
              "      <td>0</td>\n",
              "      <td>0</td>\n",
              "      <td>0</td>\n",
              "      <td>1</td>\n",
              "      <td>0</td>\n",
              "    </tr>\n",
              "  </tbody>\n",
              "</table>\n",
              "<p>5 rows × 28 columns</p>\n",
              "</div>\n",
              "      <button class=\"colab-df-convert\" onclick=\"convertToInteractive('df-c98c1659-fa71-4b78-b7ce-956261afb9c8')\"\n",
              "              title=\"Convert this dataframe to an interactive table.\"\n",
              "              style=\"display:none;\">\n",
              "        \n",
              "  <svg xmlns=\"http://www.w3.org/2000/svg\" height=\"24px\"viewBox=\"0 0 24 24\"\n",
              "       width=\"24px\">\n",
              "    <path d=\"M0 0h24v24H0V0z\" fill=\"none\"/>\n",
              "    <path d=\"M18.56 5.44l.94 2.06.94-2.06 2.06-.94-2.06-.94-.94-2.06-.94 2.06-2.06.94zm-11 1L8.5 8.5l.94-2.06 2.06-.94-2.06-.94L8.5 2.5l-.94 2.06-2.06.94zm10 10l.94 2.06.94-2.06 2.06-.94-2.06-.94-.94-2.06-.94 2.06-2.06.94z\"/><path d=\"M17.41 7.96l-1.37-1.37c-.4-.4-.92-.59-1.43-.59-.52 0-1.04.2-1.43.59L10.3 9.45l-7.72 7.72c-.78.78-.78 2.05 0 2.83L4 21.41c.39.39.9.59 1.41.59.51 0 1.02-.2 1.41-.59l7.78-7.78 2.81-2.81c.8-.78.8-2.07 0-2.86zM5.41 20L4 18.59l7.72-7.72 1.47 1.35L5.41 20z\"/>\n",
              "  </svg>\n",
              "      </button>\n",
              "      \n",
              "  <style>\n",
              "    .colab-df-container {\n",
              "      display:flex;\n",
              "      flex-wrap:wrap;\n",
              "      gap: 12px;\n",
              "    }\n",
              "\n",
              "    .colab-df-convert {\n",
              "      background-color: #E8F0FE;\n",
              "      border: none;\n",
              "      border-radius: 50%;\n",
              "      cursor: pointer;\n",
              "      display: none;\n",
              "      fill: #1967D2;\n",
              "      height: 32px;\n",
              "      padding: 0 0 0 0;\n",
              "      width: 32px;\n",
              "    }\n",
              "\n",
              "    .colab-df-convert:hover {\n",
              "      background-color: #E2EBFA;\n",
              "      box-shadow: 0px 1px 2px rgba(60, 64, 67, 0.3), 0px 1px 3px 1px rgba(60, 64, 67, 0.15);\n",
              "      fill: #174EA6;\n",
              "    }\n",
              "\n",
              "    [theme=dark] .colab-df-convert {\n",
              "      background-color: #3B4455;\n",
              "      fill: #D2E3FC;\n",
              "    }\n",
              "\n",
              "    [theme=dark] .colab-df-convert:hover {\n",
              "      background-color: #434B5C;\n",
              "      box-shadow: 0px 1px 3px 1px rgba(0, 0, 0, 0.15);\n",
              "      filter: drop-shadow(0px 1px 2px rgba(0, 0, 0, 0.3));\n",
              "      fill: #FFFFFF;\n",
              "    }\n",
              "  </style>\n",
              "\n",
              "      <script>\n",
              "        const buttonEl =\n",
              "          document.querySelector('#df-c98c1659-fa71-4b78-b7ce-956261afb9c8 button.colab-df-convert');\n",
              "        buttonEl.style.display =\n",
              "          google.colab.kernel.accessAllowed ? 'block' : 'none';\n",
              "\n",
              "        async function convertToInteractive(key) {\n",
              "          const element = document.querySelector('#df-c98c1659-fa71-4b78-b7ce-956261afb9c8');\n",
              "          const dataTable =\n",
              "            await google.colab.kernel.invokeFunction('convertToInteractive',\n",
              "                                                     [key], {});\n",
              "          if (!dataTable) return;\n",
              "\n",
              "          const docLinkHtml = 'Like what you see? Visit the ' +\n",
              "            '<a target=\"_blank\" href=https://colab.research.google.com/notebooks/data_table.ipynb>data table notebook</a>'\n",
              "            + ' to learn more about interactive tables.';\n",
              "          element.innerHTML = '';\n",
              "          dataTable['output_type'] = 'display_data';\n",
              "          await google.colab.output.renderOutput(dataTable, element);\n",
              "          const docLink = document.createElement('div');\n",
              "          docLink.innerHTML = docLinkHtml;\n",
              "          element.appendChild(docLink);\n",
              "        }\n",
              "      </script>\n",
              "    </div>\n",
              "  </div>\n",
              "  "
            ]
          },
          "metadata": {},
          "execution_count": 99
        }
      ]
    },
    {
      "cell_type": "markdown",
      "source": [
        "**Data Preparation**"
      ],
      "metadata": {
        "id": "gsL9zN5dw0OF"
      }
    },
    {
      "cell_type": "code",
      "source": [
        "# To split data into X and Y\n",
        "# Create a separate dataframe consisting only of the features i.e independent attributes\n",
        "X = df_new.drop('Churn',axis=1) # To drop 'Churn' feature\n",
        "y = df_new['Churn']"
      ],
      "metadata": {
        "id": "NwgtJGU8woya"
      },
      "execution_count": null,
      "outputs": []
    },
    {
      "cell_type": "code",
      "source": [
        "# To split data into train and test with 80:20 proportion\n",
        "x_train, x_test, y_train, y_test = train_test_split(X,y,random_state = 90,test_size=0.2)"
      ],
      "metadata": {
        "id": "0LgbHt57v6Jn"
      },
      "execution_count": null,
      "outputs": []
    },
    {
      "cell_type": "code",
      "source": [
        "# To Standardise/Normalize the data\n",
        "\n",
        "from sklearn.preprocessing import StandardScaler\n",
        "\n",
        "sc = StandardScaler()\n",
        "x_train = sc.fit_transform(x_train)\n",
        "x_test = sc.transform(x_test)"
      ],
      "metadata": {
        "id": "YrKO2CnRXhnm"
      },
      "execution_count": null,
      "outputs": []
    },
    {
      "cell_type": "code",
      "source": [
        "import time # To use the time functions\n",
        "def classify(classifier): # Using def for classifying the all classifiers models\n",
        "    classifier.fit(x_train,y_train) # To fit the classifier model\n",
        "    pred_train = classifier.predict(x_train) # To get the predicted value for train data of the classifier model\n",
        "    pred_test = classifier.predict(x_test) # To get the predicted value for test data of the classifier model\n",
        "    print('Training Performace')\n",
        "    print(classification_report(y_train,pred_train))\n",
        "    print('*'*50)\n",
        "    print('Testing Performace')\n",
        "    print(classification_report(y_test,pred_test))\n",
        "    start_time = time.time()  # To get the number of seconds that have passed since the epoch or the current time passed since the epoch in seconds\n",
        "    print(\"------%s seconds------\" %(time.time() - start_time))"
      ],
      "metadata": {
        "id": "5XS_4RcPr_FA"
      },
      "execution_count": null,
      "outputs": []
    },
    {
      "cell_type": "code",
      "source": [
        "# a) Using RandonForest Classifier\n",
        "rf = RandomForestClassifier()\n",
        "classify(rf)"
      ],
      "metadata": {
        "colab": {
          "base_uri": "https://localhost:8080/"
        },
        "id": "Q86zSZ1kxWAD",
        "outputId": "8f9dc6bc-0f50-45a5-cf66-88e36324385b"
      },
      "execution_count": null,
      "outputs": [
        {
          "output_type": "stream",
          "name": "stdout",
          "text": [
            "Training Performace\n",
            "              precision    recall  f1-score   support\n",
            "\n",
            "           0       1.00      1.00      1.00      4126\n",
            "           1       1.00      1.00      1.00      1508\n",
            "\n",
            "    accuracy                           1.00      5634\n",
            "   macro avg       1.00      1.00      1.00      5634\n",
            "weighted avg       1.00      1.00      1.00      5634\n",
            "\n",
            "**************************************************\n",
            "Testing Performace\n",
            "              precision    recall  f1-score   support\n",
            "\n",
            "           0       0.84      0.88      0.86      1048\n",
            "           1       0.60      0.52      0.56       361\n",
            "\n",
            "    accuracy                           0.79      1409\n",
            "   macro avg       0.72      0.70      0.71      1409\n",
            "weighted avg       0.78      0.79      0.78      1409\n",
            "\n",
            "------7.152557373046875e-07 seconds------\n"
          ]
        }
      ]
    },
    {
      "cell_type": "markdown",
      "source": [
        "**Observations for Random Forest Classifier**\n",
        "*   Training Accuracy is 100%.\n",
        "*   Testing Accuracy is 79%.\n",
        "*   As Training Accuracy is equals to 100% leads to the model overfitting.\n",
        "\n",
        "\n",
        "\n",
        "\n"
      ],
      "metadata": {
        "id": "aq5ax21mDoqL"
      }
    },
    {
      "cell_type": "code",
      "source": [
        "# b) Using LogisticRegression Classifier\n",
        "Lr = LogisticRegression()\n",
        "classify(Lr)"
      ],
      "metadata": {
        "colab": {
          "base_uri": "https://localhost:8080/"
        },
        "id": "qucy1TabXZfy",
        "outputId": "dbcc5e56-b8cc-43d1-ffc0-24e1776c6ddf"
      },
      "execution_count": null,
      "outputs": [
        {
          "output_type": "stream",
          "name": "stdout",
          "text": [
            "Training Performace\n",
            "              precision    recall  f1-score   support\n",
            "\n",
            "           0       0.85      0.90      0.87      4126\n",
            "           1       0.66      0.56      0.61      1508\n",
            "\n",
            "    accuracy                           0.81      5634\n",
            "   macro avg       0.76      0.73      0.74      5634\n",
            "weighted avg       0.80      0.81      0.80      5634\n",
            "\n",
            "**************************************************\n",
            "Testing Performace\n",
            "              precision    recall  f1-score   support\n",
            "\n",
            "           0       0.86      0.89      0.88      1048\n",
            "           1       0.65      0.58      0.61       361\n",
            "\n",
            "    accuracy                           0.81      1409\n",
            "   macro avg       0.75      0.74      0.74      1409\n",
            "weighted avg       0.81      0.81      0.81      1409\n",
            "\n",
            "------4.76837158203125e-07 seconds------\n"
          ]
        }
      ]
    },
    {
      "cell_type": "markdown",
      "source": [
        "**Observations for LogisticRegression Classifier**\n",
        "*   Training Accuracy is 81%.\n",
        "*   Testing Accuracy is 81%.\n",
        "*   As both Training & Testing Accuracy are almost equal leads to good fit with good outcome and model stable."
      ],
      "metadata": {
        "id": "AjSOJZNuFEje"
      }
    },
    {
      "cell_type": "code",
      "source": [
        "# c) Using KNeighbors Classifier\n",
        "Knn = KNeighborsClassifier()\n",
        "classify(Knn)"
      ],
      "metadata": {
        "colab": {
          "base_uri": "https://localhost:8080/"
        },
        "id": "RK11oL1VSqnG",
        "outputId": "557f29c1-177c-46db-f321-23b3bc1404ff"
      },
      "execution_count": null,
      "outputs": [
        {
          "output_type": "stream",
          "name": "stdout",
          "text": [
            "Training Performace\n",
            "              precision    recall  f1-score   support\n",
            "\n",
            "           0       0.88      0.90      0.89      4126\n",
            "           1       0.70      0.65      0.68      1508\n",
            "\n",
            "    accuracy                           0.83      5634\n",
            "   macro avg       0.79      0.78      0.78      5634\n",
            "weighted avg       0.83      0.83      0.83      5634\n",
            "\n",
            "**************************************************\n",
            "Testing Performace\n",
            "              precision    recall  f1-score   support\n",
            "\n",
            "           0       0.85      0.84      0.84      1048\n",
            "           1       0.55      0.56      0.55       361\n",
            "\n",
            "    accuracy                           0.77      1409\n",
            "   macro avg       0.70      0.70      0.70      1409\n",
            "weighted avg       0.77      0.77      0.77      1409\n",
            "\n",
            "------2.384185791015625e-07 seconds------\n"
          ]
        }
      ]
    },
    {
      "cell_type": "markdown",
      "source": [
        "**Observations for KNeighbors Classifier**\n",
        "*   Training Accuracy is 83%.\n",
        "*   Testing Accuracy is 77%.\n",
        "*   As Training Accuracy is morethan the Testing Accuracy leads the model to perform slightly better on the training data for making predictions i.e good fit."
      ],
      "metadata": {
        "id": "4o5YApm6GnZO"
      }
    },
    {
      "cell_type": "code",
      "source": [
        "# d) Using SVM Classifier\n",
        "svm = SVC()\n",
        "classify(svm)"
      ],
      "metadata": {
        "colab": {
          "base_uri": "https://localhost:8080/"
        },
        "id": "jAhvU2JeXi9k",
        "outputId": "a4ce6e14-3213-4592-dec1-2847536483f2"
      },
      "execution_count": null,
      "outputs": [
        {
          "output_type": "stream",
          "name": "stdout",
          "text": [
            "Training Performace\n",
            "              precision    recall  f1-score   support\n",
            "\n",
            "           0       0.85      0.91      0.88      4126\n",
            "           1       0.70      0.54      0.61      1508\n",
            "\n",
            "    accuracy                           0.81      5634\n",
            "   macro avg       0.77      0.73      0.74      5634\n",
            "weighted avg       0.81      0.81      0.81      5634\n",
            "\n",
            "**************************************************\n",
            "Testing Performace\n",
            "              precision    recall  f1-score   support\n",
            "\n",
            "           0       0.85      0.90      0.87      1048\n",
            "           1       0.65      0.54      0.59       361\n",
            "\n",
            "    accuracy                           0.81      1409\n",
            "   macro avg       0.75      0.72      0.73      1409\n",
            "weighted avg       0.80      0.81      0.80      1409\n",
            "\n",
            "------4.76837158203125e-07 seconds------\n"
          ]
        }
      ]
    },
    {
      "cell_type": "markdown",
      "source": [
        "**Observations for SVM Classifier**\n",
        "*   Training Accuracy is 81%.\n",
        "*   Testing Accuracy is 81%.\n",
        "*   As both Training & Testing Accuracy are equal leads to good fit with good outcome and model stable."
      ],
      "metadata": {
        "id": "X-MLgZhkJp4R"
      }
    },
    {
      "cell_type": "code",
      "source": [
        "# e) Using XBGClassifier default parameters: 'max_depth':3, 'learning_rate':0.1,'n_estimators':100,'silent':True,'objective':\"binary:logistic\",nthread':1,'gamma':0, 'min_child_weight':1,\n",
        "                                    #'max_delta_step':0, 'subsample':1, 'colsample_bytree':1, 'colsample_bylevel':1,'reg_alpha':0, 'reg_lambda':1, 'scale_pos_weight':1,'base_score':0.5, 'seed':0, 'missing':None\n",
        "xbg = XGBClassifier()\n",
        "classify(xbg)\n",
        ""
      ],
      "metadata": {
        "colab": {
          "base_uri": "https://localhost:8080/"
        },
        "id": "2rwSf-AKXok7",
        "outputId": "9d4d4327-2e32-46ab-be01-a236e6138638"
      },
      "execution_count": null,
      "outputs": [
        {
          "output_type": "stream",
          "name": "stdout",
          "text": [
            "Training Performace\n",
            "              precision    recall  f1-score   support\n",
            "\n",
            "           0       0.95      0.97      0.96      4126\n",
            "           1       0.91      0.86      0.88      1508\n",
            "\n",
            "    accuracy                           0.94      5634\n",
            "   macro avg       0.93      0.91      0.92      5634\n",
            "weighted avg       0.94      0.94      0.94      5634\n",
            "\n",
            "**************************************************\n",
            "Testing Performace\n",
            "              precision    recall  f1-score   support\n",
            "\n",
            "           0       0.85      0.89      0.87      1048\n",
            "           1       0.62      0.55      0.58       361\n",
            "\n",
            "    accuracy                           0.80      1409\n",
            "   macro avg       0.74      0.72      0.73      1409\n",
            "weighted avg       0.79      0.80      0.80      1409\n",
            "\n",
            "------2.384185791015625e-07 seconds------\n"
          ]
        }
      ]
    },
    {
      "cell_type": "markdown",
      "source": [
        "**Observations for XBG Classifier**\n",
        "*   Training Accuracy is 94%.\n",
        "*   Testing Accuracy is 80%.\n",
        "*   As Training Accuracy is too morethan the Testing Accuracy leads the model to perform better on the training data for making predictions but with less meaningful differences between the trained data of the model and the testing data provided.\n",
        "Hence, need to improve the performance using Tuning Parameters so that to make model with good fit."
      ],
      "metadata": {
        "id": "ZKAzGkvVtRgQ"
      }
    },
    {
      "cell_type": "markdown",
      "source": [
        "**Performance Improvement:**"
      ],
      "metadata": {
        "id": "9uZRGAlUtR_a"
      }
    },
    {
      "cell_type": "markdown",
      "source": [
        "**Tuning Parameters**"
      ],
      "metadata": {
        "id": "nxA4-9Mz3YuK"
      }
    },
    {
      "cell_type": "code",
      "source": [
        "# To tune the XGBClassifier model with few parameters - eta=0.3, n_estimators=140, min_child_weight=2, max_depth= 5, gamma=0\n",
        "xbg = XGBClassifier(eta=0.3, n_estimators=140, min_child_weight=2, max_depth= 5, gamma=0)\n",
        "classify(xbg)"
      ],
      "metadata": {
        "colab": {
          "base_uri": "https://localhost:8080/"
        },
        "id": "UVY5vvSEt4Cu",
        "outputId": "2a590d62-ad25-409f-c194-2248d47339c4"
      },
      "execution_count": null,
      "outputs": [
        {
          "output_type": "stream",
          "name": "stdout",
          "text": [
            "Training Performace\n",
            "              precision    recall  f1-score   support\n",
            "\n",
            "           0       0.93      0.97      0.95      4126\n",
            "           1       0.89      0.81      0.85      1508\n",
            "\n",
            "    accuracy                           0.92      5634\n",
            "   macro avg       0.91      0.89      0.90      5634\n",
            "weighted avg       0.92      0.92      0.92      5634\n",
            "\n",
            "**************************************************\n",
            "Testing Performace\n",
            "              precision    recall  f1-score   support\n",
            "\n",
            "           0       0.85      0.89      0.87      1048\n",
            "           1       0.62      0.54      0.58       361\n",
            "\n",
            "    accuracy                           0.80      1409\n",
            "   macro avg       0.73      0.71      0.72      1409\n",
            "weighted avg       0.79      0.80      0.79      1409\n",
            "\n",
            "------4.76837158203125e-07 seconds------\n"
          ]
        }
      ]
    },
    {
      "cell_type": "markdown",
      "source": [
        "**Observations for XBG Classifier after tuning with eta=0.3, n_estimators=140, min_child_weight=2, max_depth= 5, gamma=0**\n",
        "*   Training Accuracy is 92%.\n",
        "*   Testing Accuracy is 80%.\n",
        "*   As Training Accuracy is too morethan the Testing Accuracy leads the model to perform better on the training data for making predictions but with less meaningful differences between the data trained and the testing data provided.\n",
        "Hence, need to improve the performance using few more Tuning Parameters so that to make model with good fit."
      ],
      "metadata": {
        "id": "WuU0_DTrFTfz"
      }
    },
    {
      "cell_type": "markdown",
      "source": [
        "**A) Using RandomSearch**"
      ],
      "metadata": {
        "id": "M9elwVvN-68B"
      }
    },
    {
      "cell_type": "code",
      "source": [
        "%%time\n",
        "model = XGBClassifier()\n",
        "param = {\n",
        "    'learning_rate': uniform(.05, .1)\n",
        "    , 'subsample': uniform(.2, .3)\n",
        "    , 'n_estimators': randint(20, 70)\n",
        "    , 'min_child_weight': randint(20, 40)\n",
        "    , 'reg_alpha': uniform(0, .7)\n",
        "    , 'reg_lambda': uniform(0, .7)\n",
        "    , 'colsample_bytree': uniform(.1, .7)\n",
        "    , 'max_depth': randint(2, 6)\n",
        "}\n",
        "\n",
        "randomsearch = RandomizedSearchCV(model, param_distributions=param, n_iter=30, n_jobs=-1, scoring='accuracy', return_train_score=True)\n",
        "\n",
        "randomsearch.fit(x_train, y_train) # To fit the model\n",
        "print('best score of Randomized Search over 10 iterations:', randomsearch.best_score_)"
      ],
      "metadata": {
        "colab": {
          "base_uri": "https://localhost:8080/"
        },
        "id": "s1X2rq88-8mr",
        "outputId": "e85217ce-b33d-45e1-d919-5340e50244e8"
      },
      "execution_count": null,
      "outputs": [
        {
          "output_type": "stream",
          "name": "stdout",
          "text": [
            "best score of Randomized Search over 10 iterations: 0.8045799770213128\n",
            "CPU times: user 643 ms, sys: 43.4 ms, total: 686 ms\n",
            "Wall time: 14.5 s\n"
          ]
        }
      ]
    },
    {
      "cell_type": "code",
      "source": [
        "for k,v in (randomsearch.best_params_).items():\n",
        "    print(\"Best value for {0} is {1:.2f}\".format(k,v))\n",
        "    print('-'*50)"
      ],
      "metadata": {
        "colab": {
          "base_uri": "https://localhost:8080/"
        },
        "id": "pD3rCp9O-87a",
        "outputId": "c585b9c3-ca90-4c72-94d9-7b107932b9af"
      },
      "execution_count": null,
      "outputs": [
        {
          "output_type": "stream",
          "name": "stdout",
          "text": [
            "Best value for colsample_bytree is 0.75\n",
            "--------------------------------------------------\n",
            "Best value for learning_rate is 0.14\n",
            "--------------------------------------------------\n",
            "Best value for max_depth is 3.00\n",
            "--------------------------------------------------\n",
            "Best value for min_child_weight is 28.00\n",
            "--------------------------------------------------\n",
            "Best value for n_estimators is 55.00\n",
            "--------------------------------------------------\n",
            "Best value for reg_alpha is 0.07\n",
            "--------------------------------------------------\n",
            "Best value for reg_lambda is 0.28\n",
            "--------------------------------------------------\n",
            "Best value for subsample is 0.35\n",
            "--------------------------------------------------\n"
          ]
        }
      ]
    },
    {
      "cell_type": "code",
      "source": [
        "rs_pred = randomsearch.predict(x_test) # To get the predicted value of test data\n",
        "print(classification_report(y_test,rs_pred)) # To print classification report for test data"
      ],
      "metadata": {
        "colab": {
          "base_uri": "https://localhost:8080/"
        },
        "id": "7RvqhEO3_9bm",
        "outputId": "d1c15d7a-e1ab-4f37-e57c-93df55e68d04"
      },
      "execution_count": null,
      "outputs": [
        {
          "output_type": "stream",
          "name": "stdout",
          "text": [
            "              precision    recall  f1-score   support\n",
            "\n",
            "           0       0.85      0.90      0.87      1048\n",
            "           1       0.65      0.54      0.59       361\n",
            "\n",
            "    accuracy                           0.81      1409\n",
            "   macro avg       0.75      0.72      0.73      1409\n",
            "weighted avg       0.80      0.81      0.80      1409\n",
            "\n"
          ]
        }
      ]
    },
    {
      "cell_type": "code",
      "source": [
        "rs_pred1 = randomsearch.predict(x_train) # To get the predicted value of the train data\n",
        "print(classification_report(y_train,rs_pred1)) # To print classification report for train data"
      ],
      "metadata": {
        "colab": {
          "base_uri": "https://localhost:8080/"
        },
        "id": "ZBs96h8DP1Mw",
        "outputId": "cf099a65-1f27-4470-e7dc-4fb5ac21dd00"
      },
      "execution_count": null,
      "outputs": [
        {
          "output_type": "stream",
          "name": "stdout",
          "text": [
            "              precision    recall  f1-score   support\n",
            "\n",
            "           0       0.84      0.91      0.87      4126\n",
            "           1       0.68      0.54      0.60      1508\n",
            "\n",
            "    accuracy                           0.81      5634\n",
            "   macro avg       0.76      0.72      0.74      5634\n",
            "weighted avg       0.80      0.81      0.80      5634\n",
            "\n"
          ]
        }
      ]
    },
    {
      "cell_type": "markdown",
      "source": [
        "**Observations for RandomSearch**\n",
        "*   Training Accuracy is 81%.\n",
        "*   Testing Accuracy is 81%.\n",
        "*   As both Training & Testing Accuracy are equal leads to good fit with good outcome and model stable."
      ],
      "metadata": {
        "id": "9I5kDpZx_-Vt"
      }
    },
    {
      "cell_type": "markdown",
      "source": [
        "**B) Using GridSearch**"
      ],
      "metadata": {
        "id": "GbRkPdun_fBY"
      }
    },
    {
      "cell_type": "code",
      "source": [
        "%%time\n",
        "param = {\n",
        "    'learning_rate': [0.005, .1]\n",
        "    , 'subsample': [.2, .3 ,.4, .5]\n",
        "    , 'n_estimators': [25, 50]\n",
        "    , 'min_child_weight': [25]\n",
        "    , 'reg_alpha': [.3, .4, .5]\n",
        "    , 'reg_lambda': [.1, .2, .3, .4, .5]\n",
        "    , 'colsample_bytree': [.66]\n",
        "    , 'max_depth': [5]\n",
        "}\n",
        "\n",
        "model = XGBClassifier(random_state=42, n_jobs=-1) #input hyperparameters without tuning\n",
        "gridsearch = GridSearchCV(model, param_grid=param, cv=3, n_jobs=-1, scoring='accuracy', return_train_score=True)\n",
        "gridsearch.fit(x_train, y_train) # To fit the model\n",
        "print('best score of Grid Search over 120 iterations:', gridsearch.best_score_)"
      ],
      "metadata": {
        "colab": {
          "base_uri": "https://localhost:8080/"
        },
        "id": "piO83Cdb-9H-",
        "outputId": "5d016627-af7f-4074-9f21-d22f0f919624"
      },
      "execution_count": null,
      "outputs": [
        {
          "output_type": "stream",
          "name": "stdout",
          "text": [
            "best score of Grid Search over 120 iterations: 0.8049343272985445\n",
            "CPU times: user 1.74 s, sys: 113 ms, total: 1.85 s\n",
            "Wall time: 1min 4s\n"
          ]
        }
      ]
    },
    {
      "cell_type": "code",
      "source": [
        "for k,v in (gridsearch.best_params_).items():\n",
        "    print(\"Best value for %s is %.2f\"%(k,v))\n",
        "    print('-'*50)"
      ],
      "metadata": {
        "colab": {
          "base_uri": "https://localhost:8080/"
        },
        "id": "nBJdeyXJ-9T2",
        "outputId": "88542caf-c1a0-42be-8c23-8e84dff39d46"
      },
      "execution_count": null,
      "outputs": [
        {
          "output_type": "stream",
          "name": "stdout",
          "text": [
            "Best value for colsample_bytree is 0.66\n",
            "--------------------------------------------------\n",
            "Best value for learning_rate is 0.10\n",
            "--------------------------------------------------\n",
            "Best value for max_depth is 5.00\n",
            "--------------------------------------------------\n",
            "Best value for min_child_weight is 25.00\n",
            "--------------------------------------------------\n",
            "Best value for n_estimators is 50.00\n",
            "--------------------------------------------------\n",
            "Best value for reg_alpha is 0.50\n",
            "--------------------------------------------------\n",
            "Best value for reg_lambda is 0.40\n",
            "--------------------------------------------------\n",
            "Best value for subsample is 0.50\n",
            "--------------------------------------------------\n"
          ]
        }
      ]
    },
    {
      "cell_type": "code",
      "source": [
        "gs_pred = gridsearch.predict(x_test) # To get the predicted value of test data\n",
        "print(classification_report(y_test,gs_pred)) # To print classification report for test data"
      ],
      "metadata": {
        "colab": {
          "base_uri": "https://localhost:8080/"
        },
        "id": "1ssfnhjq-9gf",
        "outputId": "a4e24b05-45d5-4a3e-ad6c-8ad64308623e"
      },
      "execution_count": null,
      "outputs": [
        {
          "output_type": "stream",
          "name": "stdout",
          "text": [
            "              precision    recall  f1-score   support\n",
            "\n",
            "           0       0.86      0.91      0.88      1048\n",
            "           1       0.68      0.56      0.61       361\n",
            "\n",
            "    accuracy                           0.82      1409\n",
            "   macro avg       0.77      0.73      0.75      1409\n",
            "weighted avg       0.81      0.82      0.81      1409\n",
            "\n"
          ]
        }
      ]
    },
    {
      "cell_type": "markdown",
      "source": [
        "**Observations for GridSearch**\n",
        "*   Testing Accuracy is 82%.\n",
        "*   As both Training & Testing Accuracy are almost equal leads to good fit with good outcome and model stable."
      ],
      "metadata": {
        "id": "D7n_qqBfEqMi"
      }
    },
    {
      "cell_type": "code",
      "source": [
        "xbg = XGBClassifier(eta=0.3, n_estimators=50, min_child_weight=25, max_depth= 5, gamma=0, colsample_bytree=0.66, reg_alpha=0.5, reg_lambda=0.4, subsample=0.5)\n",
        "classify(xbg)"
      ],
      "metadata": {
        "colab": {
          "base_uri": "https://localhost:8080/"
        },
        "id": "msThaabtBcwM",
        "outputId": "8fecb532-1536-4da7-e004-66fe85866106"
      },
      "execution_count": null,
      "outputs": [
        {
          "output_type": "stream",
          "name": "stdout",
          "text": [
            "Training Performace\n",
            "              precision    recall  f1-score   support\n",
            "\n",
            "           0       0.85      0.92      0.88      4126\n",
            "           1       0.71      0.56      0.63      1508\n",
            "\n",
            "    accuracy                           0.82      5634\n",
            "   macro avg       0.78      0.74      0.76      5634\n",
            "weighted avg       0.81      0.82      0.82      5634\n",
            "\n",
            "**************************************************\n",
            "Testing Performace\n",
            "              precision    recall  f1-score   support\n",
            "\n",
            "           0       0.85      0.90      0.88      1048\n",
            "           1       0.66      0.54      0.60       361\n",
            "\n",
            "    accuracy                           0.81      1409\n",
            "   macro avg       0.76      0.72      0.74      1409\n",
            "weighted avg       0.80      0.81      0.80      1409\n",
            "\n",
            "------4.76837158203125e-07 seconds------\n"
          ]
        }
      ]
    },
    {
      "cell_type": "markdown",
      "source": [
        "**Observations for XBG Classifier after tuning with eta=0.3, n_estimators=50, min_child_weight=25, max_depth= 5, gamma=0, colsample_bytree=0.66, reg_alpha=0.5, reg_lambda=0.4, subsample=0.5**\n",
        "*   Training Accuracy is 82%.\n",
        "*   Testing Accuracy is 81%.\n",
        "*   As both Training & Testing Accuracy are almost equal leads to good fit with good outcome and model stable."
      ],
      "metadata": {
        "id": "thOvxOMW3m-Q"
      }
    },
    {
      "cell_type": "markdown",
      "source": [
        "**Overall Improvement Achieved:**\n",
        "* Training Accuracy improved by - 6-12% for the good fit of the model.\n",
        "* Testing Accuracy improved by + 1-3%.  \n",
        "* Precision, Recall and f1_score improved by +1-4%\n",
        "\n",
        "\n"
      ],
      "metadata": {
        "id": "B1jxfiG63nXY"
      }
    },
    {
      "cell_type": "markdown",
      "source": [
        "**▶ PART - B**"
      ],
      "metadata": {
        "id": "wQQZrAwmMHXo"
      }
    },
    {
      "cell_type": "code",
      "source": [
        "from google.colab import drive\n",
        "drive.mount('/content/drive')"
      ],
      "metadata": {
        "colab": {
          "base_uri": "https://localhost:8080/"
        },
        "id": "tkO9X1NHMX5c",
        "outputId": "4030923d-55e3-4598-9d64-e4ac8d2aea5d"
      },
      "execution_count": null,
      "outputs": [
        {
          "output_type": "stream",
          "name": "stdout",
          "text": [
            "Drive already mounted at /content/drive; to attempt to forcibly remount, call drive.mount(\"/content/drive\", force_remount=True).\n"
          ]
        }
      ]
    },
    {
      "cell_type": "code",
      "source": [
        "# Function to preprocesss the data\n",
        "def preprocess_data(path_to_csv,target_feature):\n",
        "    df = pd.read_csv(path_to_csv)  # To read the csv file\n",
        "\n",
        "    # Impute missing values\n",
        "    missing_values = df.isna().sum()\n",
        "    missing_list = ((missing_values>0).index).tolist()\n",
        "    for i in missing_list:\n",
        "        if df[i].dtypes in ['int64','int32','float64','float32']:\n",
        "            df[i].fillna(df[i].mean(),inplace=True)\n",
        "        else:\n",
        "            df[i].fillna(mode(df[i])[0][0],inplace=True)\n",
        "\n",
        "    # Impute duplicate values\n",
        "    df.drop_duplicates(inplace=True)\n",
        "\n",
        "    #Impute unnecessary features\n",
        "    for col in df.columns:\n",
        "        unique_percentage = (df[col].value_counts().count()/df.shape[0])*100\n",
        "        if unique_percentage > 95:\n",
        "            df.drop(col,inplace=True,axis=1)\n",
        "        else:\n",
        "            pass\n",
        "\n",
        "    return df,target_feature"
      ],
      "metadata": {
        "id": "Ab-WiHrYh1oK"
      },
      "execution_count": null,
      "outputs": []
    },
    {
      "cell_type": "code",
      "source": [
        "# Function to try various models and get performances of all the models\n",
        "def train_model(preprocessed_df, target_feature):\n",
        "\n",
        "    # Initialize variables\n",
        "    le = LabelEncoder()\n",
        "    model_lst = []\n",
        "    train_acc_lst = []\n",
        "    test_acc_lst = []\n",
        "    test_precision_lst = []\n",
        "    test_recall_lst = []\n",
        "    testf1_score_lst = []\n",
        "\n",
        "    # Encode the variables with 'Object' type\n",
        "    for col in preprocessed_df.columns:\n",
        "        if preprocessed_df[col].dtype == 'O':\n",
        "            preprocessed_df[col] = le.fit_transform(preprocessed_df[col])\n",
        "        else:\n",
        "            pass\n",
        "\n",
        "    # Split into X & y\n",
        "    X = preprocessed_df.drop(target_feature,axis=1)\n",
        "    y = preprocessed_df[target_feature]\n",
        "\n",
        "    # Split into train and test\n",
        "    x_train,x_test,y_train,y_test = train_test_split(X,y,test_size=0.2,random_state=22)\n",
        "\n",
        "    # Intialize models\n",
        "    lr = LogisticRegression()\n",
        "    dt = DecisionTreeClassifier()\n",
        "    rf = RandomForestClassifier()\n",
        "    bgcl = BaggingClassifier()\n",
        "    xgb = XGBClassifier()\n",
        "    ada = AdaBoostClassifier()\n",
        "    model_list = [lr, dt, rf, bgcl, ada, xgb]\n",
        "\n",
        "    # Interate through models, train and measure performance\n",
        "    for idx,i in enumerate(model_list):\n",
        "        i.fit(x_train,y_train)    # To fit the modell\n",
        "        train_pred= i.predict(x_train) # To get the predicted values of the train data for the model\n",
        "        test_pred = i.predict(x_test) # To get the predicted values of the test data for the model\n",
        "\n",
        "        train_acc = accuracy_score(y_train,train_pred) # To get the train accuracy of the model\n",
        "        test_acc = accuracy_score(y_test,test_pred) # To get the test accuracy of the model\n",
        "        test_precision = precision_score(y_test,test_pred,average='weighted') # To get the precision of test data for the model\n",
        "        test_recall = recall_score(y_test,test_pred,average='weighted') # To get the recall of test data for the model\n",
        "        testf1_score = f1_score(y_test,test_pred,average='weighted') # To get the f1_score of test data for the model\n",
        "\n",
        "\n",
        "        # Update model performance into a DataFrame\n",
        "        model_lst.append(i)\n",
        "        train_acc_lst.append(train_acc) # To add all the models training accuracies in a list\n",
        "        test_acc_lst.append(test_acc) # To add all the models testing accuracies in a list\n",
        "        test_precision_lst.append(test_precision) # To add all the models precision values in a list\n",
        "        test_recall_lst.append(test_recall) # To add all the the models recall values in a list\n",
        "        testf1_score_lst.append(testf1_score) # To add all the models f1_scores in a list\n",
        "        col_names = ['Model','Train_accuracy','Test_acc','Test_precision','Test_recall','Test_F1 score']\n",
        "        model_performance = pd.DataFrame(list(zip(model_lst,train_acc_lst,test_acc_lst,test_precision_lst,test_recall_lst,testf1_score_lst)),columns=col_names)\n",
        "\n",
        "    return model_performance,x_train,y_train"
      ],
      "metadata": {
        "id": "KWf4Uiwth18G"
      },
      "execution_count": null,
      "outputs": []
    },
    {
      "cell_type": "code",
      "source": [
        "# Function to pickle the model with best weights\n",
        "def pickle_model(model_performance,x_train,y_train,file_name):\n",
        "    best_model = model_performance[model_performance['Train_accuracy']==max(model_performance['Train_accuracy'])]['Model'].iloc[0]\n",
        "    best_model.fit(x_train,y_train) # To fit the model\n",
        "    with open(file_name, 'wb') as handle:\n",
        "        pickle.dump(best_model, handle, protocol=pickle.HIGHEST_PROTOCOL)"
      ],
      "metadata": {
        "id": "evj7GPGHh2Mm"
      },
      "execution_count": null,
      "outputs": []
    },
    {
      "cell_type": "code",
      "source": [
        "# Main function to call or to stack all the functions\n",
        "def main(path_to_csv,target_feature):\n",
        "    preprocessed_df,target_feature = preprocess_data(path_to_csv,target_feature) # To call the preprocess_data(path_to_csv,target_feature) function\n",
        "    model_df,x_train,y_train = train_model(preprocessed_df, target_feature) # To call the train_model(preprocessed_df, target_feature)\n",
        "    pickle_model(model_df,x_train,y_train,'model.pkl') # To call the pickle_model(model_performance,x_train,y_train,file_name) function\n",
        "    return model_df"
      ],
      "metadata": {
        "id": "ibJ-K6b6iIh_"
      },
      "execution_count": null,
      "outputs": []
    },
    {
      "cell_type": "code",
      "source": [
        "data = main('/content/drive/MyDrive/AI /Dec AI/Project - Ensemble Techniques/TelcomCustomer-Churn_1.csv','OnlineSecurity') # To call main(path_to_csv,target_feature) function"
      ],
      "metadata": {
        "id": "fqBvdm3picYe"
      },
      "execution_count": null,
      "outputs": []
    },
    {
      "cell_type": "code",
      "source": [
        "data #To print the values"
      ],
      "metadata": {
        "colab": {
          "base_uri": "https://localhost:8080/",
          "height": 238
        },
        "id": "PcgusfIZjE5Y",
        "outputId": "4b13497e-7d5e-49da-967d-426051f96e23"
      },
      "execution_count": null,
      "outputs": [
        {
          "output_type": "execute_result",
          "data": {
            "text/plain": [
              "                                               Model  Train_accuracy  \\\n",
              "0                               LogisticRegression()        0.780440   \n",
              "1                           DecisionTreeClassifier()        0.890131   \n",
              "2  (DecisionTreeClassifier(max_features='sqrt', r...        0.890131   \n",
              "3  (DecisionTreeClassifier(random_state=921314528...        0.883742   \n",
              "4  (DecisionTreeClassifier(max_depth=1, random_st...        0.783103   \n",
              "5  XGBClassifier(base_score=None, booster=None, c...        0.851083   \n",
              "\n",
              "   Test_acc  Test_precision  Test_recall  Test_F1 score  \n",
              "0  0.775018        0.768617     0.775018       0.767527  \n",
              "1  0.726047        0.719264     0.726047       0.721424  \n",
              "2  0.733854        0.731387     0.733854       0.732467  \n",
              "3  0.714691        0.712424     0.714691       0.713454  \n",
              "4  0.782825        0.777116     0.782825       0.774651  \n",
              "5  0.751597        0.744722     0.751597       0.746049  "
            ],
            "text/html": [
              "\n",
              "  <div id=\"df-b3ac3372-ea26-4202-8157-9e19d1176339\">\n",
              "    <div class=\"colab-df-container\">\n",
              "      <div>\n",
              "<style scoped>\n",
              "    .dataframe tbody tr th:only-of-type {\n",
              "        vertical-align: middle;\n",
              "    }\n",
              "\n",
              "    .dataframe tbody tr th {\n",
              "        vertical-align: top;\n",
              "    }\n",
              "\n",
              "    .dataframe thead th {\n",
              "        text-align: right;\n",
              "    }\n",
              "</style>\n",
              "<table border=\"1\" class=\"dataframe\">\n",
              "  <thead>\n",
              "    <tr style=\"text-align: right;\">\n",
              "      <th></th>\n",
              "      <th>Model</th>\n",
              "      <th>Train_accuracy</th>\n",
              "      <th>Test_acc</th>\n",
              "      <th>Test_precision</th>\n",
              "      <th>Test_recall</th>\n",
              "      <th>Test_F1 score</th>\n",
              "    </tr>\n",
              "  </thead>\n",
              "  <tbody>\n",
              "    <tr>\n",
              "      <th>0</th>\n",
              "      <td>LogisticRegression()</td>\n",
              "      <td>0.780440</td>\n",
              "      <td>0.775018</td>\n",
              "      <td>0.768617</td>\n",
              "      <td>0.775018</td>\n",
              "      <td>0.767527</td>\n",
              "    </tr>\n",
              "    <tr>\n",
              "      <th>1</th>\n",
              "      <td>DecisionTreeClassifier()</td>\n",
              "      <td>0.890131</td>\n",
              "      <td>0.726047</td>\n",
              "      <td>0.719264</td>\n",
              "      <td>0.726047</td>\n",
              "      <td>0.721424</td>\n",
              "    </tr>\n",
              "    <tr>\n",
              "      <th>2</th>\n",
              "      <td>(DecisionTreeClassifier(max_features='sqrt', r...</td>\n",
              "      <td>0.890131</td>\n",
              "      <td>0.733854</td>\n",
              "      <td>0.731387</td>\n",
              "      <td>0.733854</td>\n",
              "      <td>0.732467</td>\n",
              "    </tr>\n",
              "    <tr>\n",
              "      <th>3</th>\n",
              "      <td>(DecisionTreeClassifier(random_state=921314528...</td>\n",
              "      <td>0.883742</td>\n",
              "      <td>0.714691</td>\n",
              "      <td>0.712424</td>\n",
              "      <td>0.714691</td>\n",
              "      <td>0.713454</td>\n",
              "    </tr>\n",
              "    <tr>\n",
              "      <th>4</th>\n",
              "      <td>(DecisionTreeClassifier(max_depth=1, random_st...</td>\n",
              "      <td>0.783103</td>\n",
              "      <td>0.782825</td>\n",
              "      <td>0.777116</td>\n",
              "      <td>0.782825</td>\n",
              "      <td>0.774651</td>\n",
              "    </tr>\n",
              "    <tr>\n",
              "      <th>5</th>\n",
              "      <td>XGBClassifier(base_score=None, booster=None, c...</td>\n",
              "      <td>0.851083</td>\n",
              "      <td>0.751597</td>\n",
              "      <td>0.744722</td>\n",
              "      <td>0.751597</td>\n",
              "      <td>0.746049</td>\n",
              "    </tr>\n",
              "  </tbody>\n",
              "</table>\n",
              "</div>\n",
              "      <button class=\"colab-df-convert\" onclick=\"convertToInteractive('df-b3ac3372-ea26-4202-8157-9e19d1176339')\"\n",
              "              title=\"Convert this dataframe to an interactive table.\"\n",
              "              style=\"display:none;\">\n",
              "        \n",
              "  <svg xmlns=\"http://www.w3.org/2000/svg\" height=\"24px\"viewBox=\"0 0 24 24\"\n",
              "       width=\"24px\">\n",
              "    <path d=\"M0 0h24v24H0V0z\" fill=\"none\"/>\n",
              "    <path d=\"M18.56 5.44l.94 2.06.94-2.06 2.06-.94-2.06-.94-.94-2.06-.94 2.06-2.06.94zm-11 1L8.5 8.5l.94-2.06 2.06-.94-2.06-.94L8.5 2.5l-.94 2.06-2.06.94zm10 10l.94 2.06.94-2.06 2.06-.94-2.06-.94-.94-2.06-.94 2.06-2.06.94z\"/><path d=\"M17.41 7.96l-1.37-1.37c-.4-.4-.92-.59-1.43-.59-.52 0-1.04.2-1.43.59L10.3 9.45l-7.72 7.72c-.78.78-.78 2.05 0 2.83L4 21.41c.39.39.9.59 1.41.59.51 0 1.02-.2 1.41-.59l7.78-7.78 2.81-2.81c.8-.78.8-2.07 0-2.86zM5.41 20L4 18.59l7.72-7.72 1.47 1.35L5.41 20z\"/>\n",
              "  </svg>\n",
              "      </button>\n",
              "      \n",
              "  <style>\n",
              "    .colab-df-container {\n",
              "      display:flex;\n",
              "      flex-wrap:wrap;\n",
              "      gap: 12px;\n",
              "    }\n",
              "\n",
              "    .colab-df-convert {\n",
              "      background-color: #E8F0FE;\n",
              "      border: none;\n",
              "      border-radius: 50%;\n",
              "      cursor: pointer;\n",
              "      display: none;\n",
              "      fill: #1967D2;\n",
              "      height: 32px;\n",
              "      padding: 0 0 0 0;\n",
              "      width: 32px;\n",
              "    }\n",
              "\n",
              "    .colab-df-convert:hover {\n",
              "      background-color: #E2EBFA;\n",
              "      box-shadow: 0px 1px 2px rgba(60, 64, 67, 0.3), 0px 1px 3px 1px rgba(60, 64, 67, 0.15);\n",
              "      fill: #174EA6;\n",
              "    }\n",
              "\n",
              "    [theme=dark] .colab-df-convert {\n",
              "      background-color: #3B4455;\n",
              "      fill: #D2E3FC;\n",
              "    }\n",
              "\n",
              "    [theme=dark] .colab-df-convert:hover {\n",
              "      background-color: #434B5C;\n",
              "      box-shadow: 0px 1px 3px 1px rgba(0, 0, 0, 0.15);\n",
              "      filter: drop-shadow(0px 1px 2px rgba(0, 0, 0, 0.3));\n",
              "      fill: #FFFFFF;\n",
              "    }\n",
              "  </style>\n",
              "\n",
              "      <script>\n",
              "        const buttonEl =\n",
              "          document.querySelector('#df-b3ac3372-ea26-4202-8157-9e19d1176339 button.colab-df-convert');\n",
              "        buttonEl.style.display =\n",
              "          google.colab.kernel.accessAllowed ? 'block' : 'none';\n",
              "\n",
              "        async function convertToInteractive(key) {\n",
              "          const element = document.querySelector('#df-b3ac3372-ea26-4202-8157-9e19d1176339');\n",
              "          const dataTable =\n",
              "            await google.colab.kernel.invokeFunction('convertToInteractive',\n",
              "                                                     [key], {});\n",
              "          if (!dataTable) return;\n",
              "\n",
              "          const docLinkHtml = 'Like what you see? Visit the ' +\n",
              "            '<a target=\"_blank\" href=https://colab.research.google.com/notebooks/data_table.ipynb>data table notebook</a>'\n",
              "            + ' to learn more about interactive tables.';\n",
              "          element.innerHTML = '';\n",
              "          dataTable['output_type'] = 'display_data';\n",
              "          await google.colab.output.renderOutput(dataTable, element);\n",
              "          const docLink = document.createElement('div');\n",
              "          docLink.innerHTML = docLinkHtml;\n",
              "          element.appendChild(docLink);\n",
              "        }\n",
              "      </script>\n",
              "    </div>\n",
              "  </div>\n",
              "  "
            ]
          },
          "metadata": {},
          "execution_count": 124
        }
      ]
    },
    {
      "cell_type": "markdown",
      "source": [
        "**Overall InSights:-**\n",
        "*   By comparing all the models, Train Accuracy of Adaboost Classifier 78.31% is the best one.\n",
        "*   Testing Accuracy of Adaboost Classifier 78.28% is the best one.\n",
        "*   Precision,Recall,f1_score of Adaboost Classifier 77.71%,78.28% and 77.46% are the best one.\n",
        "*   As both Training & Testing Accuracy are almost equal leads to good fit with good outcome and model stable.\n",
        "*   As OnlineSecurity of the customers should be at the forefront, Recall should be considered to reduce the risk(i.e Recall is higher than Precision).\n",
        "*   Hence, Adaboost Classifier suits best for the data considered.\n",
        "\n",
        "\n",
        "\n",
        "\n",
        "\n",
        "\n",
        "\n"
      ],
      "metadata": {
        "id": "ZFsXiwhnYV5h"
      }
    }
  ]
}