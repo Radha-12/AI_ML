{
 "cells": [
  {
   "cell_type": "markdown",
   "metadata": {
    "id": "fsSpkhgFmJLw"
   },
   "source": [
    "# **Neural Networks Project**"
   ]
  },
  {
   "cell_type": "markdown",
   "metadata": {
    "id": "o67ynen0oqYk"
   },
   "source": [
    "**PART - A**"
   ]
  },
  {
   "cell_type": "markdown",
   "metadata": {
    "id": "oBFgeoH7mnh3"
   },
   "source": [
    "**1.1 a - Import Libraries:**"
   ]
  },
  {
   "cell_type": "code",
   "execution_count": 380,
   "metadata": {
    "id": "3daTfcfKmN3m"
   },
   "outputs": [],
   "source": [
    "# used to supress display of warnings\n",
    "import warnings\n",
    "\n",
    "# Pandas is used for data manipulation and analysis\n",
    "import pandas as pd\n",
    "\n",
    "# Numpy is used for large, multi-dimensional arrays and matrices, along with mathematical operators on these arrays\n",
    "import numpy as np\n",
    "\n",
    "# Matplotlib is a data visualization library for 2D plots of arrays, built on NumPy arrays\n",
    "# and designed to work with the broader SciPy stack\n",
    "import matplotlib.pyplot as plt\n",
    "%matplotlib inline\n",
    "from matplotlib import pyplot\n",
    "\n",
    "# Seaborn is based on matplotlib, which aids in drawing attractive and informative statistical graphics.\n",
    "import seaborn as sns\n",
    "\n",
    "# train_test_split is a function in Sklearn model selection for splitting data arrays into two subsets: for training data and for testing data.\n",
    "from sklearn.model_selection import train_test_split\n",
    "\n",
    "# StanderScaler is a function in Sklearn preprocessing that standardizes features by removing the mean and scaling to unit variance.\n",
    "from sklearn.preprocessing import StandardScaler\n",
    "\n",
    "# TensorFlow is a software library for deep learning, a branch of artificial intelligence that uses neural networks with many hidden layers\n",
    "import tensorflow as tf\n",
    "# tensorflow.keras is a class in TensorFlow that allows you to create a Sequential model for a plain stack of layers where each layer has exactly one input tensor and one output tensor1.\n",
    "from tensorflow.keras.models import Sequential\n",
    "from tensorflow.keras.layers import Dense, Activation, BatchNormalization, Dropout, Flatten\n",
    "\n",
    "from tensorflow.keras import optimizers\n",
    "\n",
    "import random\n",
    "from tensorflow.keras import backend\n"
   ]
  },
  {
   "cell_type": "markdown",
   "metadata": {
    "id": "53pflHJCpSjk"
   },
   "source": [
    "**1.1 a - Read the ‘Signals.csv’ as DataFrame**"
   ]
  },
  {
   "cell_type": "code",
   "execution_count": 381,
   "metadata": {
    "id": "q6ldRDGBnzo4"
   },
   "outputs": [],
   "source": [
    "# To read a CSV file as DataFrame and store them in a separate variable.\n",
    "dfC = pd.read_csv('NN Project Data - Signal.csv')"
   ]
  },
  {
   "cell_type": "code",
   "execution_count": 382,
   "metadata": {
    "colab": {
     "base_uri": "https://localhost:8080/",
     "height": 268
    },
    "id": "IfU1Sqh8qa35",
    "outputId": "0d64f9f2-c2e8-43cf-eb2d-5f3abb48b2f7"
   },
   "outputs": [
    {
     "data": {
      "text/html": [
       "<div>\n",
       "<style scoped>\n",
       "    .dataframe tbody tr th:only-of-type {\n",
       "        vertical-align: middle;\n",
       "    }\n",
       "\n",
       "    .dataframe tbody tr th {\n",
       "        vertical-align: top;\n",
       "    }\n",
       "\n",
       "    .dataframe thead th {\n",
       "        text-align: right;\n",
       "    }\n",
       "</style>\n",
       "<table border=\"1\" class=\"dataframe\">\n",
       "  <thead>\n",
       "    <tr style=\"text-align: right;\">\n",
       "      <th></th>\n",
       "      <th>Parameter 1</th>\n",
       "      <th>Parameter 2</th>\n",
       "      <th>Parameter 3</th>\n",
       "      <th>Parameter 4</th>\n",
       "      <th>Parameter 5</th>\n",
       "      <th>Parameter 6</th>\n",
       "      <th>Parameter 7</th>\n",
       "      <th>Parameter 8</th>\n",
       "      <th>Parameter 9</th>\n",
       "      <th>Parameter 10</th>\n",
       "      <th>Parameter 11</th>\n",
       "      <th>Signal_Strength</th>\n",
       "    </tr>\n",
       "  </thead>\n",
       "  <tbody>\n",
       "    <tr>\n",
       "      <th>0</th>\n",
       "      <td>7.4</td>\n",
       "      <td>0.70</td>\n",
       "      <td>0.00</td>\n",
       "      <td>1.9</td>\n",
       "      <td>0.076</td>\n",
       "      <td>11.0</td>\n",
       "      <td>34.0</td>\n",
       "      <td>0.9978</td>\n",
       "      <td>3.51</td>\n",
       "      <td>0.56</td>\n",
       "      <td>9.4</td>\n",
       "      <td>5</td>\n",
       "    </tr>\n",
       "    <tr>\n",
       "      <th>1</th>\n",
       "      <td>7.8</td>\n",
       "      <td>0.88</td>\n",
       "      <td>0.00</td>\n",
       "      <td>2.6</td>\n",
       "      <td>0.098</td>\n",
       "      <td>25.0</td>\n",
       "      <td>67.0</td>\n",
       "      <td>0.9968</td>\n",
       "      <td>3.20</td>\n",
       "      <td>0.68</td>\n",
       "      <td>9.8</td>\n",
       "      <td>5</td>\n",
       "    </tr>\n",
       "    <tr>\n",
       "      <th>2</th>\n",
       "      <td>7.8</td>\n",
       "      <td>0.76</td>\n",
       "      <td>0.04</td>\n",
       "      <td>2.3</td>\n",
       "      <td>0.092</td>\n",
       "      <td>15.0</td>\n",
       "      <td>54.0</td>\n",
       "      <td>0.9970</td>\n",
       "      <td>3.26</td>\n",
       "      <td>0.65</td>\n",
       "      <td>9.8</td>\n",
       "      <td>5</td>\n",
       "    </tr>\n",
       "    <tr>\n",
       "      <th>3</th>\n",
       "      <td>11.2</td>\n",
       "      <td>0.28</td>\n",
       "      <td>0.56</td>\n",
       "      <td>1.9</td>\n",
       "      <td>0.075</td>\n",
       "      <td>17.0</td>\n",
       "      <td>60.0</td>\n",
       "      <td>0.9980</td>\n",
       "      <td>3.16</td>\n",
       "      <td>0.58</td>\n",
       "      <td>9.8</td>\n",
       "      <td>6</td>\n",
       "    </tr>\n",
       "    <tr>\n",
       "      <th>4</th>\n",
       "      <td>7.4</td>\n",
       "      <td>0.70</td>\n",
       "      <td>0.00</td>\n",
       "      <td>1.9</td>\n",
       "      <td>0.076</td>\n",
       "      <td>11.0</td>\n",
       "      <td>34.0</td>\n",
       "      <td>0.9978</td>\n",
       "      <td>3.51</td>\n",
       "      <td>0.56</td>\n",
       "      <td>9.4</td>\n",
       "      <td>5</td>\n",
       "    </tr>\n",
       "  </tbody>\n",
       "</table>\n",
       "</div>"
      ],
      "text/plain": [
       "   Parameter 1  Parameter 2  Parameter 3  Parameter 4  Parameter 5  \\\n",
       "0          7.4         0.70         0.00          1.9        0.076   \n",
       "1          7.8         0.88         0.00          2.6        0.098   \n",
       "2          7.8         0.76         0.04          2.3        0.092   \n",
       "3         11.2         0.28         0.56          1.9        0.075   \n",
       "4          7.4         0.70         0.00          1.9        0.076   \n",
       "\n",
       "   Parameter 6  Parameter 7  Parameter 8  Parameter 9  Parameter 10  \\\n",
       "0         11.0         34.0       0.9978         3.51          0.56   \n",
       "1         25.0         67.0       0.9968         3.20          0.68   \n",
       "2         15.0         54.0       0.9970         3.26          0.65   \n",
       "3         17.0         60.0       0.9980         3.16          0.58   \n",
       "4         11.0         34.0       0.9978         3.51          0.56   \n",
       "\n",
       "   Parameter 11  Signal_Strength  \n",
       "0           9.4                5  \n",
       "1           9.8                5  \n",
       "2           9.8                5  \n",
       "3           9.8                6  \n",
       "4           9.4                5  "
      ]
     },
     "execution_count": 382,
     "metadata": {},
     "output_type": "execute_result"
    }
   ],
   "source": [
    "dfC.head() # To get the first five rows of the dfC"
   ]
  },
  {
   "cell_type": "code",
   "execution_count": 383,
   "metadata": {
    "colab": {
     "base_uri": "https://localhost:8080/"
    },
    "id": "wIvb65w7qkRA",
    "outputId": "fe03c075-130a-449b-fa70-b07d0e6d9950"
   },
   "outputs": [
    {
     "data": {
      "text/plain": [
       "(1599, 12)"
      ]
     },
     "execution_count": 383,
     "metadata": {},
     "output_type": "execute_result"
    }
   ],
   "source": [
    "dfC.shape # To get the total no.of instances and variables"
   ]
  },
  {
   "cell_type": "code",
   "execution_count": 384,
   "metadata": {
    "colab": {
     "base_uri": "https://localhost:8080/"
    },
    "id": "YqQIOD8vqctW",
    "outputId": "c1bea24a-0b3f-4eae-c552-433fb5432e5d"
   },
   "outputs": [
    {
     "name": "stdout",
     "output_type": "stream",
     "text": [
      "<class 'pandas.core.frame.DataFrame'>\n",
      "RangeIndex: 1599 entries, 0 to 1598\n",
      "Data columns (total 12 columns):\n",
      " #   Column           Non-Null Count  Dtype  \n",
      "---  ------           --------------  -----  \n",
      " 0   Parameter 1      1599 non-null   float64\n",
      " 1   Parameter 2      1599 non-null   float64\n",
      " 2   Parameter 3      1599 non-null   float64\n",
      " 3   Parameter 4      1599 non-null   float64\n",
      " 4   Parameter 5      1599 non-null   float64\n",
      " 5   Parameter 6      1599 non-null   float64\n",
      " 6   Parameter 7      1599 non-null   float64\n",
      " 7   Parameter 8      1599 non-null   float64\n",
      " 8   Parameter 9      1599 non-null   float64\n",
      " 9   Parameter 10     1599 non-null   float64\n",
      " 10  Parameter 11     1599 non-null   float64\n",
      " 11  Signal_Strength  1599 non-null   int64  \n",
      "dtypes: float64(11), int64(1)\n",
      "memory usage: 150.0 KB\n"
     ]
    }
   ],
   "source": [
    "dfC.info()"
   ]
  },
  {
   "cell_type": "markdown",
   "metadata": {},
   "source": [
    "*  There are no null values that need to be treated.\n",
    "*  Feature having object data type value be Signal_Strength.\n",
    "*  Features having float data type values be from Parameter 1 to Parameter 11.\n",
    "*  memory usage is 150.0 kB."
   ]
  },
  {
   "cell_type": "code",
   "execution_count": 385,
   "metadata": {
    "colab": {
     "base_uri": "https://localhost:8080/"
    },
    "id": "gBRlrTtCquxS",
    "outputId": "1efd59e9-9d61-4672-8f28-ca3489e0c122"
   },
   "outputs": [
    {
     "data": {
      "text/plain": [
       "Parameter 1        float64\n",
       "Parameter 2        float64\n",
       "Parameter 3        float64\n",
       "Parameter 4        float64\n",
       "Parameter 5        float64\n",
       "Parameter 6        float64\n",
       "Parameter 7        float64\n",
       "Parameter 8        float64\n",
       "Parameter 9        float64\n",
       "Parameter 10       float64\n",
       "Parameter 11       float64\n",
       "Signal_Strength      int64\n",
       "dtype: object"
      ]
     },
     "execution_count": 385,
     "metadata": {},
     "output_type": "execute_result"
    }
   ],
   "source": [
    "dfC.dtypes # To data types of all the variables"
   ]
  },
  {
   "cell_type": "markdown",
   "metadata": {},
   "source": [
    "*  Feature having int data type value be Signal_Strength.\n",
    "*  Features having float data type values be from Parameter 1 to Parameter 11."
   ]
  },
  {
   "cell_type": "code",
   "execution_count": 386,
   "metadata": {
    "colab": {
     "base_uri": "https://localhost:8080/",
     "height": 362
    },
    "id": "YTo47z6Fqwfx",
    "outputId": "213f8a7e-9703-40a9-c531-c83403c18a93"
   },
   "outputs": [
    {
     "data": {
      "text/html": [
       "<div>\n",
       "<style scoped>\n",
       "    .dataframe tbody tr th:only-of-type {\n",
       "        vertical-align: middle;\n",
       "    }\n",
       "\n",
       "    .dataframe tbody tr th {\n",
       "        vertical-align: top;\n",
       "    }\n",
       "\n",
       "    .dataframe thead th {\n",
       "        text-align: right;\n",
       "    }\n",
       "</style>\n",
       "<table border=\"1\" class=\"dataframe\">\n",
       "  <thead>\n",
       "    <tr style=\"text-align: right;\">\n",
       "      <th></th>\n",
       "      <th>Parameter 1</th>\n",
       "      <th>Parameter 2</th>\n",
       "      <th>Parameter 3</th>\n",
       "      <th>Parameter 4</th>\n",
       "      <th>Parameter 5</th>\n",
       "      <th>Parameter 6</th>\n",
       "      <th>Parameter 7</th>\n",
       "      <th>Parameter 8</th>\n",
       "      <th>Parameter 9</th>\n",
       "      <th>Parameter 10</th>\n",
       "      <th>Parameter 11</th>\n",
       "      <th>Signal_Strength</th>\n",
       "    </tr>\n",
       "  </thead>\n",
       "  <tbody>\n",
       "    <tr>\n",
       "      <th>count</th>\n",
       "      <td>1599.000000</td>\n",
       "      <td>1599.000000</td>\n",
       "      <td>1599.000000</td>\n",
       "      <td>1599.000000</td>\n",
       "      <td>1599.000000</td>\n",
       "      <td>1599.000000</td>\n",
       "      <td>1599.000000</td>\n",
       "      <td>1599.000000</td>\n",
       "      <td>1599.000000</td>\n",
       "      <td>1599.000000</td>\n",
       "      <td>1599.000000</td>\n",
       "      <td>1599.000000</td>\n",
       "    </tr>\n",
       "    <tr>\n",
       "      <th>mean</th>\n",
       "      <td>8.319637</td>\n",
       "      <td>0.527821</td>\n",
       "      <td>0.270976</td>\n",
       "      <td>2.538806</td>\n",
       "      <td>0.087467</td>\n",
       "      <td>15.874922</td>\n",
       "      <td>46.467792</td>\n",
       "      <td>0.996747</td>\n",
       "      <td>3.311113</td>\n",
       "      <td>0.658149</td>\n",
       "      <td>10.422983</td>\n",
       "      <td>5.636023</td>\n",
       "    </tr>\n",
       "    <tr>\n",
       "      <th>std</th>\n",
       "      <td>1.741096</td>\n",
       "      <td>0.179060</td>\n",
       "      <td>0.194801</td>\n",
       "      <td>1.409928</td>\n",
       "      <td>0.047065</td>\n",
       "      <td>10.460157</td>\n",
       "      <td>32.895324</td>\n",
       "      <td>0.001887</td>\n",
       "      <td>0.154386</td>\n",
       "      <td>0.169507</td>\n",
       "      <td>1.065668</td>\n",
       "      <td>0.807569</td>\n",
       "    </tr>\n",
       "    <tr>\n",
       "      <th>min</th>\n",
       "      <td>4.600000</td>\n",
       "      <td>0.120000</td>\n",
       "      <td>0.000000</td>\n",
       "      <td>0.900000</td>\n",
       "      <td>0.012000</td>\n",
       "      <td>1.000000</td>\n",
       "      <td>6.000000</td>\n",
       "      <td>0.990070</td>\n",
       "      <td>2.740000</td>\n",
       "      <td>0.330000</td>\n",
       "      <td>8.400000</td>\n",
       "      <td>3.000000</td>\n",
       "    </tr>\n",
       "    <tr>\n",
       "      <th>25%</th>\n",
       "      <td>7.100000</td>\n",
       "      <td>0.390000</td>\n",
       "      <td>0.090000</td>\n",
       "      <td>1.900000</td>\n",
       "      <td>0.070000</td>\n",
       "      <td>7.000000</td>\n",
       "      <td>22.000000</td>\n",
       "      <td>0.995600</td>\n",
       "      <td>3.210000</td>\n",
       "      <td>0.550000</td>\n",
       "      <td>9.500000</td>\n",
       "      <td>5.000000</td>\n",
       "    </tr>\n",
       "    <tr>\n",
       "      <th>50%</th>\n",
       "      <td>7.900000</td>\n",
       "      <td>0.520000</td>\n",
       "      <td>0.260000</td>\n",
       "      <td>2.200000</td>\n",
       "      <td>0.079000</td>\n",
       "      <td>14.000000</td>\n",
       "      <td>38.000000</td>\n",
       "      <td>0.996750</td>\n",
       "      <td>3.310000</td>\n",
       "      <td>0.620000</td>\n",
       "      <td>10.200000</td>\n",
       "      <td>6.000000</td>\n",
       "    </tr>\n",
       "    <tr>\n",
       "      <th>75%</th>\n",
       "      <td>9.200000</td>\n",
       "      <td>0.640000</td>\n",
       "      <td>0.420000</td>\n",
       "      <td>2.600000</td>\n",
       "      <td>0.090000</td>\n",
       "      <td>21.000000</td>\n",
       "      <td>62.000000</td>\n",
       "      <td>0.997835</td>\n",
       "      <td>3.400000</td>\n",
       "      <td>0.730000</td>\n",
       "      <td>11.100000</td>\n",
       "      <td>6.000000</td>\n",
       "    </tr>\n",
       "    <tr>\n",
       "      <th>max</th>\n",
       "      <td>15.900000</td>\n",
       "      <td>1.580000</td>\n",
       "      <td>1.000000</td>\n",
       "      <td>15.500000</td>\n",
       "      <td>0.611000</td>\n",
       "      <td>72.000000</td>\n",
       "      <td>289.000000</td>\n",
       "      <td>1.003690</td>\n",
       "      <td>4.010000</td>\n",
       "      <td>2.000000</td>\n",
       "      <td>14.900000</td>\n",
       "      <td>8.000000</td>\n",
       "    </tr>\n",
       "  </tbody>\n",
       "</table>\n",
       "</div>"
      ],
      "text/plain": [
       "       Parameter 1  Parameter 2  Parameter 3  Parameter 4  Parameter 5  \\\n",
       "count  1599.000000  1599.000000  1599.000000  1599.000000  1599.000000   \n",
       "mean      8.319637     0.527821     0.270976     2.538806     0.087467   \n",
       "std       1.741096     0.179060     0.194801     1.409928     0.047065   \n",
       "min       4.600000     0.120000     0.000000     0.900000     0.012000   \n",
       "25%       7.100000     0.390000     0.090000     1.900000     0.070000   \n",
       "50%       7.900000     0.520000     0.260000     2.200000     0.079000   \n",
       "75%       9.200000     0.640000     0.420000     2.600000     0.090000   \n",
       "max      15.900000     1.580000     1.000000    15.500000     0.611000   \n",
       "\n",
       "       Parameter 6  Parameter 7  Parameter 8  Parameter 9  Parameter 10  \\\n",
       "count  1599.000000  1599.000000  1599.000000  1599.000000   1599.000000   \n",
       "mean     15.874922    46.467792     0.996747     3.311113      0.658149   \n",
       "std      10.460157    32.895324     0.001887     0.154386      0.169507   \n",
       "min       1.000000     6.000000     0.990070     2.740000      0.330000   \n",
       "25%       7.000000    22.000000     0.995600     3.210000      0.550000   \n",
       "50%      14.000000    38.000000     0.996750     3.310000      0.620000   \n",
       "75%      21.000000    62.000000     0.997835     3.400000      0.730000   \n",
       "max      72.000000   289.000000     1.003690     4.010000      2.000000   \n",
       "\n",
       "       Parameter 11  Signal_Strength  \n",
       "count   1599.000000      1599.000000  \n",
       "mean      10.422983         5.636023  \n",
       "std        1.065668         0.807569  \n",
       "min        8.400000         3.000000  \n",
       "25%        9.500000         5.000000  \n",
       "50%       10.200000         6.000000  \n",
       "75%       11.100000         6.000000  \n",
       "max       14.900000         8.000000  "
      ]
     },
     "execution_count": 386,
     "metadata": {},
     "output_type": "execute_result"
    }
   ],
   "source": [
    "dfC.describe() # To check the five point summary"
   ]
  },
  {
   "cell_type": "code",
   "execution_count": 387,
   "metadata": {
    "id": "t_DkhgbPrEjC"
   },
   "outputs": [],
   "source": [
    "# Creating copy of the dataframe\n",
    "df=dfC.copy(deep = True)"
   ]
  },
  {
   "cell_type": "markdown",
   "metadata": {
    "id": "XqdXja_QqFt1"
   },
   "source": [
    "**1.1 b - Check for missing values and print percentage for each attribute**"
   ]
  },
  {
   "cell_type": "code",
   "execution_count": 388,
   "metadata": {
    "colab": {
     "base_uri": "https://localhost:8080/"
    },
    "id": "I3drf0gBqWVR",
    "outputId": "2686abbc-c2d4-4f3b-a5bf-1427734c9eda"
   },
   "outputs": [
    {
     "name": "stdout",
     "output_type": "stream",
     "text": [
      "Parameter 1        False\n",
      "Parameter 2        False\n",
      "Parameter 3        False\n",
      "Parameter 4        False\n",
      "Parameter 5        False\n",
      "Parameter 6        False\n",
      "Parameter 7        False\n",
      "Parameter 8        False\n",
      "Parameter 9        False\n",
      "Parameter 10       False\n",
      "Parameter 11       False\n",
      "Signal_Strength    False\n",
      "dtype: bool\n"
     ]
    }
   ],
   "source": [
    "# Check the missing/ null values\n",
    "Null_values = df.isna().any()\n",
    "print(Null_values) # print whether missing values are present or not for each variable"
   ]
  },
  {
   "cell_type": "markdown",
   "metadata": {},
   "source": [
    "Found there are null values in the df(dataset)."
   ]
  },
  {
   "cell_type": "code",
   "execution_count": 389,
   "metadata": {
    "colab": {
     "base_uri": "https://localhost:8080/"
    },
    "id": "vAwCsruQscvm",
    "outputId": "1914fb45-15ac-46c8-b50c-40eb7aad451b"
   },
   "outputs": [
    {
     "data": {
      "text/plain": [
       "Parameter 1        0.0\n",
       "Parameter 2        0.0\n",
       "Parameter 3        0.0\n",
       "Parameter 4        0.0\n",
       "Parameter 5        0.0\n",
       "Parameter 6        0.0\n",
       "Parameter 7        0.0\n",
       "Parameter 8        0.0\n",
       "Parameter 9        0.0\n",
       "Parameter 10       0.0\n",
       "Parameter 11       0.0\n",
       "Signal_Strength    0.0\n",
       "dtype: float64"
      ]
     },
     "execution_count": 389,
     "metadata": {},
     "output_type": "execute_result"
    }
   ],
   "source": [
    "# Print Feature-wise percentage of Null values\n",
    "df.isnull().sum()/len(df)"
   ]
  },
  {
   "cell_type": "markdown",
   "metadata": {},
   "source": [
    "Found that there are no null values as the percentage of null values remains zero for all the features."
   ]
  },
  {
   "cell_type": "markdown",
   "metadata": {
    "id": "TOHq0Kc-sisU"
   },
   "source": [
    "**1.1 c - Check for presence of duplicate records in the dataset and impute with appropriate method.**"
   ]
  },
  {
   "cell_type": "code",
   "execution_count": 390,
   "metadata": {
    "colab": {
     "base_uri": "https://localhost:8080/"
    },
    "id": "kOM-k5gttSOD",
    "outputId": "a5acb30b-7b1e-48f2-91c9-433d2a12f874"
   },
   "outputs": [
    {
     "data": {
      "text/plain": [
       "240"
      ]
     },
     "execution_count": 390,
     "metadata": {},
     "output_type": "execute_result"
    }
   ],
   "source": [
    "# Check for the duplicates\n",
    "df.duplicated().sum()"
   ]
  },
  {
   "cell_type": "markdown",
   "metadata": {},
   "source": [
    "Found 240 duplicate values"
   ]
  },
  {
   "cell_type": "code",
   "execution_count": 391,
   "metadata": {
    "id": "i2BPJicytnYC"
   },
   "outputs": [],
   "source": [
    "# Impute the duplicate records by dropping the duplicates\n",
    "df.drop_duplicates(keep='first',inplace=True)"
   ]
  },
  {
   "cell_type": "code",
   "execution_count": 392,
   "metadata": {
    "colab": {
     "base_uri": "https://localhost:8080/"
    },
    "id": "nWUAYvr9txVa",
    "outputId": "244910e4-c86c-43c1-9a60-9110eb656531"
   },
   "outputs": [
    {
     "data": {
      "text/plain": [
       "0"
      ]
     },
     "execution_count": 392,
     "metadata": {},
     "output_type": "execute_result"
    }
   ],
   "source": [
    "# Again, Check for the duplicates\n",
    "df.duplicated().sum()"
   ]
  },
  {
   "cell_type": "markdown",
   "metadata": {},
   "source": [
    "Found 0 duplicate values by imputing the duplicate records on dropping/removing the duplicates."
   ]
  },
  {
   "cell_type": "markdown",
   "metadata": {
    "id": "3DLrFz1M0d81"
   },
   "source": [
    "**1.1 d - Visualise distribution of the target variable.**"
   ]
  },
  {
   "cell_type": "code",
   "execution_count": 393,
   "metadata": {
    "colab": {
     "base_uri": "https://localhost:8080/",
     "height": 444
    },
    "id": "qPI_-QQA0iZV",
    "outputId": "07a9d535-c894-423e-8b2c-f6f2a103d272"
   },
   "outputs": [
    {
     "data": {
      "text/plain": [
       "<AxesSubplot:>"
      ]
     },
     "execution_count": 393,
     "metadata": {},
     "output_type": "execute_result"
    },
    {
     "data": {
      "image/png": "[encoded data removed]",
      "text/plain": [
       "<Figure size 432x288 with 1 Axes>"
      ]
     },
     "metadata": {
      "needs_background": "light"
     },
     "output_type": "display_data"
    }
   ],
   "source": [
    "# Visualise the target variable using Bar Plot\n",
    "df['Signal_Strength'].value_counts().plot(kind='bar')"
   ]
  },
  {
   "cell_type": "markdown",
   "metadata": {
    "id": "xecMM6tF0_wP"
   },
   "source": [
    "**1.1 e -Share insights from the initial data analysis (at least 2)**"
   ]
  },
  {
   "cell_type": "markdown",
   "metadata": {
    "id": "E1xBRZ-P1HKK"
   },
   "source": [
    "- Signal strength is biased towards 5 & 6.\n",
    "- Range of sensors is different for different attributes, hence normalization required."
   ]
  },
  {
   "cell_type": "markdown",
   "metadata": {
    "id": "nZp-slx01ORZ"
   },
   "source": [
    "**1.2 a - Split the data into X & Y.**"
   ]
  },
  {
   "cell_type": "code",
   "execution_count": 394,
   "metadata": {
    "id": "jqEFp22z1Mql"
   },
   "outputs": [],
   "source": [
    "# To split the data into Independent variables and Target Variable\n",
    "X = df.iloc[:, :-1]\n",
    "Y = df.iloc[:,-1]"
   ]
  },
  {
   "cell_type": "markdown",
   "metadata": {
    "id": "fpdPrccS1-HK"
   },
   "source": [
    "**1.2 b - Split the data into train & test with 70:30 proportion.**"
   ]
  },
  {
   "cell_type": "code",
   "execution_count": 395,
   "metadata": {
    "id": "L3lX4rVX186h"
   },
   "outputs": [],
   "source": [
    "X_train,X_test,Y_train,Y_test=train_test_split(X, Y, test_size=0.2, random_state=42)"
   ]
  },
  {
   "cell_type": "markdown",
   "metadata": {
    "id": "CLBduS1m3heJ"
   },
   "source": [
    "**1.2 c - Print shape of all the 4 variables and verify if train and test data is in sync.**"
   ]
  },
  {
   "cell_type": "code",
   "execution_count": 396,
   "metadata": {
    "colab": {
     "base_uri": "https://localhost:8080/"
    },
    "id": "fQK7x0IO4DLO",
    "outputId": "4550f96d-0a5e-4214-e8fb-3990981230a5"
   },
   "outputs": [
    {
     "data": {
      "text/plain": [
       "(1087, 11)"
      ]
     },
     "execution_count": 396,
     "metadata": {},
     "output_type": "execute_result"
    }
   ],
   "source": [
    "# To print the shape of X_train\n",
    "X_train.shape"
   ]
  },
  {
   "cell_type": "code",
   "execution_count": 397,
   "metadata": {
    "colab": {
     "base_uri": "https://localhost:8080/"
    },
    "id": "LWPYjp3n4OGi",
    "outputId": "b3f36681-a1ee-4ab0-fa9e-c66e47f74e50"
   },
   "outputs": [
    {
     "data": {
      "text/plain": [
       "(1087,)"
      ]
     },
     "execution_count": 397,
     "metadata": {},
     "output_type": "execute_result"
    }
   ],
   "source": [
    "# To print the shape of Y_train\n",
    "Y_train.shape"
   ]
  },
  {
   "cell_type": "code",
   "execution_count": 398,
   "metadata": {
    "colab": {
     "base_uri": "https://localhost:8080/"
    },
    "id": "hnUN2MaA4Qa8",
    "outputId": "ce3e4ee2-8e45-40be-d6de-dfcef2a3662d"
   },
   "outputs": [
    {
     "data": {
      "text/plain": [
       "(272, 11)"
      ]
     },
     "execution_count": 398,
     "metadata": {},
     "output_type": "execute_result"
    }
   ],
   "source": [
    "# To print the shape of X_test\n",
    "X_test.shape"
   ]
  },
  {
   "cell_type": "code",
   "execution_count": 399,
   "metadata": {
    "colab": {
     "base_uri": "https://localhost:8080/"
    },
    "id": "9BieLuUo4p4i",
    "outputId": "3cbe8351-c70a-4e93-eb8a-b23116521070"
   },
   "outputs": [
    {
     "data": {
      "text/plain": [
       "(272,)"
      ]
     },
     "execution_count": 399,
     "metadata": {},
     "output_type": "execute_result"
    }
   ],
   "source": [
    "# To print the shape of Y_test\n",
    "Y_test.shape"
   ]
  },
  {
   "cell_type": "code",
   "execution_count": 400,
   "metadata": {
    "id": "30K-oYzap95I"
   },
   "outputs": [
    {
     "name": "stdout",
     "output_type": "stream",
     "text": [
      "Train and test data are in sync\n"
     ]
    }
   ],
   "source": [
    "# Using assert statements for verifying whether Train and Test Data are in syn or not\n",
    "assert X_train.shape[0] == Y_train.shape[0], \"Number of samples in X_train and Y_train do not match\"\n",
    "assert X_test.shape[0] == Y_test.shape[0], \"Number of samples in X_test and Y_test do not match\"\n",
    "\n",
    "print(\"Train and test data are in sync\")"
   ]
  },
  {
   "cell_type": "code",
   "execution_count": 401,
   "metadata": {
    "id": "eA-vJHUdp-Ii"
   },
   "outputs": [],
   "source": [
    "#################################### OR #######################################"
   ]
  },
  {
   "cell_type": "code",
   "execution_count": 402,
   "metadata": {
    "id": "NdB7A94hp-W1"
   },
   "outputs": [
    {
     "name": "stdout",
     "output_type": "stream",
     "text": [
      "Train and test data are in sync\n"
     ]
    }
   ],
   "source": [
    "# Using if _ else loop, for verifying whether Train and Test Data are in syn or not\n",
    "if X_train.shape[0] == Y_train.shape[0] and X_test.shape[0] == Y_test.shape[0]:\n",
    "    print(\"Train and test data are in sync\")\n",
    "else:\n",
    "    print(\"Train and test data are not in sync\")"
   ]
  },
  {
   "cell_type": "markdown",
   "metadata": {
    "id": "HKLe57oR5HMd"
   },
   "source": [
    "**1.2 d - Normalise the train and test data with appropriate method.**"
   ]
  },
  {
   "cell_type": "code",
   "execution_count": 403,
   "metadata": {
    "id": "ALnjO9pR5L9j"
   },
   "outputs": [],
   "source": [
    "# Standardize the independent and test variables.\n",
    "scaler = StandardScaler()\n",
    "X_train = scaler.fit_transform(X_train)\n",
    "X_test = scaler.transform(X_test)"
   ]
  },
  {
   "cell_type": "markdown",
   "metadata": {
    "id": "XNA9SoOm5-4M"
   },
   "source": [
    "**1.2 e - Transform Labels into format acceptable by Neural Network**"
   ]
  },
  {
   "cell_type": "code",
   "execution_count": 404,
   "metadata": {
    "id": "dyM5Ca8FMdKN"
   },
   "outputs": [],
   "source": [
    "# Using One Hot Encoding i.e by creating the dummy variables\n",
    "Y_train = tf.keras.utils.to_categorical(Y_train)\n",
    "Y_test = tf.keras.utils.to_categorical(Y_test)"
   ]
  },
  {
   "cell_type": "markdown",
   "metadata": {
    "id": "umNjFm4HMO7V"
   },
   "source": [
    "**1.3 a - Design a Neural Network to train a classifier**"
   ]
  },
  {
   "cell_type": "code",
   "execution_count": 405,
   "metadata": {
    "id": "fcqJydJRO66X"
   },
   "outputs": [],
   "source": [
    "# Clearing the session in Keras\n",
    "backend.clear_session()\n",
    "# To receive the same output everytime\n",
    "# Fixing the seed for NumPy random number generators to 42\n",
    "np.random.seed(42)\n",
    "# Fixing the set the seed for the Python random number generator to 42\n",
    "import random\n",
    "random.seed(42)\n",
    "# Fixing the seed for the TensorFlow random number generator to 42\n",
    "tf.random.set_seed(42)"
   ]
  },
  {
   "cell_type": "code",
   "execution_count": 406,
   "metadata": {
    "id": "jWckaamu6f0j"
   },
   "outputs": [],
   "source": [
    "# Create the model\n",
    "model = Sequential()"
   ]
  },
  {
   "cell_type": "code",
   "execution_count": 407,
   "metadata": {
    "id": "vCz4CEvK8_1L"
   },
   "outputs": [],
   "source": [
    "# Adding layers [layers and activations]\n",
    "# Input Layer\n",
    "model.add(Dense(11, kernel_initializer='normal', input_dim = X_train.shape[1], activation = 'relu'))\n",
    "# Hidden Layer 2\n",
    "model.add(Dense(9, activation='relu'))\n",
    "# Output Layer\n",
    "model.add(Dense(9, activation = 'softmax'))"
   ]
  },
  {
   "cell_type": "code",
   "execution_count": 408,
   "metadata": {
    "id": "-m_auBU8DmoB"
   },
   "outputs": [],
   "source": [
    "# Create optimizer with default learning rate\n",
    "# Compile the model\n",
    "model.compile(loss='categorical_crossentropy', optimizer='adam', metrics=['accuracy'])"
   ]
  },
  {
   "cell_type": "code",
   "execution_count": 409,
   "metadata": {
    "colab": {
     "base_uri": "https://localhost:8080/"
    },
    "id": "73DyGhNvDnXi",
    "outputId": "966607dd-e9e2-4cab-ee79-caa577fe9b64",
    "scrolled": true
   },
   "outputs": [
    {
     "name": "stdout",
     "output_type": "stream",
     "text": [
      "Model: \"sequential\"\n",
      "_________________________________________________________________\n",
      " Layer (type)                Output Shape              Param #   \n",
      "=================================================================\n",
      " dense (Dense)               (None, 11)                132       \n",
      "                                                                 \n",
      " dense_1 (Dense)             (None, 9)                 108       \n",
      "                                                                 \n",
      " dense_2 (Dense)             (None, 9)                 90        \n",
      "                                                                 \n",
      "=================================================================\n",
      "Total params: 330 (1.29 KB)\n",
      "Trainable params: 330 (1.29 KB)\n",
      "Non-trainable params: 0 (0.00 Byte)\n",
      "_________________________________________________________________\n"
     ]
    }
   ],
   "source": [
    "model.summary()"
   ]
  },
  {
   "cell_type": "markdown",
   "metadata": {
    "id": "JjTbjHvNLtYn"
   },
   "source": [
    "**1.3 b - Train the classifier using previously designed Architecture**"
   ]
  },
  {
   "cell_type": "code",
   "execution_count": 410,
   "metadata": {
    "colab": {
     "base_uri": "https://localhost:8080/"
    },
    "id": "4xkQN1fnZh4U",
    "outputId": "df27f1e4-477c-48af-d7ec-ff78c1ca2e05"
   },
   "outputs": [
    {
     "name": "stdout",
     "output_type": "stream",
     "text": [
      "Epoch 1/200\n",
      "9/9 [==============================] - 2s 62ms/step - loss: 2.1696 - accuracy: 0.2318 - val_loss: 2.1426 - val_accuracy: 0.2904\n",
      "Epoch 2/200\n",
      "9/9 [==============================] - 0s 13ms/step - loss: 2.1203 - accuracy: 0.3579 - val_loss: 2.0948 - val_accuracy: 0.3897\n",
      "Epoch 3/200\n",
      "9/9 [==============================] - 0s 13ms/step - loss: 2.0728 - accuracy: 0.4305 - val_loss: 2.0470 - val_accuracy: 0.4522\n",
      "Epoch 4/200\n",
      "9/9 [==============================] - 0s 11ms/step - loss: 2.0234 - accuracy: 0.4535 - val_loss: 1.9933 - val_accuracy: 0.4926\n",
      "Epoch 5/200\n",
      "9/9 [==============================] - 0s 17ms/step - loss: 1.9676 - accuracy: 0.4775 - val_loss: 1.9329 - val_accuracy: 0.5184\n",
      "Epoch 6/200\n",
      "9/9 [==============================] - 0s 11ms/step - loss: 1.9045 - accuracy: 0.4959 - val_loss: 1.8663 - val_accuracy: 0.5294\n",
      "Epoch 7/200\n",
      "9/9 [==============================] - 0s 12ms/step - loss: 1.8355 - accuracy: 0.5032 - val_loss: 1.7927 - val_accuracy: 0.5221\n",
      "Epoch 8/200\n",
      "9/9 [==============================] - 0s 13ms/step - loss: 1.7611 - accuracy: 0.4968 - val_loss: 1.7128 - val_accuracy: 0.5294\n",
      "Epoch 9/200\n",
      "9/9 [==============================] - 0s 13ms/step - loss: 1.6797 - accuracy: 0.5023 - val_loss: 1.6310 - val_accuracy: 0.5294\n",
      "Epoch 10/200\n",
      "9/9 [==============================] - 0s 15ms/step - loss: 1.5983 - accuracy: 0.5097 - val_loss: 1.5476 - val_accuracy: 0.5478\n",
      "Epoch 11/200\n",
      "9/9 [==============================] - 0s 11ms/step - loss: 1.5160 - accuracy: 0.5189 - val_loss: 1.4666 - val_accuracy: 0.5588\n",
      "Epoch 12/200\n",
      "9/9 [==============================] - 0s 11ms/step - loss: 1.4374 - accuracy: 0.5216 - val_loss: 1.3910 - val_accuracy: 0.5625\n",
      "Epoch 13/200\n",
      "9/9 [==============================] - 0s 11ms/step - loss: 1.3652 - accuracy: 0.5262 - val_loss: 1.3228 - val_accuracy: 0.5772\n",
      "Epoch 14/200\n",
      "9/9 [==============================] - 0s 17ms/step - loss: 1.3017 - accuracy: 0.5327 - val_loss: 1.2638 - val_accuracy: 0.5882\n",
      "Epoch 15/200\n",
      "9/9 [==============================] - 0s 13ms/step - loss: 1.2473 - accuracy: 0.5327 - val_loss: 1.2156 - val_accuracy: 0.5919\n",
      "Epoch 16/200\n",
      "9/9 [==============================] - 0s 13ms/step - loss: 1.2041 - accuracy: 0.5382 - val_loss: 1.1764 - val_accuracy: 0.6029\n",
      "Epoch 17/200\n",
      "9/9 [==============================] - 0s 12ms/step - loss: 1.1693 - accuracy: 0.5409 - val_loss: 1.1459 - val_accuracy: 0.5956\n",
      "Epoch 18/200\n",
      "9/9 [==============================] - 0s 15ms/step - loss: 1.1423 - accuracy: 0.5483 - val_loss: 1.1225 - val_accuracy: 0.5956\n",
      "Epoch 19/200\n",
      "9/9 [==============================] - 0s 18ms/step - loss: 1.1211 - accuracy: 0.5529 - val_loss: 1.1053 - val_accuracy: 0.5956\n",
      "Epoch 20/200\n",
      "9/9 [==============================] - 0s 13ms/step - loss: 1.1047 - accuracy: 0.5575 - val_loss: 1.0917 - val_accuracy: 0.6029\n",
      "Epoch 21/200\n",
      "9/9 [==============================] - 0s 12ms/step - loss: 1.0920 - accuracy: 0.5575 - val_loss: 1.0811 - val_accuracy: 0.5993\n",
      "Epoch 22/200\n",
      "9/9 [==============================] - 0s 13ms/step - loss: 1.0811 - accuracy: 0.5621 - val_loss: 1.0722 - val_accuracy: 0.5919\n",
      "Epoch 23/200\n",
      "9/9 [==============================] - 0s 13ms/step - loss: 1.0725 - accuracy: 0.5658 - val_loss: 1.0646 - val_accuracy: 0.5919\n",
      "Epoch 24/200\n",
      "9/9 [==============================] - 0s 11ms/step - loss: 1.0649 - accuracy: 0.5639 - val_loss: 1.0580 - val_accuracy: 0.5919\n",
      "Epoch 25/200\n",
      "9/9 [==============================] - 0s 12ms/step - loss: 1.0575 - accuracy: 0.5649 - val_loss: 1.0520 - val_accuracy: 0.5956\n",
      "Epoch 26/200\n",
      "9/9 [==============================] - 0s 13ms/step - loss: 1.0517 - accuracy: 0.5667 - val_loss: 1.0464 - val_accuracy: 0.5882\n",
      "Epoch 27/200\n",
      "9/9 [==============================] - 0s 14ms/step - loss: 1.0461 - accuracy: 0.5658 - val_loss: 1.0416 - val_accuracy: 0.5882\n",
      "Epoch 28/200\n",
      "9/9 [==============================] - 0s 13ms/step - loss: 1.0412 - accuracy: 0.5695 - val_loss: 1.0365 - val_accuracy: 0.5919\n",
      "Epoch 29/200\n",
      "9/9 [==============================] - 0s 12ms/step - loss: 1.0366 - accuracy: 0.5722 - val_loss: 1.0329 - val_accuracy: 0.5956\n",
      "Epoch 30/200\n",
      "9/9 [==============================] - 0s 12ms/step - loss: 1.0323 - accuracy: 0.5722 - val_loss: 1.0301 - val_accuracy: 0.5956\n",
      "Epoch 31/200\n",
      "9/9 [==============================] - 0s 14ms/step - loss: 1.0282 - accuracy: 0.5731 - val_loss: 1.0256 - val_accuracy: 0.5882\n",
      "Epoch 32/200\n",
      "9/9 [==============================] - 0s 12ms/step - loss: 1.0244 - accuracy: 0.5750 - val_loss: 1.0208 - val_accuracy: 0.5882\n",
      "Epoch 33/200\n",
      "9/9 [==============================] - 0s 12ms/step - loss: 1.0211 - accuracy: 0.5768 - val_loss: 1.0172 - val_accuracy: 0.5882\n",
      "Epoch 34/200\n",
      "9/9 [==============================] - 0s 17ms/step - loss: 1.0182 - accuracy: 0.5777 - val_loss: 1.0145 - val_accuracy: 0.5882\n",
      "Epoch 35/200\n",
      "9/9 [==============================] - 0s 13ms/step - loss: 1.0149 - accuracy: 0.5787 - val_loss: 1.0116 - val_accuracy: 0.5882\n",
      "Epoch 36/200\n",
      "9/9 [==============================] - 0s 14ms/step - loss: 1.0122 - accuracy: 0.5777 - val_loss: 1.0095 - val_accuracy: 0.5809\n",
      "Epoch 37/200\n",
      "9/9 [==============================] - 0s 13ms/step - loss: 1.0095 - accuracy: 0.5759 - val_loss: 1.0064 - val_accuracy: 0.5846\n",
      "Epoch 38/200\n",
      "9/9 [==============================] - 0s 10ms/step - loss: 1.0069 - accuracy: 0.5777 - val_loss: 1.0043 - val_accuracy: 0.5882\n",
      "Epoch 39/200\n",
      "9/9 [==============================] - 0s 12ms/step - loss: 1.0044 - accuracy: 0.5796 - val_loss: 1.0012 - val_accuracy: 0.5846\n",
      "Epoch 40/200\n",
      "9/9 [==============================] - 0s 14ms/step - loss: 1.0020 - accuracy: 0.5777 - val_loss: 0.9992 - val_accuracy: 0.5882\n",
      "Epoch 41/200\n",
      "9/9 [==============================] - 0s 13ms/step - loss: 0.9996 - accuracy: 0.5823 - val_loss: 0.9958 - val_accuracy: 0.5846\n",
      "Epoch 42/200\n",
      "9/9 [==============================] - 0s 13ms/step - loss: 0.9972 - accuracy: 0.5814 - val_loss: 0.9938 - val_accuracy: 0.5882\n",
      "Epoch 43/200\n",
      "9/9 [==============================] - 0s 12ms/step - loss: 0.9950 - accuracy: 0.5814 - val_loss: 0.9909 - val_accuracy: 0.5919\n",
      "Epoch 44/200\n",
      "9/9 [==============================] - 0s 13ms/step - loss: 0.9930 - accuracy: 0.5842 - val_loss: 0.9870 - val_accuracy: 0.5956\n",
      "Epoch 45/200\n",
      "9/9 [==============================] - 0s 12ms/step - loss: 0.9905 - accuracy: 0.5860 - val_loss: 0.9851 - val_accuracy: 0.6029\n",
      "Epoch 46/200\n",
      "9/9 [==============================] - 0s 11ms/step - loss: 0.9886 - accuracy: 0.5897 - val_loss: 0.9824 - val_accuracy: 0.5993\n",
      "Epoch 47/200\n",
      "9/9 [==============================] - 0s 13ms/step - loss: 0.9869 - accuracy: 0.5897 - val_loss: 0.9796 - val_accuracy: 0.5993\n",
      "Epoch 48/200\n",
      "9/9 [==============================] - 0s 12ms/step - loss: 0.9849 - accuracy: 0.5906 - val_loss: 0.9787 - val_accuracy: 0.6029\n",
      "Epoch 49/200\n",
      "9/9 [==============================] - 0s 11ms/step - loss: 0.9827 - accuracy: 0.5897 - val_loss: 0.9768 - val_accuracy: 0.6066\n",
      "Epoch 50/200\n",
      "9/9 [==============================] - 0s 13ms/step - loss: 0.9808 - accuracy: 0.5897 - val_loss: 0.9750 - val_accuracy: 0.5993\n",
      "Epoch 51/200\n",
      "9/9 [==============================] - 0s 11ms/step - loss: 0.9790 - accuracy: 0.5943 - val_loss: 0.9729 - val_accuracy: 0.5993\n",
      "Epoch 52/200\n",
      "9/9 [==============================] - 0s 12ms/step - loss: 0.9772 - accuracy: 0.5952 - val_loss: 0.9705 - val_accuracy: 0.5956\n",
      "Epoch 53/200\n",
      "9/9 [==============================] - 0s 14ms/step - loss: 0.9754 - accuracy: 0.5934 - val_loss: 0.9698 - val_accuracy: 0.6029\n",
      "Epoch 54/200\n",
      "9/9 [==============================] - 0s 13ms/step - loss: 0.9740 - accuracy: 0.5961 - val_loss: 0.9670 - val_accuracy: 0.5993\n",
      "Epoch 55/200\n",
      "9/9 [==============================] - 0s 11ms/step - loss: 0.9724 - accuracy: 0.5971 - val_loss: 0.9658 - val_accuracy: 0.5956\n",
      "Epoch 56/200\n",
      "9/9 [==============================] - 0s 10ms/step - loss: 0.9706 - accuracy: 0.5961 - val_loss: 0.9646 - val_accuracy: 0.6066\n",
      "Epoch 57/200\n",
      "9/9 [==============================] - 0s 11ms/step - loss: 0.9692 - accuracy: 0.5934 - val_loss: 0.9633 - val_accuracy: 0.5993\n",
      "Epoch 58/200\n",
      "9/9 [==============================] - 0s 11ms/step - loss: 0.9676 - accuracy: 0.5961 - val_loss: 0.9617 - val_accuracy: 0.6029\n",
      "Epoch 59/200\n",
      "9/9 [==============================] - 0s 12ms/step - loss: 0.9663 - accuracy: 0.5961 - val_loss: 0.9605 - val_accuracy: 0.5956\n",
      "Epoch 60/200\n",
      "9/9 [==============================] - 0s 11ms/step - loss: 0.9647 - accuracy: 0.5989 - val_loss: 0.9595 - val_accuracy: 0.5956\n",
      "Epoch 61/200\n",
      "9/9 [==============================] - 0s 12ms/step - loss: 0.9635 - accuracy: 0.5952 - val_loss: 0.9572 - val_accuracy: 0.5956\n",
      "Epoch 62/200\n",
      "9/9 [==============================] - 0s 13ms/step - loss: 0.9622 - accuracy: 0.5915 - val_loss: 0.9557 - val_accuracy: 0.6029\n",
      "Epoch 63/200\n",
      "9/9 [==============================] - 0s 12ms/step - loss: 0.9609 - accuracy: 0.5952 - val_loss: 0.9550 - val_accuracy: 0.6029\n",
      "Epoch 64/200\n",
      "9/9 [==============================] - 0s 13ms/step - loss: 0.9600 - accuracy: 0.5952 - val_loss: 0.9550 - val_accuracy: 0.6029\n",
      "Epoch 65/200\n",
      "9/9 [==============================] - 0s 10ms/step - loss: 0.9583 - accuracy: 0.6007 - val_loss: 0.9535 - val_accuracy: 0.6066\n",
      "Epoch 66/200\n",
      "9/9 [==============================] - 0s 11ms/step - loss: 0.9578 - accuracy: 0.6044 - val_loss: 0.9515 - val_accuracy: 0.6103\n",
      "Epoch 67/200\n",
      "9/9 [==============================] - 0s 12ms/step - loss: 0.9561 - accuracy: 0.6044 - val_loss: 0.9503 - val_accuracy: 0.6140\n",
      "Epoch 68/200\n",
      "9/9 [==============================] - 0s 10ms/step - loss: 0.9551 - accuracy: 0.6063 - val_loss: 0.9504 - val_accuracy: 0.6176\n",
      "Epoch 69/200\n",
      "9/9 [==============================] - 0s 13ms/step - loss: 0.9542 - accuracy: 0.6035 - val_loss: 0.9484 - val_accuracy: 0.6103\n",
      "Epoch 70/200\n",
      "9/9 [==============================] - 0s 11ms/step - loss: 0.9527 - accuracy: 0.6026 - val_loss: 0.9469 - val_accuracy: 0.6066\n",
      "Epoch 71/200\n",
      "9/9 [==============================] - 0s 11ms/step - loss: 0.9517 - accuracy: 0.6072 - val_loss: 0.9461 - val_accuracy: 0.6066\n",
      "Epoch 72/200\n",
      "9/9 [==============================] - 0s 13ms/step - loss: 0.9506 - accuracy: 0.6063 - val_loss: 0.9452 - val_accuracy: 0.6066\n",
      "Epoch 73/200\n",
      "9/9 [==============================] - 0s 11ms/step - loss: 0.9498 - accuracy: 0.6090 - val_loss: 0.9458 - val_accuracy: 0.6066\n",
      "Epoch 74/200\n",
      "9/9 [==============================] - 0s 11ms/step - loss: 0.9484 - accuracy: 0.6072 - val_loss: 0.9452 - val_accuracy: 0.6103\n",
      "Epoch 75/200\n",
      "9/9 [==============================] - 0s 10ms/step - loss: 0.9473 - accuracy: 0.6053 - val_loss: 0.9433 - val_accuracy: 0.6066\n",
      "Epoch 76/200\n",
      "9/9 [==============================] - 0s 10ms/step - loss: 0.9463 - accuracy: 0.6063 - val_loss: 0.9427 - val_accuracy: 0.6029\n",
      "Epoch 77/200\n",
      "9/9 [==============================] - 0s 11ms/step - loss: 0.9457 - accuracy: 0.6053 - val_loss: 0.9432 - val_accuracy: 0.6140\n",
      "Epoch 78/200\n",
      "9/9 [==============================] - 0s 10ms/step - loss: 0.9445 - accuracy: 0.6044 - val_loss: 0.9425 - val_accuracy: 0.6140\n",
      "Epoch 79/200\n",
      "9/9 [==============================] - 0s 12ms/step - loss: 0.9437 - accuracy: 0.6063 - val_loss: 0.9403 - val_accuracy: 0.6066\n",
      "Epoch 80/200\n",
      "9/9 [==============================] - 0s 11ms/step - loss: 0.9426 - accuracy: 0.6072 - val_loss: 0.9399 - val_accuracy: 0.6176\n",
      "Epoch 81/200\n",
      "9/9 [==============================] - 0s 11ms/step - loss: 0.9415 - accuracy: 0.6090 - val_loss: 0.9387 - val_accuracy: 0.6176\n",
      "Epoch 82/200\n",
      "9/9 [==============================] - 0s 10ms/step - loss: 0.9406 - accuracy: 0.6072 - val_loss: 0.9372 - val_accuracy: 0.6250\n",
      "Epoch 83/200\n",
      "9/9 [==============================] - 0s 11ms/step - loss: 0.9395 - accuracy: 0.6081 - val_loss: 0.9370 - val_accuracy: 0.6287\n",
      "Epoch 84/200\n",
      "9/9 [==============================] - 0s 11ms/step - loss: 0.9389 - accuracy: 0.6081 - val_loss: 0.9386 - val_accuracy: 0.6176\n",
      "Epoch 85/200\n",
      "9/9 [==============================] - 0s 11ms/step - loss: 0.9379 - accuracy: 0.6072 - val_loss: 0.9376 - val_accuracy: 0.6213\n",
      "Epoch 86/200\n",
      "9/9 [==============================] - 0s 10ms/step - loss: 0.9371 - accuracy: 0.6109 - val_loss: 0.9357 - val_accuracy: 0.6250\n",
      "Epoch 87/200\n",
      "9/9 [==============================] - 0s 10ms/step - loss: 0.9363 - accuracy: 0.6109 - val_loss: 0.9332 - val_accuracy: 0.6287\n",
      "Epoch 88/200\n",
      "9/9 [==============================] - 0s 11ms/step - loss: 0.9354 - accuracy: 0.6090 - val_loss: 0.9348 - val_accuracy: 0.6176\n",
      "Epoch 89/200\n",
      "9/9 [==============================] - 0s 11ms/step - loss: 0.9342 - accuracy: 0.6072 - val_loss: 0.9335 - val_accuracy: 0.6176\n",
      "Epoch 90/200\n",
      "9/9 [==============================] - 0s 15ms/step - loss: 0.9335 - accuracy: 0.6063 - val_loss: 0.9330 - val_accuracy: 0.6176\n",
      "Epoch 91/200\n",
      "9/9 [==============================] - 0s 12ms/step - loss: 0.9325 - accuracy: 0.6072 - val_loss: 0.9324 - val_accuracy: 0.6176\n",
      "Epoch 92/200\n",
      "9/9 [==============================] - 0s 15ms/step - loss: 0.9320 - accuracy: 0.6090 - val_loss: 0.9306 - val_accuracy: 0.6324\n",
      "Epoch 93/200\n",
      "9/9 [==============================] - 0s 13ms/step - loss: 0.9308 - accuracy: 0.6145 - val_loss: 0.9307 - val_accuracy: 0.6250\n",
      "Epoch 94/200\n",
      "9/9 [==============================] - 0s 14ms/step - loss: 0.9301 - accuracy: 0.6127 - val_loss: 0.9306 - val_accuracy: 0.6250\n",
      "Epoch 95/200\n",
      "9/9 [==============================] - 0s 13ms/step - loss: 0.9295 - accuracy: 0.6109 - val_loss: 0.9302 - val_accuracy: 0.6176\n",
      "Epoch 96/200\n",
      "9/9 [==============================] - 0s 14ms/step - loss: 0.9287 - accuracy: 0.6127 - val_loss: 0.9293 - val_accuracy: 0.6250\n",
      "Epoch 97/200\n",
      "9/9 [==============================] - 0s 28ms/step - loss: 0.9279 - accuracy: 0.6136 - val_loss: 0.9299 - val_accuracy: 0.6287\n",
      "Epoch 98/200\n",
      "9/9 [==============================] - 0s 15ms/step - loss: 0.9272 - accuracy: 0.6099 - val_loss: 0.9306 - val_accuracy: 0.6324\n",
      "Epoch 99/200\n",
      "9/9 [==============================] - 0s 14ms/step - loss: 0.9267 - accuracy: 0.6127 - val_loss: 0.9285 - val_accuracy: 0.6287\n",
      "Epoch 100/200\n",
      "9/9 [==============================] - 0s 15ms/step - loss: 0.9256 - accuracy: 0.6145 - val_loss: 0.9259 - val_accuracy: 0.6287\n",
      "Epoch 101/200\n",
      "9/9 [==============================] - 0s 14ms/step - loss: 0.9251 - accuracy: 0.6109 - val_loss: 0.9248 - val_accuracy: 0.6250\n",
      "Epoch 102/200\n",
      "9/9 [==============================] - 0s 13ms/step - loss: 0.9242 - accuracy: 0.6090 - val_loss: 0.9261 - val_accuracy: 0.6250\n",
      "Epoch 103/200\n",
      "9/9 [==============================] - 0s 14ms/step - loss: 0.9236 - accuracy: 0.6090 - val_loss: 0.9261 - val_accuracy: 0.6287\n",
      "Epoch 104/200\n",
      "9/9 [==============================] - 0s 14ms/step - loss: 0.9235 - accuracy: 0.6136 - val_loss: 0.9269 - val_accuracy: 0.6324\n",
      "Epoch 105/200\n",
      "9/9 [==============================] - 0s 17ms/step - loss: 0.9224 - accuracy: 0.6072 - val_loss: 0.9267 - val_accuracy: 0.6287\n",
      "Epoch 106/200\n",
      "9/9 [==============================] - 0s 16ms/step - loss: 0.9217 - accuracy: 0.6063 - val_loss: 0.9266 - val_accuracy: 0.6287\n",
      "Epoch 107/200\n",
      "9/9 [==============================] - 0s 20ms/step - loss: 0.9211 - accuracy: 0.6072 - val_loss: 0.9263 - val_accuracy: 0.6213\n",
      "Epoch 108/200\n",
      "9/9 [==============================] - 0s 13ms/step - loss: 0.9207 - accuracy: 0.6026 - val_loss: 0.9269 - val_accuracy: 0.6324\n",
      "Epoch 109/200\n",
      "9/9 [==============================] - 0s 13ms/step - loss: 0.9197 - accuracy: 0.6063 - val_loss: 0.9243 - val_accuracy: 0.6287\n",
      "Epoch 110/200\n",
      "9/9 [==============================] - 0s 13ms/step - loss: 0.9195 - accuracy: 0.6090 - val_loss: 0.9242 - val_accuracy: 0.6250\n",
      "Epoch 111/200\n",
      "9/9 [==============================] - 0s 12ms/step - loss: 0.9184 - accuracy: 0.6090 - val_loss: 0.9251 - val_accuracy: 0.6250\n",
      "Epoch 112/200\n",
      "9/9 [==============================] - 0s 14ms/step - loss: 0.9179 - accuracy: 0.6090 - val_loss: 0.9255 - val_accuracy: 0.6176\n",
      "Epoch 113/200\n",
      "9/9 [==============================] - 0s 13ms/step - loss: 0.9174 - accuracy: 0.6053 - val_loss: 0.9249 - val_accuracy: 0.6287\n",
      "Epoch 114/200\n",
      "9/9 [==============================] - 0s 13ms/step - loss: 0.9169 - accuracy: 0.6053 - val_loss: 0.9236 - val_accuracy: 0.6213\n",
      "Epoch 115/200\n",
      "9/9 [==============================] - 0s 16ms/step - loss: 0.9158 - accuracy: 0.6053 - val_loss: 0.9232 - val_accuracy: 0.6287\n",
      "Epoch 116/200\n",
      "9/9 [==============================] - 0s 14ms/step - loss: 0.9155 - accuracy: 0.6099 - val_loss: 0.9229 - val_accuracy: 0.6287\n",
      "Epoch 117/200\n"
     ]
    },
    {
     "name": "stdout",
     "output_type": "stream",
     "text": [
      "9/9 [==============================] - 0s 17ms/step - loss: 0.9153 - accuracy: 0.6081 - val_loss: 0.9226 - val_accuracy: 0.6287\n",
      "Epoch 118/200\n",
      "9/9 [==============================] - 0s 15ms/step - loss: 0.9140 - accuracy: 0.6072 - val_loss: 0.9217 - val_accuracy: 0.6250\n",
      "Epoch 119/200\n",
      "9/9 [==============================] - 0s 16ms/step - loss: 0.9134 - accuracy: 0.6072 - val_loss: 0.9227 - val_accuracy: 0.6287\n",
      "Epoch 120/200\n",
      "9/9 [==============================] - 0s 14ms/step - loss: 0.9129 - accuracy: 0.6109 - val_loss: 0.9237 - val_accuracy: 0.6250\n",
      "Epoch 121/200\n",
      "9/9 [==============================] - 0s 15ms/step - loss: 0.9126 - accuracy: 0.6081 - val_loss: 0.9230 - val_accuracy: 0.6287\n",
      "Epoch 122/200\n",
      "9/9 [==============================] - 0s 12ms/step - loss: 0.9116 - accuracy: 0.6090 - val_loss: 0.9223 - val_accuracy: 0.6250\n",
      "Epoch 123/200\n",
      "9/9 [==============================] - 0s 14ms/step - loss: 0.9110 - accuracy: 0.6127 - val_loss: 0.9226 - val_accuracy: 0.6250\n",
      "Epoch 124/200\n",
      "9/9 [==============================] - 0s 14ms/step - loss: 0.9106 - accuracy: 0.6118 - val_loss: 0.9230 - val_accuracy: 0.6324\n",
      "Epoch 125/200\n",
      "9/9 [==============================] - 0s 14ms/step - loss: 0.9100 - accuracy: 0.6090 - val_loss: 0.9215 - val_accuracy: 0.6324\n",
      "Epoch 126/200\n",
      "9/9 [==============================] - 0s 15ms/step - loss: 0.9089 - accuracy: 0.6136 - val_loss: 0.9221 - val_accuracy: 0.6250\n",
      "Epoch 127/200\n",
      "9/9 [==============================] - 0s 13ms/step - loss: 0.9088 - accuracy: 0.6155 - val_loss: 0.9218 - val_accuracy: 0.6213\n",
      "Epoch 128/200\n",
      "9/9 [==============================] - 0s 12ms/step - loss: 0.9083 - accuracy: 0.6099 - val_loss: 0.9198 - val_accuracy: 0.6360\n",
      "Epoch 129/200\n",
      "9/9 [==============================] - 0s 14ms/step - loss: 0.9074 - accuracy: 0.6118 - val_loss: 0.9190 - val_accuracy: 0.6324\n",
      "Epoch 130/200\n",
      "9/9 [==============================] - 0s 13ms/step - loss: 0.9072 - accuracy: 0.6099 - val_loss: 0.9204 - val_accuracy: 0.6324\n",
      "Epoch 131/200\n",
      "9/9 [==============================] - 0s 14ms/step - loss: 0.9061 - accuracy: 0.6099 - val_loss: 0.9190 - val_accuracy: 0.6324\n",
      "Epoch 132/200\n",
      "9/9 [==============================] - 0s 16ms/step - loss: 0.9062 - accuracy: 0.6109 - val_loss: 0.9180 - val_accuracy: 0.6324\n",
      "Epoch 133/200\n",
      "9/9 [==============================] - 0s 13ms/step - loss: 0.9047 - accuracy: 0.6136 - val_loss: 0.9190 - val_accuracy: 0.6287\n",
      "Epoch 134/200\n",
      "9/9 [==============================] - 0s 13ms/step - loss: 0.9041 - accuracy: 0.6155 - val_loss: 0.9208 - val_accuracy: 0.6213\n",
      "Epoch 135/200\n",
      "9/9 [==============================] - 0s 12ms/step - loss: 0.9038 - accuracy: 0.6136 - val_loss: 0.9200 - val_accuracy: 0.6250\n",
      "Epoch 136/200\n",
      "9/9 [==============================] - 0s 13ms/step - loss: 0.9030 - accuracy: 0.6173 - val_loss: 0.9193 - val_accuracy: 0.6287\n",
      "Epoch 137/200\n",
      "9/9 [==============================] - 0s 13ms/step - loss: 0.9025 - accuracy: 0.6127 - val_loss: 0.9185 - val_accuracy: 0.6324\n",
      "Epoch 138/200\n",
      "9/9 [==============================] - 0s 13ms/step - loss: 0.9026 - accuracy: 0.6145 - val_loss: 0.9175 - val_accuracy: 0.6324\n",
      "Epoch 139/200\n",
      "9/9 [==============================] - 0s 13ms/step - loss: 0.9015 - accuracy: 0.6182 - val_loss: 0.9182 - val_accuracy: 0.6324\n",
      "Epoch 140/200\n",
      "9/9 [==============================] - 0s 18ms/step - loss: 0.9011 - accuracy: 0.6173 - val_loss: 0.9182 - val_accuracy: 0.6360\n",
      "Epoch 141/200\n",
      "9/9 [==============================] - 0s 12ms/step - loss: 0.9006 - accuracy: 0.6173 - val_loss: 0.9192 - val_accuracy: 0.6250\n",
      "Epoch 142/200\n",
      "9/9 [==============================] - 0s 13ms/step - loss: 0.8996 - accuracy: 0.6210 - val_loss: 0.9185 - val_accuracy: 0.6287\n",
      "Epoch 143/200\n",
      "9/9 [==============================] - 0s 14ms/step - loss: 0.8991 - accuracy: 0.6191 - val_loss: 0.9171 - val_accuracy: 0.6324\n",
      "Epoch 144/200\n",
      "9/9 [==============================] - 0s 13ms/step - loss: 0.8989 - accuracy: 0.6210 - val_loss: 0.9174 - val_accuracy: 0.6287\n",
      "Epoch 145/200\n",
      "9/9 [==============================] - 0s 13ms/step - loss: 0.8983 - accuracy: 0.6201 - val_loss: 0.9165 - val_accuracy: 0.6360\n",
      "Epoch 146/200\n",
      "9/9 [==============================] - 0s 13ms/step - loss: 0.8977 - accuracy: 0.6182 - val_loss: 0.9163 - val_accuracy: 0.6360\n",
      "Epoch 147/200\n",
      "9/9 [==============================] - 0s 12ms/step - loss: 0.8974 - accuracy: 0.6210 - val_loss: 0.9172 - val_accuracy: 0.6250\n",
      "Epoch 148/200\n",
      "9/9 [==============================] - 0s 11ms/step - loss: 0.8970 - accuracy: 0.6210 - val_loss: 0.9156 - val_accuracy: 0.6360\n",
      "Epoch 149/200\n",
      "9/9 [==============================] - 0s 12ms/step - loss: 0.8965 - accuracy: 0.6182 - val_loss: 0.9144 - val_accuracy: 0.6324\n",
      "Epoch 150/200\n",
      "9/9 [==============================] - 0s 11ms/step - loss: 0.8960 - accuracy: 0.6201 - val_loss: 0.9154 - val_accuracy: 0.6397\n",
      "Epoch 151/200\n",
      "9/9 [==============================] - 0s 11ms/step - loss: 0.8959 - accuracy: 0.6164 - val_loss: 0.9151 - val_accuracy: 0.6397\n",
      "Epoch 152/200\n",
      "9/9 [==============================] - 0s 11ms/step - loss: 0.8950 - accuracy: 0.6201 - val_loss: 0.9165 - val_accuracy: 0.6287\n",
      "Epoch 153/200\n",
      "9/9 [==============================] - 0s 10ms/step - loss: 0.8947 - accuracy: 0.6210 - val_loss: 0.9164 - val_accuracy: 0.6360\n",
      "Epoch 154/200\n",
      "9/9 [==============================] - 0s 10ms/step - loss: 0.8941 - accuracy: 0.6210 - val_loss: 0.9167 - val_accuracy: 0.6287\n",
      "Epoch 155/200\n",
      "9/9 [==============================] - 0s 11ms/step - loss: 0.8935 - accuracy: 0.6210 - val_loss: 0.9161 - val_accuracy: 0.6360\n",
      "Epoch 156/200\n",
      "9/9 [==============================] - 0s 11ms/step - loss: 0.8935 - accuracy: 0.6164 - val_loss: 0.9156 - val_accuracy: 0.6397\n",
      "Epoch 157/200\n",
      "9/9 [==============================] - 0s 11ms/step - loss: 0.8930 - accuracy: 0.6182 - val_loss: 0.9147 - val_accuracy: 0.6360\n",
      "Epoch 158/200\n",
      "9/9 [==============================] - 0s 9ms/step - loss: 0.8924 - accuracy: 0.6201 - val_loss: 0.9171 - val_accuracy: 0.6360\n",
      "Epoch 159/200\n",
      "9/9 [==============================] - 0s 18ms/step - loss: 0.8916 - accuracy: 0.6219 - val_loss: 0.9148 - val_accuracy: 0.6397\n",
      "Epoch 160/200\n",
      "9/9 [==============================] - 0s 10ms/step - loss: 0.8910 - accuracy: 0.6265 - val_loss: 0.9152 - val_accuracy: 0.6360\n",
      "Epoch 161/200\n",
      "9/9 [==============================] - 0s 11ms/step - loss: 0.8906 - accuracy: 0.6247 - val_loss: 0.9156 - val_accuracy: 0.6397\n",
      "Epoch 162/200\n",
      "9/9 [==============================] - 0s 10ms/step - loss: 0.8905 - accuracy: 0.6237 - val_loss: 0.9151 - val_accuracy: 0.6397\n",
      "Epoch 163/200\n",
      "9/9 [==============================] - 0s 10ms/step - loss: 0.8896 - accuracy: 0.6265 - val_loss: 0.9154 - val_accuracy: 0.6360\n",
      "Epoch 164/200\n",
      "9/9 [==============================] - 0s 9ms/step - loss: 0.8889 - accuracy: 0.6283 - val_loss: 0.9154 - val_accuracy: 0.6360\n",
      "Epoch 165/200\n",
      "9/9 [==============================] - 0s 10ms/step - loss: 0.8886 - accuracy: 0.6283 - val_loss: 0.9140 - val_accuracy: 0.6360\n",
      "Epoch 166/200\n",
      "9/9 [==============================] - 0s 13ms/step - loss: 0.8880 - accuracy: 0.6228 - val_loss: 0.9141 - val_accuracy: 0.6397\n",
      "Epoch 167/200\n",
      "9/9 [==============================] - 0s 11ms/step - loss: 0.8877 - accuracy: 0.6237 - val_loss: 0.9137 - val_accuracy: 0.6360\n",
      "Epoch 168/200\n",
      "9/9 [==============================] - 0s 11ms/step - loss: 0.8872 - accuracy: 0.6265 - val_loss: 0.9132 - val_accuracy: 0.6397\n",
      "Epoch 169/200\n",
      "9/9 [==============================] - 0s 11ms/step - loss: 0.8867 - accuracy: 0.6237 - val_loss: 0.9134 - val_accuracy: 0.6360\n",
      "Epoch 170/200\n",
      "9/9 [==============================] - 0s 11ms/step - loss: 0.8862 - accuracy: 0.6293 - val_loss: 0.9156 - val_accuracy: 0.6250\n",
      "Epoch 171/200\n",
      "9/9 [==============================] - 0s 11ms/step - loss: 0.8857 - accuracy: 0.6274 - val_loss: 0.9152 - val_accuracy: 0.6324\n",
      "Epoch 172/200\n",
      "9/9 [==============================] - 0s 11ms/step - loss: 0.8854 - accuracy: 0.6237 - val_loss: 0.9130 - val_accuracy: 0.6324\n",
      "Epoch 173/200\n",
      "9/9 [==============================] - 0s 10ms/step - loss: 0.8845 - accuracy: 0.6265 - val_loss: 0.9144 - val_accuracy: 0.6324\n",
      "Epoch 174/200\n",
      "9/9 [==============================] - 0s 10ms/step - loss: 0.8846 - accuracy: 0.6293 - val_loss: 0.9157 - val_accuracy: 0.6360\n"
     ]
    },
    {
     "name": "stdout",
     "output_type": "stream",
     "text": [
      "Epoch 175/200\n",
      "9/9 [==============================] - 0s 11ms/step - loss: 0.8842 - accuracy: 0.6293 - val_loss: 0.9153 - val_accuracy: 0.6250\n",
      "Epoch 176/200\n",
      "9/9 [==============================] - 0s 10ms/step - loss: 0.8833 - accuracy: 0.6311 - val_loss: 0.9153 - val_accuracy: 0.6287\n",
      "Epoch 177/200\n",
      "9/9 [==============================] - 0s 11ms/step - loss: 0.8830 - accuracy: 0.6283 - val_loss: 0.9131 - val_accuracy: 0.6287\n",
      "Epoch 178/200\n",
      "9/9 [==============================] - 0s 11ms/step - loss: 0.8825 - accuracy: 0.6311 - val_loss: 0.9135 - val_accuracy: 0.6250\n",
      "Epoch 179/200\n",
      "9/9 [==============================] - 0s 12ms/step - loss: 0.8820 - accuracy: 0.6311 - val_loss: 0.9136 - val_accuracy: 0.6250\n",
      "Epoch 180/200\n",
      "9/9 [==============================] - 0s 12ms/step - loss: 0.8814 - accuracy: 0.6274 - val_loss: 0.9142 - val_accuracy: 0.6250\n",
      "Epoch 181/200\n",
      "9/9 [==============================] - 0s 11ms/step - loss: 0.8808 - accuracy: 0.6302 - val_loss: 0.9149 - val_accuracy: 0.6250\n",
      "Epoch 182/200\n",
      "9/9 [==============================] - 0s 11ms/step - loss: 0.8804 - accuracy: 0.6293 - val_loss: 0.9145 - val_accuracy: 0.6287\n",
      "Epoch 183/200\n",
      "9/9 [==============================] - 0s 11ms/step - loss: 0.8800 - accuracy: 0.6283 - val_loss: 0.9142 - val_accuracy: 0.6360\n",
      "Epoch 184/200\n",
      "9/9 [==============================] - 0s 10ms/step - loss: 0.8797 - accuracy: 0.6293 - val_loss: 0.9144 - val_accuracy: 0.6324\n",
      "Epoch 185/200\n",
      "9/9 [==============================] - 0s 17ms/step - loss: 0.8792 - accuracy: 0.6283 - val_loss: 0.9153 - val_accuracy: 0.6287\n",
      "Epoch 186/200\n",
      "9/9 [==============================] - 0s 10ms/step - loss: 0.8786 - accuracy: 0.6302 - val_loss: 0.9132 - val_accuracy: 0.6287\n",
      "Epoch 187/200\n",
      "9/9 [==============================] - 0s 11ms/step - loss: 0.8784 - accuracy: 0.6247 - val_loss: 0.9133 - val_accuracy: 0.6287\n",
      "Epoch 188/200\n",
      "9/9 [==============================] - 0s 11ms/step - loss: 0.8780 - accuracy: 0.6274 - val_loss: 0.9127 - val_accuracy: 0.6360\n",
      "Epoch 189/200\n",
      "9/9 [==============================] - 0s 10ms/step - loss: 0.8771 - accuracy: 0.6283 - val_loss: 0.9135 - val_accuracy: 0.6324\n",
      "Epoch 190/200\n",
      "9/9 [==============================] - 0s 13ms/step - loss: 0.8775 - accuracy: 0.6329 - val_loss: 0.9140 - val_accuracy: 0.6250\n",
      "Epoch 191/200\n",
      "9/9 [==============================] - 0s 10ms/step - loss: 0.8767 - accuracy: 0.6339 - val_loss: 0.9158 - val_accuracy: 0.6176\n",
      "Epoch 192/200\n",
      "9/9 [==============================] - 0s 11ms/step - loss: 0.8762 - accuracy: 0.6339 - val_loss: 0.9146 - val_accuracy: 0.6176\n",
      "Epoch 193/200\n",
      "9/9 [==============================] - 0s 11ms/step - loss: 0.8759 - accuracy: 0.6283 - val_loss: 0.9136 - val_accuracy: 0.6360\n",
      "Epoch 194/200\n",
      "9/9 [==============================] - 0s 10ms/step - loss: 0.8753 - accuracy: 0.6265 - val_loss: 0.9135 - val_accuracy: 0.6287\n",
      "Epoch 195/200\n",
      "9/9 [==============================] - 0s 10ms/step - loss: 0.8750 - accuracy: 0.6302 - val_loss: 0.9144 - val_accuracy: 0.6250\n",
      "Epoch 196/200\n",
      "9/9 [==============================] - 0s 10ms/step - loss: 0.8744 - accuracy: 0.6320 - val_loss: 0.9153 - val_accuracy: 0.6213\n",
      "Epoch 197/200\n",
      "9/9 [==============================] - 0s 13ms/step - loss: 0.8741 - accuracy: 0.6302 - val_loss: 0.9137 - val_accuracy: 0.6250\n",
      "Epoch 198/200\n",
      "9/9 [==============================] - 0s 11ms/step - loss: 0.8732 - accuracy: 0.6320 - val_loss: 0.9149 - val_accuracy: 0.6250\n",
      "Epoch 199/200\n",
      "9/9 [==============================] - 0s 11ms/step - loss: 0.8727 - accuracy: 0.6366 - val_loss: 0.9158 - val_accuracy: 0.6213\n",
      "Epoch 200/200\n",
      "9/9 [==============================] - 0s 11ms/step - loss: 0.8726 - accuracy: 0.6329 - val_loss: 0.9153 - val_accuracy: 0.6360\n"
     ]
    }
   ],
   "source": [
    "history = model.fit(X_train, Y_train, validation_data=(X_test, Y_test), epochs=200, batch_size=128)"
   ]
  },
  {
   "cell_type": "markdown",
   "metadata": {
    "id": "cwfiaYEncFtl"
   },
   "source": [
    "**1.3 c - Plot 2 separate visuals.**\n",
    "\n",
    "**i) Training Loss and Validation Loss**"
   ]
  },
  {
   "cell_type": "code",
   "execution_count": 411,
   "metadata": {
    "colab": {
     "base_uri": "https://localhost:8080/",
     "height": 472
    },
    "id": "NPKgVNVTc_bw",
    "outputId": "f51f0462-6cad-4e3a-e1d5-c0b841f9d957"
   },
   "outputs": [
    {
     "data": {
      "image/png": "[encoded data removed]",
      "text/plain": [
       "<Figure size 432x288 with 1 Axes>"
      ]
     },
     "metadata": {
      "needs_background": "light"
     },
     "output_type": "display_data"
    }
   ],
   "source": [
    "# To get the training loss\n",
    "loss_train = model.history.history['loss']\n",
    "# To get the validation loss\n",
    "loss_val = model.history.history['val_loss']\n",
    "epochs = range(1,200+1)\n",
    "# Plotting Training and Validation loss at different epochs\n",
    "plt.plot(epochs, loss_train, 'g', label='Training loss')\n",
    "plt.plot(epochs, loss_val, 'b', label='validation loss')\n",
    "# To add the title as 'Training and Validation loss' to the plot\n",
    "plt.title('Training and Validation loss')\n",
    "# To add xlabel as 'Epochs' to the plot\n",
    "plt.xlabel('Epochs')\n",
    "# To add xlabel as 'Loss' to the plot\n",
    "plt.ylabel('Loss')\n",
    "\n",
    "plt.legend()\n",
    "plt.show()"
   ]
  },
  {
   "cell_type": "markdown",
   "metadata": {
    "id": "iq0H67tHcpmz"
   },
   "source": [
    "**1.3 c - ii) Training Accuracy and Validation Accuracy**"
   ]
  },
  {
   "cell_type": "code",
   "execution_count": 412,
   "metadata": {
    "colab": {
     "base_uri": "https://localhost:8080/",
     "height": 472
    },
    "id": "VK1WYLSmdAXd",
    "outputId": "64b088ee-9488-4aaf-f605-0bdfa034c14f"
   },
   "outputs": [
    {
     "data": {
      "image/png": "[encoded data removed]",
      "text/plain": [
       "<Figure size 432x288 with 1 Axes>"
      ]
     },
     "metadata": {
      "needs_background": "light"
     },
     "output_type": "display_data"
    }
   ],
   "source": [
    "# To get the training loss\n",
    "Accuracy_train = model.history.history['accuracy']\n",
    "# To get the validation loss\n",
    "Accuracy_val = model.history.history['val_accuracy']\n",
    "epochs = range(1,200+1)\n",
    "# Plotting Training and Validation loss at different epochs\n",
    "plt.plot(epochs, Accuracy_train, 'g', label='Training Accuracy')\n",
    "plt.plot(epochs, Accuracy_val, 'b', label='validation Accuracy')\n",
    "# To add the title as 'Training and Validation loss' to the plot\n",
    "plt.title('Training and Validation Accuracies')\n",
    "# To add xlabel as 'Epochs' to the plot\n",
    "plt.xlabel('Epochs')\n",
    "# To add xlabel as 'Loss' to the plot\n",
    "plt.ylabel('Accuracy')\n",
    "\n",
    "plt.legend()\n",
    "plt.show()"
   ]
  },
  {
   "cell_type": "markdown",
   "metadata": {},
   "source": [
    "**InSights:**\n",
    "\n",
    "- The training loss (0.8726) and validation loss (0.9153) are close, and both are relatively high. Low accuracy and high loss values are indicative of underfitting.\n",
    "- Need to update the existing architecture or with new architecture to improve the performance of the model."
   ]
  },
  {
   "cell_type": "markdown",
   "metadata": {
    "id": "UpzKQ4btfyjX"
   },
   "source": [
    "**1.3 d - Design new architecture/update existing architecture in attempt to improve the performance of the model**"
   ]
  },
  {
   "cell_type": "markdown",
   "metadata": {
    "id": "icHLH_YDrbvH"
   },
   "source": [
    "**1.3 d A) By Adding \"REGULARIZATION\" techniques for improving the model to the existing architecture**"
   ]
  },
  {
   "cell_type": "code",
   "execution_count": 413,
   "metadata": {},
   "outputs": [],
   "source": [
    "# Clearing the session in Keras\n",
    "backend.clear_session()\n",
    "# To receive the same output everytime\n",
    "# Fixing the seed for NumPy random number generators to 42\n",
    "np.random.seed(42)\n",
    "# Fixing the set the seed for the Python random number generator to 42\n",
    "import random\n",
    "random.seed(42)\n",
    "# Fixing the seed for the TensorFlow random number generator to 42\n",
    "tf.random.set_seed(42)"
   ]
  },
  {
   "cell_type": "code",
   "execution_count": 414,
   "metadata": {
    "id": "2xGVa2kRgA2E"
   },
   "outputs": [],
   "source": [
    "# Create the model\n",
    "models = Sequential()"
   ]
  },
  {
   "cell_type": "code",
   "execution_count": 415,
   "metadata": {
    "id": "Ivr51uzFgA57"
   },
   "outputs": [],
   "source": [
    "# Adding layers [layers and activations]\n",
    "# Input Layer\n",
    "models.add(Dense(11, kernel_initializer='normal', input_dim = X_train.shape[1], activation = 'relu'))\n",
    "model.add(BatchNormalization())\n",
    "# Hidden Layer 2\n",
    "models.add(Dense(9, activation='relu'))\n",
    "# Output Layer\n",
    "models.add(Dense(9, activation = 'softmax'))"
   ]
  },
  {
   "cell_type": "code",
   "execution_count": 416,
   "metadata": {
    "id": "O4mUeKVaRQ9l"
   },
   "outputs": [],
   "source": [
    "# Create optimizer with default learning rate\n",
    "# Compile the model\n",
    "models.compile(loss='categorical_crossentropy', optimizer='adam', metrics=['accuracy'])"
   ]
  },
  {
   "cell_type": "code",
   "execution_count": 417,
   "metadata": {
    "colab": {
     "base_uri": "https://localhost:8080/"
    },
    "id": "XkOIoPrgRYsV",
    "outputId": "f2525909-b03e-4136-a02b-d337035f5a8f"
   },
   "outputs": [
    {
     "name": "stdout",
     "output_type": "stream",
     "text": [
      "Model: \"sequential\"\n",
      "_________________________________________________________________\n",
      " Layer (type)                Output Shape              Param #   \n",
      "=================================================================\n",
      " dense (Dense)               (None, 11)                132       \n",
      "                                                                 \n",
      " dense_1 (Dense)             (None, 9)                 108       \n",
      "                                                                 \n",
      " dense_2 (Dense)             (None, 9)                 90        \n",
      "                                                                 \n",
      "=================================================================\n",
      "Total params: 330 (1.29 KB)\n",
      "Trainable params: 330 (1.29 KB)\n",
      "Non-trainable params: 0 (0.00 Byte)\n",
      "_________________________________________________________________\n"
     ]
    }
   ],
   "source": [
    "models.summary()"
   ]
  },
  {
   "cell_type": "code",
   "execution_count": 418,
   "metadata": {
    "colab": {
     "base_uri": "https://localhost:8080/"
    },
    "id": "mDq_bgsWRuvN",
    "outputId": "16642bb6-5618-455f-960f-64068517d770"
   },
   "outputs": [
    {
     "name": "stdout",
     "output_type": "stream",
     "text": [
      "Epoch 1/200\n",
      "9/9 [==============================] - 2s 51ms/step - loss: 2.1696 - accuracy: 0.2318 - val_loss: 2.1426 - val_accuracy: 0.2904\n",
      "Epoch 2/200\n",
      "9/9 [==============================] - 0s 10ms/step - loss: 2.1203 - accuracy: 0.3579 - val_loss: 2.0948 - val_accuracy: 0.3897\n",
      "Epoch 3/200\n",
      "9/9 [==============================] - 0s 14ms/step - loss: 2.0728 - accuracy: 0.4305 - val_loss: 2.0470 - val_accuracy: 0.4522\n",
      "Epoch 4/200\n",
      "9/9 [==============================] - 0s 16ms/step - loss: 2.0234 - accuracy: 0.4535 - val_loss: 1.9933 - val_accuracy: 0.4926\n",
      "Epoch 5/200\n",
      "9/9 [==============================] - 0s 13ms/step - loss: 1.9676 - accuracy: 0.4775 - val_loss: 1.9329 - val_accuracy: 0.5184\n",
      "Epoch 6/200\n",
      "9/9 [==============================] - 0s 14ms/step - loss: 1.9045 - accuracy: 0.4959 - val_loss: 1.8663 - val_accuracy: 0.5294\n",
      "Epoch 7/200\n",
      "9/9 [==============================] - 0s 14ms/step - loss: 1.8355 - accuracy: 0.5032 - val_loss: 1.7927 - val_accuracy: 0.5221\n",
      "Epoch 8/200\n",
      "9/9 [==============================] - 0s 17ms/step - loss: 1.7611 - accuracy: 0.4968 - val_loss: 1.7128 - val_accuracy: 0.5294\n",
      "Epoch 9/200\n",
      "9/9 [==============================] - 0s 14ms/step - loss: 1.6797 - accuracy: 0.5023 - val_loss: 1.6310 - val_accuracy: 0.5294\n",
      "Epoch 10/200\n",
      "9/9 [==============================] - 0s 14ms/step - loss: 1.5983 - accuracy: 0.5097 - val_loss: 1.5476 - val_accuracy: 0.5478\n",
      "Epoch 11/200\n",
      "9/9 [==============================] - 0s 20ms/step - loss: 1.5160 - accuracy: 0.5189 - val_loss: 1.4666 - val_accuracy: 0.5588\n",
      "Epoch 12/200\n",
      "9/9 [==============================] - 0s 21ms/step - loss: 1.4374 - accuracy: 0.5216 - val_loss: 1.3910 - val_accuracy: 0.5625\n",
      "Epoch 13/200\n",
      "9/9 [==============================] - 0s 17ms/step - loss: 1.3652 - accuracy: 0.5262 - val_loss: 1.3228 - val_accuracy: 0.5772\n",
      "Epoch 14/200\n",
      "9/9 [==============================] - 0s 14ms/step - loss: 1.3017 - accuracy: 0.5327 - val_loss: 1.2638 - val_accuracy: 0.5882\n",
      "Epoch 15/200\n",
      "9/9 [==============================] - 0s 16ms/step - loss: 1.2473 - accuracy: 0.5327 - val_loss: 1.2156 - val_accuracy: 0.5919\n",
      "Epoch 16/200\n",
      "9/9 [==============================] - 0s 17ms/step - loss: 1.2041 - accuracy: 0.5382 - val_loss: 1.1764 - val_accuracy: 0.6029\n",
      "Epoch 17/200\n",
      "9/9 [==============================] - 0s 15ms/step - loss: 1.1693 - accuracy: 0.5409 - val_loss: 1.1459 - val_accuracy: 0.5956\n",
      "Epoch 18/200\n",
      "9/9 [==============================] - 0s 13ms/step - loss: 1.1423 - accuracy: 0.5483 - val_loss: 1.1225 - val_accuracy: 0.5956\n",
      "Epoch 19/200\n",
      "9/9 [==============================] - 0s 16ms/step - loss: 1.1211 - accuracy: 0.5529 - val_loss: 1.1053 - val_accuracy: 0.5956\n",
      "Epoch 20/200\n",
      "9/9 [==============================] - 0s 17ms/step - loss: 1.1047 - accuracy: 0.5575 - val_loss: 1.0917 - val_accuracy: 0.6029\n",
      "Epoch 21/200\n",
      "9/9 [==============================] - 0s 17ms/step - loss: 1.0920 - accuracy: 0.5575 - val_loss: 1.0811 - val_accuracy: 0.5993\n",
      "Epoch 22/200\n",
      "9/9 [==============================] - 0s 18ms/step - loss: 1.0811 - accuracy: 0.5621 - val_loss: 1.0722 - val_accuracy: 0.5919\n",
      "Epoch 23/200\n",
      "9/9 [==============================] - 0s 21ms/step - loss: 1.0725 - accuracy: 0.5658 - val_loss: 1.0646 - val_accuracy: 0.5919\n",
      "Epoch 24/200\n",
      "9/9 [==============================] - 0s 16ms/step - loss: 1.0649 - accuracy: 0.5639 - val_loss: 1.0580 - val_accuracy: 0.5919\n",
      "Epoch 25/200\n",
      "9/9 [==============================] - 0s 14ms/step - loss: 1.0575 - accuracy: 0.5649 - val_loss: 1.0520 - val_accuracy: 0.5956\n",
      "Epoch 26/200\n",
      "9/9 [==============================] - 0s 14ms/step - loss: 1.0517 - accuracy: 0.5667 - val_loss: 1.0464 - val_accuracy: 0.5882\n",
      "Epoch 27/200\n",
      "9/9 [==============================] - 0s 17ms/step - loss: 1.0461 - accuracy: 0.5658 - val_loss: 1.0416 - val_accuracy: 0.5882\n",
      "Epoch 28/200\n",
      "9/9 [==============================] - 0s 16ms/step - loss: 1.0412 - accuracy: 0.5695 - val_loss: 1.0365 - val_accuracy: 0.5919\n",
      "Epoch 29/200\n",
      "9/9 [==============================] - 0s 16ms/step - loss: 1.0366 - accuracy: 0.5722 - val_loss: 1.0329 - val_accuracy: 0.5956\n",
      "Epoch 30/200\n",
      "9/9 [==============================] - 0s 18ms/step - loss: 1.0323 - accuracy: 0.5722 - val_loss: 1.0301 - val_accuracy: 0.5956\n",
      "Epoch 31/200\n",
      "9/9 [==============================] - 0s 14ms/step - loss: 1.0282 - accuracy: 0.5731 - val_loss: 1.0256 - val_accuracy: 0.5882\n",
      "Epoch 32/200\n",
      "9/9 [==============================] - 0s 14ms/step - loss: 1.0244 - accuracy: 0.5750 - val_loss: 1.0208 - val_accuracy: 0.5882\n",
      "Epoch 33/200\n",
      "9/9 [==============================] - 0s 14ms/step - loss: 1.0211 - accuracy: 0.5768 - val_loss: 1.0172 - val_accuracy: 0.5882\n",
      "Epoch 34/200\n",
      "9/9 [==============================] - 0s 16ms/step - loss: 1.0182 - accuracy: 0.5777 - val_loss: 1.0145 - val_accuracy: 0.5882\n",
      "Epoch 35/200\n",
      "9/9 [==============================] - 0s 15ms/step - loss: 1.0149 - accuracy: 0.5787 - val_loss: 1.0116 - val_accuracy: 0.5882\n",
      "Epoch 36/200\n",
      "9/9 [==============================] - 0s 15ms/step - loss: 1.0122 - accuracy: 0.5777 - val_loss: 1.0095 - val_accuracy: 0.5809\n",
      "Epoch 37/200\n",
      "9/9 [==============================] - 0s 15ms/step - loss: 1.0095 - accuracy: 0.5759 - val_loss: 1.0064 - val_accuracy: 0.5846\n",
      "Epoch 38/200\n",
      "9/9 [==============================] - 0s 19ms/step - loss: 1.0069 - accuracy: 0.5777 - val_loss: 1.0043 - val_accuracy: 0.5882\n",
      "Epoch 39/200\n",
      "9/9 [==============================] - 0s 16ms/step - loss: 1.0044 - accuracy: 0.5796 - val_loss: 1.0012 - val_accuracy: 0.5846\n",
      "Epoch 40/200\n",
      "9/9 [==============================] - 0s 14ms/step - loss: 1.0020 - accuracy: 0.5777 - val_loss: 0.9992 - val_accuracy: 0.5882\n",
      "Epoch 41/200\n",
      "9/9 [==============================] - 0s 15ms/step - loss: 0.9996 - accuracy: 0.5823 - val_loss: 0.9958 - val_accuracy: 0.5846\n",
      "Epoch 42/200\n",
      "9/9 [==============================] - 0s 15ms/step - loss: 0.9972 - accuracy: 0.5814 - val_loss: 0.9938 - val_accuracy: 0.5882\n",
      "Epoch 43/200\n",
      "9/9 [==============================] - 0s 16ms/step - loss: 0.9950 - accuracy: 0.5814 - val_loss: 0.9909 - val_accuracy: 0.5919\n",
      "Epoch 44/200\n",
      "9/9 [==============================] - 0s 15ms/step - loss: 0.9930 - accuracy: 0.5842 - val_loss: 0.9870 - val_accuracy: 0.5956\n",
      "Epoch 45/200\n",
      "9/9 [==============================] - 0s 18ms/step - loss: 0.9905 - accuracy: 0.5860 - val_loss: 0.9851 - val_accuracy: 0.6029\n",
      "Epoch 46/200\n",
      "9/9 [==============================] - 0s 16ms/step - loss: 0.9886 - accuracy: 0.5897 - val_loss: 0.9824 - val_accuracy: 0.5993\n",
      "Epoch 47/200\n",
      "9/9 [==============================] - 0s 16ms/step - loss: 0.9869 - accuracy: 0.5897 - val_loss: 0.9796 - val_accuracy: 0.5993\n",
      "Epoch 48/200\n",
      "9/9 [==============================] - 0s 14ms/step - loss: 0.9849 - accuracy: 0.5906 - val_loss: 0.9787 - val_accuracy: 0.6029\n",
      "Epoch 49/200\n",
      "9/9 [==============================] - 0s 15ms/step - loss: 0.9827 - accuracy: 0.5897 - val_loss: 0.9768 - val_accuracy: 0.6066\n",
      "Epoch 50/200\n",
      "9/9 [==============================] - 0s 16ms/step - loss: 0.9808 - accuracy: 0.5897 - val_loss: 0.9750 - val_accuracy: 0.5993\n",
      "Epoch 51/200\n",
      "9/9 [==============================] - 0s 18ms/step - loss: 0.9790 - accuracy: 0.5943 - val_loss: 0.9729 - val_accuracy: 0.5993\n",
      "Epoch 52/200\n",
      "9/9 [==============================] - 0s 16ms/step - loss: 0.9772 - accuracy: 0.5952 - val_loss: 0.9705 - val_accuracy: 0.5956\n",
      "Epoch 53/200\n",
      "9/9 [==============================] - 0s 19ms/step - loss: 0.9754 - accuracy: 0.5934 - val_loss: 0.9698 - val_accuracy: 0.6029\n",
      "Epoch 54/200\n",
      "9/9 [==============================] - 0s 20ms/step - loss: 0.9740 - accuracy: 0.5961 - val_loss: 0.9670 - val_accuracy: 0.5993\n",
      "Epoch 55/200\n",
      "9/9 [==============================] - 0s 11ms/step - loss: 0.9724 - accuracy: 0.5971 - val_loss: 0.9658 - val_accuracy: 0.5956\n",
      "Epoch 56/200\n",
      "9/9 [==============================] - 0s 13ms/step - loss: 0.9706 - accuracy: 0.5961 - val_loss: 0.9646 - val_accuracy: 0.6066\n",
      "Epoch 57/200\n",
      "9/9 [==============================] - 0s 12ms/step - loss: 0.9692 - accuracy: 0.5934 - val_loss: 0.9633 - val_accuracy: 0.5993\n",
      "Epoch 58/200\n",
      "9/9 [==============================] - 0s 12ms/step - loss: 0.9676 - accuracy: 0.5961 - val_loss: 0.9617 - val_accuracy: 0.6029\n",
      "Epoch 59/200\n",
      "9/9 [==============================] - 0s 12ms/step - loss: 0.9663 - accuracy: 0.5961 - val_loss: 0.9605 - val_accuracy: 0.5956\n",
      "Epoch 60/200\n",
      "9/9 [==============================] - 0s 11ms/step - loss: 0.9647 - accuracy: 0.5989 - val_loss: 0.9595 - val_accuracy: 0.5956\n",
      "Epoch 61/200\n",
      "9/9 [==============================] - 0s 13ms/step - loss: 0.9635 - accuracy: 0.5952 - val_loss: 0.9572 - val_accuracy: 0.5956\n",
      "Epoch 62/200\n",
      "9/9 [==============================] - 0s 11ms/step - loss: 0.9622 - accuracy: 0.5915 - val_loss: 0.9557 - val_accuracy: 0.6029\n",
      "Epoch 63/200\n",
      "9/9 [==============================] - 0s 11ms/step - loss: 0.9609 - accuracy: 0.5952 - val_loss: 0.9550 - val_accuracy: 0.6029\n",
      "Epoch 64/200\n",
      "9/9 [==============================] - 0s 11ms/step - loss: 0.9600 - accuracy: 0.5952 - val_loss: 0.9550 - val_accuracy: 0.6029\n",
      "Epoch 65/200\n",
      "9/9 [==============================] - 0s 10ms/step - loss: 0.9583 - accuracy: 0.6007 - val_loss: 0.9535 - val_accuracy: 0.6066\n",
      "Epoch 66/200\n",
      "9/9 [==============================] - 0s 12ms/step - loss: 0.9578 - accuracy: 0.6044 - val_loss: 0.9515 - val_accuracy: 0.6103\n",
      "Epoch 67/200\n",
      "9/9 [==============================] - 0s 12ms/step - loss: 0.9561 - accuracy: 0.6044 - val_loss: 0.9503 - val_accuracy: 0.6140\n",
      "Epoch 68/200\n",
      "9/9 [==============================] - 0s 12ms/step - loss: 0.9551 - accuracy: 0.6063 - val_loss: 0.9504 - val_accuracy: 0.6176\n",
      "Epoch 69/200\n",
      "9/9 [==============================] - 0s 13ms/step - loss: 0.9542 - accuracy: 0.6035 - val_loss: 0.9484 - val_accuracy: 0.6103\n",
      "Epoch 70/200\n",
      "9/9 [==============================] - 0s 13ms/step - loss: 0.9527 - accuracy: 0.6026 - val_loss: 0.9469 - val_accuracy: 0.6066\n",
      "Epoch 71/200\n",
      "9/9 [==============================] - 0s 16ms/step - loss: 0.9517 - accuracy: 0.6072 - val_loss: 0.9461 - val_accuracy: 0.6066\n",
      "Epoch 72/200\n",
      "9/9 [==============================] - 0s 13ms/step - loss: 0.9506 - accuracy: 0.6063 - val_loss: 0.9452 - val_accuracy: 0.6066\n",
      "Epoch 73/200\n",
      "9/9 [==============================] - 0s 13ms/step - loss: 0.9498 - accuracy: 0.6090 - val_loss: 0.9458 - val_accuracy: 0.6066\n",
      "Epoch 74/200\n",
      "9/9 [==============================] - 0s 10ms/step - loss: 0.9484 - accuracy: 0.6072 - val_loss: 0.9452 - val_accuracy: 0.6103\n",
      "Epoch 75/200\n",
      "9/9 [==============================] - 0s 12ms/step - loss: 0.9473 - accuracy: 0.6053 - val_loss: 0.9433 - val_accuracy: 0.6066\n",
      "Epoch 76/200\n",
      "9/9 [==============================] - 0s 10ms/step - loss: 0.9463 - accuracy: 0.6063 - val_loss: 0.9427 - val_accuracy: 0.6029\n",
      "Epoch 77/200\n",
      "9/9 [==============================] - 0s 10ms/step - loss: 0.9457 - accuracy: 0.6053 - val_loss: 0.9432 - val_accuracy: 0.6140\n",
      "Epoch 78/200\n",
      "9/9 [==============================] - 0s 12ms/step - loss: 0.9445 - accuracy: 0.6044 - val_loss: 0.9425 - val_accuracy: 0.6140\n",
      "Epoch 79/200\n",
      "9/9 [==============================] - 0s 11ms/step - loss: 0.9437 - accuracy: 0.6063 - val_loss: 0.9403 - val_accuracy: 0.6066\n",
      "Epoch 80/200\n",
      "9/9 [==============================] - 0s 12ms/step - loss: 0.9426 - accuracy: 0.6072 - val_loss: 0.9399 - val_accuracy: 0.6176\n",
      "Epoch 81/200\n",
      "9/9 [==============================] - 0s 11ms/step - loss: 0.9415 - accuracy: 0.6090 - val_loss: 0.9387 - val_accuracy: 0.6176\n",
      "Epoch 82/200\n",
      "9/9 [==============================] - 0s 11ms/step - loss: 0.9406 - accuracy: 0.6072 - val_loss: 0.9372 - val_accuracy: 0.6250\n",
      "Epoch 83/200\n",
      "9/9 [==============================] - 0s 10ms/step - loss: 0.9395 - accuracy: 0.6081 - val_loss: 0.9370 - val_accuracy: 0.6287\n",
      "Epoch 84/200\n",
      "9/9 [==============================] - 0s 11ms/step - loss: 0.9389 - accuracy: 0.6081 - val_loss: 0.9386 - val_accuracy: 0.6176\n",
      "Epoch 85/200\n",
      "9/9 [==============================] - 0s 11ms/step - loss: 0.9379 - accuracy: 0.6072 - val_loss: 0.9376 - val_accuracy: 0.6213\n",
      "Epoch 86/200\n",
      "9/9 [==============================] - 0s 10ms/step - loss: 0.9371 - accuracy: 0.6109 - val_loss: 0.9357 - val_accuracy: 0.6250\n",
      "Epoch 87/200\n",
      "9/9 [==============================] - 0s 11ms/step - loss: 0.9363 - accuracy: 0.6109 - val_loss: 0.9332 - val_accuracy: 0.6287\n",
      "Epoch 88/200\n",
      "9/9 [==============================] - 0s 10ms/step - loss: 0.9354 - accuracy: 0.6090 - val_loss: 0.9348 - val_accuracy: 0.6176\n",
      "Epoch 89/200\n",
      "9/9 [==============================] - 0s 11ms/step - loss: 0.9342 - accuracy: 0.6072 - val_loss: 0.9335 - val_accuracy: 0.6176\n",
      "Epoch 90/200\n",
      "9/9 [==============================] - 0s 12ms/step - loss: 0.9335 - accuracy: 0.6063 - val_loss: 0.9330 - val_accuracy: 0.6176\n",
      "Epoch 91/200\n",
      "9/9 [==============================] - 0s 11ms/step - loss: 0.9325 - accuracy: 0.6072 - val_loss: 0.9324 - val_accuracy: 0.6176\n",
      "Epoch 92/200\n",
      "9/9 [==============================] - 0s 10ms/step - loss: 0.9320 - accuracy: 0.6090 - val_loss: 0.9306 - val_accuracy: 0.6324\n",
      "Epoch 93/200\n",
      "9/9 [==============================] - 0s 10ms/step - loss: 0.9308 - accuracy: 0.6145 - val_loss: 0.9307 - val_accuracy: 0.6250\n",
      "Epoch 94/200\n",
      "9/9 [==============================] - 0s 10ms/step - loss: 0.9301 - accuracy: 0.6127 - val_loss: 0.9306 - val_accuracy: 0.6250\n",
      "Epoch 95/200\n",
      "9/9 [==============================] - 0s 11ms/step - loss: 0.9295 - accuracy: 0.6109 - val_loss: 0.9302 - val_accuracy: 0.6176\n",
      "Epoch 96/200\n",
      "9/9 [==============================] - 0s 11ms/step - loss: 0.9287 - accuracy: 0.6127 - val_loss: 0.9293 - val_accuracy: 0.6250\n",
      "Epoch 97/200\n",
      "9/9 [==============================] - 0s 10ms/step - loss: 0.9279 - accuracy: 0.6136 - val_loss: 0.9299 - val_accuracy: 0.6287\n",
      "Epoch 98/200\n",
      "9/9 [==============================] - 0s 10ms/step - loss: 0.9272 - accuracy: 0.6099 - val_loss: 0.9306 - val_accuracy: 0.6324\n",
      "Epoch 99/200\n",
      "9/9 [==============================] - 0s 11ms/step - loss: 0.9267 - accuracy: 0.6127 - val_loss: 0.9285 - val_accuracy: 0.6287\n",
      "Epoch 100/200\n",
      "9/9 [==============================] - 0s 10ms/step - loss: 0.9256 - accuracy: 0.6145 - val_loss: 0.9259 - val_accuracy: 0.6287\n",
      "Epoch 101/200\n",
      "9/9 [==============================] - 0s 12ms/step - loss: 0.9251 - accuracy: 0.6109 - val_loss: 0.9248 - val_accuracy: 0.6250\n",
      "Epoch 102/200\n",
      "9/9 [==============================] - 0s 11ms/step - loss: 0.9242 - accuracy: 0.6090 - val_loss: 0.9261 - val_accuracy: 0.6250\n",
      "Epoch 103/200\n",
      "9/9 [==============================] - 0s 10ms/step - loss: 0.9236 - accuracy: 0.6090 - val_loss: 0.9261 - val_accuracy: 0.6287\n",
      "Epoch 104/200\n",
      "9/9 [==============================] - 0s 11ms/step - loss: 0.9235 - accuracy: 0.6136 - val_loss: 0.9269 - val_accuracy: 0.6324\n",
      "Epoch 105/200\n",
      "9/9 [==============================] - 0s 10ms/step - loss: 0.9224 - accuracy: 0.6072 - val_loss: 0.9267 - val_accuracy: 0.6287\n",
      "Epoch 106/200\n",
      "9/9 [==============================] - 0s 11ms/step - loss: 0.9217 - accuracy: 0.6063 - val_loss: 0.9266 - val_accuracy: 0.6287\n",
      "Epoch 107/200\n",
      "9/9 [==============================] - 0s 11ms/step - loss: 0.9211 - accuracy: 0.6072 - val_loss: 0.9263 - val_accuracy: 0.6213\n",
      "Epoch 108/200\n",
      "9/9 [==============================] - 0s 10ms/step - loss: 0.9207 - accuracy: 0.6026 - val_loss: 0.9269 - val_accuracy: 0.6324\n",
      "Epoch 109/200\n",
      "9/9 [==============================] - 0s 11ms/step - loss: 0.9197 - accuracy: 0.6063 - val_loss: 0.9243 - val_accuracy: 0.6287\n",
      "Epoch 110/200\n",
      "9/9 [==============================] - 0s 11ms/step - loss: 0.9195 - accuracy: 0.6090 - val_loss: 0.9242 - val_accuracy: 0.6250\n",
      "Epoch 111/200\n",
      "9/9 [==============================] - 0s 13ms/step - loss: 0.9184 - accuracy: 0.6090 - val_loss: 0.9251 - val_accuracy: 0.6250\n",
      "Epoch 112/200\n",
      "9/9 [==============================] - 0s 14ms/step - loss: 0.9179 - accuracy: 0.6090 - val_loss: 0.9255 - val_accuracy: 0.6176\n",
      "Epoch 113/200\n",
      "9/9 [==============================] - 0s 13ms/step - loss: 0.9174 - accuracy: 0.6053 - val_loss: 0.9249 - val_accuracy: 0.6287\n",
      "Epoch 114/200\n",
      "9/9 [==============================] - 0s 15ms/step - loss: 0.9169 - accuracy: 0.6053 - val_loss: 0.9236 - val_accuracy: 0.6213\n",
      "Epoch 115/200\n",
      "9/9 [==============================] - 0s 13ms/step - loss: 0.9158 - accuracy: 0.6053 - val_loss: 0.9232 - val_accuracy: 0.6287\n",
      "Epoch 116/200\n",
      "9/9 [==============================] - 0s 14ms/step - loss: 0.9155 - accuracy: 0.6099 - val_loss: 0.9229 - val_accuracy: 0.6287\n",
      "Epoch 117/200\n"
     ]
    },
    {
     "name": "stdout",
     "output_type": "stream",
     "text": [
      "9/9 [==============================] - 0s 11ms/step - loss: 0.9153 - accuracy: 0.6081 - val_loss: 0.9226 - val_accuracy: 0.6287\n",
      "Epoch 118/200\n",
      "9/9 [==============================] - 0s 11ms/step - loss: 0.9140 - accuracy: 0.6072 - val_loss: 0.9217 - val_accuracy: 0.6250\n",
      "Epoch 119/200\n",
      "9/9 [==============================] - 0s 11ms/step - loss: 0.9134 - accuracy: 0.6072 - val_loss: 0.9227 - val_accuracy: 0.6287\n",
      "Epoch 120/200\n",
      "9/9 [==============================] - 0s 13ms/step - loss: 0.9129 - accuracy: 0.6109 - val_loss: 0.9237 - val_accuracy: 0.6250\n",
      "Epoch 121/200\n",
      "9/9 [==============================] - 0s 11ms/step - loss: 0.9126 - accuracy: 0.6081 - val_loss: 0.9230 - val_accuracy: 0.6287\n",
      "Epoch 122/200\n",
      "9/9 [==============================] - 0s 10ms/step - loss: 0.9116 - accuracy: 0.6090 - val_loss: 0.9223 - val_accuracy: 0.6250\n",
      "Epoch 123/200\n",
      "9/9 [==============================] - 0s 10ms/step - loss: 0.9110 - accuracy: 0.6127 - val_loss: 0.9226 - val_accuracy: 0.6250\n",
      "Epoch 124/200\n",
      "9/9 [==============================] - 0s 10ms/step - loss: 0.9106 - accuracy: 0.6118 - val_loss: 0.9230 - val_accuracy: 0.6324\n",
      "Epoch 125/200\n",
      "9/9 [==============================] - 0s 10ms/step - loss: 0.9100 - accuracy: 0.6090 - val_loss: 0.9215 - val_accuracy: 0.6324\n",
      "Epoch 126/200\n",
      "9/9 [==============================] - 0s 12ms/step - loss: 0.9089 - accuracy: 0.6136 - val_loss: 0.9221 - val_accuracy: 0.6250\n",
      "Epoch 127/200\n",
      "9/9 [==============================] - 0s 12ms/step - loss: 0.9088 - accuracy: 0.6155 - val_loss: 0.9218 - val_accuracy: 0.6213\n",
      "Epoch 128/200\n",
      "9/9 [==============================] - 0s 11ms/step - loss: 0.9083 - accuracy: 0.6099 - val_loss: 0.9198 - val_accuracy: 0.6360\n",
      "Epoch 129/200\n",
      "9/9 [==============================] - 0s 12ms/step - loss: 0.9074 - accuracy: 0.6118 - val_loss: 0.9190 - val_accuracy: 0.6324\n",
      "Epoch 130/200\n",
      "9/9 [==============================] - 0s 12ms/step - loss: 0.9072 - accuracy: 0.6099 - val_loss: 0.9204 - val_accuracy: 0.6324\n",
      "Epoch 131/200\n",
      "9/9 [==============================] - 0s 12ms/step - loss: 0.9061 - accuracy: 0.6099 - val_loss: 0.9190 - val_accuracy: 0.6324\n",
      "Epoch 132/200\n",
      "9/9 [==============================] - 0s 12ms/step - loss: 0.9062 - accuracy: 0.6109 - val_loss: 0.9180 - val_accuracy: 0.6324\n",
      "Epoch 133/200\n",
      "9/9 [==============================] - 0s 11ms/step - loss: 0.9047 - accuracy: 0.6136 - val_loss: 0.9190 - val_accuracy: 0.6287\n",
      "Epoch 134/200\n",
      "9/9 [==============================] - 0s 13ms/step - loss: 0.9041 - accuracy: 0.6155 - val_loss: 0.9208 - val_accuracy: 0.6213\n",
      "Epoch 135/200\n",
      "9/9 [==============================] - 0s 13ms/step - loss: 0.9038 - accuracy: 0.6136 - val_loss: 0.9200 - val_accuracy: 0.6250\n",
      "Epoch 136/200\n",
      "9/9 [==============================] - 0s 11ms/step - loss: 0.9030 - accuracy: 0.6173 - val_loss: 0.9193 - val_accuracy: 0.6287\n",
      "Epoch 137/200\n",
      "9/9 [==============================] - 0s 11ms/step - loss: 0.9025 - accuracy: 0.6127 - val_loss: 0.9185 - val_accuracy: 0.6324\n",
      "Epoch 138/200\n",
      "9/9 [==============================] - 0s 12ms/step - loss: 0.9026 - accuracy: 0.6145 - val_loss: 0.9175 - val_accuracy: 0.6324\n",
      "Epoch 139/200\n",
      "9/9 [==============================] - 0s 23ms/step - loss: 0.9015 - accuracy: 0.6182 - val_loss: 0.9182 - val_accuracy: 0.6324\n",
      "Epoch 140/200\n",
      "9/9 [==============================] - 0s 23ms/step - loss: 0.9011 - accuracy: 0.6173 - val_loss: 0.9182 - val_accuracy: 0.6360\n",
      "Epoch 141/200\n",
      "9/9 [==============================] - 0s 21ms/step - loss: 0.9006 - accuracy: 0.6173 - val_loss: 0.9192 - val_accuracy: 0.6250\n",
      "Epoch 142/200\n",
      "9/9 [==============================] - 0s 26ms/step - loss: 0.8996 - accuracy: 0.6210 - val_loss: 0.9185 - val_accuracy: 0.6287\n",
      "Epoch 143/200\n",
      "9/9 [==============================] - 0s 14ms/step - loss: 0.8991 - accuracy: 0.6191 - val_loss: 0.9171 - val_accuracy: 0.6324\n",
      "Epoch 144/200\n",
      "9/9 [==============================] - 0s 14ms/step - loss: 0.8989 - accuracy: 0.6210 - val_loss: 0.9174 - val_accuracy: 0.6287\n",
      "Epoch 145/200\n",
      "9/9 [==============================] - 0s 15ms/step - loss: 0.8983 - accuracy: 0.6201 - val_loss: 0.9165 - val_accuracy: 0.6360\n",
      "Epoch 146/200\n",
      "9/9 [==============================] - 0s 36ms/step - loss: 0.8977 - accuracy: 0.6182 - val_loss: 0.9163 - val_accuracy: 0.6360\n",
      "Epoch 147/200\n",
      "9/9 [==============================] - 0s 15ms/step - loss: 0.8974 - accuracy: 0.6210 - val_loss: 0.9172 - val_accuracy: 0.6250\n",
      "Epoch 148/200\n",
      "9/9 [==============================] - 0s 16ms/step - loss: 0.8970 - accuracy: 0.6210 - val_loss: 0.9156 - val_accuracy: 0.6360\n",
      "Epoch 149/200\n",
      "9/9 [==============================] - 0s 17ms/step - loss: 0.8965 - accuracy: 0.6182 - val_loss: 0.9144 - val_accuracy: 0.6324\n",
      "Epoch 150/200\n",
      "9/9 [==============================] - 0s 17ms/step - loss: 0.8960 - accuracy: 0.6201 - val_loss: 0.9154 - val_accuracy: 0.6397\n",
      "Epoch 151/200\n",
      "9/9 [==============================] - 0s 28ms/step - loss: 0.8959 - accuracy: 0.6164 - val_loss: 0.9151 - val_accuracy: 0.6397\n",
      "Epoch 152/200\n",
      "9/9 [==============================] - 0s 19ms/step - loss: 0.8950 - accuracy: 0.6201 - val_loss: 0.9165 - val_accuracy: 0.6287\n",
      "Epoch 153/200\n",
      "9/9 [==============================] - 0s 14ms/step - loss: 0.8947 - accuracy: 0.6210 - val_loss: 0.9164 - val_accuracy: 0.6360\n",
      "Epoch 154/200\n",
      "9/9 [==============================] - 0s 13ms/step - loss: 0.8941 - accuracy: 0.6210 - val_loss: 0.9167 - val_accuracy: 0.6287\n",
      "Epoch 155/200\n",
      "9/9 [==============================] - 0s 18ms/step - loss: 0.8935 - accuracy: 0.6210 - val_loss: 0.9161 - val_accuracy: 0.6360\n",
      "Epoch 156/200\n",
      "9/9 [==============================] - 0s 19ms/step - loss: 0.8935 - accuracy: 0.6164 - val_loss: 0.9156 - val_accuracy: 0.6397\n",
      "Epoch 157/200\n",
      "9/9 [==============================] - 0s 27ms/step - loss: 0.8930 - accuracy: 0.6182 - val_loss: 0.9147 - val_accuracy: 0.6360\n",
      "Epoch 158/200\n",
      "9/9 [==============================] - 0s 18ms/step - loss: 0.8924 - accuracy: 0.6201 - val_loss: 0.9171 - val_accuracy: 0.6360\n",
      "Epoch 159/200\n",
      "9/9 [==============================] - 0s 16ms/step - loss: 0.8916 - accuracy: 0.6219 - val_loss: 0.9148 - val_accuracy: 0.6397\n",
      "Epoch 160/200\n",
      "9/9 [==============================] - 0s 15ms/step - loss: 0.8910 - accuracy: 0.6265 - val_loss: 0.9152 - val_accuracy: 0.6360\n",
      "Epoch 161/200\n",
      "9/9 [==============================] - 0s 16ms/step - loss: 0.8906 - accuracy: 0.6247 - val_loss: 0.9156 - val_accuracy: 0.6397\n",
      "Epoch 162/200\n",
      "9/9 [==============================] - 0s 20ms/step - loss: 0.8905 - accuracy: 0.6237 - val_loss: 0.9151 - val_accuracy: 0.6397\n",
      "Epoch 163/200\n",
      "9/9 [==============================] - 0s 17ms/step - loss: 0.8896 - accuracy: 0.6265 - val_loss: 0.9154 - val_accuracy: 0.6360\n",
      "Epoch 164/200\n",
      "9/9 [==============================] - 0s 16ms/step - loss: 0.8889 - accuracy: 0.6283 - val_loss: 0.9154 - val_accuracy: 0.6360\n",
      "Epoch 165/200\n",
      "9/9 [==============================] - 0s 17ms/step - loss: 0.8886 - accuracy: 0.6283 - val_loss: 0.9140 - val_accuracy: 0.6360\n",
      "Epoch 166/200\n",
      "9/9 [==============================] - 0s 14ms/step - loss: 0.8880 - accuracy: 0.6228 - val_loss: 0.9141 - val_accuracy: 0.6397\n",
      "Epoch 167/200\n",
      "9/9 [==============================] - 0s 35ms/step - loss: 0.8877 - accuracy: 0.6237 - val_loss: 0.9137 - val_accuracy: 0.6360\n",
      "Epoch 168/200\n",
      "9/9 [==============================] - 0s 19ms/step - loss: 0.8872 - accuracy: 0.6265 - val_loss: 0.9132 - val_accuracy: 0.6397\n",
      "Epoch 169/200\n",
      "9/9 [==============================] - 0s 16ms/step - loss: 0.8867 - accuracy: 0.6237 - val_loss: 0.9134 - val_accuracy: 0.6360\n",
      "Epoch 170/200\n",
      "9/9 [==============================] - 0s 20ms/step - loss: 0.8862 - accuracy: 0.6293 - val_loss: 0.9156 - val_accuracy: 0.6250\n",
      "Epoch 171/200\n",
      "9/9 [==============================] - 0s 29ms/step - loss: 0.8857 - accuracy: 0.6274 - val_loss: 0.9152 - val_accuracy: 0.6324\n",
      "Epoch 172/200\n",
      "9/9 [==============================] - 0s 15ms/step - loss: 0.8854 - accuracy: 0.6237 - val_loss: 0.9130 - val_accuracy: 0.6324\n",
      "Epoch 173/200\n",
      "9/9 [==============================] - 0s 18ms/step - loss: 0.8845 - accuracy: 0.6265 - val_loss: 0.9144 - val_accuracy: 0.6324\n",
      "Epoch 174/200\n",
      "9/9 [==============================] - 0s 15ms/step - loss: 0.8846 - accuracy: 0.6293 - val_loss: 0.9157 - val_accuracy: 0.6360\n"
     ]
    },
    {
     "name": "stdout",
     "output_type": "stream",
     "text": [
      "Epoch 175/200\n",
      "9/9 [==============================] - 0s 21ms/step - loss: 0.8842 - accuracy: 0.6293 - val_loss: 0.9153 - val_accuracy: 0.6250\n",
      "Epoch 176/200\n",
      "9/9 [==============================] - 0s 25ms/step - loss: 0.8833 - accuracy: 0.6311 - val_loss: 0.9153 - val_accuracy: 0.6287\n",
      "Epoch 177/200\n",
      "9/9 [==============================] - 0s 17ms/step - loss: 0.8830 - accuracy: 0.6283 - val_loss: 0.9131 - val_accuracy: 0.6287\n",
      "Epoch 178/200\n",
      "9/9 [==============================] - 0s 16ms/step - loss: 0.8825 - accuracy: 0.6311 - val_loss: 0.9135 - val_accuracy: 0.6250\n",
      "Epoch 179/200\n",
      "9/9 [==============================] - 0s 39ms/step - loss: 0.8820 - accuracy: 0.6311 - val_loss: 0.9136 - val_accuracy: 0.6250\n",
      "Epoch 180/200\n",
      "9/9 [==============================] - 0s 19ms/step - loss: 0.8814 - accuracy: 0.6274 - val_loss: 0.9142 - val_accuracy: 0.6250\n",
      "Epoch 181/200\n",
      "9/9 [==============================] - 0s 16ms/step - loss: 0.8808 - accuracy: 0.6302 - val_loss: 0.9149 - val_accuracy: 0.6250\n",
      "Epoch 182/200\n",
      "9/9 [==============================] - 0s 18ms/step - loss: 0.8804 - accuracy: 0.6293 - val_loss: 0.9145 - val_accuracy: 0.6287\n",
      "Epoch 183/200\n",
      "9/9 [==============================] - 0s 17ms/step - loss: 0.8800 - accuracy: 0.6283 - val_loss: 0.9142 - val_accuracy: 0.6360\n",
      "Epoch 184/200\n",
      "9/9 [==============================] - 0s 14ms/step - loss: 0.8797 - accuracy: 0.6293 - val_loss: 0.9144 - val_accuracy: 0.6324\n",
      "Epoch 185/200\n",
      "9/9 [==============================] - 0s 16ms/step - loss: 0.8792 - accuracy: 0.6283 - val_loss: 0.9153 - val_accuracy: 0.6287\n",
      "Epoch 186/200\n",
      "9/9 [==============================] - 0s 15ms/step - loss: 0.8786 - accuracy: 0.6302 - val_loss: 0.9132 - val_accuracy: 0.6287\n",
      "Epoch 187/200\n",
      "9/9 [==============================] - 0s 18ms/step - loss: 0.8784 - accuracy: 0.6247 - val_loss: 0.9133 - val_accuracy: 0.6287\n",
      "Epoch 188/200\n",
      "9/9 [==============================] - 0s 16ms/step - loss: 0.8780 - accuracy: 0.6274 - val_loss: 0.9127 - val_accuracy: 0.6360\n",
      "Epoch 189/200\n",
      "9/9 [==============================] - 0s 16ms/step - loss: 0.8771 - accuracy: 0.6283 - val_loss: 0.9135 - val_accuracy: 0.6324\n",
      "Epoch 190/200\n",
      "9/9 [==============================] - 0s 17ms/step - loss: 0.8775 - accuracy: 0.6329 - val_loss: 0.9140 - val_accuracy: 0.6250\n",
      "Epoch 191/200\n",
      "9/9 [==============================] - 0s 15ms/step - loss: 0.8767 - accuracy: 0.6339 - val_loss: 0.9158 - val_accuracy: 0.6176\n",
      "Epoch 192/200\n",
      "9/9 [==============================] - 0s 15ms/step - loss: 0.8762 - accuracy: 0.6339 - val_loss: 0.9146 - val_accuracy: 0.6176\n",
      "Epoch 193/200\n",
      "9/9 [==============================] - 0s 18ms/step - loss: 0.8759 - accuracy: 0.6283 - val_loss: 0.9136 - val_accuracy: 0.6360\n",
      "Epoch 194/200\n",
      "9/9 [==============================] - 0s 22ms/step - loss: 0.8753 - accuracy: 0.6265 - val_loss: 0.9135 - val_accuracy: 0.6287\n",
      "Epoch 195/200\n",
      "9/9 [==============================] - 0s 17ms/step - loss: 0.8750 - accuracy: 0.6302 - val_loss: 0.9144 - val_accuracy: 0.6250\n",
      "Epoch 196/200\n",
      "9/9 [==============================] - 0s 14ms/step - loss: 0.8744 - accuracy: 0.6320 - val_loss: 0.9153 - val_accuracy: 0.6213\n",
      "Epoch 197/200\n",
      "9/9 [==============================] - 0s 17ms/step - loss: 0.8741 - accuracy: 0.6302 - val_loss: 0.9137 - val_accuracy: 0.6250\n",
      "Epoch 198/200\n",
      "9/9 [==============================] - 0s 19ms/step - loss: 0.8732 - accuracy: 0.6320 - val_loss: 0.9149 - val_accuracy: 0.6250\n",
      "Epoch 199/200\n",
      "9/9 [==============================] - 0s 20ms/step - loss: 0.8727 - accuracy: 0.6366 - val_loss: 0.9158 - val_accuracy: 0.6213\n",
      "Epoch 200/200\n",
      "9/9 [==============================] - 0s 24ms/step - loss: 0.8726 - accuracy: 0.6329 - val_loss: 0.9153 - val_accuracy: 0.6360\n"
     ]
    }
   ],
   "source": [
    "historys = models.fit(X_train, Y_train, validation_data=(X_test, Y_test), epochs=200, batch_size=128)"
   ]
  },
  {
   "cell_type": "code",
   "execution_count": 419,
   "metadata": {},
   "outputs": [
    {
     "name": "stdout",
     "output_type": "stream",
     "text": [
      "9/9 [==============================] - 0s 5ms/step - loss: 0.9153 - accuracy: 0.6360\n",
      "Test Loss: 0.9153216481208801\n",
      "Test Accuracy: 0.6360294222831726\n"
     ]
    }
   ],
   "source": [
    "# Evaluate the model on the test data\n",
    "test_loss, test_accuracy = model.evaluate(X_test, Y_test)\n",
    "print(\"Test Loss:\", test_loss)\n",
    "print(\"Test Accuracy:\", test_accuracy)"
   ]
  },
  {
   "cell_type": "markdown",
   "metadata": {
    "id": "vaI1H_nJsdcg"
   },
   "source": [
    "**1.3 d B) By Adding layer(s) along with the \"REGULARIZATION\" techniques & SGD optimizer for improving the model to the existing architecture**"
   ]
  },
  {
   "cell_type": "code",
   "execution_count": 420,
   "metadata": {},
   "outputs": [],
   "source": [
    "# Clearing the session in Keras\n",
    "backend.clear_session()\n",
    "# To receive the same output everytime\n",
    "# Fixing the seed for NumPy random number generators to 42\n",
    "np.random.seed(42)\n",
    "# Fixing the set the seed for the Python random number generator to 42\n",
    "import random\n",
    "random.seed(42)\n",
    "# Fixing the seed for the TensorFlow random number generator to 42\n",
    "tf.random.set_seed(42)"
   ]
  },
  {
   "cell_type": "code",
   "execution_count": 421,
   "metadata": {
    "id": "JAsVclI3sbjn"
   },
   "outputs": [],
   "source": [
    "# Create the model\n",
    "model1 = Sequential()"
   ]
  },
  {
   "cell_type": "code",
   "execution_count": 422,
   "metadata": {
    "id": "pnObl90Wsbyl"
   },
   "outputs": [],
   "source": [
    "# Adding layers [layers and activations]\n",
    "# Input Layer\n",
    "model1.add(Dense(11, kernel_initializer='normal', input_dim = X_train.shape[1], activation = 'relu'))\n",
    "model1.add(BatchNormalization())\n",
    "model1.add(Dense(9, activation='relu'))\n",
    "model1.add(BatchNormalization())\n",
    "# Hidden Layer 2\n",
    "model1.add(Dense(9, activation='relu'))\n",
    "model1.add(BatchNormalization())\n",
    "# Hidden layer 4\n",
    "model1.add(Dense(9, activation='relu'))\n",
    "model1.add(BatchNormalization())\n",
    "model1.add(Dense(9, activation='relu'))\n",
    "model1.add(BatchNormalization())\n",
    "model1.add(Dense(9, activation='relu'))\n",
    "\n",
    "# Output Layer\n",
    "model1.add(Dense(9, activation = 'softmax'))"
   ]
  },
  {
   "cell_type": "code",
   "execution_count": 423,
   "metadata": {
    "id": "8KxGZkzvscBN"
   },
   "outputs": [],
   "source": [
    "# Create optimizer with learning rate and momentum\n",
    "# Compile the model\n",
    "sgd = optimizers.SGD(learning_rate=1e-2, momentum = 0.9)\n",
    "model1.compile(loss='categorical_crossentropy', optimizer='adam', metrics=['accuracy'])"
   ]
  },
  {
   "cell_type": "code",
   "execution_count": 424,
   "metadata": {
    "id": "XI8lsVoKscQx"
   },
   "outputs": [
    {
     "name": "stdout",
     "output_type": "stream",
     "text": [
      "Epoch 1/200\n",
      "34/34 [==============================] - 9s 29ms/step - loss: 2.3856 - accuracy: 0.2539 - val_loss: 2.1088 - val_accuracy: 0.4669\n",
      "Epoch 2/200\n",
      "34/34 [==============================] - 0s 12ms/step - loss: 1.9987 - accuracy: 0.3836 - val_loss: 1.9983 - val_accuracy: 0.4926\n",
      "Epoch 3/200\n",
      "34/34 [==============================] - 0s 10ms/step - loss: 1.7836 - accuracy: 0.4434 - val_loss: 1.8618 - val_accuracy: 0.5184\n",
      "Epoch 4/200\n",
      "34/34 [==============================] - 0s 10ms/step - loss: 1.6368 - accuracy: 0.4894 - val_loss: 1.7069 - val_accuracy: 0.5368\n",
      "Epoch 5/200\n",
      "34/34 [==============================] - 0s 10ms/step - loss: 1.5281 - accuracy: 0.5290 - val_loss: 1.5634 - val_accuracy: 0.5331\n",
      "Epoch 6/200\n",
      "34/34 [==============================] - 0s 8ms/step - loss: 1.4030 - accuracy: 0.5373 - val_loss: 1.4348 - val_accuracy: 0.5478\n",
      "Epoch 7/200\n",
      "34/34 [==============================] - 0s 8ms/step - loss: 1.3056 - accuracy: 0.5547 - val_loss: 1.3413 - val_accuracy: 0.5551\n",
      "Epoch 8/200\n",
      "34/34 [==============================] - 0s 10ms/step - loss: 1.2299 - accuracy: 0.5603 - val_loss: 1.2849 - val_accuracy: 0.5515\n",
      "Epoch 9/200\n",
      "34/34 [==============================] - 0s 9ms/step - loss: 1.2005 - accuracy: 0.5538 - val_loss: 1.2379 - val_accuracy: 0.5551\n",
      "Epoch 10/200\n",
      "34/34 [==============================] - 0s 9ms/step - loss: 1.1415 - accuracy: 0.5731 - val_loss: 1.1943 - val_accuracy: 0.5478\n",
      "Epoch 11/200\n",
      "34/34 [==============================] - 0s 10ms/step - loss: 1.1151 - accuracy: 0.5731 - val_loss: 1.1515 - val_accuracy: 0.5588\n",
      "Epoch 12/200\n",
      "34/34 [==============================] - 0s 11ms/step - loss: 1.0799 - accuracy: 0.5879 - val_loss: 1.1443 - val_accuracy: 0.5515\n",
      "Epoch 13/200\n",
      "34/34 [==============================] - 0s 9ms/step - loss: 1.0906 - accuracy: 0.5823 - val_loss: 1.1249 - val_accuracy: 0.5515\n",
      "Epoch 14/200\n",
      "34/34 [==============================] - 0s 8ms/step - loss: 1.0587 - accuracy: 0.5851 - val_loss: 1.0799 - val_accuracy: 0.5919\n",
      "Epoch 15/200\n",
      "34/34 [==============================] - 0s 10ms/step - loss: 1.0310 - accuracy: 0.5934 - val_loss: 1.0612 - val_accuracy: 0.5588\n",
      "Epoch 16/200\n",
      "34/34 [==============================] - 0s 9ms/step - loss: 1.0275 - accuracy: 0.6072 - val_loss: 1.0443 - val_accuracy: 0.5809\n",
      "Epoch 17/200\n",
      "34/34 [==============================] - 0s 8ms/step - loss: 1.0276 - accuracy: 0.5980 - val_loss: 1.0316 - val_accuracy: 0.6103\n",
      "Epoch 18/200\n",
      "34/34 [==============================] - 0s 9ms/step - loss: 1.0241 - accuracy: 0.5998 - val_loss: 1.0186 - val_accuracy: 0.5846\n",
      "Epoch 19/200\n",
      "34/34 [==============================] - 0s 8ms/step - loss: 1.0061 - accuracy: 0.5961 - val_loss: 1.0278 - val_accuracy: 0.5919\n",
      "Epoch 20/200\n",
      "34/34 [==============================] - 0s 8ms/step - loss: 0.9985 - accuracy: 0.6072 - val_loss: 1.0263 - val_accuracy: 0.5846\n",
      "Epoch 21/200\n",
      "34/34 [==============================] - 0s 8ms/step - loss: 1.0044 - accuracy: 0.5943 - val_loss: 1.0301 - val_accuracy: 0.6066\n",
      "Epoch 22/200\n",
      "34/34 [==============================] - 0s 9ms/step - loss: 0.9965 - accuracy: 0.6053 - val_loss: 1.0195 - val_accuracy: 0.5993\n",
      "Epoch 23/200\n",
      "34/34 [==============================] - 0s 8ms/step - loss: 0.9844 - accuracy: 0.6072 - val_loss: 1.0162 - val_accuracy: 0.5809\n",
      "Epoch 24/200\n",
      "34/34 [==============================] - 0s 8ms/step - loss: 0.9893 - accuracy: 0.6026 - val_loss: 1.0082 - val_accuracy: 0.5846\n",
      "Epoch 25/200\n",
      "34/34 [==============================] - 0s 9ms/step - loss: 0.9822 - accuracy: 0.6182 - val_loss: 1.0013 - val_accuracy: 0.5919\n",
      "Epoch 26/200\n",
      "34/34 [==============================] - 0s 8ms/step - loss: 0.9919 - accuracy: 0.5998 - val_loss: 0.9893 - val_accuracy: 0.6029\n",
      "Epoch 27/200\n",
      "34/34 [==============================] - 0s 8ms/step - loss: 0.9807 - accuracy: 0.6053 - val_loss: 0.9999 - val_accuracy: 0.5882\n",
      "Epoch 28/200\n",
      "34/34 [==============================] - 0s 8ms/step - loss: 0.9679 - accuracy: 0.5961 - val_loss: 0.9907 - val_accuracy: 0.6140\n",
      "Epoch 29/200\n",
      "34/34 [==============================] - 0s 9ms/step - loss: 0.9752 - accuracy: 0.5915 - val_loss: 0.9908 - val_accuracy: 0.6140\n",
      "Epoch 30/200\n",
      "34/34 [==============================] - 0s 8ms/step - loss: 0.9608 - accuracy: 0.6044 - val_loss: 0.9744 - val_accuracy: 0.6140\n",
      "Epoch 31/200\n",
      "34/34 [==============================] - 0s 8ms/step - loss: 0.9594 - accuracy: 0.6099 - val_loss: 0.9709 - val_accuracy: 0.6176\n",
      "Epoch 32/200\n",
      "34/34 [==============================] - 0s 9ms/step - loss: 0.9592 - accuracy: 0.6145 - val_loss: 0.9777 - val_accuracy: 0.6140\n",
      "Epoch 33/200\n",
      "34/34 [==============================] - 0s 8ms/step - loss: 0.9445 - accuracy: 0.6090 - val_loss: 0.9756 - val_accuracy: 0.6176\n",
      "Epoch 34/200\n",
      "34/34 [==============================] - 0s 8ms/step - loss: 0.9510 - accuracy: 0.6191 - val_loss: 0.9849 - val_accuracy: 0.6103\n",
      "Epoch 35/200\n",
      "34/34 [==============================] - 0s 8ms/step - loss: 0.9565 - accuracy: 0.6090 - val_loss: 0.9804 - val_accuracy: 0.5993\n",
      "Epoch 36/200\n",
      "34/34 [==============================] - 0s 9ms/step - loss: 0.9402 - accuracy: 0.6081 - val_loss: 0.9765 - val_accuracy: 0.6029\n",
      "Epoch 37/200\n",
      "34/34 [==============================] - 0s 9ms/step - loss: 0.9392 - accuracy: 0.6256 - val_loss: 0.9707 - val_accuracy: 0.5919\n",
      "Epoch 38/200\n",
      "34/34 [==============================] - 0s 12ms/step - loss: 0.9479 - accuracy: 0.6136 - val_loss: 0.9515 - val_accuracy: 0.6213\n",
      "Epoch 39/200\n",
      "34/34 [==============================] - 0s 10ms/step - loss: 0.9584 - accuracy: 0.6026 - val_loss: 0.9757 - val_accuracy: 0.6066\n",
      "Epoch 40/200\n",
      "34/34 [==============================] - 0s 8ms/step - loss: 0.9399 - accuracy: 0.6026 - val_loss: 0.9628 - val_accuracy: 0.6140\n",
      "Epoch 41/200\n",
      "34/34 [==============================] - 0s 10ms/step - loss: 0.9365 - accuracy: 0.6182 - val_loss: 0.9503 - val_accuracy: 0.6176\n",
      "Epoch 42/200\n",
      "34/34 [==============================] - 0s 11ms/step - loss: 0.9441 - accuracy: 0.6017 - val_loss: 0.9559 - val_accuracy: 0.6140\n",
      "Epoch 43/200\n",
      "34/34 [==============================] - 0s 10ms/step - loss: 0.9326 - accuracy: 0.6007 - val_loss: 0.9469 - val_accuracy: 0.6103\n",
      "Epoch 44/200\n",
      "34/34 [==============================] - 0s 10ms/step - loss: 0.9328 - accuracy: 0.5897 - val_loss: 0.9601 - val_accuracy: 0.6103\n",
      "Epoch 45/200\n",
      "34/34 [==============================] - 0s 10ms/step - loss: 0.9183 - accuracy: 0.6155 - val_loss: 0.9485 - val_accuracy: 0.6176\n",
      "Epoch 46/200\n",
      "34/34 [==============================] - 0s 9ms/step - loss: 0.9283 - accuracy: 0.5980 - val_loss: 0.9515 - val_accuracy: 0.6324\n",
      "Epoch 47/200\n",
      "34/34 [==============================] - 0s 10ms/step - loss: 0.9142 - accuracy: 0.6182 - val_loss: 0.9459 - val_accuracy: 0.6176\n",
      "Epoch 48/200\n",
      "34/34 [==============================] - 0s 12ms/step - loss: 0.9232 - accuracy: 0.6017 - val_loss: 0.9735 - val_accuracy: 0.5919\n",
      "Epoch 49/200\n",
      "34/34 [==============================] - 0s 9ms/step - loss: 0.9308 - accuracy: 0.6081 - val_loss: 0.9774 - val_accuracy: 0.5993\n",
      "Epoch 50/200\n",
      "34/34 [==============================] - 0s 10ms/step - loss: 0.9194 - accuracy: 0.6127 - val_loss: 0.9747 - val_accuracy: 0.6066\n",
      "Epoch 51/200\n",
      "34/34 [==============================] - 0s 10ms/step - loss: 0.9161 - accuracy: 0.6109 - val_loss: 0.9678 - val_accuracy: 0.5993\n",
      "Epoch 52/200\n",
      "34/34 [==============================] - 0s 9ms/step - loss: 0.9148 - accuracy: 0.6164 - val_loss: 0.9723 - val_accuracy: 0.5956\n",
      "Epoch 53/200\n",
      "34/34 [==============================] - 0s 10ms/step - loss: 0.9163 - accuracy: 0.6053 - val_loss: 0.9625 - val_accuracy: 0.6140\n",
      "Epoch 54/200\n",
      "34/34 [==============================] - 0s 10ms/step - loss: 0.9142 - accuracy: 0.5971 - val_loss: 0.9547 - val_accuracy: 0.6176\n",
      "Epoch 55/200\n",
      "34/34 [==============================] - 0s 9ms/step - loss: 0.9064 - accuracy: 0.6099 - val_loss: 0.9596 - val_accuracy: 0.5993\n",
      "Epoch 56/200\n",
      "34/34 [==============================] - 0s 10ms/step - loss: 0.9053 - accuracy: 0.6136 - val_loss: 0.9693 - val_accuracy: 0.6287\n",
      "Epoch 57/200\n",
      "34/34 [==============================] - 0s 10ms/step - loss: 0.9191 - accuracy: 0.6118 - val_loss: 0.9756 - val_accuracy: 0.6213\n",
      "Epoch 58/200\n",
      "34/34 [==============================] - 0s 9ms/step - loss: 0.9101 - accuracy: 0.6118 - val_loss: 0.9726 - val_accuracy: 0.6029\n",
      "Epoch 59/200\n",
      "34/34 [==============================] - 0s 11ms/step - loss: 0.9088 - accuracy: 0.6164 - val_loss: 0.9728 - val_accuracy: 0.6176\n",
      "Epoch 60/200\n",
      "34/34 [==============================] - 0s 9ms/step - loss: 0.9190 - accuracy: 0.5971 - val_loss: 0.9746 - val_accuracy: 0.5993\n",
      "Epoch 61/200\n",
      "34/34 [==============================] - 0s 10ms/step - loss: 0.8982 - accuracy: 0.6155 - val_loss: 0.9709 - val_accuracy: 0.5993\n",
      "Epoch 62/200\n",
      "34/34 [==============================] - 0s 10ms/step - loss: 0.8924 - accuracy: 0.6081 - val_loss: 0.9584 - val_accuracy: 0.5919\n",
      "Epoch 63/200\n",
      "34/34 [==============================] - 0s 8ms/step - loss: 0.9000 - accuracy: 0.6090 - val_loss: 0.9624 - val_accuracy: 0.6066\n",
      "Epoch 64/200\n",
      "34/34 [==============================] - 0s 7ms/step - loss: 0.9031 - accuracy: 0.6099 - val_loss: 0.9783 - val_accuracy: 0.5846\n",
      "Epoch 65/200\n",
      "34/34 [==============================] - 0s 8ms/step - loss: 0.9005 - accuracy: 0.6293 - val_loss: 0.9677 - val_accuracy: 0.5809\n",
      "Epoch 66/200\n",
      "34/34 [==============================] - 0s 8ms/step - loss: 0.9017 - accuracy: 0.6164 - val_loss: 0.9754 - val_accuracy: 0.5809\n",
      "Epoch 67/200\n",
      "34/34 [==============================] - 0s 8ms/step - loss: 0.9114 - accuracy: 0.6072 - val_loss: 0.9740 - val_accuracy: 0.5882\n",
      "Epoch 68/200\n",
      "34/34 [==============================] - 0s 7ms/step - loss: 0.9136 - accuracy: 0.6118 - val_loss: 0.9829 - val_accuracy: 0.6029\n",
      "Epoch 69/200\n",
      "34/34 [==============================] - 0s 7ms/step - loss: 0.9001 - accuracy: 0.6035 - val_loss: 0.9702 - val_accuracy: 0.5956\n",
      "Epoch 70/200\n",
      "34/34 [==============================] - 0s 8ms/step - loss: 0.8868 - accuracy: 0.5971 - val_loss: 0.9638 - val_accuracy: 0.5956\n",
      "Epoch 71/200\n",
      "34/34 [==============================] - 0s 8ms/step - loss: 0.8922 - accuracy: 0.6145 - val_loss: 0.9691 - val_accuracy: 0.5956\n",
      "Epoch 72/200\n",
      "34/34 [==============================] - 0s 8ms/step - loss: 0.8747 - accuracy: 0.6265 - val_loss: 0.9728 - val_accuracy: 0.6103\n",
      "Epoch 73/200\n",
      "34/34 [==============================] - 0s 8ms/step - loss: 0.8932 - accuracy: 0.6118 - val_loss: 0.9844 - val_accuracy: 0.5882\n",
      "Epoch 74/200\n",
      "34/34 [==============================] - 0s 8ms/step - loss: 0.8988 - accuracy: 0.5998 - val_loss: 0.9904 - val_accuracy: 0.5772\n",
      "Epoch 75/200\n",
      "34/34 [==============================] - 0s 8ms/step - loss: 0.8838 - accuracy: 0.6164 - val_loss: 0.9642 - val_accuracy: 0.6140\n",
      "Epoch 76/200\n",
      "34/34 [==============================] - 0s 7ms/step - loss: 0.8745 - accuracy: 0.6247 - val_loss: 0.9780 - val_accuracy: 0.5993\n",
      "Epoch 77/200\n",
      "34/34 [==============================] - 0s 8ms/step - loss: 0.8784 - accuracy: 0.6090 - val_loss: 0.9909 - val_accuracy: 0.5919\n",
      "Epoch 78/200\n",
      "34/34 [==============================] - 0s 8ms/step - loss: 0.8953 - accuracy: 0.6155 - val_loss: 0.9796 - val_accuracy: 0.5882\n",
      "Epoch 79/200\n",
      "34/34 [==============================] - 0s 8ms/step - loss: 0.8950 - accuracy: 0.6099 - val_loss: 0.9765 - val_accuracy: 0.6103\n",
      "Epoch 80/200\n",
      "34/34 [==============================] - 0s 7ms/step - loss: 0.8842 - accuracy: 0.6155 - val_loss: 0.9929 - val_accuracy: 0.5699\n",
      "Epoch 81/200\n",
      "34/34 [==============================] - 0s 8ms/step - loss: 0.8824 - accuracy: 0.6201 - val_loss: 0.9685 - val_accuracy: 0.5956\n",
      "Epoch 82/200\n",
      "34/34 [==============================] - 0s 8ms/step - loss: 0.8817 - accuracy: 0.6118 - val_loss: 0.9722 - val_accuracy: 0.5846\n",
      "Epoch 83/200\n",
      "34/34 [==============================] - 0s 8ms/step - loss: 0.8874 - accuracy: 0.6109 - val_loss: 0.9837 - val_accuracy: 0.5993\n",
      "Epoch 84/200\n",
      "34/34 [==============================] - 0s 7ms/step - loss: 0.8824 - accuracy: 0.6247 - val_loss: 0.9813 - val_accuracy: 0.5919\n",
      "Epoch 85/200\n",
      "34/34 [==============================] - 0s 8ms/step - loss: 0.8899 - accuracy: 0.6145 - val_loss: 0.9898 - val_accuracy: 0.5772\n",
      "Epoch 86/200\n",
      "34/34 [==============================] - 0s 8ms/step - loss: 0.8913 - accuracy: 0.6145 - val_loss: 0.9688 - val_accuracy: 0.6176\n",
      "Epoch 87/200\n",
      "34/34 [==============================] - 0s 8ms/step - loss: 0.8901 - accuracy: 0.6081 - val_loss: 0.9770 - val_accuracy: 0.6029\n",
      "Epoch 88/200\n",
      "34/34 [==============================] - 0s 8ms/step - loss: 0.8717 - accuracy: 0.6293 - val_loss: 0.9613 - val_accuracy: 0.6066\n",
      "Epoch 89/200\n",
      "34/34 [==============================] - 0s 9ms/step - loss: 0.8690 - accuracy: 0.6127 - val_loss: 0.9785 - val_accuracy: 0.6066\n",
      "Epoch 90/200\n",
      "34/34 [==============================] - 0s 11ms/step - loss: 0.8773 - accuracy: 0.6219 - val_loss: 0.9736 - val_accuracy: 0.5956\n",
      "Epoch 91/200\n",
      "34/34 [==============================] - 1s 16ms/step - loss: 0.8632 - accuracy: 0.6320 - val_loss: 0.9798 - val_accuracy: 0.6140\n",
      "Epoch 92/200\n",
      "34/34 [==============================] - 0s 12ms/step - loss: 0.8748 - accuracy: 0.6247 - val_loss: 0.9789 - val_accuracy: 0.6176\n",
      "Epoch 93/200\n",
      "34/34 [==============================] - 0s 9ms/step - loss: 0.8540 - accuracy: 0.6339 - val_loss: 0.9863 - val_accuracy: 0.6103\n",
      "Epoch 94/200\n",
      "34/34 [==============================] - 0s 11ms/step - loss: 0.8680 - accuracy: 0.6109 - val_loss: 0.9837 - val_accuracy: 0.6029\n",
      "Epoch 95/200\n",
      "34/34 [==============================] - 0s 10ms/step - loss: 0.8517 - accuracy: 0.6182 - val_loss: 0.9737 - val_accuracy: 0.6103\n",
      "Epoch 96/200\n",
      "34/34 [==============================] - 0s 10ms/step - loss: 0.8600 - accuracy: 0.6237 - val_loss: 0.9843 - val_accuracy: 0.5956\n",
      "Epoch 97/200\n",
      "34/34 [==============================] - 0s 15ms/step - loss: 0.8666 - accuracy: 0.6265 - val_loss: 0.9734 - val_accuracy: 0.6066\n",
      "Epoch 98/200\n",
      "34/34 [==============================] - 0s 14ms/step - loss: 0.8644 - accuracy: 0.6247 - val_loss: 0.9767 - val_accuracy: 0.6213\n",
      "Epoch 99/200\n",
      "34/34 [==============================] - 0s 14ms/step - loss: 0.8658 - accuracy: 0.6191 - val_loss: 0.9761 - val_accuracy: 0.5956\n",
      "Epoch 100/200\n",
      "34/34 [==============================] - 0s 11ms/step - loss: 0.8702 - accuracy: 0.6210 - val_loss: 0.9741 - val_accuracy: 0.6029\n",
      "Epoch 101/200\n",
      "34/34 [==============================] - 0s 12ms/step - loss: 0.8572 - accuracy: 0.6394 - val_loss: 0.9571 - val_accuracy: 0.6287\n",
      "Epoch 102/200\n",
      "34/34 [==============================] - 0s 12ms/step - loss: 0.8556 - accuracy: 0.6320 - val_loss: 0.9713 - val_accuracy: 0.6029\n",
      "Epoch 103/200\n",
      "34/34 [==============================] - 0s 10ms/step - loss: 0.8667 - accuracy: 0.6311 - val_loss: 0.9733 - val_accuracy: 0.6066\n",
      "Epoch 104/200\n",
      "34/34 [==============================] - 0s 10ms/step - loss: 0.8645 - accuracy: 0.6366 - val_loss: 0.9766 - val_accuracy: 0.6213\n",
      "Epoch 105/200\n",
      "34/34 [==============================] - 0s 11ms/step - loss: 0.8540 - accuracy: 0.6366 - val_loss: 0.9815 - val_accuracy: 0.6287\n",
      "Epoch 106/200\n",
      "34/34 [==============================] - 0s 10ms/step - loss: 0.8799 - accuracy: 0.6136 - val_loss: 0.9774 - val_accuracy: 0.6287\n",
      "Epoch 107/200\n",
      "34/34 [==============================] - 0s 10ms/step - loss: 0.8646 - accuracy: 0.6118 - val_loss: 0.9851 - val_accuracy: 0.5882\n",
      "Epoch 108/200\n",
      "34/34 [==============================] - 0s 11ms/step - loss: 0.8433 - accuracy: 0.6283 - val_loss: 0.9749 - val_accuracy: 0.5993\n",
      "Epoch 109/200\n",
      "34/34 [==============================] - 0s 10ms/step - loss: 0.8718 - accuracy: 0.6219 - val_loss: 0.9809 - val_accuracy: 0.5919\n",
      "Epoch 110/200\n",
      "34/34 [==============================] - 0s 9ms/step - loss: 0.8736 - accuracy: 0.6311 - val_loss: 0.9842 - val_accuracy: 0.5993\n",
      "Epoch 111/200\n",
      "34/34 [==============================] - 0s 12ms/step - loss: 0.8708 - accuracy: 0.6329 - val_loss: 0.9841 - val_accuracy: 0.6140\n",
      "Epoch 112/200\n",
      "34/34 [==============================] - 0s 10ms/step - loss: 0.8692 - accuracy: 0.6283 - val_loss: 0.9909 - val_accuracy: 0.5919\n",
      "Epoch 113/200\n",
      "34/34 [==============================] - 0s 10ms/step - loss: 0.8339 - accuracy: 0.6513 - val_loss: 0.9866 - val_accuracy: 0.6029\n",
      "Epoch 114/200\n",
      "34/34 [==============================] - 0s 11ms/step - loss: 0.8382 - accuracy: 0.6329 - val_loss: 0.9822 - val_accuracy: 0.6140\n",
      "Epoch 115/200\n"
     ]
    },
    {
     "name": "stdout",
     "output_type": "stream",
     "text": [
      "34/34 [==============================] - 0s 9ms/step - loss: 0.8411 - accuracy: 0.6247 - val_loss: 0.9686 - val_accuracy: 0.5993\n",
      "Epoch 116/200\n",
      "34/34 [==============================] - 0s 8ms/step - loss: 0.8554 - accuracy: 0.6228 - val_loss: 0.9770 - val_accuracy: 0.6029\n",
      "Epoch 117/200\n",
      "34/34 [==============================] - 0s 15ms/step - loss: 0.8442 - accuracy: 0.6348 - val_loss: 0.9869 - val_accuracy: 0.6066\n",
      "Epoch 118/200\n",
      "34/34 [==============================] - 0s 10ms/step - loss: 0.8598 - accuracy: 0.6237 - val_loss: 0.9909 - val_accuracy: 0.5956\n",
      "Epoch 119/200\n",
      "34/34 [==============================] - 0s 10ms/step - loss: 0.8598 - accuracy: 0.6375 - val_loss: 0.9787 - val_accuracy: 0.6103\n",
      "Epoch 120/200\n",
      "34/34 [==============================] - 0s 10ms/step - loss: 0.8352 - accuracy: 0.6293 - val_loss: 0.9942 - val_accuracy: 0.6066\n",
      "Epoch 121/200\n",
      "34/34 [==============================] - 0s 9ms/step - loss: 0.8312 - accuracy: 0.6302 - val_loss: 0.9917 - val_accuracy: 0.6103\n",
      "Epoch 122/200\n",
      "34/34 [==============================] - 0s 8ms/step - loss: 0.8431 - accuracy: 0.6366 - val_loss: 0.9905 - val_accuracy: 0.6066\n",
      "Epoch 123/200\n",
      "34/34 [==============================] - 0s 9ms/step - loss: 0.8502 - accuracy: 0.6274 - val_loss: 0.9886 - val_accuracy: 0.6029\n",
      "Epoch 124/200\n",
      "34/34 [==============================] - 0s 9ms/step - loss: 0.8447 - accuracy: 0.6412 - val_loss: 1.0015 - val_accuracy: 0.6029\n",
      "Epoch 125/200\n",
      "34/34 [==============================] - 0s 9ms/step - loss: 0.8308 - accuracy: 0.6210 - val_loss: 0.9991 - val_accuracy: 0.6029\n",
      "Epoch 126/200\n",
      "34/34 [==============================] - 0s 9ms/step - loss: 0.8456 - accuracy: 0.6339 - val_loss: 0.9855 - val_accuracy: 0.6250\n",
      "Epoch 127/200\n",
      "34/34 [==============================] - 0s 8ms/step - loss: 0.8445 - accuracy: 0.6458 - val_loss: 0.9857 - val_accuracy: 0.6250\n",
      "Epoch 128/200\n",
      "34/34 [==============================] - 0s 8ms/step - loss: 0.8210 - accuracy: 0.6375 - val_loss: 0.9966 - val_accuracy: 0.6103\n",
      "Epoch 129/200\n",
      "34/34 [==============================] - 0s 8ms/step - loss: 0.8614 - accuracy: 0.6247 - val_loss: 0.9981 - val_accuracy: 0.6103\n",
      "Epoch 130/200\n",
      "34/34 [==============================] - 0s 9ms/step - loss: 0.8598 - accuracy: 0.6247 - val_loss: 1.0096 - val_accuracy: 0.6103\n",
      "Epoch 131/200\n",
      "34/34 [==============================] - 0s 9ms/step - loss: 0.8515 - accuracy: 0.6302 - val_loss: 0.9877 - val_accuracy: 0.6176\n",
      "Epoch 132/200\n",
      "34/34 [==============================] - 0s 8ms/step - loss: 0.8269 - accuracy: 0.6375 - val_loss: 0.9957 - val_accuracy: 0.5993\n",
      "Epoch 133/200\n",
      "34/34 [==============================] - 0s 8ms/step - loss: 0.8390 - accuracy: 0.6504 - val_loss: 1.0207 - val_accuracy: 0.5882\n",
      "Epoch 134/200\n",
      "34/34 [==============================] - 0s 9ms/step - loss: 0.8109 - accuracy: 0.6394 - val_loss: 1.0077 - val_accuracy: 0.5846\n",
      "Epoch 135/200\n",
      "34/34 [==============================] - 0s 8ms/step - loss: 0.8385 - accuracy: 0.6293 - val_loss: 1.0064 - val_accuracy: 0.6140\n",
      "Epoch 136/200\n",
      "34/34 [==============================] - 0s 10ms/step - loss: 0.8696 - accuracy: 0.6164 - val_loss: 1.0056 - val_accuracy: 0.6213\n",
      "Epoch 137/200\n",
      "34/34 [==============================] - 0s 13ms/step - loss: 0.8540 - accuracy: 0.6265 - val_loss: 0.9687 - val_accuracy: 0.6287\n",
      "Epoch 138/200\n",
      "34/34 [==============================] - 0s 9ms/step - loss: 0.8304 - accuracy: 0.6302 - val_loss: 0.9791 - val_accuracy: 0.6029\n",
      "Epoch 139/200\n",
      "34/34 [==============================] - 0s 10ms/step - loss: 0.8725 - accuracy: 0.6182 - val_loss: 1.0102 - val_accuracy: 0.5846\n",
      "Epoch 140/200\n",
      "34/34 [==============================] - 0s 10ms/step - loss: 0.8387 - accuracy: 0.6265 - val_loss: 1.0076 - val_accuracy: 0.6066\n",
      "Epoch 141/200\n",
      "34/34 [==============================] - 0s 8ms/step - loss: 0.8499 - accuracy: 0.6357 - val_loss: 1.0085 - val_accuracy: 0.6066\n",
      "Epoch 142/200\n",
      "34/34 [==============================] - 0s 9ms/step - loss: 0.8516 - accuracy: 0.6228 - val_loss: 1.0154 - val_accuracy: 0.5993\n",
      "Epoch 143/200\n",
      "34/34 [==============================] - 0s 10ms/step - loss: 0.8390 - accuracy: 0.6412 - val_loss: 1.0073 - val_accuracy: 0.6029\n",
      "Epoch 144/200\n",
      "34/34 [==============================] - 0s 10ms/step - loss: 0.8243 - accuracy: 0.6256 - val_loss: 1.0132 - val_accuracy: 0.5882\n",
      "Epoch 145/200\n",
      "34/34 [==============================] - 0s 10ms/step - loss: 0.8501 - accuracy: 0.6467 - val_loss: 0.9973 - val_accuracy: 0.6029\n",
      "Epoch 146/200\n",
      "34/34 [==============================] - 0s 11ms/step - loss: 0.8554 - accuracy: 0.6191 - val_loss: 1.0087 - val_accuracy: 0.6103\n",
      "Epoch 147/200\n",
      "34/34 [==============================] - 0s 10ms/step - loss: 0.8306 - accuracy: 0.6523 - val_loss: 1.0184 - val_accuracy: 0.6029\n",
      "Epoch 148/200\n",
      "34/34 [==============================] - 0s 11ms/step - loss: 0.8448 - accuracy: 0.6302 - val_loss: 0.9926 - val_accuracy: 0.5882\n",
      "Epoch 149/200\n",
      "34/34 [==============================] - 0s 12ms/step - loss: 0.8590 - accuracy: 0.6329 - val_loss: 0.9983 - val_accuracy: 0.5846\n",
      "Epoch 150/200\n",
      "34/34 [==============================] - 0s 10ms/step - loss: 0.8388 - accuracy: 0.6421 - val_loss: 1.0022 - val_accuracy: 0.5772\n",
      "Epoch 151/200\n",
      "34/34 [==============================] - 0s 12ms/step - loss: 0.8236 - accuracy: 0.6348 - val_loss: 1.0038 - val_accuracy: 0.5956\n",
      "Epoch 152/200\n",
      "34/34 [==============================] - 0s 10ms/step - loss: 0.8368 - accuracy: 0.6431 - val_loss: 0.9971 - val_accuracy: 0.6029\n",
      "Epoch 153/200\n",
      "34/34 [==============================] - 0s 10ms/step - loss: 0.8421 - accuracy: 0.6237 - val_loss: 0.9787 - val_accuracy: 0.6213\n",
      "Epoch 154/200\n",
      "34/34 [==============================] - 0s 11ms/step - loss: 0.8432 - accuracy: 0.6339 - val_loss: 0.9936 - val_accuracy: 0.6066\n",
      "Epoch 155/200\n",
      "34/34 [==============================] - 0s 11ms/step - loss: 0.8246 - accuracy: 0.6375 - val_loss: 0.9724 - val_accuracy: 0.6250\n",
      "Epoch 156/200\n",
      "34/34 [==============================] - 0s 10ms/step - loss: 0.8275 - accuracy: 0.6421 - val_loss: 0.9825 - val_accuracy: 0.6250\n",
      "Epoch 157/200\n",
      "34/34 [==============================] - 0s 11ms/step - loss: 0.8000 - accuracy: 0.6513 - val_loss: 1.0031 - val_accuracy: 0.6103\n",
      "Epoch 158/200\n",
      "34/34 [==============================] - 0s 9ms/step - loss: 0.8274 - accuracy: 0.6449 - val_loss: 0.9964 - val_accuracy: 0.6287\n",
      "Epoch 159/200\n",
      "34/34 [==============================] - 0s 10ms/step - loss: 0.8205 - accuracy: 0.6615 - val_loss: 0.9930 - val_accuracy: 0.6029\n",
      "Epoch 160/200\n",
      "34/34 [==============================] - 0s 11ms/step - loss: 0.8358 - accuracy: 0.6366 - val_loss: 0.9907 - val_accuracy: 0.5993\n",
      "Epoch 161/200\n",
      "34/34 [==============================] - 0s 10ms/step - loss: 0.8317 - accuracy: 0.6348 - val_loss: 0.9645 - val_accuracy: 0.6176\n",
      "Epoch 162/200\n",
      "34/34 [==============================] - 0s 10ms/step - loss: 0.8358 - accuracy: 0.6513 - val_loss: 0.9785 - val_accuracy: 0.6029\n",
      "Epoch 163/200\n",
      "34/34 [==============================] - 0s 11ms/step - loss: 0.8513 - accuracy: 0.6274 - val_loss: 0.9925 - val_accuracy: 0.6103\n",
      "Epoch 164/200\n",
      "34/34 [==============================] - 0s 9ms/step - loss: 0.8225 - accuracy: 0.6467 - val_loss: 0.9898 - val_accuracy: 0.6213\n",
      "Epoch 165/200\n",
      "34/34 [==============================] - 0s 10ms/step - loss: 0.8139 - accuracy: 0.6495 - val_loss: 0.9970 - val_accuracy: 0.6029\n",
      "Epoch 166/200\n",
      "34/34 [==============================] - 0s 9ms/step - loss: 0.8389 - accuracy: 0.6532 - val_loss: 1.0099 - val_accuracy: 0.5919\n",
      "Epoch 167/200\n",
      "34/34 [==============================] - 0s 8ms/step - loss: 0.7992 - accuracy: 0.6569 - val_loss: 1.0006 - val_accuracy: 0.5919\n",
      "Epoch 168/200\n",
      "34/34 [==============================] - 0s 9ms/step - loss: 0.8108 - accuracy: 0.6403 - val_loss: 0.9953 - val_accuracy: 0.6176\n",
      "Epoch 169/200\n",
      "34/34 [==============================] - 0s 9ms/step - loss: 0.8219 - accuracy: 0.6532 - val_loss: 0.9938 - val_accuracy: 0.5846\n",
      "Epoch 170/200\n",
      "34/34 [==============================] - 0s 9ms/step - loss: 0.8254 - accuracy: 0.6394 - val_loss: 1.0004 - val_accuracy: 0.5882\n",
      "Epoch 171/200\n",
      "34/34 [==============================] - 0s 10ms/step - loss: 0.8413 - accuracy: 0.6329 - val_loss: 1.0078 - val_accuracy: 0.5882\n",
      "Epoch 172/200\n",
      "34/34 [==============================] - 0s 9ms/step - loss: 0.8328 - accuracy: 0.6495 - val_loss: 1.0053 - val_accuracy: 0.5772\n",
      "Epoch 173/200\n",
      "34/34 [==============================] - 0s 9ms/step - loss: 0.8118 - accuracy: 0.6615 - val_loss: 1.0074 - val_accuracy: 0.5882\n",
      "Epoch 174/200\n",
      "34/34 [==============================] - 0s 8ms/step - loss: 0.8161 - accuracy: 0.6504 - val_loss: 1.0062 - val_accuracy: 0.5735\n",
      "Epoch 175/200\n",
      "34/34 [==============================] - 0s 8ms/step - loss: 0.7967 - accuracy: 0.6688 - val_loss: 1.0061 - val_accuracy: 0.5772\n",
      "Epoch 176/200\n",
      "34/34 [==============================] - 0s 8ms/step - loss: 0.8197 - accuracy: 0.6559 - val_loss: 0.9920 - val_accuracy: 0.6029\n",
      "Epoch 177/200\n",
      "34/34 [==============================] - 0s 8ms/step - loss: 0.8064 - accuracy: 0.6421 - val_loss: 1.0008 - val_accuracy: 0.5919\n",
      "Epoch 178/200\n",
      "34/34 [==============================] - 0s 7ms/step - loss: 0.8355 - accuracy: 0.6348 - val_loss: 1.0114 - val_accuracy: 0.5919\n",
      "Epoch 179/200\n",
      "34/34 [==============================] - 0s 8ms/step - loss: 0.8306 - accuracy: 0.6247 - val_loss: 0.9895 - val_accuracy: 0.6029\n",
      "Epoch 180/200\n",
      "34/34 [==============================] - 0s 8ms/step - loss: 0.8153 - accuracy: 0.6458 - val_loss: 0.9907 - val_accuracy: 0.5919\n",
      "Epoch 181/200\n",
      "34/34 [==============================] - 0s 8ms/step - loss: 0.8170 - accuracy: 0.6569 - val_loss: 0.9965 - val_accuracy: 0.6029\n",
      "Epoch 182/200\n",
      "34/34 [==============================] - 0s 8ms/step - loss: 0.8197 - accuracy: 0.6458 - val_loss: 0.9792 - val_accuracy: 0.6140\n",
      "Epoch 183/200\n",
      "34/34 [==============================] - 0s 8ms/step - loss: 0.8067 - accuracy: 0.6523 - val_loss: 0.9808 - val_accuracy: 0.6029\n",
      "Epoch 184/200\n",
      "34/34 [==============================] - 0s 9ms/step - loss: 0.8193 - accuracy: 0.6569 - val_loss: 0.9705 - val_accuracy: 0.6176\n",
      "Epoch 185/200\n",
      "34/34 [==============================] - 0s 9ms/step - loss: 0.8332 - accuracy: 0.6403 - val_loss: 0.9835 - val_accuracy: 0.6140\n",
      "Epoch 186/200\n",
      "34/34 [==============================] - 0s 12ms/step - loss: 0.8256 - accuracy: 0.6366 - val_loss: 1.0082 - val_accuracy: 0.5956\n",
      "Epoch 187/200\n",
      "34/34 [==============================] - 0s 10ms/step - loss: 0.8280 - accuracy: 0.6329 - val_loss: 1.0040 - val_accuracy: 0.5846\n",
      "Epoch 188/200\n",
      "34/34 [==============================] - 0s 12ms/step - loss: 0.8159 - accuracy: 0.6385 - val_loss: 0.9960 - val_accuracy: 0.6103\n",
      "Epoch 189/200\n",
      "34/34 [==============================] - 0s 11ms/step - loss: 0.8307 - accuracy: 0.6513 - val_loss: 1.0025 - val_accuracy: 0.5846\n",
      "Epoch 190/200\n",
      "34/34 [==============================] - 0s 10ms/step - loss: 0.8268 - accuracy: 0.6375 - val_loss: 0.9894 - val_accuracy: 0.5993\n",
      "Epoch 191/200\n",
      "34/34 [==============================] - 0s 10ms/step - loss: 0.8003 - accuracy: 0.6532 - val_loss: 0.9868 - val_accuracy: 0.6066\n",
      "Epoch 192/200\n",
      "34/34 [==============================] - 0s 10ms/step - loss: 0.8304 - accuracy: 0.6421 - val_loss: 0.9928 - val_accuracy: 0.5919\n",
      "Epoch 193/200\n",
      "34/34 [==============================] - 0s 12ms/step - loss: 0.8199 - accuracy: 0.6523 - val_loss: 0.9849 - val_accuracy: 0.5956\n",
      "Epoch 194/200\n",
      "34/34 [==============================] - 0s 11ms/step - loss: 0.8369 - accuracy: 0.6403 - val_loss: 0.9886 - val_accuracy: 0.5882\n",
      "Epoch 195/200\n",
      "34/34 [==============================] - 0s 11ms/step - loss: 0.8091 - accuracy: 0.6440 - val_loss: 0.9936 - val_accuracy: 0.6213\n",
      "Epoch 196/200\n",
      "34/34 [==============================] - 0s 10ms/step - loss: 0.8303 - accuracy: 0.6421 - val_loss: 1.0062 - val_accuracy: 0.6029\n",
      "Epoch 197/200\n",
      "34/34 [==============================] - 0s 11ms/step - loss: 0.8319 - accuracy: 0.6449 - val_loss: 1.0018 - val_accuracy: 0.5846\n",
      "Epoch 198/200\n",
      "34/34 [==============================] - 0s 11ms/step - loss: 0.8273 - accuracy: 0.6412 - val_loss: 0.9899 - val_accuracy: 0.6213\n",
      "Epoch 199/200\n",
      "34/34 [==============================] - 0s 11ms/step - loss: 0.8177 - accuracy: 0.6467 - val_loss: 0.9970 - val_accuracy: 0.6140\n",
      "Epoch 200/200\n",
      "34/34 [==============================] - 0s 10ms/step - loss: 0.8597 - accuracy: 0.6385 - val_loss: 1.0132 - val_accuracy: 0.5809\n"
     ]
    }
   ],
   "source": [
    "history1 = model1.fit(X_train, Y_train, validation_data=(X_test, Y_test), epochs=200, batch_size=32)"
   ]
  },
  {
   "cell_type": "markdown",
   "metadata": {
    "id": "ZRoexAo7f8Fv"
   },
   "source": [
    "**1.3 e - Plot visuals as in Q3.C and share insights about difference observed in both the models**"
   ]
  },
  {
   "cell_type": "markdown",
   "metadata": {},
   "source": [
    "**1.3 d A) Plot Visuals**"
   ]
  },
  {
   "cell_type": "code",
   "execution_count": 425,
   "metadata": {
    "id": "9yL0HlKlgCPR"
   },
   "outputs": [
    {
     "data": {
      "image/png": "[encoded data removed]",
      "text/plain": [
       "<Figure size 432x288 with 1 Axes>"
      ]
     },
     "metadata": {
      "needs_background": "light"
     },
     "output_type": "display_data"
    }
   ],
   "source": [
    "# To get the training loss\n",
    "loss_train = models.history.history['loss']\n",
    "# To get the validation loss\n",
    "loss_val = models.history.history['val_loss']\n",
    "epochs = range(1,200+1)\n",
    "# Plotting Training and Validation loss at different epochs\n",
    "plt.plot(epochs, loss_train, 'g', label='Training loss')\n",
    "plt.plot(epochs, loss_val, 'b', label='validation loss')\n",
    "# To add the title as 'Training and Validation loss' to the plot\n",
    "plt.title('Training and Validation loss')\n",
    "# To add xlabel as 'Epochs' to the plot\n",
    "plt.xlabel('Epochs')\n",
    "# To add xlabel as 'Loss' to the plot\n",
    "plt.ylabel('Loss')\n",
    "\n",
    "plt.legend()\n",
    "plt.show()"
   ]
  },
  {
   "cell_type": "code",
   "execution_count": 426,
   "metadata": {
    "id": "3Yobg-bFgCaB"
   },
   "outputs": [
    {
     "data": {
      "image/png": "[encoded data removed]",
      "text/plain": [
       "<Figure size 432x288 with 1 Axes>"
      ]
     },
     "metadata": {
      "needs_background": "light"
     },
     "output_type": "display_data"
    }
   ],
   "source": [
    "# To get the training loss\n",
    "Accuracy_train = models.history.history['accuracy']\n",
    "# To get the validation loss\n",
    "Accuracy_val = models.history.history['val_accuracy']\n",
    "epochs = range(1,200+1)\n",
    "# Plotting Training and Validation loss at different epochs\n",
    "plt.plot(epochs, Accuracy_train, 'g', label='Training Accuracy')\n",
    "plt.plot(epochs, Accuracy_val, 'b', label='validation Accuracy')\n",
    "# To add the title as 'Training and Validation loss' to the plot\n",
    "plt.title('Training and Validation Accuracies')\n",
    "# To add xlabel as 'Epochs' to the plot\n",
    "plt.xlabel('Epochs')\n",
    "# To add xlabel as 'Loss' to the plot\n",
    "plt.ylabel('Accuracy')\n",
    "\n",
    "plt.legend()\n",
    "plt.show()"
   ]
  },
  {
   "cell_type": "markdown",
   "metadata": {
    "id": "epTIhCz3tl6n"
   },
   "source": [
    "**1.3 d B) Plot Visuals**"
   ]
  },
  {
   "cell_type": "code",
   "execution_count": 427,
   "metadata": {
    "id": "y58RrP83tkyO"
   },
   "outputs": [
    {
     "data": {
      "image/png": "[encoded data removed]",
      "text/plain": [
       "<Figure size 432x288 with 1 Axes>"
      ]
     },
     "metadata": {
      "needs_background": "light"
     },
     "output_type": "display_data"
    }
   ],
   "source": [
    "# To get the validation loss\n",
    "loss_train = model1.history.history['loss']\n",
    "loss_val = model1.history.history['val_loss']\n",
    "epochs = range(1,200+1)\n",
    "# Plotting Training and Validation loss at different epochs\n",
    "plt.plot(epochs, loss_train, 'g', label='Training loss')\n",
    "plt.plot(epochs, loss_val, 'b', label='validation loss')\n",
    "# To add the title as 'Training and Validation loss' to the plot\n",
    "plt.title('Training and Validation loss')\n",
    "# To add xlabel as 'Epochs' to the plot\n",
    "plt.xlabel('Epochs')\n",
    "# To add xlabel as 'Loss' to the plot\n",
    "plt.ylabel('Loss')\n",
    "\n",
    "plt.legend()\n",
    "plt.show()"
   ]
  },
  {
   "cell_type": "code",
   "execution_count": 428,
   "metadata": {
    "id": "9JhqMA3_tuJU"
   },
   "outputs": [
    {
     "data": {
      "image/png": "[encoded data removed]",
      "text/plain": [
       "<Figure size 432x288 with 1 Axes>"
      ]
     },
     "metadata": {
      "needs_background": "light"
     },
     "output_type": "display_data"
    }
   ],
   "source": [
    "# To get the training loss\n",
    "Accuracy_train = model1.history.history['accuracy']\n",
    "# To get the validation loss\n",
    "Accuracy_val = model1.history.history['val_accuracy']\n",
    "epochs = range(1,200+1)\n",
    "# Plotting Training and Validation loss at different epochs\n",
    "plt.plot(epochs, Accuracy_train, 'g', label='Training Accuracy')\n",
    "plt.plot(epochs, Accuracy_val, 'b', label='validation Accuracy')\n",
    "# To add the title as 'Training and Validation loss' to the plot\n",
    "plt.title('Training and Validation Accuracies')\n",
    "# To add xlabel as 'Epochs' to the plot\n",
    "plt.xlabel('Epochs')\n",
    "# To add xlabel as 'Loss' to the plot\n",
    "plt.ylabel('Accuracy')\n",
    "\n",
    "plt.legend()\n",
    "plt.show()"
   ]
  },
  {
   "cell_type": "markdown",
   "metadata": {},
   "source": [
    "**1.3 d C) By Adding layer(s) along with the \"REGULARIZATION\" techniques, SGD optimizer & LearningRateScheduler for improving the model to the existing architecture**"
   ]
  },
  {
   "cell_type": "code",
   "execution_count": 429,
   "metadata": {},
   "outputs": [
    {
     "name": "stdout",
     "output_type": "stream",
     "text": [
      "Epoch 1/200\n",
      "34/34 [==============================] - 5s 23ms/step - loss: 1.7613 - accuracy: 0.4370 - val_loss: 1.4361 - val_accuracy: 0.5257 - lr: 0.0100\n",
      "Epoch 2/200\n",
      "34/34 [==============================] - 0s 8ms/step - loss: 1.1210 - accuracy: 0.5538 - val_loss: 1.1901 - val_accuracy: 0.4191 - lr: 0.0100\n",
      "Epoch 3/200\n",
      "34/34 [==============================] - 0s 8ms/step - loss: 1.0118 - accuracy: 0.5805 - val_loss: 1.1459 - val_accuracy: 0.4301 - lr: 0.0100\n",
      "Epoch 4/200\n",
      "34/34 [==============================] - 0s 11ms/step - loss: 0.9739 - accuracy: 0.5897 - val_loss: 1.0597 - val_accuracy: 0.5184 - lr: 0.0100\n",
      "Epoch 5/200\n",
      "34/34 [==============================] - 0s 8ms/step - loss: 0.9578 - accuracy: 0.5879 - val_loss: 1.0051 - val_accuracy: 0.5588 - lr: 0.0100\n",
      "Epoch 6/200\n",
      "34/34 [==============================] - 0s 8ms/step - loss: 0.9634 - accuracy: 0.5925 - val_loss: 0.9660 - val_accuracy: 0.5882 - lr: 0.0100\n",
      "Epoch 7/200\n",
      "34/34 [==============================] - 0s 8ms/step - loss: 0.9454 - accuracy: 0.6090 - val_loss: 0.9614 - val_accuracy: 0.5993 - lr: 0.0100\n",
      "Epoch 8/200\n",
      "34/34 [==============================] - 0s 9ms/step - loss: 0.9462 - accuracy: 0.5869 - val_loss: 0.9744 - val_accuracy: 0.5515 - lr: 0.0100\n",
      "Epoch 9/200\n",
      "34/34 [==============================] - 0s 8ms/step - loss: 0.9515 - accuracy: 0.5906 - val_loss: 0.9658 - val_accuracy: 0.5919 - lr: 0.0100\n",
      "Epoch 10/200\n",
      "34/34 [==============================] - 0s 7ms/step - loss: 0.9371 - accuracy: 0.6063 - val_loss: 0.9799 - val_accuracy: 0.5588 - lr: 0.0100\n",
      "Epoch 11/200\n",
      "34/34 [==============================] - 0s 11ms/step - loss: 0.9343 - accuracy: 0.5915 - val_loss: 0.9260 - val_accuracy: 0.5956 - lr: 0.0100\n",
      "Epoch 12/200\n",
      "34/34 [==============================] - 0s 10ms/step - loss: 0.9297 - accuracy: 0.5980 - val_loss: 0.9152 - val_accuracy: 0.6250 - lr: 0.0100\n",
      "Epoch 13/200\n",
      "34/34 [==============================] - 0s 11ms/step - loss: 0.9152 - accuracy: 0.5989 - val_loss: 0.9099 - val_accuracy: 0.5772 - lr: 0.0100\n",
      "Epoch 14/200\n",
      "34/34 [==============================] - 0s 10ms/step - loss: 0.9148 - accuracy: 0.6044 - val_loss: 0.9438 - val_accuracy: 0.5919 - lr: 0.0100\n",
      "Epoch 15/200\n",
      "34/34 [==============================] - 0s 10ms/step - loss: 0.9204 - accuracy: 0.5961 - val_loss: 1.0071 - val_accuracy: 0.5809 - lr: 0.0100\n",
      "Epoch 16/200\n",
      "34/34 [==============================] - 0s 11ms/step - loss: 0.9050 - accuracy: 0.5998 - val_loss: 0.9155 - val_accuracy: 0.6176 - lr: 0.0100\n",
      "Epoch 17/200\n",
      "34/34 [==============================] - 0s 10ms/step - loss: 0.8952 - accuracy: 0.6173 - val_loss: 0.9604 - val_accuracy: 0.6029 - lr: 0.0100\n",
      "Epoch 18/200\n",
      "34/34 [==============================] - 0s 11ms/step - loss: 0.9119 - accuracy: 0.6044 - val_loss: 0.9630 - val_accuracy: 0.6066 - lr: 0.0100\n",
      "Epoch 19/200\n",
      "34/34 [==============================] - 0s 9ms/step - loss: 0.9257 - accuracy: 0.5980 - val_loss: 0.9478 - val_accuracy: 0.5882 - lr: 0.0100\n",
      "Epoch 20/200\n",
      "34/34 [==============================] - 0s 10ms/step - loss: 0.8922 - accuracy: 0.6109 - val_loss: 0.9916 - val_accuracy: 0.5956 - lr: 0.0100\n",
      "Epoch 21/200\n",
      "34/34 [==============================] - 0s 10ms/step - loss: 0.8932 - accuracy: 0.6191 - val_loss: 1.0258 - val_accuracy: 0.5625 - lr: 0.0100\n",
      "Epoch 22/200\n",
      "34/34 [==============================] - 0s 10ms/step - loss: 0.8933 - accuracy: 0.6155 - val_loss: 0.9480 - val_accuracy: 0.6029 - lr: 0.0100\n",
      "Epoch 23/200\n",
      "34/34 [==============================] - 0s 10ms/step - loss: 0.8822 - accuracy: 0.6302 - val_loss: 0.9951 - val_accuracy: 0.5809 - lr: 0.0100\n",
      "Epoch 24/200\n",
      "34/34 [==============================] - 0s 10ms/step - loss: 0.8932 - accuracy: 0.6191 - val_loss: 0.9580 - val_accuracy: 0.5993 - lr: 0.0100\n",
      "Epoch 25/200\n",
      "34/34 [==============================] - 0s 9ms/step - loss: 0.9070 - accuracy: 0.6164 - val_loss: 0.9797 - val_accuracy: 0.5919 - lr: 0.0100\n",
      "Epoch 26/200\n",
      "34/34 [==============================] - 0s 10ms/step - loss: 0.8872 - accuracy: 0.5961 - val_loss: 0.9596 - val_accuracy: 0.6103 - lr: 0.0100\n",
      "Epoch 27/200\n",
      "34/34 [==============================] - 0s 9ms/step - loss: 0.8880 - accuracy: 0.6127 - val_loss: 0.9501 - val_accuracy: 0.6140 - lr: 0.0100\n",
      "Epoch 28/200\n",
      "34/34 [==============================] - 0s 9ms/step - loss: 0.8969 - accuracy: 0.6164 - val_loss: 0.9818 - val_accuracy: 0.5772 - lr: 0.0100\n",
      "Epoch 29/200\n",
      "34/34 [==============================] - 0s 10ms/step - loss: 0.8857 - accuracy: 0.6026 - val_loss: 0.9409 - val_accuracy: 0.6066 - lr: 0.0100\n",
      "Epoch 30/200\n",
      "34/34 [==============================] - 0s 10ms/step - loss: 0.8764 - accuracy: 0.6237 - val_loss: 0.9631 - val_accuracy: 0.5919 - lr: 0.0100\n",
      "Epoch 31/200\n",
      "34/34 [==============================] - 0s 10ms/step - loss: 0.8665 - accuracy: 0.6219 - val_loss: 0.9636 - val_accuracy: 0.5956 - lr: 0.0100\n",
      "Epoch 32/200\n",
      "34/34 [==============================] - 0s 10ms/step - loss: 0.8936 - accuracy: 0.6173 - val_loss: 0.9427 - val_accuracy: 0.6140 - lr: 0.0100\n",
      "Epoch 33/200\n",
      "34/34 [==============================] - 0s 9ms/step - loss: 0.8621 - accuracy: 0.6210 - val_loss: 0.9545 - val_accuracy: 0.6066 - lr: 0.0100\n",
      "Epoch 34/200\n",
      "34/34 [==============================] - 0s 9ms/step - loss: 0.8812 - accuracy: 0.6247 - val_loss: 0.9715 - val_accuracy: 0.5919 - lr: 0.0100\n",
      "Epoch 35/200\n",
      "34/34 [==============================] - 0s 10ms/step - loss: 0.8750 - accuracy: 0.6311 - val_loss: 0.9437 - val_accuracy: 0.6029 - lr: 0.0100\n",
      "Epoch 36/200\n",
      "34/34 [==============================] - 0s 9ms/step - loss: 0.8642 - accuracy: 0.6302 - val_loss: 0.9538 - val_accuracy: 0.6287 - lr: 0.0100\n",
      "Epoch 37/200\n",
      "34/34 [==============================] - 0s 10ms/step - loss: 0.8584 - accuracy: 0.6274 - val_loss: 0.9855 - val_accuracy: 0.5772 - lr: 0.0100\n",
      "Epoch 38/200\n",
      "34/34 [==============================] - 0s 9ms/step - loss: 0.8812 - accuracy: 0.6256 - val_loss: 1.0108 - val_accuracy: 0.6103 - lr: 0.0100\n",
      "Epoch 39/200\n",
      "34/34 [==============================] - 0s 8ms/step - loss: 0.8814 - accuracy: 0.6164 - val_loss: 0.9296 - val_accuracy: 0.6213 - lr: 0.0100\n",
      "Epoch 40/200\n",
      "34/34 [==============================] - 0s 8ms/step - loss: 0.8861 - accuracy: 0.6118 - val_loss: 0.9400 - val_accuracy: 0.6250 - lr: 0.0100\n",
      "Epoch 41/200\n",
      "34/34 [==============================] - 0s 7ms/step - loss: 0.8637 - accuracy: 0.6265 - val_loss: 0.9524 - val_accuracy: 0.6213 - lr: 0.0100\n",
      "Epoch 42/200\n",
      "34/34 [==============================] - 0s 8ms/step - loss: 0.8697 - accuracy: 0.6329 - val_loss: 0.9725 - val_accuracy: 0.6066 - lr: 0.0100\n",
      "Epoch 43/200\n",
      "34/34 [==============================] - 0s 9ms/step - loss: 0.8531 - accuracy: 0.6201 - val_loss: 0.9435 - val_accuracy: 0.5956 - lr: 0.0100\n",
      "Epoch 44/200\n",
      "34/34 [==============================] - 0s 10ms/step - loss: 0.8628 - accuracy: 0.6155 - val_loss: 0.9956 - val_accuracy: 0.5735 - lr: 0.0100\n",
      "Epoch 45/200\n",
      "34/34 [==============================] - 0s 10ms/step - loss: 0.8609 - accuracy: 0.6366 - val_loss: 0.9648 - val_accuracy: 0.5919 - lr: 0.0100\n",
      "Epoch 46/200\n",
      "34/34 [==============================] - 0s 7ms/step - loss: 0.8809 - accuracy: 0.6109 - val_loss: 0.9767 - val_accuracy: 0.5956 - lr: 0.0100\n",
      "Epoch 47/200\n",
      "34/34 [==============================] - 0s 8ms/step - loss: 0.8492 - accuracy: 0.6228 - val_loss: 1.0075 - val_accuracy: 0.5699 - lr: 0.0100\n",
      "Epoch 48/200\n",
      "34/34 [==============================] - 0s 8ms/step - loss: 0.8365 - accuracy: 0.6375 - val_loss: 1.0038 - val_accuracy: 0.6140 - lr: 0.0100\n",
      "Epoch 49/200\n",
      "34/34 [==============================] - 0s 9ms/step - loss: 0.8660 - accuracy: 0.6081 - val_loss: 0.9678 - val_accuracy: 0.6287 - lr: 0.0100\n",
      "Epoch 50/200\n",
      "34/34 [==============================] - 0s 8ms/step - loss: 0.8670 - accuracy: 0.6063 - val_loss: 0.9914 - val_accuracy: 0.5882 - lr: 0.0100\n",
      "Epoch 51/200\n",
      "34/34 [==============================] - 0s 7ms/step - loss: 0.8567 - accuracy: 0.6173 - val_loss: 1.0130 - val_accuracy: 0.6103 - lr: 0.0100\n",
      "Epoch 52/200\n",
      "34/34 [==============================] - 0s 8ms/step - loss: 0.8443 - accuracy: 0.6311 - val_loss: 0.9876 - val_accuracy: 0.6140 - lr: 0.0100\n",
      "Epoch 53/200\n",
      "34/34 [==============================] - 0s 8ms/step - loss: 0.8699 - accuracy: 0.6191 - val_loss: 1.0016 - val_accuracy: 0.5882 - lr: 0.0100\n"
     ]
    },
    {
     "name": "stdout",
     "output_type": "stream",
     "text": [
      "Epoch 54/200\n",
      "34/34 [==============================] - 0s 7ms/step - loss: 0.8469 - accuracy: 0.6265 - val_loss: 1.0012 - val_accuracy: 0.6029 - lr: 0.0100\n",
      "Epoch 55/200\n",
      "34/34 [==============================] - 0s 8ms/step - loss: 0.8610 - accuracy: 0.6458 - val_loss: 0.9753 - val_accuracy: 0.6103 - lr: 0.0100\n",
      "Epoch 56/200\n",
      "34/34 [==============================] - 0s 7ms/step - loss: 0.8509 - accuracy: 0.6421 - val_loss: 0.9830 - val_accuracy: 0.6103 - lr: 0.0100\n",
      "Epoch 57/200\n",
      "34/34 [==============================] - 0s 9ms/step - loss: 0.8706 - accuracy: 0.6118 - val_loss: 0.9575 - val_accuracy: 0.5956 - lr: 0.0100\n",
      "Epoch 58/200\n",
      "34/34 [==============================] - 0s 8ms/step - loss: 0.8502 - accuracy: 0.6366 - val_loss: 0.9886 - val_accuracy: 0.5919 - lr: 0.0100\n",
      "Epoch 59/200\n",
      "34/34 [==============================] - 0s 7ms/step - loss: 0.8405 - accuracy: 0.6293 - val_loss: 1.0180 - val_accuracy: 0.5846 - lr: 0.0100\n",
      "Epoch 60/200\n",
      "34/34 [==============================] - 0s 9ms/step - loss: 0.8541 - accuracy: 0.6385 - val_loss: 1.0008 - val_accuracy: 0.5993 - lr: 0.0100\n",
      "Epoch 61/200\n",
      "34/34 [==============================] - 0s 7ms/step - loss: 0.8688 - accuracy: 0.6081 - val_loss: 1.0447 - val_accuracy: 0.5735 - lr: 0.0100\n",
      "Epoch 62/200\n",
      "34/34 [==============================] - 0s 9ms/step - loss: 0.8442 - accuracy: 0.6191 - val_loss: 1.0279 - val_accuracy: 0.5809 - lr: 0.0100\n",
      "Epoch 63/200\n",
      "34/34 [==============================] - 0s 11ms/step - loss: 0.8514 - accuracy: 0.6320 - val_loss: 1.0320 - val_accuracy: 0.5588 - lr: 0.0100\n",
      "Epoch 64/200\n",
      "34/34 [==============================] - 0s 11ms/step - loss: 0.8511 - accuracy: 0.6182 - val_loss: 1.0026 - val_accuracy: 0.5882 - lr: 0.0100\n",
      "Epoch 65/200\n",
      "34/34 [==============================] - 0s 10ms/step - loss: 0.8396 - accuracy: 0.6329 - val_loss: 1.0192 - val_accuracy: 0.5772 - lr: 0.0100\n",
      "Epoch 66/200\n",
      "34/34 [==============================] - 0s 12ms/step - loss: 0.8425 - accuracy: 0.6458 - val_loss: 1.0336 - val_accuracy: 0.5809 - lr: 0.0100\n",
      "Epoch 67/200\n",
      "34/34 [==============================] - 0s 8ms/step - loss: 0.8495 - accuracy: 0.6293 - val_loss: 1.0245 - val_accuracy: 0.5735 - lr: 0.0100\n",
      "Epoch 68/200\n",
      "34/34 [==============================] - 0s 8ms/step - loss: 0.8561 - accuracy: 0.6228 - val_loss: 1.0467 - val_accuracy: 0.5919 - lr: 0.0100\n",
      "Epoch 69/200\n",
      "34/34 [==============================] - 0s 9ms/step - loss: 0.8540 - accuracy: 0.6182 - val_loss: 1.0350 - val_accuracy: 0.5331 - lr: 0.0100\n",
      "Epoch 70/200\n",
      "34/34 [==============================] - 0s 9ms/step - loss: 0.8373 - accuracy: 0.6385 - val_loss: 1.0138 - val_accuracy: 0.5735 - lr: 0.0100\n",
      "Epoch 71/200\n",
      "34/34 [==============================] - 0s 11ms/step - loss: 0.8428 - accuracy: 0.6339 - val_loss: 0.9982 - val_accuracy: 0.5515 - lr: 0.0100\n",
      "Epoch 72/200\n",
      "34/34 [==============================] - 0s 9ms/step - loss: 0.8306 - accuracy: 0.6329 - val_loss: 1.0343 - val_accuracy: 0.5368 - lr: 0.0100\n",
      "Epoch 73/200\n",
      "34/34 [==============================] - 0s 8ms/step - loss: 0.8308 - accuracy: 0.6385 - val_loss: 1.0189 - val_accuracy: 0.5478 - lr: 0.0100\n",
      "Epoch 74/200\n",
      "34/34 [==============================] - 0s 10ms/step - loss: 0.8441 - accuracy: 0.6348 - val_loss: 1.0080 - val_accuracy: 0.5809 - lr: 0.0100\n",
      "Epoch 75/200\n",
      "34/34 [==============================] - 0s 8ms/step - loss: 0.8358 - accuracy: 0.6458 - val_loss: 1.0116 - val_accuracy: 0.5772 - lr: 0.0100\n",
      "Epoch 76/200\n",
      "34/34 [==============================] - 0s 9ms/step - loss: 0.8178 - accuracy: 0.6431 - val_loss: 1.0032 - val_accuracy: 0.5993 - lr: 0.0100\n",
      "Epoch 77/200\n",
      "34/34 [==============================] - 0s 10ms/step - loss: 0.8331 - accuracy: 0.6247 - val_loss: 0.9873 - val_accuracy: 0.5662 - lr: 0.0100\n",
      "Epoch 78/200\n",
      "34/34 [==============================] - 0s 10ms/step - loss: 0.8269 - accuracy: 0.6449 - val_loss: 1.0067 - val_accuracy: 0.5551 - lr: 0.0100\n",
      "Epoch 79/200\n",
      "34/34 [==============================] - 0s 11ms/step - loss: 0.8271 - accuracy: 0.6467 - val_loss: 0.9989 - val_accuracy: 0.5772 - lr: 0.0100\n",
      "Epoch 80/200\n",
      "34/34 [==============================] - 0s 8ms/step - loss: 0.8414 - accuracy: 0.6283 - val_loss: 1.0116 - val_accuracy: 0.5699 - lr: 0.0100\n",
      "Epoch 81/200\n",
      "34/34 [==============================] - 0s 8ms/step - loss: 0.8216 - accuracy: 0.6274 - val_loss: 1.0127 - val_accuracy: 0.5551 - lr: 0.0100\n",
      "Epoch 82/200\n",
      "34/34 [==============================] - 0s 9ms/step - loss: 0.8209 - accuracy: 0.6311 - val_loss: 0.9628 - val_accuracy: 0.5809 - lr: 0.0100\n",
      "Epoch 83/200\n",
      "34/34 [==============================] - 0s 11ms/step - loss: 0.8344 - accuracy: 0.6265 - val_loss: 1.0540 - val_accuracy: 0.5404 - lr: 0.0100\n",
      "Epoch 84/200\n",
      "34/34 [==============================] - 0s 10ms/step - loss: 0.8402 - accuracy: 0.6283 - val_loss: 1.0073 - val_accuracy: 0.5699 - lr: 0.0100\n",
      "Epoch 85/200\n",
      "34/34 [==============================] - 0s 11ms/step - loss: 0.8368 - accuracy: 0.6449 - val_loss: 1.0593 - val_accuracy: 0.5478 - lr: 0.0100\n",
      "Epoch 86/200\n",
      "34/34 [==============================] - 0s 9ms/step - loss: 0.8302 - accuracy: 0.6265 - val_loss: 1.0170 - val_accuracy: 0.5956 - lr: 0.0100\n",
      "Epoch 87/200\n",
      "34/34 [==============================] - 0s 9ms/step - loss: 0.8483 - accuracy: 0.6375 - val_loss: 0.9981 - val_accuracy: 0.5846 - lr: 0.0100\n",
      "Epoch 88/200\n",
      "34/34 [==============================] - 0s 9ms/step - loss: 0.8194 - accuracy: 0.6375 - val_loss: 0.9975 - val_accuracy: 0.5846 - lr: 0.0100\n",
      "Epoch 89/200\n",
      "34/34 [==============================] - 0s 8ms/step - loss: 0.8285 - accuracy: 0.6477 - val_loss: 1.0428 - val_accuracy: 0.5441 - lr: 0.0100\n",
      "Epoch 90/200\n",
      "34/34 [==============================] - 0s 8ms/step - loss: 0.8228 - accuracy: 0.6302 - val_loss: 1.0312 - val_accuracy: 0.5625 - lr: 0.0100\n",
      "Epoch 91/200\n",
      "34/34 [==============================] - 0s 9ms/step - loss: 0.8180 - accuracy: 0.6375 - val_loss: 1.0130 - val_accuracy: 0.5772 - lr: 0.0100\n",
      "Epoch 92/200\n",
      "34/34 [==============================] - 0s 8ms/step - loss: 0.8154 - accuracy: 0.6449 - val_loss: 1.0536 - val_accuracy: 0.5551 - lr: 0.0100\n",
      "Epoch 93/200\n",
      "34/34 [==============================] - 0s 8ms/step - loss: 0.8178 - accuracy: 0.6661 - val_loss: 1.0340 - val_accuracy: 0.5699 - lr: 0.0100\n",
      "Epoch 94/200\n",
      "34/34 [==============================] - 0s 8ms/step - loss: 0.8127 - accuracy: 0.6329 - val_loss: 1.0565 - val_accuracy: 0.5478 - lr: 0.0100\n",
      "Epoch 95/200\n",
      "34/34 [==============================] - 0s 8ms/step - loss: 0.8101 - accuracy: 0.6467 - val_loss: 1.0161 - val_accuracy: 0.5625 - lr: 0.0100\n",
      "Epoch 96/200\n",
      "34/34 [==============================] - 0s 7ms/step - loss: 0.8057 - accuracy: 0.6504 - val_loss: 1.0158 - val_accuracy: 0.5551 - lr: 0.0100\n",
      "Epoch 97/200\n",
      "34/34 [==============================] - 0s 7ms/step - loss: 0.8288 - accuracy: 0.6559 - val_loss: 1.0286 - val_accuracy: 0.5662 - lr: 0.0100\n",
      "Epoch 98/200\n",
      "34/34 [==============================] - 0s 8ms/step - loss: 0.8239 - accuracy: 0.6385 - val_loss: 1.0326 - val_accuracy: 0.5699 - lr: 0.0100\n",
      "Epoch 99/200\n",
      "34/34 [==============================] - 0s 7ms/step - loss: 0.8326 - accuracy: 0.6394 - val_loss: 1.0604 - val_accuracy: 0.5662 - lr: 0.0100\n",
      "Epoch 100/200\n",
      "34/34 [==============================] - 0s 7ms/step - loss: 0.8302 - accuracy: 0.6375 - val_loss: 1.0749 - val_accuracy: 0.5735 - lr: 0.0100\n",
      "Epoch 101/200\n",
      "34/34 [==============================] - 0s 7ms/step - loss: 0.7988 - accuracy: 0.6523 - val_loss: 1.0028 - val_accuracy: 0.6029 - lr: 0.0100\n",
      "Epoch 102/200\n",
      "34/34 [==============================] - 0s 9ms/step - loss: 0.7965 - accuracy: 0.6504 - val_loss: 1.0512 - val_accuracy: 0.5846 - lr: 0.0100\n",
      "Epoch 103/200\n",
      "34/34 [==============================] - 0s 7ms/step - loss: 0.8076 - accuracy: 0.6541 - val_loss: 1.0203 - val_accuracy: 0.5846 - lr: 0.0100\n",
      "Epoch 104/200\n",
      "34/34 [==============================] - 0s 7ms/step - loss: 0.8239 - accuracy: 0.6237 - val_loss: 1.0816 - val_accuracy: 0.5735 - lr: 0.0100\n",
      "Epoch 105/200\n",
      "34/34 [==============================] - 0s 7ms/step - loss: 0.8135 - accuracy: 0.6541 - val_loss: 1.0097 - val_accuracy: 0.5625 - lr: 0.0100\n",
      "Epoch 106/200\n",
      "34/34 [==============================] - 0s 8ms/step - loss: 0.8353 - accuracy: 0.6394 - val_loss: 1.0370 - val_accuracy: 0.5772 - lr: 0.0100\n"
     ]
    },
    {
     "name": "stdout",
     "output_type": "stream",
     "text": [
      "Epoch 107/200\n",
      "34/34 [==============================] - 0s 7ms/step - loss: 0.8407 - accuracy: 0.6366 - val_loss: 1.0483 - val_accuracy: 0.5588 - lr: 0.0100\n",
      "Epoch 108/200\n",
      "34/34 [==============================] - 0s 7ms/step - loss: 0.8185 - accuracy: 0.6449 - val_loss: 0.9931 - val_accuracy: 0.6140 - lr: 0.0100\n",
      "Epoch 109/200\n",
      "34/34 [==============================] - 0s 7ms/step - loss: 0.8134 - accuracy: 0.6458 - val_loss: 1.1077 - val_accuracy: 0.5625 - lr: 0.0100\n",
      "Epoch 110/200\n",
      "34/34 [==============================] - 0s 7ms/step - loss: 0.8180 - accuracy: 0.6467 - val_loss: 1.1442 - val_accuracy: 0.5294 - lr: 0.0100\n",
      "Epoch 111/200\n",
      "34/34 [==============================] - 0s 7ms/step - loss: 0.8161 - accuracy: 0.6403 - val_loss: 1.0921 - val_accuracy: 0.5221 - lr: 0.0100\n",
      "Epoch 112/200\n",
      "34/34 [==============================] - 0s 7ms/step - loss: 0.8245 - accuracy: 0.6247 - val_loss: 1.0479 - val_accuracy: 0.5478 - lr: 0.0100\n",
      "Epoch 113/200\n",
      "34/34 [==============================] - 0s 7ms/step - loss: 0.7977 - accuracy: 0.6477 - val_loss: 1.0833 - val_accuracy: 0.5735 - lr: 0.0100\n",
      "Epoch 114/200\n",
      "34/34 [==============================] - 0s 8ms/step - loss: 0.8126 - accuracy: 0.6532 - val_loss: 1.0797 - val_accuracy: 0.5699 - lr: 0.0100\n",
      "Epoch 115/200\n",
      "34/34 [==============================] - 0s 8ms/step - loss: 0.8251 - accuracy: 0.6431 - val_loss: 1.0678 - val_accuracy: 0.5662 - lr: 0.0100\n",
      "Epoch 116/200\n",
      "34/34 [==============================] - 0s 8ms/step - loss: 0.8219 - accuracy: 0.6357 - val_loss: 1.0770 - val_accuracy: 0.5368 - lr: 0.0100\n",
      "Epoch 117/200\n",
      "34/34 [==============================] - 0s 8ms/step - loss: 0.8046 - accuracy: 0.6532 - val_loss: 1.0026 - val_accuracy: 0.5735 - lr: 0.0100\n",
      "Epoch 118/200\n",
      "34/34 [==============================] - 0s 9ms/step - loss: 0.8140 - accuracy: 0.6403 - val_loss: 1.0158 - val_accuracy: 0.5478 - lr: 0.0100\n",
      "Epoch 119/200\n",
      "34/34 [==============================] - 0s 11ms/step - loss: 0.8097 - accuracy: 0.6412 - val_loss: 1.0040 - val_accuracy: 0.5882 - lr: 0.0100\n",
      "Epoch 120/200\n",
      "34/34 [==============================] - 0s 9ms/step - loss: 0.8048 - accuracy: 0.6569 - val_loss: 1.0197 - val_accuracy: 0.5772 - lr: 0.0100\n",
      "Epoch 121/200\n",
      "34/34 [==============================] - 0s 9ms/step - loss: 0.7971 - accuracy: 0.6679 - val_loss: 1.0381 - val_accuracy: 0.5588 - lr: 0.0100\n",
      "Epoch 122/200\n",
      "34/34 [==============================] - 0s 8ms/step - loss: 0.8056 - accuracy: 0.6513 - val_loss: 1.0759 - val_accuracy: 0.5772 - lr: 0.0100\n",
      "Epoch 123/200\n",
      "34/34 [==============================] - 0s 8ms/step - loss: 0.8358 - accuracy: 0.6412 - val_loss: 0.9726 - val_accuracy: 0.5846 - lr: 0.0100\n",
      "Epoch 124/200\n",
      "34/34 [==============================] - 0s 9ms/step - loss: 0.7979 - accuracy: 0.6495 - val_loss: 1.0238 - val_accuracy: 0.5919 - lr: 0.0100\n",
      "Epoch 125/200\n",
      "34/34 [==============================] - 0s 9ms/step - loss: 0.8033 - accuracy: 0.6559 - val_loss: 1.0684 - val_accuracy: 0.5588 - lr: 0.0100\n",
      "Epoch 126/200\n",
      "34/34 [==============================] - 0s 8ms/step - loss: 0.8023 - accuracy: 0.6385 - val_loss: 1.0512 - val_accuracy: 0.5588 - lr: 0.0100\n",
      "Epoch 127/200\n",
      "34/34 [==============================] - 0s 8ms/step - loss: 0.7970 - accuracy: 0.6624 - val_loss: 1.0773 - val_accuracy: 0.5588 - lr: 0.0100\n",
      "Epoch 128/200\n",
      "34/34 [==============================] - 0s 9ms/step - loss: 0.7902 - accuracy: 0.6403 - val_loss: 1.1071 - val_accuracy: 0.5404 - lr: 0.0100\n",
      "Epoch 129/200\n",
      "34/34 [==============================] - 0s 8ms/step - loss: 0.8212 - accuracy: 0.6375 - val_loss: 1.0602 - val_accuracy: 0.5588 - lr: 0.0100\n",
      "Epoch 130/200\n",
      "34/34 [==============================] - 0s 8ms/step - loss: 0.7992 - accuracy: 0.6504 - val_loss: 1.0955 - val_accuracy: 0.5551 - lr: 0.0100\n",
      "Epoch 131/200\n",
      "34/34 [==============================] - 0s 9ms/step - loss: 0.8121 - accuracy: 0.6440 - val_loss: 1.0636 - val_accuracy: 0.5515 - lr: 0.0100\n",
      "Epoch 132/200\n",
      "34/34 [==============================] - 0s 8ms/step - loss: 0.8061 - accuracy: 0.6523 - val_loss: 1.0905 - val_accuracy: 0.5588 - lr: 0.0100\n",
      "Epoch 133/200\n",
      "34/34 [==============================] - 0s 9ms/step - loss: 0.8079 - accuracy: 0.6504 - val_loss: 1.0531 - val_accuracy: 0.5441 - lr: 0.0100\n",
      "Epoch 134/200\n",
      "34/34 [==============================] - 0s 8ms/step - loss: 0.7929 - accuracy: 0.6569 - val_loss: 1.0571 - val_accuracy: 0.5515 - lr: 0.0100\n",
      "Epoch 135/200\n",
      "34/34 [==============================] - 0s 9ms/step - loss: 0.7878 - accuracy: 0.6421 - val_loss: 1.0736 - val_accuracy: 0.5515 - lr: 0.0100\n",
      "Epoch 136/200\n",
      "34/34 [==============================] - 0s 8ms/step - loss: 0.8228 - accuracy: 0.6357 - val_loss: 1.0265 - val_accuracy: 0.5699 - lr: 0.0100\n",
      "Epoch 137/200\n",
      "34/34 [==============================] - 0s 8ms/step - loss: 0.8022 - accuracy: 0.6477 - val_loss: 1.0242 - val_accuracy: 0.6103 - lr: 0.0100\n",
      "Epoch 138/200\n",
      "34/34 [==============================] - 0s 9ms/step - loss: 0.7994 - accuracy: 0.6523 - val_loss: 1.0224 - val_accuracy: 0.5588 - lr: 0.0100\n",
      "Epoch 139/200\n",
      "34/34 [==============================] - 0s 8ms/step - loss: 0.8071 - accuracy: 0.6320 - val_loss: 1.0128 - val_accuracy: 0.5699 - lr: 0.0100\n",
      "Epoch 140/200\n",
      "34/34 [==============================] - 0s 8ms/step - loss: 0.7972 - accuracy: 0.6394 - val_loss: 1.0752 - val_accuracy: 0.5735 - lr: 0.0100\n",
      "Epoch 141/200\n",
      "34/34 [==============================] - 0s 10ms/step - loss: 0.8020 - accuracy: 0.6458 - val_loss: 1.0153 - val_accuracy: 0.5809 - lr: 0.0100\n",
      "Epoch 142/200\n",
      "34/34 [==============================] - 0s 8ms/step - loss: 0.8035 - accuracy: 0.6596 - val_loss: 1.0438 - val_accuracy: 0.5846 - lr: 0.0100\n",
      "Epoch 143/200\n",
      "34/34 [==============================] - 0s 7ms/step - loss: 0.8045 - accuracy: 0.6486 - val_loss: 1.0599 - val_accuracy: 0.5809 - lr: 0.0100\n",
      "Epoch 144/200\n",
      "34/34 [==============================] - 0s 7ms/step - loss: 0.8070 - accuracy: 0.6357 - val_loss: 1.0401 - val_accuracy: 0.5809 - lr: 0.0100\n",
      "Epoch 145/200\n",
      "34/34 [==============================] - 0s 8ms/step - loss: 0.8012 - accuracy: 0.6467 - val_loss: 1.0435 - val_accuracy: 0.6140 - lr: 0.0100\n",
      "Epoch 146/200\n",
      "34/34 [==============================] - 0s 7ms/step - loss: 0.7852 - accuracy: 0.6642 - val_loss: 1.0016 - val_accuracy: 0.5882 - lr: 0.0100\n",
      "Epoch 147/200\n",
      "34/34 [==============================] - 0s 7ms/step - loss: 0.7928 - accuracy: 0.6596 - val_loss: 1.0062 - val_accuracy: 0.6176 - lr: 0.0100\n",
      "Epoch 148/200\n",
      "34/34 [==============================] - 0s 7ms/step - loss: 0.8212 - accuracy: 0.6495 - val_loss: 1.0377 - val_accuracy: 0.5662 - lr: 0.0100\n",
      "Epoch 149/200\n",
      "34/34 [==============================] - 0s 8ms/step - loss: 0.8134 - accuracy: 0.6504 - val_loss: 1.0422 - val_accuracy: 0.5699 - lr: 0.0100\n",
      "Epoch 150/200\n",
      "34/34 [==============================] - 0s 7ms/step - loss: 0.7954 - accuracy: 0.6605 - val_loss: 1.0515 - val_accuracy: 0.5735 - lr: 0.0100\n",
      "Epoch 151/200\n",
      "34/34 [==============================] - 0s 7ms/step - loss: 0.7827 - accuracy: 0.6578 - val_loss: 1.0552 - val_accuracy: 0.5662 - lr: 0.0100\n",
      "Epoch 152/200\n",
      "34/34 [==============================] - 0s 7ms/step - loss: 0.7995 - accuracy: 0.6504 - val_loss: 1.0665 - val_accuracy: 0.5662 - lr: 0.0100\n",
      "Epoch 153/200\n",
      "34/34 [==============================] - 0s 8ms/step - loss: 0.7827 - accuracy: 0.6587 - val_loss: 1.1051 - val_accuracy: 0.5515 - lr: 0.0100\n",
      "Epoch 154/200\n",
      "34/34 [==============================] - 0s 8ms/step - loss: 0.8284 - accuracy: 0.6449 - val_loss: 1.0567 - val_accuracy: 0.5809 - lr: 0.0100\n",
      "Epoch 155/200\n",
      "34/34 [==============================] - 0s 8ms/step - loss: 0.7982 - accuracy: 0.6504 - val_loss: 1.0535 - val_accuracy: 0.5551 - lr: 0.0100\n",
      "Epoch 156/200\n",
      "34/34 [==============================] - 0s 8ms/step - loss: 0.8012 - accuracy: 0.6633 - val_loss: 1.0338 - val_accuracy: 0.5699 - lr: 0.0100\n",
      "Epoch 157/200\n",
      "34/34 [==============================] - 0s 8ms/step - loss: 0.7988 - accuracy: 0.6458 - val_loss: 1.0450 - val_accuracy: 0.5809 - lr: 0.0100\n",
      "Epoch 158/200\n",
      "34/34 [==============================] - 0s 8ms/step - loss: 0.7905 - accuracy: 0.6615 - val_loss: 1.0481 - val_accuracy: 0.5699 - lr: 0.0100\n",
      "Epoch 159/200\n",
      "34/34 [==============================] - 0s 7ms/step - loss: 0.7785 - accuracy: 0.6734 - val_loss: 1.0524 - val_accuracy: 0.5772 - lr: 0.0100\n",
      "Epoch 160/200\n",
      "34/34 [==============================] - 0s 7ms/step - loss: 0.7978 - accuracy: 0.6559 - val_loss: 1.0145 - val_accuracy: 0.5772 - lr: 0.0100\n",
      "Epoch 161/200\n",
      "34/34 [==============================] - 0s 7ms/step - loss: 0.8121 - accuracy: 0.6467 - val_loss: 1.0882 - val_accuracy: 0.5331 - lr: 0.0100\n",
      "Epoch 162/200\n",
      "34/34 [==============================] - 0s 7ms/step - loss: 0.8005 - accuracy: 0.6651 - val_loss: 1.0316 - val_accuracy: 0.5699 - lr: 0.0100\n",
      "Epoch 163/200\n",
      "34/34 [==============================] - 0s 7ms/step - loss: 0.8045 - accuracy: 0.6421 - val_loss: 1.0597 - val_accuracy: 0.5551 - lr: 0.0100\n",
      "Epoch 164/200\n",
      "34/34 [==============================] - 0s 7ms/step - loss: 0.7936 - accuracy: 0.6458 - val_loss: 1.0668 - val_accuracy: 0.5699 - lr: 0.0100\n",
      "Epoch 165/200\n",
      "34/34 [==============================] - 0s 8ms/step - loss: 0.7765 - accuracy: 0.6559 - val_loss: 1.0499 - val_accuracy: 0.5662 - lr: 0.0100\n",
      "Epoch 166/200\n",
      "34/34 [==============================] - 0s 7ms/step - loss: 0.7925 - accuracy: 0.6523 - val_loss: 1.1160 - val_accuracy: 0.5368 - lr: 0.0100\n",
      "Epoch 167/200\n",
      "34/34 [==============================] - 0s 10ms/step - loss: 0.7903 - accuracy: 0.6569 - val_loss: 1.0627 - val_accuracy: 0.5846 - lr: 0.0100\n",
      "Epoch 168/200\n",
      "34/34 [==============================] - 0s 7ms/step - loss: 0.7724 - accuracy: 0.6596 - val_loss: 1.0847 - val_accuracy: 0.5993 - lr: 0.0100\n",
      "Epoch 169/200\n",
      "34/34 [==============================] - 0s 8ms/step - loss: 0.7968 - accuracy: 0.6569 - val_loss: 1.0531 - val_accuracy: 0.5662 - lr: 0.0100\n",
      "Epoch 170/200\n",
      "34/34 [==============================] - 0s 7ms/step - loss: 0.7633 - accuracy: 0.6863 - val_loss: 1.0556 - val_accuracy: 0.5882 - lr: 0.0100\n",
      "Epoch 171/200\n",
      "34/34 [==============================] - 0s 7ms/step - loss: 0.7968 - accuracy: 0.6477 - val_loss: 1.0600 - val_accuracy: 0.5551 - lr: 0.0100\n",
      "Epoch 172/200\n",
      "34/34 [==============================] - 0s 8ms/step - loss: 0.7973 - accuracy: 0.6615 - val_loss: 1.0511 - val_accuracy: 0.5625 - lr: 0.0100\n",
      "Epoch 173/200\n",
      "34/34 [==============================] - 0s 12ms/step - loss: 0.7875 - accuracy: 0.6486 - val_loss: 1.0704 - val_accuracy: 0.5551 - lr: 0.0100\n",
      "Epoch 174/200\n",
      "34/34 [==============================] - 0s 9ms/step - loss: 0.7819 - accuracy: 0.6559 - val_loss: 1.0721 - val_accuracy: 0.5588 - lr: 0.0100\n",
      "Epoch 175/200\n",
      "34/34 [==============================] - 0s 9ms/step - loss: 0.7770 - accuracy: 0.6523 - val_loss: 1.0473 - val_accuracy: 0.5662 - lr: 0.0100\n",
      "Epoch 176/200\n",
      "34/34 [==============================] - 0s 11ms/step - loss: 0.7861 - accuracy: 0.6578 - val_loss: 1.0156 - val_accuracy: 0.5956 - lr: 0.0100\n",
      "Epoch 177/200\n",
      "34/34 [==============================] - 0s 9ms/step - loss: 0.7851 - accuracy: 0.6559 - val_loss: 1.0751 - val_accuracy: 0.5588 - lr: 0.0100\n",
      "Epoch 178/200\n",
      "34/34 [==============================] - 0s 8ms/step - loss: 0.7734 - accuracy: 0.6587 - val_loss: 1.0434 - val_accuracy: 0.5956 - lr: 0.0100\n",
      "Epoch 179/200\n",
      "34/34 [==============================] - 0s 9ms/step - loss: 0.7855 - accuracy: 0.6403 - val_loss: 1.0799 - val_accuracy: 0.5735 - lr: 0.0100\n",
      "Epoch 180/200\n",
      "34/34 [==============================] - 0s 8ms/step - loss: 0.7966 - accuracy: 0.6495 - val_loss: 1.0750 - val_accuracy: 0.5772 - lr: 0.0100\n",
      "Epoch 181/200\n",
      "34/34 [==============================] - 0s 8ms/step - loss: 0.7906 - accuracy: 0.6559 - val_loss: 1.0364 - val_accuracy: 0.5772 - lr: 0.0100\n",
      "Epoch 182/200\n",
      "34/34 [==============================] - 0s 8ms/step - loss: 0.7839 - accuracy: 0.6477 - val_loss: 1.0491 - val_accuracy: 0.5846 - lr: 0.0100\n",
      "Epoch 183/200\n",
      "34/34 [==============================] - 0s 10ms/step - loss: 0.7762 - accuracy: 0.6872 - val_loss: 1.0778 - val_accuracy: 0.5662 - lr: 0.0100\n",
      "Epoch 184/200\n",
      "34/34 [==============================] - 0s 8ms/step - loss: 0.7781 - accuracy: 0.6624 - val_loss: 1.0554 - val_accuracy: 0.5515 - lr: 0.0100\n",
      "Epoch 185/200\n",
      "34/34 [==============================] - 0s 10ms/step - loss: 0.7785 - accuracy: 0.6651 - val_loss: 1.0223 - val_accuracy: 0.5551 - lr: 0.0100\n",
      "Epoch 186/200\n",
      "34/34 [==============================] - 0s 9ms/step - loss: 0.7717 - accuracy: 0.6615 - val_loss: 1.0681 - val_accuracy: 0.5809 - lr: 0.0100\n",
      "Epoch 187/200\n",
      "34/34 [==============================] - 0s 7ms/step - loss: 0.7887 - accuracy: 0.6541 - val_loss: 1.0519 - val_accuracy: 0.5735 - lr: 0.0100\n",
      "Epoch 188/200\n",
      "34/34 [==============================] - 0s 7ms/step - loss: 0.7871 - accuracy: 0.6642 - val_loss: 1.0321 - val_accuracy: 0.5625 - lr: 0.0100\n",
      "Epoch 189/200\n",
      "34/34 [==============================] - 0s 7ms/step - loss: 0.7867 - accuracy: 0.6532 - val_loss: 1.0935 - val_accuracy: 0.5882 - lr: 0.0100\n",
      "Epoch 190/200\n",
      "34/34 [==============================] - 0s 8ms/step - loss: 0.8075 - accuracy: 0.6486 - val_loss: 1.0561 - val_accuracy: 0.5772 - lr: 0.0100\n",
      "Epoch 191/200\n",
      "34/34 [==============================] - 0s 8ms/step - loss: 0.7725 - accuracy: 0.6679 - val_loss: 1.0361 - val_accuracy: 0.5846 - lr: 0.0100\n",
      "Epoch 192/200\n",
      "34/34 [==============================] - 0s 9ms/step - loss: 0.7939 - accuracy: 0.6486 - val_loss: 1.0553 - val_accuracy: 0.5809 - lr: 0.0100\n",
      "Epoch 193/200\n",
      "34/34 [==============================] - 0s 8ms/step - loss: 0.7964 - accuracy: 0.6587 - val_loss: 1.0638 - val_accuracy: 0.5588 - lr: 0.0100\n",
      "Epoch 194/200\n",
      "34/34 [==============================] - 0s 8ms/step - loss: 0.7968 - accuracy: 0.6440 - val_loss: 1.0234 - val_accuracy: 0.5772 - lr: 0.0100\n",
      "Epoch 195/200\n",
      "34/34 [==============================] - 0s 9ms/step - loss: 0.7865 - accuracy: 0.6605 - val_loss: 1.0308 - val_accuracy: 0.5809 - lr: 0.0100\n",
      "Epoch 196/200\n",
      "34/34 [==============================] - 0s 9ms/step - loss: 0.7973 - accuracy: 0.6541 - val_loss: 1.0951 - val_accuracy: 0.5478 - lr: 0.0100\n",
      "Epoch 197/200\n",
      "34/34 [==============================] - 0s 10ms/step - loss: 0.7930 - accuracy: 0.6375 - val_loss: 1.0695 - val_accuracy: 0.5735 - lr: 0.0100\n",
      "Epoch 198/200\n",
      "34/34 [==============================] - 0s 10ms/step - loss: 0.7991 - accuracy: 0.6615 - val_loss: 1.0406 - val_accuracy: 0.5882 - lr: 0.0100\n",
      "Epoch 199/200\n",
      "34/34 [==============================] - 0s 9ms/step - loss: 0.7857 - accuracy: 0.6532 - val_loss: 1.0547 - val_accuracy: 0.5662 - lr: 0.0100\n",
      "Epoch 200/200\n",
      "34/34 [==============================] - 0s 9ms/step - loss: 0.8210 - accuracy: 0.6587 - val_loss: 1.0540 - val_accuracy: 0.5846 - lr: 0.0100\n"
     ]
    }
   ],
   "source": [
    "from tensorflow.keras import optimizers\n",
    "from tensorflow.keras.callbacks import LearningRateScheduler\n",
    "\n",
    "# Clearing the session in Keras\n",
    "tf.keras.backend.clear_session()\n",
    "\n",
    "# To receive the same output every time\n",
    "# Fixing the seed for NumPy random number generators to 42\n",
    "np.random.seed(42)\n",
    "\n",
    "# Fixing the seed for the Python random number generator to 42\n",
    "import random\n",
    "random.seed(42)\n",
    "\n",
    "# Fixing the seed for the TensorFlow random number generator to 42\n",
    "tf.random.set_seed(42)\n",
    "\n",
    "# Create the model\n",
    "modell = Sequential()\n",
    "\n",
    "# Adding layers [layers and activations]\n",
    "# Input Layer\n",
    "modell.add(Dense(11, kernel_initializer='normal', input_dim=X_train.shape[1], activation='relu'))\n",
    "modell.add(BatchNormalization())\n",
    "modell.add(Dense(9, activation='relu'))\n",
    "modell.add(BatchNormalization())\n",
    "\n",
    "# Hidden Layer 2\n",
    "modell.add(Dense(9, activation='relu'))\n",
    "modell.add(BatchNormalization())\n",
    "\n",
    "# Hidden layer 3\n",
    "modell.add(Dense(9, activation='relu'))\n",
    "modell.add(BatchNormalization())\n",
    "\n",
    "# Output Layer\n",
    "modell.add(Dense(9, activation='softmax'))\n",
    "\n",
    "# Define the learning rate scheduler\n",
    "def lr_scheduler(epoch):\n",
    "    learning_rate = 1e-2\n",
    "    return learning_rate\n",
    "\n",
    "# Compile the model\n",
    "sgd = optimizers.SGD(learning_rate=1e-2, momentum=0.9)\n",
    "modell.compile(loss='categorical_crossentropy', optimizer='adam', metrics=['accuracy'])\n",
    "\n",
    "# Define the learning rate scheduler callback\n",
    "lr_scheduler_callback = LearningRateScheduler(lr_scheduler)\n",
    "\n",
    "# Training the model with batch size 32 and epochs 200\n",
    "history = modell.fit(X_train, Y_train, validation_data=(X_test, Y_test), epochs=200, batch_size=32, callbacks=[lr_scheduler_callback])"
   ]
  },
  {
   "cell_type": "markdown",
   "metadata": {},
   "source": [
    "**1.3 d C)Plot visuals**"
   ]
  },
  {
   "cell_type": "code",
   "execution_count": 430,
   "metadata": {},
   "outputs": [
    {
     "data": {
      "image/png": "[encoded data removed]",
      "text/plain": [
       "<Figure size 432x288 with 1 Axes>"
      ]
     },
     "metadata": {
      "needs_background": "light"
     },
     "output_type": "display_data"
    }
   ],
   "source": [
    "# To get the validation loss\n",
    "loss_train = model1.history.history['loss']\n",
    "loss_val = model1.history.history['val_loss']\n",
    "epochs = range(1,200+1)\n",
    "# Plotting Training and Validation loss at different epochs\n",
    "plt.plot(epochs, loss_train, 'g', label='Training loss')\n",
    "plt.plot(epochs, loss_val, 'b', label='validation loss')\n",
    "# To add the title as 'Training and Validation loss' to the plot\n",
    "plt.title('Training and Validation loss')\n",
    "# To add xlabel as 'Epochs' to the plot\n",
    "plt.xlabel('Epochs')\n",
    "# To add xlabel as 'Loss' to the plot\n",
    "plt.ylabel('Loss')\n",
    "\n",
    "plt.legend()\n",
    "plt.show()"
   ]
  },
  {
   "cell_type": "code",
   "execution_count": 431,
   "metadata": {},
   "outputs": [
    {
     "data": {
      "image/png": "[encoded data removed]",
      "text/plain": [
       "<Figure size 432x288 with 1 Axes>"
      ]
     },
     "metadata": {
      "needs_background": "light"
     },
     "output_type": "display_data"
    }
   ],
   "source": [
    "# To get the training loss\n",
    "Accuracy_train = modell.history.history['accuracy']\n",
    "# To get the validation loss\n",
    "Accuracy_val = modell.history.history['val_accuracy']\n",
    "epochs = range(1,200+1)\n",
    "# Plotting Training and Validation loss at different epochs\n",
    "plt.plot(epochs, Accuracy_train, 'g', label='Training Accuracy')\n",
    "plt.plot(epochs, Accuracy_val, 'b', label='validation Accuracy')\n",
    "# To add the title as 'Training and Validation loss' to the plot\n",
    "plt.title('Training and Validation Accuracies')\n",
    "# To add xlabel as 'Epochs' to the plot\n",
    "plt.xlabel('Epochs')\n",
    "# To add xlabel as 'Loss' to the plot\n",
    "plt.ylabel('Accuracy')\n",
    "\n",
    "plt.legend()\n",
    "plt.show()"
   ]
  },
  {
   "cell_type": "markdown",
   "metadata": {},
   "source": [
    "**1.3 d D) By Adding layer(s) along with the \"REGULARIZATION\" techniques, SGD optimizer & EarlyStopping for improving the model to the existing architecture**"
   ]
  },
  {
   "cell_type": "code",
   "execution_count": 432,
   "metadata": {},
   "outputs": [
    {
     "name": "stdout",
     "output_type": "stream",
     "text": [
      "Epoch 1/200\n",
      "34/34 [==============================] - 4s 21ms/step - loss: 1.7797 - accuracy: 0.4361 - val_loss: 1.0818 - val_accuracy: 0.5846\n",
      "Epoch 2/200\n",
      "34/34 [==============================] - 0s 8ms/step - loss: 1.0998 - accuracy: 0.5704 - val_loss: 0.9717 - val_accuracy: 0.6029\n",
      "Epoch 3/200\n",
      "34/34 [==============================] - 0s 9ms/step - loss: 1.0238 - accuracy: 0.5676 - val_loss: 0.9905 - val_accuracy: 0.6103\n",
      "Epoch 4/200\n",
      "34/34 [==============================] - 0s 9ms/step - loss: 0.9826 - accuracy: 0.5842 - val_loss: 0.9939 - val_accuracy: 0.5956\n",
      "Epoch 5/200\n",
      "34/34 [==============================] - 0s 9ms/step - loss: 0.9680 - accuracy: 0.5667 - val_loss: 0.9561 - val_accuracy: 0.6066\n",
      "Epoch 6/200\n",
      "34/34 [==============================] - 0s 8ms/step - loss: 0.9595 - accuracy: 0.5851 - val_loss: 0.9673 - val_accuracy: 0.6103\n",
      "Epoch 7/200\n",
      "34/34 [==============================] - 0s 9ms/step - loss: 0.9086 - accuracy: 0.6053 - val_loss: 0.9512 - val_accuracy: 0.6507\n",
      "Epoch 8/200\n",
      "34/34 [==============================] - 0s 12ms/step - loss: 0.9097 - accuracy: 0.6081 - val_loss: 1.0214 - val_accuracy: 0.5551\n",
      "Epoch 9/200\n",
      "34/34 [==============================] - 0s 13ms/step - loss: 0.9309 - accuracy: 0.5842 - val_loss: 1.0198 - val_accuracy: 0.5625\n",
      "Epoch 10/200\n",
      "34/34 [==============================] - 0s 11ms/step - loss: 0.9154 - accuracy: 0.6081 - val_loss: 0.9658 - val_accuracy: 0.5846\n",
      "Epoch 11/200\n",
      "34/34 [==============================] - 0s 12ms/step - loss: 0.9271 - accuracy: 0.6017 - val_loss: 0.9652 - val_accuracy: 0.6066\n",
      "Epoch 12/200\n",
      "34/34 [==============================] - 1s 15ms/step - loss: 0.9006 - accuracy: 0.6026 - val_loss: 0.9404 - val_accuracy: 0.6250\n",
      "Epoch 13/200\n",
      "34/34 [==============================] - 0s 10ms/step - loss: 0.9077 - accuracy: 0.6127 - val_loss: 0.9422 - val_accuracy: 0.5993\n",
      "Epoch 14/200\n",
      "34/34 [==============================] - 0s 10ms/step - loss: 0.9248 - accuracy: 0.5943 - val_loss: 0.9561 - val_accuracy: 0.5993\n",
      "Epoch 15/200\n",
      "34/34 [==============================] - 0s 12ms/step - loss: 0.8987 - accuracy: 0.6081 - val_loss: 0.9740 - val_accuracy: 0.6103\n",
      "Epoch 16/200\n",
      "34/34 [==============================] - 0s 11ms/step - loss: 0.8684 - accuracy: 0.6256 - val_loss: 0.9678 - val_accuracy: 0.6066\n",
      "Epoch 17/200\n",
      "34/34 [==============================] - 0s 11ms/step - loss: 0.8590 - accuracy: 0.6099 - val_loss: 1.0910 - val_accuracy: 0.6066\n",
      "Epoch 18/200\n",
      "34/34 [==============================] - 0s 13ms/step - loss: 0.9125 - accuracy: 0.6017 - val_loss: 0.9761 - val_accuracy: 0.5882\n",
      "Epoch 19/200\n",
      "34/34 [==============================] - 0s 10ms/step - loss: 0.8513 - accuracy: 0.6228 - val_loss: 0.9969 - val_accuracy: 0.5919\n",
      "Epoch 20/200\n",
      "34/34 [==============================] - 0s 12ms/step - loss: 0.8449 - accuracy: 0.6449 - val_loss: 1.0316 - val_accuracy: 0.6140\n",
      "Epoch 21/200\n",
      "34/34 [==============================] - 0s 12ms/step - loss: 0.8561 - accuracy: 0.6247 - val_loss: 1.0155 - val_accuracy: 0.5993\n",
      "Epoch 22/200\n",
      "34/34 [==============================] - 0s 12ms/step - loss: 0.8525 - accuracy: 0.6339 - val_loss: 1.0220 - val_accuracy: 0.6029\n"
     ]
    }
   ],
   "source": [
    "# Create the model\n",
    "modele = Sequential()\n",
    "\n",
    "# Input Layer with BatchNormalization and Dropout\n",
    "modele.add(Dense(128, input_dim=X_train.shape[1], activation='relu'))\n",
    "modele.add(BatchNormalization())\n",
    "modele.add(Dropout(0.2))\n",
    "\n",
    "# Hidden Layers with BatchNormalization and Dropout\n",
    "modele.add(Dense(64, activation='relu'))\n",
    "modele.add(BatchNormalization())\n",
    "modele.add(Dropout(0.2))\n",
    "\n",
    "modele.add(Dense(64, activation='relu'))\n",
    "modele.add(BatchNormalization())\n",
    "modele.add(Dropout(0.2))\n",
    "\n",
    "# Output Layer\n",
    "modele.add(Dense(9, activation='softmax'))\n",
    "\n",
    "# Implement Learning Rate Scheduling\n",
    "lr_schedule = tf.keras.optimizers.schedules.ExponentialDecay(\n",
    "    initial_learning_rate=0.01,\n",
    "    decay_steps=10000,\n",
    "    decay_rate=0.9\n",
    ")\n",
    "optimizer = tf.keras.optimizers.Adam(learning_rate=lr_schedule)\n",
    "\n",
    "# Compile the model\n",
    "modele.compile(loss='categorical_crossentropy', optimizer=optimizer, metrics=['accuracy'])\n",
    "\n",
    "# Implement Early Stopping\n",
    "early_stopping = tf.keras.callbacks.EarlyStopping(monitor='val_loss', patience=10, restore_best_weights=True)\n",
    "\n",
    "# Train the model\n",
    "history = modele.fit(X_train, Y_train, validation_data=(X_test, Y_test), epochs=200, batch_size=32, callbacks=[early_stopping])\n"
   ]
  },
  {
   "cell_type": "markdown",
   "metadata": {},
   "source": [
    "**1.3 d D) Plot visuals**"
   ]
  },
  {
   "cell_type": "code",
   "execution_count": 433,
   "metadata": {},
   "outputs": [
    {
     "data": {
      "image/png": "[encoded data removed]",
      "text/plain": [
       "<Figure size 432x288 with 1 Axes>"
      ]
     },
     "metadata": {
      "needs_background": "light"
     },
     "output_type": "display_data"
    }
   ],
   "source": [
    "# To get the validation loss\n",
    "loss_train = modele.history.history['loss']\n",
    "loss_val = modele.history.history['val_loss']\n",
    "epochs = range(1,22+1)\n",
    "# Plotting Training and Validation loss at different epochs\n",
    "plt.plot(epochs, loss_train, 'g', label='Training loss')\n",
    "plt.plot(epochs, loss_val, 'b', label='validation loss')\n",
    "# To add the title as 'Training and Validation loss' to the plot\n",
    "plt.title('Training and Validation loss')\n",
    "# To add xlabel as 'Epochs' to the plot\n",
    "plt.xlabel('Epochs')\n",
    "# To add xlabel as 'Loss' to the plot\n",
    "plt.ylabel('Loss')\n",
    "\n",
    "plt.legend()\n",
    "plt.show()"
   ]
  },
  {
   "cell_type": "code",
   "execution_count": 434,
   "metadata": {},
   "outputs": [
    {
     "data": {
      "image/png": "[encoded data removed]",
      "text/plain": [
       "<Figure size 432x288 with 1 Axes>"
      ]
     },
     "metadata": {
      "needs_background": "light"
     },
     "output_type": "display_data"
    }
   ],
   "source": [
    "# To get the training loss\n",
    "Accuracy_train = modele.history.history['accuracy']\n",
    "# To get the validation loss\n",
    "Accuracy_val = modele.history.history['val_accuracy']\n",
    "epochs = range(1,22+1)\n",
    "# Plotting Training and Validation loss at different epochs\n",
    "plt.plot(epochs, Accuracy_train, 'g', label='Training Accuracy')\n",
    "plt.plot(epochs, Accuracy_val, 'b', label='validation Accuracy')\n",
    "# To add the title as 'Training and Validation loss' to the plot\n",
    "plt.title('Training and Validation Accuracies')\n",
    "# To add xlabel as 'Epochs' to the plot\n",
    "plt.xlabel('Epochs')\n",
    "# To add xlabel as 'Loss' to the plot\n",
    "plt.ylabel('Accuracy')\n",
    "\n",
    "plt.legend()\n",
    "plt.show()"
   ]
  },
  {
   "cell_type": "markdown",
   "metadata": {},
   "source": [
    "**Overall Observations:**"
   ]
  },
  {
   "cell_type": "markdown",
   "metadata": {},
   "source": [
    "- A) On adding the BatchNormalization() to the input layer, found that test data accuarcy(0.6360) is more than train data(0.6329) i.e underfitting.\n",
    "- B) On increasing the hidden layers() and  BatchNormalization() to the layers with SGD and momentum optimizer, found that train data accuracy (0.6385) is more than test data (0.5809).\n",
    "- C) On increasing the hidden layers(), BatchNormalization() to the layers with SGD and momentum optimizer and adding the LearningRateScheduler for the existing architecture, found that train data accuracy(0.6587) is more than test data accuracy(0.5846).\n",
    "- D) On increasing the hidden layers(), BatchNormalization() to the layers with Adam optimizer and adding the EarlyStopping for the existing architecture, found that train data accuracy(0.6339)is more than test data accuracy(0.6029).\n",
    "\n",
    "- From B) and C), with epochs = 200, lr_rate= le-2 and batch_sizes are 128 & 32, \n",
    "Comparing the validation loss, we can see that C) (val_loss: 1.0132) has a lower validation loss than B) (val_loss: 1.0540). In terms of loss, C) is better as it achieves a lower validation loss. \n",
    "Comparing the accuracies, we can see that C) has a smaller difference between training and validation accuracy (0.0576) compared to B) (0.0741).\n",
    "This means that C) generalizes better to unseen data. C) is performing relatively better and is a good fit compared to B).\n",
    "\n",
    "- From C) and D), with epochs = 200, lr_rate= le-2, batch_size = 32, Optimizers are SGD with momentum and Adam,\n",
    "\n",
    "In \"C)\" (SGD with Momentum and BatchNormalization), the reported validation loss is 1.0132, while the training loss is 0.8597. This indicates that the model is performing better on the training data (lower loss) than on the validation data (higher loss), suggesting some overfitting.\n",
    "\n",
    "In \"D) (Adam with EarlyStopping and BatchNormalization), the reported validation loss is 0.9229, and the training loss is 1.0084. Here, the validation loss is slightly higher than the training loss, indicating that the model is generalizing better to unseen data, and the gap between training and validation loss is smaller compared to \"C).\"\n",
    "\n",
    "So, based on both accuracy and loss metrics, \"D)\" seems to be performing relatively better and shows less overfitting compared to \"C).\" Achieving the best balance between training and validation performance is crucial for building a model that generalizes well to new, unseen data. \n",
    "\n",
    "- Acuuracy improved by '~2%' from all the combinations performed."
   ]
  }
 ],
 "metadata": {
  "accelerator": "GPU",
  "colab": {
   "provenance": []
  },
  "kernelspec": {
   "display_name": "Python 3 (ipykernel)",
   "language": "python",
   "name": "python3"
  },
  "language_info": {
   "codemirror_mode": {
    "name": "ipython",
    "version": 3
   },
   "file_extension": ".py",
   "mimetype": "text/x-python",
   "name": "python",
   "nbconvert_exporter": "python",
   "pygments_lexer": "ipython3",
   "version": "3.9.12"
  }
 },
 "nbformat": 4,
 "nbformat_minor": 1
}
