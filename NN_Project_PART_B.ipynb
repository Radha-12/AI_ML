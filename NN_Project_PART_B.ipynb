{
 "cells": [
  {
   "cell_type": "markdown",
   "metadata": {
    "id": "fsSpkhgFmJLw"
   },
   "source": [
    "# **Neural Networks Project**"
   ]
  },
  {
   "cell_type": "markdown",
   "metadata": {
    "id": "o67ynen0oqYk"
   },
   "source": [
    "**PART - B**"
   ]
  },
  {
   "cell_type": "markdown",
   "metadata": {
    "id": "oBFgeoH7mnh3"
   },
   "source": [
    "**Import Libraries:**"
   ]
  },
  {
   "cell_type": "code",
   "execution_count": 37,
   "metadata": {
    "id": "3daTfcfKmN3m",
    "scrolled": true
   },
   "outputs": [],
   "source": [
    "# used to supress display of warnings\n",
    "import warnings\n",
    "\n",
    "# Pandas is used for data manipulation and analysis\n",
    "import pandas as pd\n",
    "\n",
    "# Numpy is used for large, multi-dimensional arrays and matrices, along with mathematical operators on these arrays\n",
    "import numpy as np\n",
    "\n",
    "# Matplotlib is a data visualization library for 2D plots of arrays, built on NumPy arrays\n",
    "# and designed to work with the broader SciPy stack\n",
    "import matplotlib.pyplot as plt\n",
    "%matplotlib inline\n",
    "from matplotlib import pyplot\n",
    "\n",
    "# Seaborn is based on matplotlib, which aids in drawing attractive and informative statistical graphics.\n",
    "import seaborn as sns\n",
    "\n",
    "# train_test_split is a function in Sklearn model selection for splitting data arrays into two subsets: for training data and for testing data.\n",
    "from sklearn.model_selection import train_test_split\n",
    "\n",
    "# StanderScaler is a function in Sklearn preprocessing that standardizes features by removing the mean and scaling to unit variance.\n",
    "from sklearn.preprocessing import StandardScaler\n",
    "\n",
    "# TensorFlow is a software library for deep learning, a branch of artificial intelligence that uses neural networks with many hidden layers\n",
    "import tensorflow as tf\n",
    "import keras\n",
    "\n",
    "# tensorflow.keras is a class in TensorFlow that allows you to create a Sequential model for a plain stack of layers where each layer has exactly one input tensor and one output tensor1.\n",
    "from tensorflow.keras.models import Sequential\n",
    "from tensorflow.keras.layers import Dense, Activation, BatchNormalization, Dropout, Flatten\n",
    "\n",
    "from tensorflow.keras import optimizers\n",
    "\n",
    "import random\n",
    "from tensorflow.keras import backend\n"
   ]
  },
  {
   "cell_type": "code",
   "execution_count": 38,
   "metadata": {},
   "outputs": [
    {
     "data": {
      "text/plain": [
       "'2.13.0'"
      ]
     },
     "execution_count": 38,
     "metadata": {},
     "output_type": "execute_result"
    }
   ],
   "source": [
    "tf.__version__ # To get the version of the tensforflow"
   ]
  },
  {
   "cell_type": "markdown",
   "metadata": {
    "id": "kjQNyScxS2JH"
   },
   "source": [
    "**2.1 a - Read the .h5 file and assign to a variable.**"
   ]
  },
  {
   "cell_type": "code",
   "execution_count": 39,
   "metadata": {
    "id": "AA5XEgVQS92A"
   },
   "outputs": [],
   "source": [
    "import h5py\n",
    "\n",
    "# Open the file as readonly\n",
    "h5f = h5py.File('Autonomous_Vehicles_SVHN_single_grey1.h5', 'r')"
   ]
  },
  {
   "cell_type": "markdown",
   "metadata": {
    "id": "E7uV-OtYU6dx"
   },
   "source": [
    "**2.1 b - Print all the keys from the .h5 file.**"
   ]
  },
  {
   "cell_type": "code",
   "execution_count": 40,
   "metadata": {
    "colab": {
     "base_uri": "https://localhost:8080/"
    },
    "id": "Yq3qyUi_Vc9_",
    "outputId": "046fe2ff-fa60-4cf6-8b29-28e27664be1d"
   },
   "outputs": [
    {
     "data": {
      "text/plain": [
       "<KeysViewHDF5 ['X_test', 'X_train', 'X_val', 'y_test', 'y_train', 'y_val']>"
      ]
     },
     "execution_count": 40,
     "metadata": {},
     "output_type": "execute_result"
    }
   ],
   "source": [
    "h5f.keys() # To print all the keys in the .h5 file"
   ]
  },
  {
   "cell_type": "markdown",
   "metadata": {
    "id": "6dWtiBudVfW7"
   },
   "source": [
    "**2.1 c - Split the data into X_train, X_test, Y_train, Y_test**"
   ]
  },
  {
   "cell_type": "code",
   "execution_count": 41,
   "metadata": {
    "id": "uvrKTUF3VqHl"
   },
   "outputs": [],
   "source": [
    "# Load the training, test and validation set\n",
    "# [:] at the end of the line reads the data from the dataset into a NumPy array\n",
    "X_train = h5f['X_train'][:]\n",
    "y_train = h5f['y_train'][:]\n",
    "X_test = h5f['X_test'][:]\n",
    "y_test = h5f['y_test'][:]"
   ]
  },
  {
   "cell_type": "markdown",
   "metadata": {
    "id": "7Jtn8tHZWivC"
   },
   "source": [
    "**2.2 a - Print shape of all the 4 data split into x, y, train, test to verify if x & y is in sync..**"
   ]
  },
  {
   "cell_type": "code",
   "execution_count": 42,
   "metadata": {
    "colab": {
     "base_uri": "https://localhost:8080/"
    },
    "id": "plThYJBYWp7l",
    "outputId": "c5334c09-bd5e-4669-b151-93aa0fe93b20"
   },
   "outputs": [
    {
     "data": {
      "text/plain": [
       "(42000, 32, 32)"
      ]
     },
     "execution_count": 42,
     "metadata": {},
     "output_type": "execute_result"
    }
   ],
   "source": [
    "X_train.shape"
   ]
  },
  {
   "cell_type": "code",
   "execution_count": 43,
   "metadata": {
    "colab": {
     "base_uri": "https://localhost:8080/"
    },
    "id": "FalCx0kWWtqC",
    "outputId": "06b28794-e884-40fa-9d43-e436f397d94e"
   },
   "outputs": [
    {
     "data": {
      "text/plain": [
       "(42000,)"
      ]
     },
     "execution_count": 43,
     "metadata": {},
     "output_type": "execute_result"
    }
   ],
   "source": [
    "y_train.shape"
   ]
  },
  {
   "cell_type": "code",
   "execution_count": 44,
   "metadata": {
    "colab": {
     "base_uri": "https://localhost:8080/"
    },
    "id": "q7NhyR6SWv6Q",
    "outputId": "b75e4f7e-9e35-4aee-da47-1a32bead59b4"
   },
   "outputs": [
    {
     "data": {
      "text/plain": [
       "(18000, 32, 32)"
      ]
     },
     "execution_count": 44,
     "metadata": {},
     "output_type": "execute_result"
    }
   ],
   "source": [
    "X_test.shape"
   ]
  },
  {
   "cell_type": "code",
   "execution_count": 45,
   "metadata": {
    "colab": {
     "base_uri": "https://localhost:8080/"
    },
    "id": "uY2-wTxeWzKL",
    "outputId": "374a9abb-7b68-4e94-8837-c0f1808bbde1"
   },
   "outputs": [
    {
     "data": {
      "text/plain": [
       "(18000,)"
      ]
     },
     "execution_count": 45,
     "metadata": {},
     "output_type": "execute_result"
    }
   ],
   "source": [
    "y_test.shape"
   ]
  },
  {
   "cell_type": "code",
   "execution_count": 46,
   "metadata": {
    "colab": {
     "base_uri": "https://localhost:8080/"
    },
    "id": "LQi_GhgZ16eI",
    "outputId": "55804f86-ca0a-4921-90bf-86d9f80732aa"
   },
   "outputs": [
    {
     "name": "stdout",
     "output_type": "stream",
     "text": [
      "Train and test data are in sync\n"
     ]
    }
   ],
   "source": [
    "# Using assert statements for verifying whether Train and Test Data are in syn or not\n",
    "assert X_train.shape[0] == y_train.shape[0], \"Number of samples in X_train and Y_train do not match\"\n",
    "assert X_test.shape[0] == y_test.shape[0], \"Number of samples in X_test and Y_test do not match\"\n",
    "\n",
    "print(\"Train and test data are in sync\")"
   ]
  },
  {
   "cell_type": "code",
   "execution_count": 47,
   "metadata": {
    "id": "L6hBnf1w2THu"
   },
   "outputs": [],
   "source": [
    "#################################### OR #######################################"
   ]
  },
  {
   "cell_type": "code",
   "execution_count": 48,
   "metadata": {
    "colab": {
     "base_uri": "https://localhost:8080/"
    },
    "id": "Fts7IDSZ2Wkx",
    "outputId": "80e9991d-5986-45ba-e61a-1551d4392933"
   },
   "outputs": [
    {
     "name": "stdout",
     "output_type": "stream",
     "text": [
      "Train and test data are in sync\n"
     ]
    }
   ],
   "source": [
    "# Using if _ else loop, for verifying whether Train and Test Data are in syn or not\n",
    "if X_train.shape[0] == y_train.shape[0] and X_test.shape[0] == y_test.shape[0]:\n",
    "    print(\"Train and test data are in sync\")\n",
    "else:\n",
    "    print(\"Train and test data are not in sync\")"
   ]
  },
  {
   "cell_type": "markdown",
   "metadata": {
    "id": "5E0GaBjrXT-8"
   },
   "source": [
    "**2.2 b - Visualise first 10 images in train data and print its corresponding labels..**"
   ]
  },
  {
   "cell_type": "code",
   "execution_count": 49,
   "metadata": {
    "id": "XJ8sbLRuXdET"
   },
   "outputs": [],
   "source": [
    "def img_lab(n):\n",
    "    plt.figure(figsize=(n, 1))\n",
    "    for i in range(n):\n",
    "        plt.subplot(1, n, i+1)\n",
    "        plt.imshow(X_train[i], cmap=\"gray\")\n",
    "        plt.axis('off')\n",
    "    plt.show()\n",
    "    print('label for each of the above image: %s' % (y_train[0:n]))"
   ]
  },
  {
   "cell_type": "code",
   "execution_count": 50,
   "metadata": {
    "colab": {
     "base_uri": "https://localhost:8080/",
     "height": 119
    },
    "id": "Nj6iFs_rXvQ9",
    "outputId": "de060775-d6bd-42a3-91e1-5086548b0f2f"
   },
   "outputs": [
    {
     "data": {
      "image/png": "[encoded data removed]",
      "text/plain": [
       "<Figure size 720x72 with 10 Axes>"
      ]
     },
     "metadata": {
      "needs_background": "light"
     },
     "output_type": "display_data"
    },
    {
     "name": "stdout",
     "output_type": "stream",
     "text": [
      "label for each of the above image: [2 6 7 4 4 0 3 0 7 3]\n"
     ]
    }
   ],
   "source": [
    "img_lab(10)"
   ]
  },
  {
   "cell_type": "markdown",
   "metadata": {
    "id": "HHRoR3raYC0A"
   },
   "source": [
    "**2.2 c - Reshape all the images with appropriate shape update the data in same variable.**"
   ]
  },
  {
   "cell_type": "code",
   "execution_count": 51,
   "metadata": {
    "id": "yY3pMJ-FYQ8h"
   },
   "outputs": [],
   "source": [
    "X_train = X_train.reshape(X_train.shape[0], 1024, 1)\n",
    "X_test = X_test.reshape(X_test.shape[0], 1024, 1)"
   ]
  },
  {
   "cell_type": "markdown",
   "metadata": {
    "id": "iY1SvYGeYI6-"
   },
   "source": [
    "**2.2 d - Normalise the images i.e. Normalise the pixel values.**"
   ]
  },
  {
   "cell_type": "code",
   "execution_count": 52,
   "metadata": {
    "colab": {
     "base_uri": "https://localhost:8080/"
    },
    "id": "eAaI0lvOYln4",
    "outputId": "be670e37-9476-4f54-b873-a0c4faae92ba"
   },
   "outputs": [
    {
     "name": "stdout",
     "output_type": "stream",
     "text": [
      "Resized Training set (42000, 1024, 1) (42000,)\n",
      "Resized Test set (18000, 1024, 1) (18000,)\n"
     ]
    }
   ],
   "source": [
    "# normalize inputs from 0-255 to 0-1\n",
    "X_train = X_train / 255.0\n",
    "X_test = X_test / 255.0\n",
    "\n",
    "print('Resized Training set', X_train.shape, y_train.shape)\n",
    "print('Resized Test set', X_test.shape, y_test.shape)"
   ]
  },
  {
   "cell_type": "markdown",
   "metadata": {
    "id": "mGi8ck2eY1dp"
   },
   "source": [
    "**2.2 e - Transform Labels into format acceptable by Neural Network**"
   ]
  },
  {
   "cell_type": "code",
   "execution_count": 53,
   "metadata": {
    "id": "HYi4F4fnZHyZ"
   },
   "outputs": [],
   "source": [
    "# Using One Hot Encoding i.e by creating the dummy variables\n",
    "y_train = tf.keras.utils.to_categorical(y_train)\n",
    "y_test = tf.keras.utils.to_categorical(y_test)"
   ]
  },
  {
   "cell_type": "markdown",
   "metadata": {
    "id": "oCqViDBJZ-0w"
   },
   "source": [
    "**2.2 f - Print total Number of classes in the Dataset.**"
   ]
  },
  {
   "cell_type": "code",
   "execution_count": 54,
   "metadata": {
    "colab": {
     "base_uri": "https://localhost:8080/"
    },
    "id": "yalkWi2hZvAT",
    "outputId": "065af1fe-5b4f-4dce-a5c1-5f0b2cd08062"
   },
   "outputs": [
    {
     "name": "stdout",
     "output_type": "stream",
     "text": [
      "The number of classes in this dataset are: 10\n"
     ]
    }
   ],
   "source": [
    "# Total no.of classes\n",
    "num_classes = y_test.shape[1]\n",
    "print(\"The number of classes in this dataset are:\",num_classes)"
   ]
  },
  {
   "cell_type": "markdown",
   "metadata": {
    "id": "Vj0kX_YQaWN_"
   },
   "source": [
    "**2.3 a - Design a Neural Network to train a classifier.**"
   ]
  },
  {
   "cell_type": "code",
   "execution_count": 55,
   "metadata": {},
   "outputs": [],
   "source": [
    "# Clearing the session in Keras\n",
    "backend.clear_session()\n",
    "# To receive the same output everytime\n",
    "# Fixing the seed for NumPy random number generators to 42\n",
    "np.random.seed(42)\n",
    "# Fixing the set the seed for the Python random number generator to 42\n",
    "import random\n",
    "random.seed(42)\n",
    "# Fixing the seed for the TensorFlow random number generator to 42\n",
    "tf.random.set_seed(42)"
   ]
  },
  {
   "cell_type": "code",
   "execution_count": 56,
   "metadata": {
    "id": "5_9VpvzHay4C"
   },
   "outputs": [],
   "source": [
    "def nn_model():\n",
    "    # create model\n",
    "    model = Sequential()\n",
    "    model.add(Flatten())\n",
    "    model.add(Dense(256, activation='relu')) ###Multiple Dense units with Relu activation\n",
    "    model.add(Dense(64, activation='relu'))\n",
    "    model.add(Dense(64, activation='relu'))\n",
    "    model.add(Dense(32, activation='relu'))\n",
    "    model.add(Dense(num_classes, activation='softmax'))\n",
    "    return model"
   ]
  },
  {
   "cell_type": "code",
   "execution_count": 57,
   "metadata": {
    "id": "4gxEG_9fwE2N"
   },
   "outputs": [],
   "source": [
    "# build the model\n",
    "model = nn_model()"
   ]
  },
  {
   "cell_type": "markdown",
   "metadata": {
    "id": "Wch6j-XbvwS4"
   },
   "source": [
    "**2.3 b -Train the classifier using previously designed Architecture (Use best suitable parameters).**"
   ]
  },
  {
   "cell_type": "code",
   "execution_count": 58,
   "metadata": {
    "id": "yGoGcbk7wkxj"
   },
   "outputs": [],
   "source": [
    "# Compile model\n",
    "sgd = optimizers.Adam(learning_rate=1e-3)\n",
    "# Loss function = Categorical cross entropy\n",
    "model.compile(loss='categorical_crossentropy', optimizer=sgd, metrics=['accuracy'])"
   ]
  },
  {
   "cell_type": "code",
   "execution_count": 59,
   "metadata": {
    "colab": {
     "base_uri": "https://localhost:8080/"
    },
    "id": "N8i0Efxdw321",
    "outputId": "2e49b6d2-8cc7-463f-f5ef-d5ea0e775d22"
   },
   "outputs": [
    {
     "name": "stdout",
     "output_type": "stream",
     "text": [
      "Epoch 1/100\n",
      "140/140 - 6s - loss: 2.3010 - accuracy: 0.1103 - val_loss: 2.2635 - val_accuracy: 0.1537 - 6s/epoch - 46ms/step\n",
      "Epoch 2/100\n",
      "140/140 - 3s - loss: 1.9797 - accuracy: 0.2915 - val_loss: 1.6688 - val_accuracy: 0.4088 - 3s/epoch - 21ms/step\n",
      "Epoch 3/100\n",
      "140/140 - 3s - loss: 1.5990 - accuracy: 0.4458 - val_loss: 1.4678 - val_accuracy: 0.5116 - 3s/epoch - 22ms/step\n",
      "Epoch 4/100\n",
      "140/140 - 4s - loss: 1.4032 - accuracy: 0.5369 - val_loss: 1.3183 - val_accuracy: 0.5673 - 4s/epoch - 25ms/step\n",
      "Epoch 5/100\n",
      "140/140 - 4s - loss: 1.2752 - accuracy: 0.5874 - val_loss: 1.2487 - val_accuracy: 0.5937 - 4s/epoch - 25ms/step\n",
      "Epoch 6/100\n",
      "140/140 - 3s - loss: 1.2061 - accuracy: 0.6168 - val_loss: 1.1902 - val_accuracy: 0.6211 - 3s/epoch - 24ms/step\n",
      "Epoch 7/100\n",
      "140/140 - 3s - loss: 1.1501 - accuracy: 0.6380 - val_loss: 1.1214 - val_accuracy: 0.6447 - 3s/epoch - 23ms/step\n",
      "Epoch 8/100\n",
      "140/140 - 3s - loss: 1.1249 - accuracy: 0.6451 - val_loss: 1.1240 - val_accuracy: 0.6447 - 3s/epoch - 22ms/step\n",
      "Epoch 9/100\n",
      "140/140 - 3s - loss: 1.0816 - accuracy: 0.6610 - val_loss: 1.0694 - val_accuracy: 0.6647 - 3s/epoch - 23ms/step\n",
      "Epoch 10/100\n",
      "140/140 - 3s - loss: 1.0549 - accuracy: 0.6691 - val_loss: 1.0302 - val_accuracy: 0.6820 - 3s/epoch - 22ms/step\n",
      "Epoch 11/100\n",
      "140/140 - 3s - loss: 1.0085 - accuracy: 0.6856 - val_loss: 1.0376 - val_accuracy: 0.6727 - 3s/epoch - 23ms/step\n",
      "Epoch 12/100\n",
      "140/140 - 3s - loss: 0.9786 - accuracy: 0.6945 - val_loss: 1.0029 - val_accuracy: 0.6862 - 3s/epoch - 22ms/step\n",
      "Epoch 13/100\n",
      "140/140 - 3s - loss: 0.9440 - accuracy: 0.7086 - val_loss: 0.9502 - val_accuracy: 0.7107 - 3s/epoch - 24ms/step\n",
      "Epoch 14/100\n",
      "140/140 - 3s - loss: 0.9183 - accuracy: 0.7163 - val_loss: 0.9450 - val_accuracy: 0.7122 - 3s/epoch - 24ms/step\n",
      "Epoch 15/100\n",
      "140/140 - 3s - loss: 0.8789 - accuracy: 0.7295 - val_loss: 0.8858 - val_accuracy: 0.7319 - 3s/epoch - 24ms/step\n",
      "Epoch 16/100\n",
      "140/140 - 3s - loss: 0.8563 - accuracy: 0.7372 - val_loss: 0.8944 - val_accuracy: 0.7303 - 3s/epoch - 22ms/step\n",
      "Epoch 17/100\n",
      "140/140 - 3s - loss: 0.8384 - accuracy: 0.7411 - val_loss: 0.8615 - val_accuracy: 0.7406 - 3s/epoch - 22ms/step\n",
      "Epoch 18/100\n",
      "140/140 - 3s - loss: 0.8126 - accuracy: 0.7513 - val_loss: 0.8317 - val_accuracy: 0.7502 - 3s/epoch - 22ms/step\n",
      "Epoch 19/100\n",
      "140/140 - 3s - loss: 0.8016 - accuracy: 0.7529 - val_loss: 0.8803 - val_accuracy: 0.7314 - 3s/epoch - 23ms/step\n",
      "Epoch 20/100\n",
      "140/140 - 3s - loss: 0.7822 - accuracy: 0.7579 - val_loss: 0.8255 - val_accuracy: 0.7513 - 3s/epoch - 22ms/step\n",
      "Epoch 21/100\n",
      "140/140 - 3s - loss: 0.7719 - accuracy: 0.7612 - val_loss: 0.8300 - val_accuracy: 0.7504 - 3s/epoch - 23ms/step\n",
      "Epoch 22/100\n",
      "140/140 - 3s - loss: 0.7514 - accuracy: 0.7700 - val_loss: 0.8070 - val_accuracy: 0.7584 - 3s/epoch - 23ms/step\n",
      "Epoch 23/100\n",
      "140/140 - 3s - loss: 0.7573 - accuracy: 0.7666 - val_loss: 0.8031 - val_accuracy: 0.7589 - 3s/epoch - 22ms/step\n",
      "Epoch 24/100\n",
      "140/140 - 3s - loss: 0.7391 - accuracy: 0.7730 - val_loss: 0.7988 - val_accuracy: 0.7623 - 3s/epoch - 22ms/step\n",
      "Epoch 25/100\n",
      "140/140 - 3s - loss: 0.7194 - accuracy: 0.7772 - val_loss: 0.8554 - val_accuracy: 0.7413 - 3s/epoch - 22ms/step\n",
      "Epoch 26/100\n",
      "140/140 - 3s - loss: 0.7111 - accuracy: 0.7826 - val_loss: 0.7831 - val_accuracy: 0.7627 - 3s/epoch - 22ms/step\n",
      "Epoch 27/100\n",
      "140/140 - 3s - loss: 0.7003 - accuracy: 0.7848 - val_loss: 0.7872 - val_accuracy: 0.7653 - 3s/epoch - 22ms/step\n",
      "Epoch 28/100\n",
      "140/140 - 3s - loss: 0.6952 - accuracy: 0.7847 - val_loss: 0.7692 - val_accuracy: 0.7665 - 3s/epoch - 22ms/step\n",
      "Epoch 29/100\n",
      "140/140 - 3s - loss: 0.6876 - accuracy: 0.7883 - val_loss: 0.7715 - val_accuracy: 0.7668 - 3s/epoch - 22ms/step\n",
      "Epoch 30/100\n",
      "140/140 - 3s - loss: 0.6758 - accuracy: 0.7940 - val_loss: 0.7702 - val_accuracy: 0.7686 - 3s/epoch - 22ms/step\n",
      "Epoch 31/100\n",
      "140/140 - 3s - loss: 0.6674 - accuracy: 0.7948 - val_loss: 0.7525 - val_accuracy: 0.7761 - 3s/epoch - 22ms/step\n",
      "Epoch 32/100\n",
      "140/140 - 3s - loss: 0.6636 - accuracy: 0.7934 - val_loss: 0.7377 - val_accuracy: 0.7807 - 3s/epoch - 22ms/step\n",
      "Epoch 33/100\n",
      "140/140 - 3s - loss: 0.6541 - accuracy: 0.7975 - val_loss: 0.7552 - val_accuracy: 0.7739 - 3s/epoch - 22ms/step\n",
      "Epoch 34/100\n",
      "140/140 - 3s - loss: 0.6508 - accuracy: 0.7980 - val_loss: 0.7329 - val_accuracy: 0.7804 - 3s/epoch - 22ms/step\n",
      "Epoch 35/100\n",
      "140/140 - 3s - loss: 0.6419 - accuracy: 0.8031 - val_loss: 0.7517 - val_accuracy: 0.7743 - 3s/epoch - 23ms/step\n",
      "Epoch 36/100\n",
      "140/140 - 3s - loss: 0.6494 - accuracy: 0.8025 - val_loss: 0.7150 - val_accuracy: 0.7901 - 3s/epoch - 22ms/step\n",
      "Epoch 37/100\n",
      "140/140 - 3s - loss: 0.6273 - accuracy: 0.8060 - val_loss: 0.7128 - val_accuracy: 0.7872 - 3s/epoch - 22ms/step\n",
      "Epoch 38/100\n",
      "140/140 - 3s - loss: 0.6365 - accuracy: 0.8028 - val_loss: 0.7510 - val_accuracy: 0.7734 - 3s/epoch - 22ms/step\n",
      "Epoch 39/100\n",
      "140/140 - 3s - loss: 0.6095 - accuracy: 0.8122 - val_loss: 0.7184 - val_accuracy: 0.7868 - 3s/epoch - 21ms/step\n",
      "Epoch 40/100\n",
      "140/140 - 3s - loss: 0.6284 - accuracy: 0.8047 - val_loss: 0.7070 - val_accuracy: 0.7896 - 3s/epoch - 22ms/step\n",
      "Epoch 41/100\n",
      "140/140 - 3s - loss: 0.6126 - accuracy: 0.8107 - val_loss: 0.7045 - val_accuracy: 0.7919 - 3s/epoch - 22ms/step\n",
      "Epoch 42/100\n",
      "140/140 - 3s - loss: 0.5997 - accuracy: 0.8158 - val_loss: 0.7148 - val_accuracy: 0.7867 - 3s/epoch - 22ms/step\n",
      "Epoch 43/100\n",
      "140/140 - 3s - loss: 0.5889 - accuracy: 0.8180 - val_loss: 0.7271 - val_accuracy: 0.7832 - 3s/epoch - 22ms/step\n",
      "Epoch 44/100\n",
      "140/140 - 3s - loss: 0.5978 - accuracy: 0.8154 - val_loss: 0.7026 - val_accuracy: 0.7957 - 3s/epoch - 22ms/step\n",
      "Epoch 45/100\n",
      "140/140 - 3s - loss: 0.5911 - accuracy: 0.8169 - val_loss: 0.6960 - val_accuracy: 0.7958 - 3s/epoch - 23ms/step\n",
      "Epoch 46/100\n",
      "140/140 - 3s - loss: 0.5886 - accuracy: 0.8185 - val_loss: 0.6943 - val_accuracy: 0.7967 - 3s/epoch - 23ms/step\n",
      "Epoch 47/100\n",
      "140/140 - 3s - loss: 0.5801 - accuracy: 0.8211 - val_loss: 0.7040 - val_accuracy: 0.7908 - 3s/epoch - 23ms/step\n",
      "Epoch 48/100\n",
      "140/140 - 3s - loss: 0.5791 - accuracy: 0.8199 - val_loss: 0.7439 - val_accuracy: 0.7790 - 3s/epoch - 23ms/step\n",
      "Epoch 49/100\n",
      "140/140 - 3s - loss: 0.5664 - accuracy: 0.8236 - val_loss: 0.7127 - val_accuracy: 0.7887 - 3s/epoch - 22ms/step\n",
      "Epoch 50/100\n",
      "140/140 - 3s - loss: 0.5820 - accuracy: 0.8186 - val_loss: 0.7321 - val_accuracy: 0.7828 - 3s/epoch - 23ms/step\n",
      "Epoch 51/100\n",
      "140/140 - 3s - loss: 0.5805 - accuracy: 0.8195 - val_loss: 0.7139 - val_accuracy: 0.7875 - 3s/epoch - 22ms/step\n",
      "Epoch 52/100\n",
      "140/140 - 3s - loss: 0.5586 - accuracy: 0.8261 - val_loss: 0.6907 - val_accuracy: 0.7999 - 3s/epoch - 23ms/step\n",
      "Epoch 53/100\n",
      "140/140 - 3s - loss: 0.5559 - accuracy: 0.8279 - val_loss: 0.6855 - val_accuracy: 0.7987 - 3s/epoch - 22ms/step\n",
      "Epoch 54/100\n",
      "140/140 - 3s - loss: 0.5451 - accuracy: 0.8314 - val_loss: 0.6948 - val_accuracy: 0.7949 - 3s/epoch - 22ms/step\n",
      "Epoch 55/100\n",
      "140/140 - 3s - loss: 0.5494 - accuracy: 0.8284 - val_loss: 0.7091 - val_accuracy: 0.7904 - 3s/epoch - 23ms/step\n",
      "Epoch 56/100\n",
      "140/140 - 3s - loss: 0.5427 - accuracy: 0.8303 - val_loss: 0.6888 - val_accuracy: 0.7979 - 3s/epoch - 23ms/step\n",
      "Epoch 57/100\n",
      "140/140 - 3s - loss: 0.5407 - accuracy: 0.8310 - val_loss: 0.6591 - val_accuracy: 0.8076 - 3s/epoch - 24ms/step\n",
      "Epoch 58/100\n",
      "140/140 - 3s - loss: 0.5328 - accuracy: 0.8354 - val_loss: 0.6705 - val_accuracy: 0.8040 - 3s/epoch - 23ms/step\n",
      "Epoch 59/100\n",
      "140/140 - 3s - loss: 0.5385 - accuracy: 0.8328 - val_loss: 0.6532 - val_accuracy: 0.8111 - 3s/epoch - 23ms/step\n",
      "Epoch 60/100\n",
      "140/140 - 3s - loss: 0.5229 - accuracy: 0.8365 - val_loss: 0.6799 - val_accuracy: 0.8007 - 3s/epoch - 22ms/step\n",
      "Epoch 61/100\n",
      "140/140 - 3s - loss: 0.5207 - accuracy: 0.8378 - val_loss: 0.6778 - val_accuracy: 0.8042 - 3s/epoch - 22ms/step\n",
      "Epoch 62/100\n",
      "140/140 - 3s - loss: 0.5210 - accuracy: 0.8367 - val_loss: 0.6599 - val_accuracy: 0.8081 - 3s/epoch - 22ms/step\n",
      "Epoch 63/100\n",
      "140/140 - 3s - loss: 0.5135 - accuracy: 0.8411 - val_loss: 0.6918 - val_accuracy: 0.7964 - 3s/epoch - 22ms/step\n",
      "Epoch 64/100\n",
      "140/140 - 3s - loss: 0.5149 - accuracy: 0.8385 - val_loss: 0.6666 - val_accuracy: 0.8065 - 3s/epoch - 22ms/step\n",
      "Epoch 65/100\n",
      "140/140 - 3s - loss: 0.5108 - accuracy: 0.8389 - val_loss: 0.6637 - val_accuracy: 0.8088 - 3s/epoch - 21ms/step\n",
      "Epoch 66/100\n",
      "140/140 - 3s - loss: 0.5141 - accuracy: 0.8391 - val_loss: 0.6829 - val_accuracy: 0.8024 - 3s/epoch - 22ms/step\n"
     ]
    },
    {
     "name": "stdout",
     "output_type": "stream",
     "text": [
      "Epoch 67/100\n",
      "140/140 - 3s - loss: 0.4938 - accuracy: 0.8466 - val_loss: 0.6565 - val_accuracy: 0.8128 - 3s/epoch - 22ms/step\n",
      "Epoch 68/100\n",
      "140/140 - 3s - loss: 0.4956 - accuracy: 0.8460 - val_loss: 0.6641 - val_accuracy: 0.8064 - 3s/epoch - 22ms/step\n",
      "Epoch 69/100\n",
      "140/140 - 3s - loss: 0.5001 - accuracy: 0.8429 - val_loss: 0.6574 - val_accuracy: 0.8124 - 3s/epoch - 22ms/step\n",
      "Epoch 70/100\n",
      "140/140 - 3s - loss: 0.4973 - accuracy: 0.8453 - val_loss: 0.6723 - val_accuracy: 0.8062 - 3s/epoch - 22ms/step\n",
      "Epoch 71/100\n",
      "140/140 - 3s - loss: 0.4868 - accuracy: 0.8473 - val_loss: 0.6680 - val_accuracy: 0.8081 - 3s/epoch - 22ms/step\n",
      "Epoch 72/100\n",
      "140/140 - 3s - loss: 0.4804 - accuracy: 0.8494 - val_loss: 0.7049 - val_accuracy: 0.8007 - 3s/epoch - 22ms/step\n",
      "Epoch 73/100\n",
      "140/140 - 3s - loss: 0.4893 - accuracy: 0.8465 - val_loss: 0.6726 - val_accuracy: 0.8075 - 3s/epoch - 22ms/step\n",
      "Epoch 74/100\n",
      "140/140 - 3s - loss: 0.4782 - accuracy: 0.8503 - val_loss: 0.6578 - val_accuracy: 0.8099 - 3s/epoch - 22ms/step\n",
      "Epoch 75/100\n",
      "140/140 - 3s - loss: 0.4838 - accuracy: 0.8482 - val_loss: 0.6765 - val_accuracy: 0.8061 - 3s/epoch - 21ms/step\n",
      "Epoch 76/100\n",
      "140/140 - 3s - loss: 0.4829 - accuracy: 0.8490 - val_loss: 0.6466 - val_accuracy: 0.8173 - 3s/epoch - 22ms/step\n",
      "Epoch 77/100\n",
      "140/140 - 3s - loss: 0.4733 - accuracy: 0.8523 - val_loss: 0.6564 - val_accuracy: 0.8132 - 3s/epoch - 22ms/step\n",
      "Epoch 78/100\n",
      "140/140 - 3s - loss: 0.4707 - accuracy: 0.8524 - val_loss: 0.6475 - val_accuracy: 0.8163 - 3s/epoch - 22ms/step\n",
      "Epoch 79/100\n",
      "140/140 - 3s - loss: 0.4648 - accuracy: 0.8543 - val_loss: 0.6520 - val_accuracy: 0.8140 - 3s/epoch - 22ms/step\n",
      "Epoch 80/100\n",
      "140/140 - 3s - loss: 0.4754 - accuracy: 0.8495 - val_loss: 0.6793 - val_accuracy: 0.8050 - 3s/epoch - 21ms/step\n",
      "Epoch 81/100\n",
      "140/140 - 3s - loss: 0.4710 - accuracy: 0.8520 - val_loss: 0.6879 - val_accuracy: 0.8032 - 3s/epoch - 23ms/step\n",
      "Epoch 82/100\n",
      "140/140 - 3s - loss: 0.4666 - accuracy: 0.8541 - val_loss: 0.6764 - val_accuracy: 0.8046 - 3s/epoch - 23ms/step\n",
      "Epoch 83/100\n",
      "140/140 - 3s - loss: 0.4624 - accuracy: 0.8547 - val_loss: 0.6661 - val_accuracy: 0.8067 - 3s/epoch - 22ms/step\n",
      "Epoch 84/100\n",
      "140/140 - 3s - loss: 0.4597 - accuracy: 0.8564 - val_loss: 0.6766 - val_accuracy: 0.8063 - 3s/epoch - 23ms/step\n",
      "Epoch 85/100\n",
      "140/140 - 3s - loss: 0.4543 - accuracy: 0.8575 - val_loss: 0.6661 - val_accuracy: 0.8121 - 3s/epoch - 22ms/step\n",
      "Epoch 86/100\n",
      "140/140 - 3s - loss: 0.4594 - accuracy: 0.8552 - val_loss: 0.6607 - val_accuracy: 0.8107 - 3s/epoch - 22ms/step\n",
      "Epoch 87/100\n",
      "140/140 - 3s - loss: 0.4590 - accuracy: 0.8549 - val_loss: 0.6626 - val_accuracy: 0.8129 - 3s/epoch - 22ms/step\n",
      "Epoch 88/100\n",
      "140/140 - 3s - loss: 0.4487 - accuracy: 0.8577 - val_loss: 0.6846 - val_accuracy: 0.8092 - 3s/epoch - 24ms/step\n",
      "Epoch 89/100\n",
      "140/140 - 3s - loss: 0.4492 - accuracy: 0.8594 - val_loss: 0.6776 - val_accuracy: 0.8076 - 3s/epoch - 22ms/step\n",
      "Epoch 90/100\n",
      "140/140 - 3s - loss: 0.4424 - accuracy: 0.8615 - val_loss: 0.6886 - val_accuracy: 0.8112 - 3s/epoch - 22ms/step\n",
      "Epoch 91/100\n",
      "140/140 - 3s - loss: 0.4410 - accuracy: 0.8603 - val_loss: 0.6685 - val_accuracy: 0.8130 - 3s/epoch - 23ms/step\n",
      "Epoch 92/100\n",
      "140/140 - 3s - loss: 0.4367 - accuracy: 0.8638 - val_loss: 0.6447 - val_accuracy: 0.8182 - 3s/epoch - 23ms/step\n",
      "Epoch 93/100\n",
      "140/140 - 3s - loss: 0.4472 - accuracy: 0.8578 - val_loss: 0.6603 - val_accuracy: 0.8149 - 3s/epoch - 23ms/step\n",
      "Epoch 94/100\n",
      "140/140 - 3s - loss: 0.4384 - accuracy: 0.8625 - val_loss: 0.6593 - val_accuracy: 0.8183 - 3s/epoch - 23ms/step\n",
      "Epoch 95/100\n",
      "140/140 - 3s - loss: 0.4318 - accuracy: 0.8650 - val_loss: 0.6787 - val_accuracy: 0.8089 - 3s/epoch - 23ms/step\n",
      "Epoch 96/100\n",
      "140/140 - 3s - loss: 0.4326 - accuracy: 0.8623 - val_loss: 0.6842 - val_accuracy: 0.8076 - 3s/epoch - 24ms/step\n",
      "Epoch 97/100\n",
      "140/140 - 3s - loss: 0.4413 - accuracy: 0.8599 - val_loss: 0.6463 - val_accuracy: 0.8214 - 3s/epoch - 22ms/step\n",
      "Epoch 98/100\n",
      "140/140 - 3s - loss: 0.4307 - accuracy: 0.8650 - val_loss: 0.6821 - val_accuracy: 0.8094 - 3s/epoch - 24ms/step\n",
      "Epoch 99/100\n",
      "140/140 - 3s - loss: 0.4262 - accuracy: 0.8653 - val_loss: 0.6576 - val_accuracy: 0.8176 - 3s/epoch - 23ms/step\n",
      "Epoch 100/100\n",
      "140/140 - 3s - loss: 0.4275 - accuracy: 0.8651 - val_loss: 0.6754 - val_accuracy: 0.8101 - 3s/epoch - 24ms/step\n"
     ]
    }
   ],
   "source": [
    "# Fit the model\n",
    "training_history = model.fit(X_train, y_train, validation_data=(X_test, y_test), epochs=100, batch_size=300, verbose=2)"
   ]
  },
  {
   "cell_type": "markdown",
   "metadata": {
    "id": "qP3szL9Aw5FE"
   },
   "source": [
    "**2.3 c -Evaluate performance of the model with appropriate metrics.**"
   ]
  },
  {
   "cell_type": "code",
   "execution_count": 60,
   "metadata": {
    "colab": {
     "base_uri": "https://localhost:8080/"
    },
    "id": "piPIbSwGxHXh",
    "outputId": "8f59bf5c-5549-4fca-97c1-04f1ffcdcc3b"
   },
   "outputs": [
    {
     "name": "stdout",
     "output_type": "stream",
     "text": [
      "Loss: 0.6754052639007568\n",
      "Accuracy: 0.8101111054420471\n"
     ]
    }
   ],
   "source": [
    "# Final evaluation of the model\n",
    "scores = model.evaluate(X_test, y_test, verbose=0)\n",
    "print(\"Loss:\", scores[0])\n",
    "print(\"Accuracy:\", scores[1])"
   ]
  },
  {
   "cell_type": "code",
   "execution_count": 61,
   "metadata": {
    "colab": {
     "base_uri": "https://localhost:8080/"
    },
    "id": "bzp4IMPZxIco",
    "outputId": "e9f10998-6e4a-4706-ac0e-b4d5b82b6996"
   },
   "outputs": [
    {
     "name": "stdout",
     "output_type": "stream",
     "text": [
      "563/563 [==============================] - 3s 5ms/step\n"
     ]
    },
    {
     "data": {
      "text/plain": [
       "array([[5.94091833e-01, 4.67996486e-02, 8.68559554e-02, ...,\n",
       "        1.45853490e-01, 5.44128492e-02, 2.20786668e-02],\n",
       "       [3.18715637e-10, 4.26345185e-04, 8.96269158e-02, ...,\n",
       "        9.08870935e-01, 4.79534947e-07, 7.03026944e-06],\n",
       "       [8.10150013e-05, 2.48759079e-05, 9.98276591e-01, ...,\n",
       "        7.80254340e-05, 1.20846485e-03, 1.11597881e-04],\n",
       "       ...,\n",
       "       [8.13602583e-06, 1.48897562e-02, 2.61319731e-03, ...,\n",
       "        9.81927216e-01, 9.85735915e-06, 9.45946886e-05],\n",
       "       [1.81633828e-03, 1.13444192e-04, 7.99560081e-03, ...,\n",
       "        7.74057955e-03, 4.26526628e-02, 8.54946792e-01],\n",
       "       [4.34215617e-04, 1.04954284e-04, 9.96036470e-01, ...,\n",
       "        3.13006807e-03, 8.96306665e-05, 3.09282987e-05]], dtype=float32)"
      ]
     },
     "execution_count": 61,
     "metadata": {},
     "output_type": "execute_result"
    }
   ],
   "source": [
    "y_pred = model.predict(X_test)\n",
    "y_pred\n"
   ]
  },
  {
   "cell_type": "code",
   "execution_count": 62,
   "metadata": {
    "colab": {
     "base_uri": "https://localhost:8080/"
    },
    "id": "2Z6FFD5yJGOZ",
    "outputId": "bf9a9611-eb72-42df-e596-2b7d3b808009"
   },
   "outputs": [
    {
     "data": {
      "text/plain": [
       "array([[0., 1., 0., ..., 0., 0., 0.],\n",
       "       [0., 0., 0., ..., 1., 0., 0.],\n",
       "       [0., 0., 1., ..., 0., 0., 0.],\n",
       "       ...,\n",
       "       [0., 0., 0., ..., 1., 0., 0.],\n",
       "       [0., 0., 0., ..., 0., 0., 1.],\n",
       "       [0., 0., 1., ..., 0., 0., 0.]], dtype=float32)"
      ]
     },
     "execution_count": 62,
     "metadata": {},
     "output_type": "execute_result"
    }
   ],
   "source": [
    "y_test = np.array(y_test)\n",
    "y_test"
   ]
  },
  {
   "cell_type": "code",
   "execution_count": 63,
   "metadata": {
    "colab": {
     "base_uri": "https://localhost:8080/"
    },
    "id": "Ov5V1MqVNDF9",
    "outputId": "d74e7d16-159a-4329-9207-9d437a9a3086"
   },
   "outputs": [
    {
     "data": {
      "text/plain": [
       "(18000, 10)"
      ]
     },
     "execution_count": 63,
     "metadata": {},
     "output_type": "execute_result"
    }
   ],
   "source": [
    "y_pred.shape"
   ]
  },
  {
   "cell_type": "code",
   "execution_count": 64,
   "metadata": {
    "colab": {
     "base_uri": "https://localhost:8080/"
    },
    "id": "MZPwev9ZNGVw",
    "outputId": "24f76bf9-9e23-44d7-ca89-3f4e42bf765e"
   },
   "outputs": [
    {
     "data": {
      "text/plain": [
       "(18000, 10)"
      ]
     },
     "execution_count": 64,
     "metadata": {},
     "output_type": "execute_result"
    }
   ],
   "source": [
    "y_test.shape"
   ]
  },
  {
   "cell_type": "code",
   "execution_count": 65,
   "metadata": {
    "colab": {
     "base_uri": "https://localhost:8080/",
     "height": 355
    },
    "id": "LW9VP18IK2yL",
    "outputId": "f1825784-b850-41d8-8cd7-38f7ee6cbf37"
   },
   "outputs": [
    {
     "name": "stdout",
     "output_type": "stream",
     "text": [
      "Accuracy: 0.8101111111111111\n"
     ]
    }
   ],
   "source": [
    "y_test = np.argmax(y_test, axis=1)\n",
    "y_pred = np.argmax(y_pred, axis=1)\n",
    "\n",
    "from sklearn.metrics import accuracy_score, confusion_matrix, classification_report\n",
    "\n",
    "# Calculate accuracy\n",
    "accuracy = accuracy_score(y_test, y_pred)\n",
    "print(\"Accuracy:\", accuracy)"
   ]
  },
  {
   "cell_type": "code",
   "execution_count": 66,
   "metadata": {},
   "outputs": [
    {
     "name": "stdout",
     "output_type": "stream",
     "text": [
      "Confusion Matrix:\n"
     ]
    },
    {
     "data": {
      "image/png": "[encoded data removed]",
      "text/plain": [
       "<Figure size 720x504 with 2 Axes>"
      ]
     },
     "metadata": {
      "needs_background": "light"
     },
     "output_type": "display_data"
    }
   ],
   "source": [
    "cm=confusion_matrix(y_test,y_pred)\n",
    "print(\"Confusion Matrix:\")\n",
    "plt.figure(figsize=(10,7))\n",
    "sns.heatmap(cm,annot=True,fmt='d')\n",
    "plt.xlabel('Predicted')\n",
    "plt.ylabel('Truth')\n",
    "plt.show()"
   ]
  },
  {
   "cell_type": "code",
   "execution_count": 67,
   "metadata": {},
   "outputs": [
    {
     "name": "stdout",
     "output_type": "stream",
     "text": [
      "Classification Report:\n",
      "              precision    recall  f1-score   support\n",
      "\n",
      "           0       0.83      0.85      0.84      1814\n",
      "           1       0.84      0.82      0.83      1828\n",
      "           2       0.85      0.82      0.83      1803\n",
      "           3       0.77      0.76      0.76      1719\n",
      "           4       0.88      0.84      0.86      1812\n",
      "           5       0.78      0.80      0.79      1768\n",
      "           6       0.83      0.78      0.81      1832\n",
      "           7       0.88      0.84      0.86      1808\n",
      "           8       0.68      0.80      0.73      1812\n",
      "           9       0.79      0.79      0.79      1804\n",
      "\n",
      "    accuracy                           0.81     18000\n",
      "   macro avg       0.81      0.81      0.81     18000\n",
      "weighted avg       0.81      0.81      0.81     18000\n",
      "\n"
     ]
    }
   ],
   "source": [
    "# Calculate all the metrices using Classification_report\n",
    "classification_report = classification_report(y_test, y_pred)\n",
    "print(\"Classification Report:\")\n",
    "print(classification_report)\n"
   ]
  },
  {
   "cell_type": "markdown",
   "metadata": {},
   "source": [
    "**Summary for the Metrics**\n",
    "\n",
    "- Accuracy: The accuracy of the model on the test set is approximately 0.8101, meaning it correctly predicts the class for about 81.01% of the samples.\n",
    "\n",
    "- Precision, Recall, F1-score: The precision, recall, and F1-score are provided for each class in the classification report. The weighted average of these metrics is around 0.81, indicating good overall performance.\n",
    "\n",
    "- Confusion Matrix: The confusion matrix shows the number of correct and incorrect predictions for each class. It allows you to see which classes the model is confusing with others."
   ]
  },
  {
   "cell_type": "markdown",
   "metadata": {
    "id": "WqbOA0Y_yuTd"
   },
   "source": [
    "**2.3 d - Plot the training loss, validation loss vs number of epochs and training accuracy, validation accuracy vs number of epochs plot**"
   ]
  },
  {
   "cell_type": "code",
   "execution_count": 68,
   "metadata": {
    "id": "QLkT7TtayurU"
   },
   "outputs": [
    {
     "data": {
      "text/plain": [
       "Text(0.5, 1.0, 'Training and validation loss')"
      ]
     },
     "execution_count": 68,
     "metadata": {},
     "output_type": "execute_result"
    },
    {
     "data": {
      "image/png": "[encoded data removed]",
      "text/plain": [
       "<Figure size 432x288 with 1 Axes>"
      ]
     },
     "metadata": {
      "needs_background": "light"
     },
     "output_type": "display_data"
    },
    {
     "data": {
      "image/png": "[encoded data removed]",
      "text/plain": [
       "<Figure size 432x288 with 1 Axes>"
      ]
     },
     "metadata": {
      "needs_background": "light"
     },
     "output_type": "display_data"
    }
   ],
   "source": [
    "accuracy      = training_history.history['accuracy']\n",
    "val_accuracy  = training_history.history['val_accuracy']\n",
    "loss     = training_history.history['loss']\n",
    "val_loss = training_history.history['val_loss']\n",
    "\n",
    "epochs   = range(len(accuracy)) # Get number of epochs\n",
    "\n",
    "plt.plot  ( epochs, accuracy, label = 'training accuracy' )\n",
    "plt.plot  ( epochs, val_accuracy, label = 'validation accuracy' )\n",
    "plt.title ('Training and validation accuracy')\n",
    "plt.legend(loc = 'lower right')\n",
    "plt.figure()\n",
    "\n",
    "plt.plot  ( epochs, loss, label = 'training loss' )\n",
    "plt.plot  ( epochs, val_loss, label = 'validation loss' )\n",
    "plt.legend(loc = 'upper right')\n",
    "plt.title ('Training and validation loss'   )"
   ]
  },
  {
   "cell_type": "markdown",
   "metadata": {
    "id": "p1TA7EQ4zSrB"
   },
   "source": [
    "**Observations:**"
   ]
  },
  {
   "cell_type": "markdown",
   "metadata": {
    "id": "sTInySJe0vsD"
   },
   "source": [
    "- There are around 10 classes in the dataset which represent digits from 0-9.\n",
    "\n",
    "- We tried training a Neural Network with dense hidden layers of different number of units and are able to achieve a final test accuracy of 81.01 %.\n",
    "\n",
    "- Also we notice that after a certain point the model begins to overfit on our dataset as is clear from the plots above where the validation loss begins to increase after certain point and validation accuracy begins to decrease.\n",
    "\n",
    "- Thus, with this amount of accuracy we are able to distinguish between the different digits in this dataset.\n"
   ]
  }
 ],
 "metadata": {
  "accelerator": "GPU",
  "colab": {
   "gpuType": "T4",
   "provenance": []
  },
  "kernelspec": {
   "display_name": "Python 3 (ipykernel)",
   "language": "python",
   "name": "python3"
  },
  "language_info": {
   "codemirror_mode": {
    "name": "ipython",
    "version": 3
   },
   "file_extension": ".py",
   "mimetype": "text/x-python",
   "name": "python",
   "nbconvert_exporter": "python",
   "pygments_lexer": "ipython3",
   "version": "3.9.12"
  }
 },
 "nbformat": 4,
 "nbformat_minor": 1
}
