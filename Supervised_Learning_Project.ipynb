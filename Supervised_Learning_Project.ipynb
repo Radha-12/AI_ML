{
  "cells": [
    {
      "cell_type": "markdown",
      "metadata": {
        "id": "view-in-github",
        "colab_type": "text"
      },
      "source": [
        "<a href=\"https://colab.research.google.com/github/Radha-12/AI_ML/blob/main/Supervised_Learning_Project.ipynb\" target=\"_parent\"><img src=\"https://colab.research.google.com/assets/colab-badge.svg\" alt=\"Open In Colab\"/></a>"
      ]
    },
    {
      "cell_type": "markdown",
      "metadata": {
        "id": "b5113228"
      },
      "source": [
        "# **Supervised Learning Project**"
      ],
      "id": "b5113228"
    },
    {
      "cell_type": "markdown",
      "metadata": {
        "id": "38d19199"
      },
      "source": [
        "**▶ PART - A**"
      ],
      "id": "38d19199"
    },
    {
      "cell_type": "markdown",
      "metadata": {
        "id": "HpyCj4E6raJ3"
      },
      "source": [
        "**1. Data Understanding**"
      ],
      "id": "HpyCj4E6raJ3"
    },
    {
      "cell_type": "code",
      "execution_count": null,
      "metadata": {
        "id": "9eee3ea7"
      },
      "outputs": [],
      "source": [
        "# Import Neccessary libraries"
      ],
      "id": "9eee3ea7"
    },
    {
      "cell_type": "code",
      "execution_count": null,
      "metadata": {
        "id": "4613d0ad"
      },
      "outputs": [],
      "source": [
        "import pandas as pd\n",
        "import numpy as np\n",
        "import seaborn as sns\n",
        "from sklearn.model_selection import train_test_split\n",
        "import matplotlib.pyplot as plt\n",
        "from sklearn.metrics import accuracy_score, classification_report\n",
        "from sklearn.neighbors import KNeighborsClassifier"
      ],
      "id": "4613d0ad"
    },
    {
      "cell_type": "code",
      "execution_count": null,
      "metadata": {
        "colab": {
          "base_uri": "https://localhost:8080/"
        },
        "id": "yBQXDazylqi_",
        "outputId": "3c145ba3-81bd-4185-87a3-5b3647306771"
      },
      "outputs": [
        {
          "output_type": "stream",
          "name": "stdout",
          "text": [
            "Drive already mounted at /content/drive; to attempt to forcibly remount, call drive.mount(\"/content/drive\", force_remount=True).\n"
          ]
        }
      ],
      "source": [
        "from google.colab import drive\n",
        "drive.mount('/content/drive')"
      ],
      "id": "yBQXDazylqi_"
    },
    {
      "cell_type": "code",
      "execution_count": null,
      "metadata": {
        "id": "8d3b43c5"
      },
      "outputs": [],
      "source": [
        "# To read all the 3 CSV files as DataFrame and store them into 3 separate variables.\n",
        "normal = pd.read_csv('/content/drive/MyDrive/AI /Dec AI/Project - Supervised Learning/Part1+-+Normal.csv')\n",
        "type_h = pd.read_csv('/content/drive/MyDrive/AI /Dec AI/Project - Supervised Learning/Part1+-+Type_S.csv')\n",
        "type_s = pd.read_csv('/content/drive/MyDrive/AI /Dec AI/Project - Supervised Learning/Part1+-+Type_H.csv')"
      ],
      "id": "8d3b43c5"
    },
    {
      "cell_type": "code",
      "execution_count": null,
      "metadata": {
        "colab": {
          "base_uri": "https://localhost:8080/"
        },
        "id": "37f19902",
        "outputId": "81ef471a-4cce-454e-b7dc-ffb3f6e98134"
      },
      "outputs": [
        {
          "output_type": "stream",
          "name": "stdout",
          "text": [
            "(100, 7)\n",
            "(60, 7)\n",
            "(150, 7)\n"
          ]
        }
      ],
      "source": [
        "# To get the shapes of 3 dataframes\n",
        "print(normal.shape)\n",
        "print(type_s.shape)\n",
        "print(type_h.shape)"
      ],
      "id": "37f19902"
    },
    {
      "cell_type": "code",
      "execution_count": null,
      "metadata": {
        "id": "36c2733b"
      },
      "outputs": [],
      "source": [
        "# Compare the column names of the 3 dataframes"
      ],
      "id": "36c2733b"
    },
    {
      "cell_type": "code",
      "execution_count": null,
      "metadata": {
        "colab": {
          "base_uri": "https://localhost:8080/"
        },
        "id": "b78812a8",
        "outputId": "f1d413ce-b3e3-40d2-91dd-3c7befc535e7"
      },
      "outputs": [
        {
          "output_type": "stream",
          "name": "stdout",
          "text": [
            "All three DataFrames have same columns\n"
          ]
        }
      ],
      "source": [
        "if set(normal.columns) == set(type_s.columns) == set(type_h.columns):\n",
        "    print(\"All three DataFrames have same columns\")\n",
        "else:\n",
        "    print(\"Some difference in one of the DataFrames\")"
      ],
      "id": "b78812a8"
    },
    {
      "cell_type": "markdown",
      "metadata": {
        "id": "b5b5b4d5"
      },
      "source": [
        "All the three Dataframes are having same columns, hence can be concatenated"
      ],
      "id": "b5b5b4d5"
    },
    {
      "cell_type": "code",
      "execution_count": null,
      "metadata": {
        "colab": {
          "base_uri": "https://localhost:8080/"
        },
        "id": "4ae42bd5",
        "outputId": "ea7a98e8-4076-4bb7-8ea3-3e156ef1490e"
      },
      "outputs": [
        {
          "output_type": "stream",
          "name": "stdout",
          "text": [
            "P_incidence    float64\n",
            "P_tilt         float64\n",
            "L_angle        float64\n",
            "S_slope        float64\n",
            "P_radius       float64\n",
            "S_Degree       float64\n",
            "Class           object\n",
            "dtype: object\n",
            "P_incidence    float64\n",
            "P_tilt         float64\n",
            "L_angle        float64\n",
            "S_slope        float64\n",
            "P_radius       float64\n",
            "S_Degree       float64\n",
            "Class           object\n",
            "dtype: object\n",
            "P_incidence    float64\n",
            "P_tilt         float64\n",
            "L_angle        float64\n",
            "S_slope        float64\n",
            "P_radius       float64\n",
            "S_Degree       float64\n",
            "Class           object\n",
            "dtype: object\n"
          ]
        }
      ],
      "source": [
        "# To get the datatypes of 3 dataframes\n",
        "print(normal.dtypes)\n",
        "print(type_s.dtypes)\n",
        "print(type_h.dtypes)"
      ],
      "id": "4ae42bd5"
    },
    {
      "cell_type": "code",
      "execution_count": null,
      "metadata": {
        "colab": {
          "base_uri": "https://localhost:8080/"
        },
        "id": "611cce9e",
        "outputId": "e3d6bc3b-ad9d-4082-f39b-21f138da327e"
      },
      "outputs": [
        {
          "output_type": "stream",
          "name": "stdout",
          "text": [
            "Normal    73\n",
            "Nrmal     27\n",
            "Name: Class, dtype: int64\n",
            "*****\n",
            "Type_H    37\n",
            "type_h    23\n",
            "Name: Class, dtype: int64\n",
            "*****\n",
            "Type_S    133\n",
            "tp_s       17\n",
            "Name: Class, dtype: int64\n",
            "*****\n"
          ]
        }
      ],
      "source": [
        "# To check the variations in 'Class' features of 3 dataframes\n",
        "print(normal['Class'].value_counts())\n",
        "print('*****')\n",
        "print(type_s['Class'].value_counts())\n",
        "print('*****')\n",
        "print(type_h['Class'].value_counts())\n",
        "print('*****')"
      ],
      "id": "611cce9e"
    },
    {
      "cell_type": "markdown",
      "metadata": {
        "id": "50fbef0f"
      },
      "source": [
        "**Observations:**\n",
        "\n",
        "Two values with same meaning are observed from each Class. Hence, need to be made into a single value for further process."
      ],
      "id": "50fbef0f"
    },
    {
      "cell_type": "markdown",
      "metadata": {
        "id": "54c509aa"
      },
      "source": [
        "**2. Data Preparation and Exploration**"
      ],
      "id": "54c509aa"
    },
    {
      "cell_type": "code",
      "execution_count": null,
      "metadata": {
        "id": "413347ac"
      },
      "outputs": [],
      "source": [
        "# Unify all the variations in ‘Class’ feature"
      ],
      "id": "413347ac"
    },
    {
      "cell_type": "code",
      "execution_count": null,
      "metadata": {
        "id": "e7713e7e"
      },
      "outputs": [],
      "source": [
        "normal['Class'] = normal['Class'].apply(lambda x: 'normal')\n",
        "type_s['Class'] = type_s['Class'].apply(lambda x: 'type_s')\n",
        "type_h['Class'] = type_h['Class'].apply(lambda x: 'type_h')\n"
      ],
      "id": "e7713e7e"
    },
    {
      "cell_type": "code",
      "execution_count": null,
      "metadata": {
        "colab": {
          "base_uri": "https://localhost:8080/"
        },
        "id": "d6d920a5",
        "outputId": "09651e28-6c5d-4583-eabe-779f0c7d5dd3"
      },
      "outputs": [
        {
          "output_type": "stream",
          "name": "stderr",
          "text": [
            "<ipython-input-890-7787fe3be033>:2: FutureWarning: The frame.append method is deprecated and will be removed from pandas in a future version. Use pandas.concat instead.\n",
            "  df = normal.append([type_h,type_s])\n"
          ]
        }
      ],
      "source": [
        "# Combine all the 3 DataFrames to form a single DataFrame\n",
        "df = normal.append([type_h,type_s])"
      ],
      "id": "d6d920a5"
    },
    {
      "cell_type": "code",
      "execution_count": null,
      "metadata": {
        "colab": {
          "base_uri": "https://localhost:8080/"
        },
        "id": "280d4e1e",
        "outputId": "165bb1b2-d705-4b5e-93fb-556075fc259e",
        "scrolled": true
      },
      "outputs": [
        {
          "output_type": "execute_result",
          "data": {
            "text/plain": [
              "(310, 7)"
            ]
          },
          "metadata": {},
          "execution_count": 891
        }
      ],
      "source": [
        "df.shape # To get no.of rows and no.of columns of the dataframe"
      ],
      "id": "280d4e1e"
    },
    {
      "cell_type": "code",
      "execution_count": null,
      "metadata": {
        "colab": {
          "base_uri": "https://localhost:8080/"
        },
        "id": "260623e8",
        "outputId": "4839db41-0eb7-47fb-e4a5-7f08078b605b"
      },
      "outputs": [
        {
          "output_type": "execute_result",
          "data": {
            "text/plain": [
              "type_h    150\n",
              "normal    100\n",
              "type_s     60\n",
              "Name: Class, dtype: int64"
            ]
          },
          "metadata": {},
          "execution_count": 892
        }
      ],
      "source": [
        "df['Class'].value_counts() # To get the no.of instances for three classes each"
      ],
      "id": "260623e8"
    },
    {
      "cell_type": "code",
      "execution_count": null,
      "metadata": {
        "colab": {
          "base_uri": "https://localhost:8080/",
          "height": 206
        },
        "id": "ff788185",
        "outputId": "376e4dc6-e875-4ba3-d277-ec6b7425375e"
      },
      "outputs": [
        {
          "output_type": "execute_result",
          "data": {
            "text/plain": [
              "     P_incidence     P_tilt    L_angle    S_slope    P_radius   S_Degree  \\\n",
              "117    80.817771  19.238981  61.642451  61.578791   89.471834  44.167602   \n",
              "38     77.655119  22.432950  93.892779  55.222169  123.055707  61.211187   \n",
              "77     83.396606  34.310989  78.423293  49.085617  110.466516  49.672096   \n",
              "85     46.426366   6.620795  48.100000  39.805571  130.350096   2.449382   \n",
              "122    75.437748  31.539454  89.600000  43.898294  106.829590  54.965789   \n",
              "\n",
              "      Class  \n",
              "117  type_h  \n",
              "38   type_h  \n",
              "77   type_h  \n",
              "85   normal  \n",
              "122  type_h  "
            ],
            "text/html": [
              "\n",
              "  <div id=\"df-93480eb7-0e7e-4391-aaaf-27cd932116d4\">\n",
              "    <div class=\"colab-df-container\">\n",
              "      <div>\n",
              "<style scoped>\n",
              "    .dataframe tbody tr th:only-of-type {\n",
              "        vertical-align: middle;\n",
              "    }\n",
              "\n",
              "    .dataframe tbody tr th {\n",
              "        vertical-align: top;\n",
              "    }\n",
              "\n",
              "    .dataframe thead th {\n",
              "        text-align: right;\n",
              "    }\n",
              "</style>\n",
              "<table border=\"1\" class=\"dataframe\">\n",
              "  <thead>\n",
              "    <tr style=\"text-align: right;\">\n",
              "      <th></th>\n",
              "      <th>P_incidence</th>\n",
              "      <th>P_tilt</th>\n",
              "      <th>L_angle</th>\n",
              "      <th>S_slope</th>\n",
              "      <th>P_radius</th>\n",
              "      <th>S_Degree</th>\n",
              "      <th>Class</th>\n",
              "    </tr>\n",
              "  </thead>\n",
              "  <tbody>\n",
              "    <tr>\n",
              "      <th>117</th>\n",
              "      <td>80.817771</td>\n",
              "      <td>19.238981</td>\n",
              "      <td>61.642451</td>\n",
              "      <td>61.578791</td>\n",
              "      <td>89.471834</td>\n",
              "      <td>44.167602</td>\n",
              "      <td>type_h</td>\n",
              "    </tr>\n",
              "    <tr>\n",
              "      <th>38</th>\n",
              "      <td>77.655119</td>\n",
              "      <td>22.432950</td>\n",
              "      <td>93.892779</td>\n",
              "      <td>55.222169</td>\n",
              "      <td>123.055707</td>\n",
              "      <td>61.211187</td>\n",
              "      <td>type_h</td>\n",
              "    </tr>\n",
              "    <tr>\n",
              "      <th>77</th>\n",
              "      <td>83.396606</td>\n",
              "      <td>34.310989</td>\n",
              "      <td>78.423293</td>\n",
              "      <td>49.085617</td>\n",
              "      <td>110.466516</td>\n",
              "      <td>49.672096</td>\n",
              "      <td>type_h</td>\n",
              "    </tr>\n",
              "    <tr>\n",
              "      <th>85</th>\n",
              "      <td>46.426366</td>\n",
              "      <td>6.620795</td>\n",
              "      <td>48.100000</td>\n",
              "      <td>39.805571</td>\n",
              "      <td>130.350096</td>\n",
              "      <td>2.449382</td>\n",
              "      <td>normal</td>\n",
              "    </tr>\n",
              "    <tr>\n",
              "      <th>122</th>\n",
              "      <td>75.437748</td>\n",
              "      <td>31.539454</td>\n",
              "      <td>89.600000</td>\n",
              "      <td>43.898294</td>\n",
              "      <td>106.829590</td>\n",
              "      <td>54.965789</td>\n",
              "      <td>type_h</td>\n",
              "    </tr>\n",
              "  </tbody>\n",
              "</table>\n",
              "</div>\n",
              "      <button class=\"colab-df-convert\" onclick=\"convertToInteractive('df-93480eb7-0e7e-4391-aaaf-27cd932116d4')\"\n",
              "              title=\"Convert this dataframe to an interactive table.\"\n",
              "              style=\"display:none;\">\n",
              "        \n",
              "  <svg xmlns=\"http://www.w3.org/2000/svg\" height=\"24px\"viewBox=\"0 0 24 24\"\n",
              "       width=\"24px\">\n",
              "    <path d=\"M0 0h24v24H0V0z\" fill=\"none\"/>\n",
              "    <path d=\"M18.56 5.44l.94 2.06.94-2.06 2.06-.94-2.06-.94-.94-2.06-.94 2.06-2.06.94zm-11 1L8.5 8.5l.94-2.06 2.06-.94-2.06-.94L8.5 2.5l-.94 2.06-2.06.94zm10 10l.94 2.06.94-2.06 2.06-.94-2.06-.94-.94-2.06-.94 2.06-2.06.94z\"/><path d=\"M17.41 7.96l-1.37-1.37c-.4-.4-.92-.59-1.43-.59-.52 0-1.04.2-1.43.59L10.3 9.45l-7.72 7.72c-.78.78-.78 2.05 0 2.83L4 21.41c.39.39.9.59 1.41.59.51 0 1.02-.2 1.41-.59l7.78-7.78 2.81-2.81c.8-.78.8-2.07 0-2.86zM5.41 20L4 18.59l7.72-7.72 1.47 1.35L5.41 20z\"/>\n",
              "  </svg>\n",
              "      </button>\n",
              "      \n",
              "  <style>\n",
              "    .colab-df-container {\n",
              "      display:flex;\n",
              "      flex-wrap:wrap;\n",
              "      gap: 12px;\n",
              "    }\n",
              "\n",
              "    .colab-df-convert {\n",
              "      background-color: #E8F0FE;\n",
              "      border: none;\n",
              "      border-radius: 50%;\n",
              "      cursor: pointer;\n",
              "      display: none;\n",
              "      fill: #1967D2;\n",
              "      height: 32px;\n",
              "      padding: 0 0 0 0;\n",
              "      width: 32px;\n",
              "    }\n",
              "\n",
              "    .colab-df-convert:hover {\n",
              "      background-color: #E2EBFA;\n",
              "      box-shadow: 0px 1px 2px rgba(60, 64, 67, 0.3), 0px 1px 3px 1px rgba(60, 64, 67, 0.15);\n",
              "      fill: #174EA6;\n",
              "    }\n",
              "\n",
              "    [theme=dark] .colab-df-convert {\n",
              "      background-color: #3B4455;\n",
              "      fill: #D2E3FC;\n",
              "    }\n",
              "\n",
              "    [theme=dark] .colab-df-convert:hover {\n",
              "      background-color: #434B5C;\n",
              "      box-shadow: 0px 1px 3px 1px rgba(0, 0, 0, 0.15);\n",
              "      filter: drop-shadow(0px 1px 2px rgba(0, 0, 0, 0.3));\n",
              "      fill: #FFFFFF;\n",
              "    }\n",
              "  </style>\n",
              "\n",
              "      <script>\n",
              "        const buttonEl =\n",
              "          document.querySelector('#df-93480eb7-0e7e-4391-aaaf-27cd932116d4 button.colab-df-convert');\n",
              "        buttonEl.style.display =\n",
              "          google.colab.kernel.accessAllowed ? 'block' : 'none';\n",
              "\n",
              "        async function convertToInteractive(key) {\n",
              "          const element = document.querySelector('#df-93480eb7-0e7e-4391-aaaf-27cd932116d4');\n",
              "          const dataTable =\n",
              "            await google.colab.kernel.invokeFunction('convertToInteractive',\n",
              "                                                     [key], {});\n",
              "          if (!dataTable) return;\n",
              "\n",
              "          const docLinkHtml = 'Like what you see? Visit the ' +\n",
              "            '<a target=\"_blank\" href=https://colab.research.google.com/notebooks/data_table.ipynb>data table notebook</a>'\n",
              "            + ' to learn more about interactive tables.';\n",
              "          element.innerHTML = '';\n",
              "          dataTable['output_type'] = 'display_data';\n",
              "          await google.colab.output.renderOutput(dataTable, element);\n",
              "          const docLink = document.createElement('div');\n",
              "          docLink.innerHTML = docLinkHtml;\n",
              "          element.appendChild(docLink);\n",
              "        }\n",
              "      </script>\n",
              "    </div>\n",
              "  </div>\n",
              "  "
            ]
          },
          "metadata": {},
          "execution_count": 893
        }
      ],
      "source": [
        "# To Print 5 random samples of this DataFrame\n",
        "df.sample(5)"
      ],
      "id": "ff788185"
    },
    {
      "cell_type": "code",
      "execution_count": null,
      "metadata": {
        "colab": {
          "base_uri": "https://localhost:8080/"
        },
        "id": "30d4830e",
        "outputId": "993e05d9-68ac-44d2-da4c-6974081a4536"
      },
      "outputs": [
        {
          "output_type": "execute_result",
          "data": {
            "text/plain": [
              "P_incidence    0.0\n",
              "P_tilt         0.0\n",
              "L_angle        0.0\n",
              "S_slope        0.0\n",
              "P_radius       0.0\n",
              "S_Degree       0.0\n",
              "Class          0.0\n",
              "dtype: float64"
            ]
          },
          "metadata": {},
          "execution_count": 894
        }
      ],
      "source": [
        "# Print Feature-wise percentage of Null values\n",
        "df.isna().sum()/len(df)"
      ],
      "id": "30d4830e"
    },
    {
      "cell_type": "code",
      "execution_count": null,
      "metadata": {
        "colab": {
          "base_uri": "https://localhost:8080/",
          "height": 300
        },
        "id": "8df8e595",
        "outputId": "df1d774c-dcb5-4f05-a519-d54d15cae864",
        "scrolled": true
      },
      "outputs": [
        {
          "output_type": "execute_result",
          "data": {
            "text/plain": [
              "       P_incidence      P_tilt     L_angle     S_slope    P_radius    S_Degree\n",
              "count   310.000000  310.000000  310.000000  310.000000  310.000000  310.000000\n",
              "mean     60.496653   17.542822   51.930930   42.953831  117.920655   26.296694\n",
              "std      17.236520   10.008330   18.554064   13.423102   13.317377   37.559027\n",
              "min      26.147921   -6.554948   14.000000   13.366931   70.082575  -11.058179\n",
              "25%      46.430294   10.667069   37.000000   33.347122  110.709196    1.603727\n",
              "50%      58.691038   16.357689   49.562398   42.404912  118.268178   11.767934\n",
              "75%      72.877696   22.120395   63.000000   52.695888  125.467674   41.287352\n",
              "max     129.834041   49.431864  125.742385  121.429566  163.071041  418.543082"
            ],
            "text/html": [
              "\n",
              "  <div id=\"df-e7a88dc3-e6b0-421c-b5ab-ec85b03741a4\">\n",
              "    <div class=\"colab-df-container\">\n",
              "      <div>\n",
              "<style scoped>\n",
              "    .dataframe tbody tr th:only-of-type {\n",
              "        vertical-align: middle;\n",
              "    }\n",
              "\n",
              "    .dataframe tbody tr th {\n",
              "        vertical-align: top;\n",
              "    }\n",
              "\n",
              "    .dataframe thead th {\n",
              "        text-align: right;\n",
              "    }\n",
              "</style>\n",
              "<table border=\"1\" class=\"dataframe\">\n",
              "  <thead>\n",
              "    <tr style=\"text-align: right;\">\n",
              "      <th></th>\n",
              "      <th>P_incidence</th>\n",
              "      <th>P_tilt</th>\n",
              "      <th>L_angle</th>\n",
              "      <th>S_slope</th>\n",
              "      <th>P_radius</th>\n",
              "      <th>S_Degree</th>\n",
              "    </tr>\n",
              "  </thead>\n",
              "  <tbody>\n",
              "    <tr>\n",
              "      <th>count</th>\n",
              "      <td>310.000000</td>\n",
              "      <td>310.000000</td>\n",
              "      <td>310.000000</td>\n",
              "      <td>310.000000</td>\n",
              "      <td>310.000000</td>\n",
              "      <td>310.000000</td>\n",
              "    </tr>\n",
              "    <tr>\n",
              "      <th>mean</th>\n",
              "      <td>60.496653</td>\n",
              "      <td>17.542822</td>\n",
              "      <td>51.930930</td>\n",
              "      <td>42.953831</td>\n",
              "      <td>117.920655</td>\n",
              "      <td>26.296694</td>\n",
              "    </tr>\n",
              "    <tr>\n",
              "      <th>std</th>\n",
              "      <td>17.236520</td>\n",
              "      <td>10.008330</td>\n",
              "      <td>18.554064</td>\n",
              "      <td>13.423102</td>\n",
              "      <td>13.317377</td>\n",
              "      <td>37.559027</td>\n",
              "    </tr>\n",
              "    <tr>\n",
              "      <th>min</th>\n",
              "      <td>26.147921</td>\n",
              "      <td>-6.554948</td>\n",
              "      <td>14.000000</td>\n",
              "      <td>13.366931</td>\n",
              "      <td>70.082575</td>\n",
              "      <td>-11.058179</td>\n",
              "    </tr>\n",
              "    <tr>\n",
              "      <th>25%</th>\n",
              "      <td>46.430294</td>\n",
              "      <td>10.667069</td>\n",
              "      <td>37.000000</td>\n",
              "      <td>33.347122</td>\n",
              "      <td>110.709196</td>\n",
              "      <td>1.603727</td>\n",
              "    </tr>\n",
              "    <tr>\n",
              "      <th>50%</th>\n",
              "      <td>58.691038</td>\n",
              "      <td>16.357689</td>\n",
              "      <td>49.562398</td>\n",
              "      <td>42.404912</td>\n",
              "      <td>118.268178</td>\n",
              "      <td>11.767934</td>\n",
              "    </tr>\n",
              "    <tr>\n",
              "      <th>75%</th>\n",
              "      <td>72.877696</td>\n",
              "      <td>22.120395</td>\n",
              "      <td>63.000000</td>\n",
              "      <td>52.695888</td>\n",
              "      <td>125.467674</td>\n",
              "      <td>41.287352</td>\n",
              "    </tr>\n",
              "    <tr>\n",
              "      <th>max</th>\n",
              "      <td>129.834041</td>\n",
              "      <td>49.431864</td>\n",
              "      <td>125.742385</td>\n",
              "      <td>121.429566</td>\n",
              "      <td>163.071041</td>\n",
              "      <td>418.543082</td>\n",
              "    </tr>\n",
              "  </tbody>\n",
              "</table>\n",
              "</div>\n",
              "      <button class=\"colab-df-convert\" onclick=\"convertToInteractive('df-e7a88dc3-e6b0-421c-b5ab-ec85b03741a4')\"\n",
              "              title=\"Convert this dataframe to an interactive table.\"\n",
              "              style=\"display:none;\">\n",
              "        \n",
              "  <svg xmlns=\"http://www.w3.org/2000/svg\" height=\"24px\"viewBox=\"0 0 24 24\"\n",
              "       width=\"24px\">\n",
              "    <path d=\"M0 0h24v24H0V0z\" fill=\"none\"/>\n",
              "    <path d=\"M18.56 5.44l.94 2.06.94-2.06 2.06-.94-2.06-.94-.94-2.06-.94 2.06-2.06.94zm-11 1L8.5 8.5l.94-2.06 2.06-.94-2.06-.94L8.5 2.5l-.94 2.06-2.06.94zm10 10l.94 2.06.94-2.06 2.06-.94-2.06-.94-.94-2.06-.94 2.06-2.06.94z\"/><path d=\"M17.41 7.96l-1.37-1.37c-.4-.4-.92-.59-1.43-.59-.52 0-1.04.2-1.43.59L10.3 9.45l-7.72 7.72c-.78.78-.78 2.05 0 2.83L4 21.41c.39.39.9.59 1.41.59.51 0 1.02-.2 1.41-.59l7.78-7.78 2.81-2.81c.8-.78.8-2.07 0-2.86zM5.41 20L4 18.59l7.72-7.72 1.47 1.35L5.41 20z\"/>\n",
              "  </svg>\n",
              "      </button>\n",
              "      \n",
              "  <style>\n",
              "    .colab-df-container {\n",
              "      display:flex;\n",
              "      flex-wrap:wrap;\n",
              "      gap: 12px;\n",
              "    }\n",
              "\n",
              "    .colab-df-convert {\n",
              "      background-color: #E8F0FE;\n",
              "      border: none;\n",
              "      border-radius: 50%;\n",
              "      cursor: pointer;\n",
              "      display: none;\n",
              "      fill: #1967D2;\n",
              "      height: 32px;\n",
              "      padding: 0 0 0 0;\n",
              "      width: 32px;\n",
              "    }\n",
              "\n",
              "    .colab-df-convert:hover {\n",
              "      background-color: #E2EBFA;\n",
              "      box-shadow: 0px 1px 2px rgba(60, 64, 67, 0.3), 0px 1px 3px 1px rgba(60, 64, 67, 0.15);\n",
              "      fill: #174EA6;\n",
              "    }\n",
              "\n",
              "    [theme=dark] .colab-df-convert {\n",
              "      background-color: #3B4455;\n",
              "      fill: #D2E3FC;\n",
              "    }\n",
              "\n",
              "    [theme=dark] .colab-df-convert:hover {\n",
              "      background-color: #434B5C;\n",
              "      box-shadow: 0px 1px 3px 1px rgba(0, 0, 0, 0.15);\n",
              "      filter: drop-shadow(0px 1px 2px rgba(0, 0, 0, 0.3));\n",
              "      fill: #FFFFFF;\n",
              "    }\n",
              "  </style>\n",
              "\n",
              "      <script>\n",
              "        const buttonEl =\n",
              "          document.querySelector('#df-e7a88dc3-e6b0-421c-b5ab-ec85b03741a4 button.colab-df-convert');\n",
              "        buttonEl.style.display =\n",
              "          google.colab.kernel.accessAllowed ? 'block' : 'none';\n",
              "\n",
              "        async function convertToInteractive(key) {\n",
              "          const element = document.querySelector('#df-e7a88dc3-e6b0-421c-b5ab-ec85b03741a4');\n",
              "          const dataTable =\n",
              "            await google.colab.kernel.invokeFunction('convertToInteractive',\n",
              "                                                     [key], {});\n",
              "          if (!dataTable) return;\n",
              "\n",
              "          const docLinkHtml = 'Like what you see? Visit the ' +\n",
              "            '<a target=\"_blank\" href=https://colab.research.google.com/notebooks/data_table.ipynb>data table notebook</a>'\n",
              "            + ' to learn more about interactive tables.';\n",
              "          element.innerHTML = '';\n",
              "          dataTable['output_type'] = 'display_data';\n",
              "          await google.colab.output.renderOutput(dataTable, element);\n",
              "          const docLink = document.createElement('div');\n",
              "          docLink.innerHTML = docLinkHtml;\n",
              "          element.appendChild(docLink);\n",
              "        }\n",
              "      </script>\n",
              "    </div>\n",
              "  </div>\n",
              "  "
            ]
          },
          "metadata": {},
          "execution_count": 895
        }
      ],
      "source": [
        "# To check 5-point summary of the new dataframe i.e 'df'\n",
        "df.describe()"
      ],
      "id": "8df8e595"
    },
    {
      "cell_type": "code",
      "execution_count": null,
      "metadata": {
        "colab": {
          "base_uri": "https://localhost:8080/",
          "height": 335
        },
        "id": "631cca94",
        "outputId": "ec8f4869-b89d-42df-9eff-e90e6585675d",
        "scrolled": false
      },
      "outputs": [
        {
          "output_type": "execute_result",
          "data": {
            "text/plain": [
              "<Axes: >"
            ]
          },
          "metadata": {},
          "execution_count": 896
        },
        {
          "output_type": "display_data",
          "data": {
            "text/plain": [
              "<Figure size 432x288 with 2 Axes>"
            ],
            "image/png": "[encoded data removed]"
          },
          "metadata": {
            "needs_background": "light"
          }
        }
      ],
      "source": [
        "# To visualize a heatmap to understand correlation between all features\n",
        "sns.heatmap(df.corr(),cmap='Blues',annot=True)"
      ],
      "id": "631cca94"
    },
    {
      "cell_type": "markdown",
      "metadata": {
        "id": "0cd7b047"
      },
      "source": [
        "- S_slope and P_incidence is having stronger positive correlation i.e. 0.81.\n",
        "- L_angle and P_incidence is having stronger positive correlation i.e. 0.72.\n",
        "- P_tilt is having weaker correlation with S_Slope and P_radius respectively with values 0.062 and 0.033."
      ],
      "id": "0cd7b047"
    },
    {
      "cell_type": "code",
      "execution_count": null,
      "metadata": {
        "id": "7dddc663",
        "colab": {
          "base_uri": "https://localhost:8080/",
          "height": 1000
        },
        "outputId": "126bba44-46d8-4d4f-e4ef-03c96776c6ed"
      },
      "outputs": [
        {
          "output_type": "execute_result",
          "data": {
            "text/plain": [
              "<seaborn.axisgrid.PairGrid at 0x7f29b21883a0>"
            ]
          },
          "metadata": {},
          "execution_count": 897
        },
        {
          "output_type": "display_data",
          "data": {
            "text/plain": [
              "<Figure size 1151x1080 with 42 Axes>"
            ],
            "image/png": "[encoded data removed]"
          },
          "metadata": {
            "needs_background": "light"
          }
        }
      ],
      "source": [
        "# To visualize the pairplot for 3 classes distinguished by colors\n",
        "sns.pairplot(df,hue='Class')"
      ],
      "id": "7dddc663"
    },
    {
      "cell_type": "markdown",
      "metadata": {
        "id": "dd6a8f59"
      },
      "source": [
        "**Observations**\n",
        "- Normal distribution is observed for all the 3 classes separately for all the features except S_Degree, etc.\n",
        "- type_h datapoints are observed to have higher values for all the features."
      ],
      "id": "dd6a8f59"
    },
    {
      "cell_type": "code",
      "execution_count": null,
      "metadata": {
        "id": "7d7399ac",
        "colab": {
          "base_uri": "https://localhost:8080/",
          "height": 458
        },
        "outputId": "bb44c133-7017-430c-ab18-c04bb1e0d712"
      },
      "outputs": [
        {
          "output_type": "execute_result",
          "data": {
            "text/plain": [
              "<seaborn.axisgrid.JointGrid at 0x7f29ae060460>"
            ]
          },
          "metadata": {},
          "execution_count": 898
        },
        {
          "output_type": "display_data",
          "data": {
            "text/plain": [
              "<Figure size 432x432 with 3 Axes>"
            ],
            "image/png": "[encoded data removed]"
          },
          "metadata": {
            "needs_background": "light"
          }
        }
      ],
      "source": [
        "# To visualize a jointplot for ‘P_incidence’ and ‘S_slope’\n",
        "sns.jointplot(x = \"P_incidence\", y = \"S_slope\", data = df, hue=df['Class'])"
      ],
      "id": "7d7399ac"
    },
    {
      "cell_type": "markdown",
      "metadata": {
        "id": "27ad391a"
      },
      "source": [
        "**Observations**\n",
        "- P_incidence and S_slope are having strong linear relationship(i.e positive).\n",
        "- Skewness is observed in both the cases for all the 3 classes separately."
      ],
      "id": "27ad391a"
    },
    {
      "cell_type": "code",
      "execution_count": null,
      "metadata": {
        "id": "1a03e4b6",
        "colab": {
          "base_uri": "https://localhost:8080/"
        },
        "outputId": "5c5b3ae6-5fb2-4b23-8b11-a2dc46e37aca"
      },
      "outputs": [
        {
          "output_type": "execute_result",
          "data": {
            "text/plain": [
              "Index(['P_incidence', 'P_tilt', 'L_angle', 'S_slope', 'P_radius', 'S_Degree',\n",
              "       'Class'],\n",
              "      dtype='object')"
            ]
          },
          "metadata": {},
          "execution_count": 899
        }
      ],
      "source": [
        "df.columns # To get the column names of the dataframe"
      ],
      "id": "1a03e4b6"
    },
    {
      "cell_type": "code",
      "execution_count": null,
      "metadata": {
        "id": "68caec70",
        "colab": {
          "base_uri": "https://localhost:8080/",
          "height": 895
        },
        "outputId": "9103e818-b8a4-4902-e389-981f8450009a"
      },
      "outputs": [
        {
          "output_type": "execute_result",
          "data": {
            "text/plain": [
              "<Axes: xlabel='Class', ylabel='S_slope'>"
            ]
          },
          "metadata": {},
          "execution_count": 900
        },
        {
          "output_type": "display_data",
          "data": {
            "text/plain": [
              "<Figure size 1080x1080 with 4 Axes>"
            ],
            "image/png": "[encoded data removed]"
          },
          "metadata": {
            "needs_background": "light"
          }
        }
      ],
      "source": [
        "# To visualize a boxplot to check distribution of the features 'P_incidence', 'P_tilt', 'L-angle', 'S_slope'\n",
        "\n",
        "f, axes = plt.subplots(2, 2)\n",
        "f.set_figheight(15)\n",
        "f.set_figwidth(15)\n",
        "sns.boxplot(  y=\"P_incidence\", x= \"Class\", data=df,  orient='v' , ax=axes[0][0])\n",
        "sns.boxplot(  y=\"P_tilt\", x= \"Class\", data=df,  orient='v' , ax=axes[0][1])\n",
        "sns.boxplot(  y=\"L_angle\", x= \"Class\", data=df,  orient='v' , ax=axes[1][0])\n",
        "sns.boxplot(  y=\"S_slope\", x= \"Class\", data=df,  orient='v' , ax=axes[1][1])"
      ],
      "id": "68caec70"
    },
    {
      "cell_type": "markdown",
      "metadata": {
        "id": "52a37a69"
      },
      "source": [
        " * Outliers observed in the features: S_slope, P_incidence"
      ],
      "id": "52a37a69"
    },
    {
      "cell_type": "code",
      "execution_count": null,
      "metadata": {
        "id": "3W5CUtyyyd-F",
        "colab": {
          "base_uri": "https://localhost:8080/",
          "height": 175
        },
        "outputId": "4b6734d0-efea-474c-99ef-53ff56831106"
      },
      "outputs": [
        {
          "output_type": "execute_result",
          "data": {
            "text/plain": [
              "        P_incidence  P_tilt  L_angle  S_slope  P_radius  S_Degree\n",
              "Class                                                            \n",
              "normal          100     100      100      100       100       100\n",
              "type_h          150     150      150      150       150       150\n",
              "type_s           60      60       60       60        60        60"
            ],
            "text/html": [
              "\n",
              "  <div id=\"df-8fe15412-4425-4011-afcb-6c4b3c8b392c\">\n",
              "    <div class=\"colab-df-container\">\n",
              "      <div>\n",
              "<style scoped>\n",
              "    .dataframe tbody tr th:only-of-type {\n",
              "        vertical-align: middle;\n",
              "    }\n",
              "\n",
              "    .dataframe tbody tr th {\n",
              "        vertical-align: top;\n",
              "    }\n",
              "\n",
              "    .dataframe thead th {\n",
              "        text-align: right;\n",
              "    }\n",
              "</style>\n",
              "<table border=\"1\" class=\"dataframe\">\n",
              "  <thead>\n",
              "    <tr style=\"text-align: right;\">\n",
              "      <th></th>\n",
              "      <th>P_incidence</th>\n",
              "      <th>P_tilt</th>\n",
              "      <th>L_angle</th>\n",
              "      <th>S_slope</th>\n",
              "      <th>P_radius</th>\n",
              "      <th>S_Degree</th>\n",
              "    </tr>\n",
              "    <tr>\n",
              "      <th>Class</th>\n",
              "      <th></th>\n",
              "      <th></th>\n",
              "      <th></th>\n",
              "      <th></th>\n",
              "      <th></th>\n",
              "      <th></th>\n",
              "    </tr>\n",
              "  </thead>\n",
              "  <tbody>\n",
              "    <tr>\n",
              "      <th>normal</th>\n",
              "      <td>100</td>\n",
              "      <td>100</td>\n",
              "      <td>100</td>\n",
              "      <td>100</td>\n",
              "      <td>100</td>\n",
              "      <td>100</td>\n",
              "    </tr>\n",
              "    <tr>\n",
              "      <th>type_h</th>\n",
              "      <td>150</td>\n",
              "      <td>150</td>\n",
              "      <td>150</td>\n",
              "      <td>150</td>\n",
              "      <td>150</td>\n",
              "      <td>150</td>\n",
              "    </tr>\n",
              "    <tr>\n",
              "      <th>type_s</th>\n",
              "      <td>60</td>\n",
              "      <td>60</td>\n",
              "      <td>60</td>\n",
              "      <td>60</td>\n",
              "      <td>60</td>\n",
              "      <td>60</td>\n",
              "    </tr>\n",
              "  </tbody>\n",
              "</table>\n",
              "</div>\n",
              "      <button class=\"colab-df-convert\" onclick=\"convertToInteractive('df-8fe15412-4425-4011-afcb-6c4b3c8b392c')\"\n",
              "              title=\"Convert this dataframe to an interactive table.\"\n",
              "              style=\"display:none;\">\n",
              "        \n",
              "  <svg xmlns=\"http://www.w3.org/2000/svg\" height=\"24px\"viewBox=\"0 0 24 24\"\n",
              "       width=\"24px\">\n",
              "    <path d=\"M0 0h24v24H0V0z\" fill=\"none\"/>\n",
              "    <path d=\"M18.56 5.44l.94 2.06.94-2.06 2.06-.94-2.06-.94-.94-2.06-.94 2.06-2.06.94zm-11 1L8.5 8.5l.94-2.06 2.06-.94-2.06-.94L8.5 2.5l-.94 2.06-2.06.94zm10 10l.94 2.06.94-2.06 2.06-.94-2.06-.94-.94-2.06-.94 2.06-2.06.94z\"/><path d=\"M17.41 7.96l-1.37-1.37c-.4-.4-.92-.59-1.43-.59-.52 0-1.04.2-1.43.59L10.3 9.45l-7.72 7.72c-.78.78-.78 2.05 0 2.83L4 21.41c.39.39.9.59 1.41.59.51 0 1.02-.2 1.41-.59l7.78-7.78 2.81-2.81c.8-.78.8-2.07 0-2.86zM5.41 20L4 18.59l7.72-7.72 1.47 1.35L5.41 20z\"/>\n",
              "  </svg>\n",
              "      </button>\n",
              "      \n",
              "  <style>\n",
              "    .colab-df-container {\n",
              "      display:flex;\n",
              "      flex-wrap:wrap;\n",
              "      gap: 12px;\n",
              "    }\n",
              "\n",
              "    .colab-df-convert {\n",
              "      background-color: #E8F0FE;\n",
              "      border: none;\n",
              "      border-radius: 50%;\n",
              "      cursor: pointer;\n",
              "      display: none;\n",
              "      fill: #1967D2;\n",
              "      height: 32px;\n",
              "      padding: 0 0 0 0;\n",
              "      width: 32px;\n",
              "    }\n",
              "\n",
              "    .colab-df-convert:hover {\n",
              "      background-color: #E2EBFA;\n",
              "      box-shadow: 0px 1px 2px rgba(60, 64, 67, 0.3), 0px 1px 3px 1px rgba(60, 64, 67, 0.15);\n",
              "      fill: #174EA6;\n",
              "    }\n",
              "\n",
              "    [theme=dark] .colab-df-convert {\n",
              "      background-color: #3B4455;\n",
              "      fill: #D2E3FC;\n",
              "    }\n",
              "\n",
              "    [theme=dark] .colab-df-convert:hover {\n",
              "      background-color: #434B5C;\n",
              "      box-shadow: 0px 1px 3px 1px rgba(0, 0, 0, 0.15);\n",
              "      filter: drop-shadow(0px 1px 2px rgba(0, 0, 0, 0.3));\n",
              "      fill: #FFFFFF;\n",
              "    }\n",
              "  </style>\n",
              "\n",
              "      <script>\n",
              "        const buttonEl =\n",
              "          document.querySelector('#df-8fe15412-4425-4011-afcb-6c4b3c8b392c button.colab-df-convert');\n",
              "        buttonEl.style.display =\n",
              "          google.colab.kernel.accessAllowed ? 'block' : 'none';\n",
              "\n",
              "        async function convertToInteractive(key) {\n",
              "          const element = document.querySelector('#df-8fe15412-4425-4011-afcb-6c4b3c8b392c');\n",
              "          const dataTable =\n",
              "            await google.colab.kernel.invokeFunction('convertToInteractive',\n",
              "                                                     [key], {});\n",
              "          if (!dataTable) return;\n",
              "\n",
              "          const docLinkHtml = 'Like what you see? Visit the ' +\n",
              "            '<a target=\"_blank\" href=https://colab.research.google.com/notebooks/data_table.ipynb>data table notebook</a>'\n",
              "            + ' to learn more about interactive tables.';\n",
              "          element.innerHTML = '';\n",
              "          dataTable['output_type'] = 'display_data';\n",
              "          await google.colab.output.renderOutput(dataTable, element);\n",
              "          const docLink = document.createElement('div');\n",
              "          docLink.innerHTML = docLinkHtml;\n",
              "          element.appendChild(docLink);\n",
              "        }\n",
              "      </script>\n",
              "    </div>\n",
              "  </div>\n",
              "  "
            ]
          },
          "metadata": {},
          "execution_count": 901
        }
      ],
      "source": [
        "# Using groupby to get the count values of three clases i.e 'normal', 'Type_s' & 'Type_h' from the data column wise\n",
        "df.groupby([\"Class\"]).count()"
      ],
      "id": "3W5CUtyyyd-F"
    },
    {
      "cell_type": "code",
      "execution_count": null,
      "metadata": {
        "id": "a374cc73",
        "colab": {
          "base_uri": "https://localhost:8080/",
          "height": 206
        },
        "outputId": "ac595fec-3136-4d29-ad4b-20e510e9513b"
      },
      "outputs": [
        {
          "output_type": "execute_result",
          "data": {
            "text/plain": [
              "   P_incidence     P_tilt    L_angle    S_slope    P_radius  S_Degree\n",
              "0    38.505273  16.964297  35.112814  21.540976  127.632875  7.986683\n",
              "1    54.920858  18.968430  51.601455  35.952428  125.846646  2.001642\n",
              "2    44.362490   8.945435  46.902096  35.417055  129.220682  4.994195\n",
              "3    48.318931  17.452121  48.000000  30.866809  128.980308 -0.910941\n",
              "4    45.701789  10.659859  42.577846  35.041929  130.178314 -3.388910"
            ],
            "text/html": [
              "\n",
              "  <div id=\"df-ae4ce261-fbc6-4485-a8de-1d6773932c6c\">\n",
              "    <div class=\"colab-df-container\">\n",
              "      <div>\n",
              "<style scoped>\n",
              "    .dataframe tbody tr th:only-of-type {\n",
              "        vertical-align: middle;\n",
              "    }\n",
              "\n",
              "    .dataframe tbody tr th {\n",
              "        vertical-align: top;\n",
              "    }\n",
              "\n",
              "    .dataframe thead th {\n",
              "        text-align: right;\n",
              "    }\n",
              "</style>\n",
              "<table border=\"1\" class=\"dataframe\">\n",
              "  <thead>\n",
              "    <tr style=\"text-align: right;\">\n",
              "      <th></th>\n",
              "      <th>P_incidence</th>\n",
              "      <th>P_tilt</th>\n",
              "      <th>L_angle</th>\n",
              "      <th>S_slope</th>\n",
              "      <th>P_radius</th>\n",
              "      <th>S_Degree</th>\n",
              "    </tr>\n",
              "  </thead>\n",
              "  <tbody>\n",
              "    <tr>\n",
              "      <th>0</th>\n",
              "      <td>38.505273</td>\n",
              "      <td>16.964297</td>\n",
              "      <td>35.112814</td>\n",
              "      <td>21.540976</td>\n",
              "      <td>127.632875</td>\n",
              "      <td>7.986683</td>\n",
              "    </tr>\n",
              "    <tr>\n",
              "      <th>1</th>\n",
              "      <td>54.920858</td>\n",
              "      <td>18.968430</td>\n",
              "      <td>51.601455</td>\n",
              "      <td>35.952428</td>\n",
              "      <td>125.846646</td>\n",
              "      <td>2.001642</td>\n",
              "    </tr>\n",
              "    <tr>\n",
              "      <th>2</th>\n",
              "      <td>44.362490</td>\n",
              "      <td>8.945435</td>\n",
              "      <td>46.902096</td>\n",
              "      <td>35.417055</td>\n",
              "      <td>129.220682</td>\n",
              "      <td>4.994195</td>\n",
              "    </tr>\n",
              "    <tr>\n",
              "      <th>3</th>\n",
              "      <td>48.318931</td>\n",
              "      <td>17.452121</td>\n",
              "      <td>48.000000</td>\n",
              "      <td>30.866809</td>\n",
              "      <td>128.980308</td>\n",
              "      <td>-0.910941</td>\n",
              "    </tr>\n",
              "    <tr>\n",
              "      <th>4</th>\n",
              "      <td>45.701789</td>\n",
              "      <td>10.659859</td>\n",
              "      <td>42.577846</td>\n",
              "      <td>35.041929</td>\n",
              "      <td>130.178314</td>\n",
              "      <td>-3.388910</td>\n",
              "    </tr>\n",
              "  </tbody>\n",
              "</table>\n",
              "</div>\n",
              "      <button class=\"colab-df-convert\" onclick=\"convertToInteractive('df-ae4ce261-fbc6-4485-a8de-1d6773932c6c')\"\n",
              "              title=\"Convert this dataframe to an interactive table.\"\n",
              "              style=\"display:none;\">\n",
              "        \n",
              "  <svg xmlns=\"http://www.w3.org/2000/svg\" height=\"24px\"viewBox=\"0 0 24 24\"\n",
              "       width=\"24px\">\n",
              "    <path d=\"M0 0h24v24H0V0z\" fill=\"none\"/>\n",
              "    <path d=\"M18.56 5.44l.94 2.06.94-2.06 2.06-.94-2.06-.94-.94-2.06-.94 2.06-2.06.94zm-11 1L8.5 8.5l.94-2.06 2.06-.94-2.06-.94L8.5 2.5l-.94 2.06-2.06.94zm10 10l.94 2.06.94-2.06 2.06-.94-2.06-.94-.94-2.06-.94 2.06-2.06.94z\"/><path d=\"M17.41 7.96l-1.37-1.37c-.4-.4-.92-.59-1.43-.59-.52 0-1.04.2-1.43.59L10.3 9.45l-7.72 7.72c-.78.78-.78 2.05 0 2.83L4 21.41c.39.39.9.59 1.41.59.51 0 1.02-.2 1.41-.59l7.78-7.78 2.81-2.81c.8-.78.8-2.07 0-2.86zM5.41 20L4 18.59l7.72-7.72 1.47 1.35L5.41 20z\"/>\n",
              "  </svg>\n",
              "      </button>\n",
              "      \n",
              "  <style>\n",
              "    .colab-df-container {\n",
              "      display:flex;\n",
              "      flex-wrap:wrap;\n",
              "      gap: 12px;\n",
              "    }\n",
              "\n",
              "    .colab-df-convert {\n",
              "      background-color: #E8F0FE;\n",
              "      border: none;\n",
              "      border-radius: 50%;\n",
              "      cursor: pointer;\n",
              "      display: none;\n",
              "      fill: #1967D2;\n",
              "      height: 32px;\n",
              "      padding: 0 0 0 0;\n",
              "      width: 32px;\n",
              "    }\n",
              "\n",
              "    .colab-df-convert:hover {\n",
              "      background-color: #E2EBFA;\n",
              "      box-shadow: 0px 1px 2px rgba(60, 64, 67, 0.3), 0px 1px 3px 1px rgba(60, 64, 67, 0.15);\n",
              "      fill: #174EA6;\n",
              "    }\n",
              "\n",
              "    [theme=dark] .colab-df-convert {\n",
              "      background-color: #3B4455;\n",
              "      fill: #D2E3FC;\n",
              "    }\n",
              "\n",
              "    [theme=dark] .colab-df-convert:hover {\n",
              "      background-color: #434B5C;\n",
              "      box-shadow: 0px 1px 3px 1px rgba(0, 0, 0, 0.15);\n",
              "      filter: drop-shadow(0px 1px 2px rgba(0, 0, 0, 0.3));\n",
              "      fill: #FFFFFF;\n",
              "    }\n",
              "  </style>\n",
              "\n",
              "      <script>\n",
              "        const buttonEl =\n",
              "          document.querySelector('#df-ae4ce261-fbc6-4485-a8de-1d6773932c6c button.colab-df-convert');\n",
              "        buttonEl.style.display =\n",
              "          google.colab.kernel.accessAllowed ? 'block' : 'none';\n",
              "\n",
              "        async function convertToInteractive(key) {\n",
              "          const element = document.querySelector('#df-ae4ce261-fbc6-4485-a8de-1d6773932c6c');\n",
              "          const dataTable =\n",
              "            await google.colab.kernel.invokeFunction('convertToInteractive',\n",
              "                                                     [key], {});\n",
              "          if (!dataTable) return;\n",
              "\n",
              "          const docLinkHtml = 'Like what you see? Visit the ' +\n",
              "            '<a target=\"_blank\" href=https://colab.research.google.com/notebooks/data_table.ipynb>data table notebook</a>'\n",
              "            + ' to learn more about interactive tables.';\n",
              "          element.innerHTML = '';\n",
              "          dataTable['output_type'] = 'display_data';\n",
              "          await google.colab.output.renderOutput(dataTable, element);\n",
              "          const docLink = document.createElement('div');\n",
              "          docLink.innerHTML = docLinkHtml;\n",
              "          element.appendChild(docLink);\n",
              "        }\n",
              "      </script>\n",
              "    </div>\n",
              "  </div>\n",
              "  "
            ]
          },
          "metadata": {},
          "execution_count": 902
        }
      ],
      "source": [
        "# To split data into X and Y\n",
        "# Create a separate dataframe consisting only of the features i.e independent attributes\n",
        "X = df.drop('Class',axis=1)\n",
        "y = df['Class']\n",
        "X.head()"
      ],
      "id": "a374cc73"
    },
    {
      "cell_type": "code",
      "execution_count": null,
      "metadata": {
        "id": "0635286d"
      },
      "outputs": [],
      "source": [
        "# To split data into train and test with 80:20 proportion\n",
        "\n",
        "x_train, x_test,y_train,y_test = train_test_split(X,y,random_state=67,test_size=.2)"
      ],
      "id": "0635286d"
    },
    {
      "cell_type": "markdown",
      "metadata": {
        "id": "KMB29bV6zVsl"
      },
      "source": [
        "**Build KNN Model**"
      ],
      "id": "KMB29bV6zVsl"
    },
    {
      "cell_type": "code",
      "execution_count": null,
      "metadata": {
        "id": "bdd02b8e"
      },
      "outputs": [],
      "source": [
        "knn = KNeighborsClassifier() # To build knn model"
      ],
      "id": "bdd02b8e"
    },
    {
      "cell_type": "code",
      "execution_count": null,
      "metadata": {
        "id": "448be960",
        "colab": {
          "base_uri": "https://localhost:8080/",
          "height": 75
        },
        "outputId": "6ec2fdb5-1e48-4702-da19-80b62d13baa3"
      },
      "outputs": [
        {
          "output_type": "execute_result",
          "data": {
            "text/plain": [
              "KNeighborsClassifier()"
            ],
            "text/html": [
              "<style>#sk-container-id-26 {color: black;background-color: white;}#sk-container-id-26 pre{padding: 0;}#sk-container-id-26 div.sk-toggleable {background-color: white;}#sk-container-id-26 label.sk-toggleable__label {cursor: pointer;display: block;width: 100%;margin-bottom: 0;padding: 0.3em;box-sizing: border-box;text-align: center;}#sk-container-id-26 label.sk-toggleable__label-arrow:before {content: \"▸\";float: left;margin-right: 0.25em;color: #696969;}#sk-container-id-26 label.sk-toggleable__label-arrow:hover:before {color: black;}#sk-container-id-26 div.sk-estimator:hover label.sk-toggleable__label-arrow:before {color: black;}#sk-container-id-26 div.sk-toggleable__content {max-height: 0;max-width: 0;overflow: hidden;text-align: left;background-color: #f0f8ff;}#sk-container-id-26 div.sk-toggleable__content pre {margin: 0.2em;color: black;border-radius: 0.25em;background-color: #f0f8ff;}#sk-container-id-26 input.sk-toggleable__control:checked~div.sk-toggleable__content {max-height: 200px;max-width: 100%;overflow: auto;}#sk-container-id-26 input.sk-toggleable__control:checked~label.sk-toggleable__label-arrow:before {content: \"▾\";}#sk-container-id-26 div.sk-estimator input.sk-toggleable__control:checked~label.sk-toggleable__label {background-color: #d4ebff;}#sk-container-id-26 div.sk-label input.sk-toggleable__control:checked~label.sk-toggleable__label {background-color: #d4ebff;}#sk-container-id-26 input.sk-hidden--visually {border: 0;clip: rect(1px 1px 1px 1px);clip: rect(1px, 1px, 1px, 1px);height: 1px;margin: -1px;overflow: hidden;padding: 0;position: absolute;width: 1px;}#sk-container-id-26 div.sk-estimator {font-family: monospace;background-color: #f0f8ff;border: 1px dotted black;border-radius: 0.25em;box-sizing: border-box;margin-bottom: 0.5em;}#sk-container-id-26 div.sk-estimator:hover {background-color: #d4ebff;}#sk-container-id-26 div.sk-parallel-item::after {content: \"\";width: 100%;border-bottom: 1px solid gray;flex-grow: 1;}#sk-container-id-26 div.sk-label:hover label.sk-toggleable__label {background-color: #d4ebff;}#sk-container-id-26 div.sk-serial::before {content: \"\";position: absolute;border-left: 1px solid gray;box-sizing: border-box;top: 0;bottom: 0;left: 50%;z-index: 0;}#sk-container-id-26 div.sk-serial {display: flex;flex-direction: column;align-items: center;background-color: white;padding-right: 0.2em;padding-left: 0.2em;position: relative;}#sk-container-id-26 div.sk-item {position: relative;z-index: 1;}#sk-container-id-26 div.sk-parallel {display: flex;align-items: stretch;justify-content: center;background-color: white;position: relative;}#sk-container-id-26 div.sk-item::before, #sk-container-id-26 div.sk-parallel-item::before {content: \"\";position: absolute;border-left: 1px solid gray;box-sizing: border-box;top: 0;bottom: 0;left: 50%;z-index: -1;}#sk-container-id-26 div.sk-parallel-item {display: flex;flex-direction: column;z-index: 1;position: relative;background-color: white;}#sk-container-id-26 div.sk-parallel-item:first-child::after {align-self: flex-end;width: 50%;}#sk-container-id-26 div.sk-parallel-item:last-child::after {align-self: flex-start;width: 50%;}#sk-container-id-26 div.sk-parallel-item:only-child::after {width: 0;}#sk-container-id-26 div.sk-dashed-wrapped {border: 1px dashed gray;margin: 0 0.4em 0.5em 0.4em;box-sizing: border-box;padding-bottom: 0.4em;background-color: white;}#sk-container-id-26 div.sk-label label {font-family: monospace;font-weight: bold;display: inline-block;line-height: 1.2em;}#sk-container-id-26 div.sk-label-container {text-align: center;}#sk-container-id-26 div.sk-container {/* jupyter's `normalize.less` sets `[hidden] { display: none; }` but bootstrap.min.css set `[hidden] { display: none !important; }` so we also need the `!important` here to be able to override the default hidden behavior on the sphinx rendered scikit-learn.org. See: https://github.com/scikit-learn/scikit-learn/issues/21755 */display: inline-block !important;position: relative;}#sk-container-id-26 div.sk-text-repr-fallback {display: none;}</style><div id=\"sk-container-id-26\" class=\"sk-top-container\"><div class=\"sk-text-repr-fallback\"><pre>KNeighborsClassifier()</pre><b>In a Jupyter environment, please rerun this cell to show the HTML representation or trust the notebook. <br />On GitHub, the HTML representation is unable to render, please try loading this page with nbviewer.org.</b></div><div class=\"sk-container\" hidden><div class=\"sk-item\"><div class=\"sk-estimator sk-toggleable\"><input class=\"sk-toggleable__control sk-hidden--visually\" id=\"sk-estimator-id-40\" type=\"checkbox\" checked><label for=\"sk-estimator-id-40\" class=\"sk-toggleable__label sk-toggleable__label-arrow\">KNeighborsClassifier</label><div class=\"sk-toggleable__content\"><pre>KNeighborsClassifier()</pre></div></div></div></div></div>"
            ]
          },
          "metadata": {},
          "execution_count": 905
        }
      ],
      "source": [
        "knn.fit(x_train,y_train) # To call Nearest Neighbour algorithm"
      ],
      "id": "448be960"
    },
    {
      "cell_type": "markdown",
      "metadata": {
        "id": "1bhskvi5zyrL"
      },
      "source": [
        "**Evaluate Performance Of KNN Model**"
      ],
      "id": "1bhskvi5zyrL"
    },
    {
      "cell_type": "code",
      "execution_count": null,
      "metadata": {
        "id": "3a422725"
      },
      "outputs": [],
      "source": [
        "train_pred = knn.predict(x_train) # To predict the train responses\n",
        "test_pred = knn.predict(x_test) # To predict the test responses"
      ],
      "id": "3a422725"
    },
    {
      "cell_type": "code",
      "execution_count": null,
      "metadata": {
        "id": "1e3675c5",
        "scrolled": true,
        "colab": {
          "base_uri": "https://localhost:8080/"
        },
        "outputId": "6b21610f-66aa-4c36-b744-c68a0a00a754"
      },
      "outputs": [
        {
          "output_type": "stream",
          "name": "stdout",
          "text": [
            "Train Accuracy is:  0.9032258064516129\n",
            "********************\n",
            "Testing Accuracy is:  0.8225806451612904\n",
            "********************\n",
            "Training metrics: \n",
            "               precision    recall  f1-score   support\n",
            "\n",
            "      normal       0.82      0.91      0.86        82\n",
            "      type_h       0.98      0.97      0.97       121\n",
            "      type_s       0.86      0.71      0.78        45\n",
            "\n",
            "    accuracy                           0.90       248\n",
            "   macro avg       0.89      0.86      0.87       248\n",
            "weighted avg       0.91      0.90      0.90       248\n",
            "\n",
            "********************\n",
            "Testing metrics: \n",
            "               precision    recall  f1-score   support\n",
            "\n",
            "      normal       0.74      0.78      0.76        18\n",
            "      type_h       0.90      0.97      0.93        29\n",
            "      type_s       0.75      0.60      0.67        15\n",
            "\n",
            "    accuracy                           0.82        62\n",
            "   macro avg       0.80      0.78      0.79        62\n",
            "weighted avg       0.82      0.82      0.82        62\n",
            "\n",
            "********************\n"
          ]
        }
      ],
      "source": [
        "print(\"Train Accuracy is: \",accuracy_score(y_train,train_pred))\n",
        "print('*'*20)\n",
        "print(\"Testing Accuracy is: \",accuracy_score(y_test,test_pred))\n",
        "print('*'*20)\n",
        "print(\"Training metrics: \\n\",classification_report(y_train,train_pred))\n",
        "print('*'*20)\n",
        "print(\"Testing metrics: \\n\",classification_report(y_test,test_pred))\n",
        "print('*'*20)"
      ],
      "id": "1e3675c5"
    },
    {
      "cell_type": "markdown",
      "metadata": {
        "id": "cvqHgemX8rm5"
      },
      "source": [
        "**KNN Model**"
      ],
      "id": "cvqHgemX8rm5"
    },
    {
      "cell_type": "code",
      "execution_count": null,
      "metadata": {
        "id": "eKJONco480i8"
      },
      "outputs": [],
      "source": [
        "# Find the optimal number of neighbours"
      ],
      "id": "eKJONco480i8"
    },
    {
      "cell_type": "code",
      "execution_count": null,
      "metadata": {
        "id": "MB38s48s84VM",
        "colab": {
          "base_uri": "https://localhost:8080/"
        },
        "outputId": "a4008a7e-b056-45cb-d959-eca71238d298"
      },
      "outputs": [
        {
          "output_type": "stream",
          "name": "stdout",
          "text": [
            "[3, 5, 7, 9, 11, 13, 15, 17, 19, 21, 23, 25, 27, 29, 31, 33, 35, 37, 39, 41, 43, 45, 47, 49]\n"
          ]
        }
      ],
      "source": [
        "# creating odd list of K for KNN\n",
        "myList = list(range(2,50))\n",
        "\n",
        "# subsetting just the odd ones\n",
        "neighbors = list(filter(lambda x: x % 2 != 0, myList))\n",
        "print(neighbors)"
      ],
      "id": "MB38s48s84VM"
    },
    {
      "cell_type": "code",
      "execution_count": null,
      "metadata": {
        "id": "N3BKo2-e883a",
        "colab": {
          "base_uri": "https://localhost:8080/",
          "height": 282
        },
        "outputId": "01cd4150-4aba-485f-a876-06b5d757caba"
      },
      "outputs": [
        {
          "output_type": "display_data",
          "data": {
            "text/plain": [
              "<Figure size 432x288 with 1 Axes>"
            ],
            "image/png": "[encoded data removed]"
          },
          "metadata": {
            "needs_background": "light"
          }
        },
        {
          "output_type": "stream",
          "name": "stdout",
          "text": [
            "0.8064516129032258\n"
          ]
        }
      ],
      "source": [
        "# empty list that will hold accuracy scores\n",
        "ac_scores = []\n",
        "\n",
        "# perform accuracy metrics for values from 1,3,5....19\n",
        "for k in neighbors:\n",
        "    knn1 = KNeighborsClassifier(n_neighbors=k)\n",
        "    knn1.fit(x_train, y_train)\n",
        "\n",
        "    # predict the response\n",
        "    y_pred = knn1.predict(x_test)\n",
        "    # evaluate accuracy\n",
        "    scores = accuracy_score(y_test, y_pred)\n",
        "    ac_scores.append(scores)\n",
        "\n",
        "plt.plot(neighbors, ac_scores, 'o-')\n",
        "plt.xticks(neighbors)\n",
        "plt.show()\n",
        "print(scores)"
      ],
      "id": "N3BKo2-e883a"
    },
    {
      "cell_type": "code",
      "execution_count": null,
      "metadata": {
        "id": "HnaJ4_zU9MCG",
        "colab": {
          "base_uri": "https://localhost:8080/"
        },
        "outputId": "2338ede7-c3af-4d14-f1e7-695348be7912"
      },
      "outputs": [
        {
          "output_type": "stream",
          "name": "stdout",
          "text": [
            "The optimal number of neighbors is 13\n"
          ]
        }
      ],
      "source": [
        "# To find the MisClassification Error\n",
        "MSE = [1 - x for x in ac_scores]\n",
        "\n",
        "# determining best k\n",
        "optimal_k = neighbors[MSE.index(min(MSE))]\n",
        "print(\"The optimal number of neighbors is %d\" % optimal_k)"
      ],
      "id": "HnaJ4_zU9MCG"
    },
    {
      "cell_type": "code",
      "execution_count": null,
      "metadata": {
        "id": "aHVK4S4U9PJF",
        "colab": {
          "base_uri": "https://localhost:8080/",
          "height": 279
        },
        "outputId": "255daa8f-8705-4054-dd00-19d90c9144b3"
      },
      "outputs": [
        {
          "output_type": "display_data",
          "data": {
            "text/plain": [
              "<Figure size 432x288 with 1 Axes>"
            ],
            "image/png": "[encoded data removed]"
          },
          "metadata": {
            "needs_background": "light"
          }
        }
      ],
      "source": [
        "#Plot misclassification error vs k (with k value on X-axis) using matplotlib.\n",
        "import matplotlib.pyplot as plt\n",
        "# plot misclassification error vs k\n",
        "plt.plot(neighbors, MSE)\n",
        "plt.xlabel('Number of Neighbors K')\n",
        "plt.ylabel('Misclassification Error')\n",
        "plt.show()"
      ],
      "id": "aHVK4S4U9PJF"
    },
    {
      "cell_type": "code",
      "execution_count": null,
      "metadata": {
        "id": "OMAMHd7c_ZDG",
        "colab": {
          "base_uri": "https://localhost:8080/"
        },
        "outputId": "ca245e05-6b3c-4480-bbfb-2a418cc4a353"
      },
      "outputs": [
        {
          "output_type": "stream",
          "name": "stdout",
          "text": [
            "0.8548387096774194\n"
          ]
        }
      ],
      "source": [
        "#Use k=13 as the final model for prediction\n",
        "knn2 = KNeighborsClassifier(n_neighbors = 13, weights = 'distance',p=2)\n",
        "\n",
        "# fitting the model\n",
        "knn2.fit(x_train, y_train)\n",
        "\n",
        "# predict the response\n",
        "y_pred = knn2.predict(x_test)\n",
        "\n",
        "# evaluate accuracy\n",
        "print(accuracy_score(y_test, y_pred))"
      ],
      "id": "OMAMHd7c_ZDG"
    },
    {
      "cell_type": "code",
      "execution_count": null,
      "metadata": {
        "id": "KDo3YPQF_0Ti",
        "colab": {
          "base_uri": "https://localhost:8080/"
        },
        "outputId": "1a5716e7-3132-4489-c374-57d24a544cd8"
      },
      "outputs": [
        {
          "output_type": "stream",
          "name": "stdout",
          "text": [
            "classification_report\n",
            "              precision    recall  f1-score   support\n",
            "\n",
            "      normal       0.82      0.78      0.80        18\n",
            "      type_h       0.91      1.00      0.95        29\n",
            "      type_s       0.77      0.67      0.71        15\n",
            "\n",
            "    accuracy                           0.85        62\n",
            "   macro avg       0.83      0.81      0.82        62\n",
            "weighted avg       0.85      0.85      0.85        62\n",
            "\n"
          ]
        }
      ],
      "source": [
        "import sklearn.metrics as metrics\n",
        "# To print Classification report for test responses\n",
        "print(\"classification_report\")\n",
        "print(metrics.classification_report(y_test, y_pred))"
      ],
      "id": "KDo3YPQF_0Ti"
    },
    {
      "cell_type": "code",
      "execution_count": null,
      "metadata": {
        "id": "sigNBvlJAVZN",
        "colab": {
          "base_uri": "https://localhost:8080/",
          "height": 356
        },
        "outputId": "f05de33e-79f8-4fe9-a399-bb4771ca81c5"
      },
      "outputs": [
        {
          "output_type": "stream",
          "name": "stdout",
          "text": [
            "Confusion Matrix\n"
          ]
        },
        {
          "output_type": "execute_result",
          "data": {
            "text/plain": [
              "<Axes: >"
            ]
          },
          "metadata": {},
          "execution_count": 915
        },
        {
          "output_type": "display_data",
          "data": {
            "text/plain": [
              "<Figure size 504x360 with 2 Axes>"
            ],
            "image/png": "[encoded data removed]"
          },
          "metadata": {
            "needs_background": "light"
          }
        }
      ],
      "source": [
        "# To calculate confusion matrix\n",
        "from sklearn import metrics\n",
        "\n",
        "predicted_labels = knn2.predict(x_test)\n",
        "knn2.score(x_test, y_test)\n",
        "\n",
        "print(\"Confusion Matrix\")\n",
        "cm=metrics.confusion_matrix(y_test, predicted_labels,labels=[\"normal\",\"type_s\",\"type_h\"])\n",
        "\n",
        "df_cm = pd.DataFrame(cm, index = [i for i in [\"normal\",\"type_s\",\"type_h\"]],\n",
        "                  columns = [i for i in [\"Predict normal\",\"Predict type_s\", \"Predict type_h\"]])\n",
        "plt.figure(figsize = (7,5))\n",
        "sns.heatmap(df_cm, annot=True)"
      ],
      "id": "sigNBvlJAVZN"
    },
    {
      "cell_type": "markdown",
      "metadata": {
        "id": "yO91bjZZtuWr"
      },
      "source": [
        "**InSights:-**"
      ],
      "id": "yO91bjZZtuWr"
    },
    {
      "cell_type": "markdown",
      "metadata": {
        "id": "K5AayRi-O4-Y"
      },
      "source": [
        "**a) For Normal - Confusion Matrix**\n",
        "- True Positives (TP): we correctly predicted condition of the patients with test results are 14\n",
        "\n",
        "- True Negatives (TN): we correctly predicted condition of the patients without the test results 41\n",
        "\n",
        "- False Positives (FP): we incorrectly predicted condition of the patients with test results are (a \"Type I error\") 3 Falsely predict positive Type I error\n",
        "\n",
        "- False Negatives (FN): we incorrectly predicted condition of the patients without the test results (a \"Type II error\") 4 Falsely predict negative Type II error"
      ],
      "id": "K5AayRi-O4-Y"
    },
    {
      "cell_type": "markdown",
      "metadata": {
        "id": "6sHb7nmcOxQi"
      },
      "source": [
        "**b) For type_s - Confusion Matrix**\n",
        "\n",
        "- True Positives (TP): we correctly predicted condition of the patients with test results are 10\n",
        "\n",
        "- True Negatives (TN): we correctly predicted condition of the patients without test results 44\n",
        "\n",
        "- False Positives (FP): we incorrectly predicted condition of the patients with test results (a \"Type I error\") 3 Falsely predict positive Type I error\n",
        "\n",
        "- False Negatives (FN): we incorrectly predicted condition of the patients without test results (a \"Type II error\") 5 Falsely predict negative Type II error"
      ],
      "id": "6sHb7nmcOxQi"
    },
    {
      "cell_type": "markdown",
      "metadata": {
        "id": "smBZ_29keTbt"
      },
      "source": [
        "**c) For type_h - Confusion Matrix**\n",
        "\n",
        "- True Positives (TP): we correctly predicted condition of the patients with test results are 29\n",
        "\n",
        "- True Negatives (TN): we correctly predicted condition of the patients without test results 30\n",
        "\n",
        "- False Positives (FP): we incorrectly predicted condition of the patients with test results (a \"Type I error\") 0 Falsely predict positive Type I error\n",
        "\n",
        "- False Negatives (FN): we incorrectly predicted condition of the patients without test results (a \"Type II error\") 30 Falsely predict negative Type II error"
      ],
      "id": "smBZ_29keTbt"
    },
    {
      "cell_type": "code",
      "execution_count": null,
      "metadata": {
        "id": "4qFORGNdRq2J",
        "colab": {
          "base_uri": "https://localhost:8080/"
        },
        "outputId": "be4428cb-9ed2-412b-932d-7044594f73cd"
      },
      "outputs": [
        {
          "output_type": "stream",
          "name": "stdout",
          "text": [
            "0.8225806451612904\n"
          ]
        }
      ],
      "source": [
        "knn_score = knn.score(x_test, y_test)\n",
        "print(knn_score)\n",
        "\n",
        "pred = knn.predict(x_test)"
      ],
      "id": "4qFORGNdRq2J"
    },
    {
      "cell_type": "code",
      "execution_count": null,
      "metadata": {
        "id": "15D5wOuvRxBJ"
      },
      "outputs": [],
      "source": [
        "def rightly_identified(actual, predictions):\n",
        "    a = pd.DataFrame()  # empty dataframe\n",
        "\n",
        "    for i in np.sort(actual.unique()):\n",
        "        try:  # because we get a key error if we use value_counts()[i] when the given class i does not exist in the value_count() array\n",
        "            a.loc[i,'total_instances'] = len(actual[actual == i]) # value count of a given class i\n",
        "            a.loc[i, 'identified_right'] = pd.Series(predictions[actual == i]).value_counts()[i] # number of instances where a given class i was identified correctly\n",
        "            a.loc[i, '%'] = round(100*pd.Series(predictions[actual == i]).value_counts()[i]/len(actual[actual == i]), 1)  # percentage of predictions that were correct for a given class\n",
        "        except:  # if the key error discussed above occurs, assign the percentage = 0\n",
        "            a.loc[i, '%'] = 0.0\n",
        "    return a"
      ],
      "id": "15D5wOuvRxBJ"
    },
    {
      "cell_type": "code",
      "execution_count": null,
      "metadata": {
        "id": "aBewgBdfRxPF",
        "colab": {
          "base_uri": "https://localhost:8080/",
          "height": 143
        },
        "outputId": "4aa37681-677f-4173-d2c0-280bab7c0cf4"
      },
      "outputs": [
        {
          "output_type": "execute_result",
          "data": {
            "text/plain": [
              "        total_instances  identified_right     %\n",
              "normal             18.0              14.0  77.8\n",
              "type_h             29.0              28.0  96.6\n",
              "type_s             15.0               9.0  60.0"
            ],
            "text/html": [
              "\n",
              "  <div id=\"df-2dd80443-5161-4088-8b95-561f02224a2b\">\n",
              "    <div class=\"colab-df-container\">\n",
              "      <div>\n",
              "<style scoped>\n",
              "    .dataframe tbody tr th:only-of-type {\n",
              "        vertical-align: middle;\n",
              "    }\n",
              "\n",
              "    .dataframe tbody tr th {\n",
              "        vertical-align: top;\n",
              "    }\n",
              "\n",
              "    .dataframe thead th {\n",
              "        text-align: right;\n",
              "    }\n",
              "</style>\n",
              "<table border=\"1\" class=\"dataframe\">\n",
              "  <thead>\n",
              "    <tr style=\"text-align: right;\">\n",
              "      <th></th>\n",
              "      <th>total_instances</th>\n",
              "      <th>identified_right</th>\n",
              "      <th>%</th>\n",
              "    </tr>\n",
              "  </thead>\n",
              "  <tbody>\n",
              "    <tr>\n",
              "      <th>normal</th>\n",
              "      <td>18.0</td>\n",
              "      <td>14.0</td>\n",
              "      <td>77.8</td>\n",
              "    </tr>\n",
              "    <tr>\n",
              "      <th>type_h</th>\n",
              "      <td>29.0</td>\n",
              "      <td>28.0</td>\n",
              "      <td>96.6</td>\n",
              "    </tr>\n",
              "    <tr>\n",
              "      <th>type_s</th>\n",
              "      <td>15.0</td>\n",
              "      <td>9.0</td>\n",
              "      <td>60.0</td>\n",
              "    </tr>\n",
              "  </tbody>\n",
              "</table>\n",
              "</div>\n",
              "      <button class=\"colab-df-convert\" onclick=\"convertToInteractive('df-2dd80443-5161-4088-8b95-561f02224a2b')\"\n",
              "              title=\"Convert this dataframe to an interactive table.\"\n",
              "              style=\"display:none;\">\n",
              "        \n",
              "  <svg xmlns=\"http://www.w3.org/2000/svg\" height=\"24px\"viewBox=\"0 0 24 24\"\n",
              "       width=\"24px\">\n",
              "    <path d=\"M0 0h24v24H0V0z\" fill=\"none\"/>\n",
              "    <path d=\"M18.56 5.44l.94 2.06.94-2.06 2.06-.94-2.06-.94-.94-2.06-.94 2.06-2.06.94zm-11 1L8.5 8.5l.94-2.06 2.06-.94-2.06-.94L8.5 2.5l-.94 2.06-2.06.94zm10 10l.94 2.06.94-2.06 2.06-.94-2.06-.94-.94-2.06-.94 2.06-2.06.94z\"/><path d=\"M17.41 7.96l-1.37-1.37c-.4-.4-.92-.59-1.43-.59-.52 0-1.04.2-1.43.59L10.3 9.45l-7.72 7.72c-.78.78-.78 2.05 0 2.83L4 21.41c.39.39.9.59 1.41.59.51 0 1.02-.2 1.41-.59l7.78-7.78 2.81-2.81c.8-.78.8-2.07 0-2.86zM5.41 20L4 18.59l7.72-7.72 1.47 1.35L5.41 20z\"/>\n",
              "  </svg>\n",
              "      </button>\n",
              "      \n",
              "  <style>\n",
              "    .colab-df-container {\n",
              "      display:flex;\n",
              "      flex-wrap:wrap;\n",
              "      gap: 12px;\n",
              "    }\n",
              "\n",
              "    .colab-df-convert {\n",
              "      background-color: #E8F0FE;\n",
              "      border: none;\n",
              "      border-radius: 50%;\n",
              "      cursor: pointer;\n",
              "      display: none;\n",
              "      fill: #1967D2;\n",
              "      height: 32px;\n",
              "      padding: 0 0 0 0;\n",
              "      width: 32px;\n",
              "    }\n",
              "\n",
              "    .colab-df-convert:hover {\n",
              "      background-color: #E2EBFA;\n",
              "      box-shadow: 0px 1px 2px rgba(60, 64, 67, 0.3), 0px 1px 3px 1px rgba(60, 64, 67, 0.15);\n",
              "      fill: #174EA6;\n",
              "    }\n",
              "\n",
              "    [theme=dark] .colab-df-convert {\n",
              "      background-color: #3B4455;\n",
              "      fill: #D2E3FC;\n",
              "    }\n",
              "\n",
              "    [theme=dark] .colab-df-convert:hover {\n",
              "      background-color: #434B5C;\n",
              "      box-shadow: 0px 1px 3px 1px rgba(0, 0, 0, 0.15);\n",
              "      filter: drop-shadow(0px 1px 2px rgba(0, 0, 0, 0.3));\n",
              "      fill: #FFFFFF;\n",
              "    }\n",
              "  </style>\n",
              "\n",
              "      <script>\n",
              "        const buttonEl =\n",
              "          document.querySelector('#df-2dd80443-5161-4088-8b95-561f02224a2b button.colab-df-convert');\n",
              "        buttonEl.style.display =\n",
              "          google.colab.kernel.accessAllowed ? 'block' : 'none';\n",
              "\n",
              "        async function convertToInteractive(key) {\n",
              "          const element = document.querySelector('#df-2dd80443-5161-4088-8b95-561f02224a2b');\n",
              "          const dataTable =\n",
              "            await google.colab.kernel.invokeFunction('convertToInteractive',\n",
              "                                                     [key], {});\n",
              "          if (!dataTable) return;\n",
              "\n",
              "          const docLinkHtml = 'Like what you see? Visit the ' +\n",
              "            '<a target=\"_blank\" href=https://colab.research.google.com/notebooks/data_table.ipynb>data table notebook</a>'\n",
              "            + ' to learn more about interactive tables.';\n",
              "          element.innerHTML = '';\n",
              "          dataTable['output_type'] = 'display_data';\n",
              "          await google.colab.output.renderOutput(dataTable, element);\n",
              "          const docLink = document.createElement('div');\n",
              "          docLink.innerHTML = docLinkHtml;\n",
              "          element.appendChild(docLink);\n",
              "        }\n",
              "      </script>\n",
              "    </div>\n",
              "  </div>\n",
              "  "
            ]
          },
          "metadata": {},
          "execution_count": 918
        }
      ],
      "source": [
        "pred_vs_actual_knn = rightly_identified(y_test, pred)\n",
        "pred_vs_actual_knn"
      ],
      "id": "aBewgBdfRxPF"
    },
    {
      "cell_type": "markdown",
      "metadata": {
        "id": "o7k08v5gSw7t"
      },
      "source": [
        "**Observations-**\n",
        "\n",
        "- Total Instances for the Normal data points are 18 and identified 14 as correct with 77.8%.\n",
        "- Total Instances for the type_h data points are 29 and identified 28 as correct with 96.6%.\n",
        "- Total Instances for the type_s data points are 15 and identified 9 as correct with 60%."
      ],
      "id": "o7k08v5gSw7t"
    },
    {
      "cell_type": "code",
      "execution_count": null,
      "metadata": {
        "id": "LdX9mK73R_nh"
      },
      "outputs": [],
      "source": [
        "def con_matrix(actual, predictions):\n",
        "    from sklearn.metrics import confusion_matrix\n",
        "\n",
        "    matrix = pd.DataFrame(confusion_matrix(actual, predictions), columns = np.unique(actual), index = np.unique(actual))\n",
        "    # confusion_matrix() returns the confusion matrix. Wrapping this matrix in a dataframe with appropriate column names and index\n",
        "    matrix.loc[:,'total_count_actual_class'] = matrix.sum(axis = 1)  # sum accross the columns\n",
        "    matrix.loc['total_count_predicted'] = matrix.sum(axis = 0)  # row sum\n",
        "    return matrix"
      ],
      "id": "LdX9mK73R_nh"
    },
    {
      "cell_type": "code",
      "execution_count": null,
      "metadata": {
        "id": "y86BY29ZSEXd",
        "colab": {
          "base_uri": "https://localhost:8080/",
          "height": 175
        },
        "outputId": "929e3996-0a04-4159-d8cd-7fd15c7ba69d"
      },
      "outputs": [
        {
          "output_type": "execute_result",
          "data": {
            "text/plain": [
              "                       normal  type_h  type_s  total_count_actual_class\n",
              "normal                     14       1       3                        18\n",
              "type_h                      1      28       0                        29\n",
              "type_s                      4       2       9                        15\n",
              "total_count_predicted      19      31      12                        62"
            ],
            "text/html": [
              "\n",
              "  <div id=\"df-932178c3-dda4-4ff7-8faf-040982c48680\">\n",
              "    <div class=\"colab-df-container\">\n",
              "      <div>\n",
              "<style scoped>\n",
              "    .dataframe tbody tr th:only-of-type {\n",
              "        vertical-align: middle;\n",
              "    }\n",
              "\n",
              "    .dataframe tbody tr th {\n",
              "        vertical-align: top;\n",
              "    }\n",
              "\n",
              "    .dataframe thead th {\n",
              "        text-align: right;\n",
              "    }\n",
              "</style>\n",
              "<table border=\"1\" class=\"dataframe\">\n",
              "  <thead>\n",
              "    <tr style=\"text-align: right;\">\n",
              "      <th></th>\n",
              "      <th>normal</th>\n",
              "      <th>type_h</th>\n",
              "      <th>type_s</th>\n",
              "      <th>total_count_actual_class</th>\n",
              "    </tr>\n",
              "  </thead>\n",
              "  <tbody>\n",
              "    <tr>\n",
              "      <th>normal</th>\n",
              "      <td>14</td>\n",
              "      <td>1</td>\n",
              "      <td>3</td>\n",
              "      <td>18</td>\n",
              "    </tr>\n",
              "    <tr>\n",
              "      <th>type_h</th>\n",
              "      <td>1</td>\n",
              "      <td>28</td>\n",
              "      <td>0</td>\n",
              "      <td>29</td>\n",
              "    </tr>\n",
              "    <tr>\n",
              "      <th>type_s</th>\n",
              "      <td>4</td>\n",
              "      <td>2</td>\n",
              "      <td>9</td>\n",
              "      <td>15</td>\n",
              "    </tr>\n",
              "    <tr>\n",
              "      <th>total_count_predicted</th>\n",
              "      <td>19</td>\n",
              "      <td>31</td>\n",
              "      <td>12</td>\n",
              "      <td>62</td>\n",
              "    </tr>\n",
              "  </tbody>\n",
              "</table>\n",
              "</div>\n",
              "      <button class=\"colab-df-convert\" onclick=\"convertToInteractive('df-932178c3-dda4-4ff7-8faf-040982c48680')\"\n",
              "              title=\"Convert this dataframe to an interactive table.\"\n",
              "              style=\"display:none;\">\n",
              "        \n",
              "  <svg xmlns=\"http://www.w3.org/2000/svg\" height=\"24px\"viewBox=\"0 0 24 24\"\n",
              "       width=\"24px\">\n",
              "    <path d=\"M0 0h24v24H0V0z\" fill=\"none\"/>\n",
              "    <path d=\"M18.56 5.44l.94 2.06.94-2.06 2.06-.94-2.06-.94-.94-2.06-.94 2.06-2.06.94zm-11 1L8.5 8.5l.94-2.06 2.06-.94-2.06-.94L8.5 2.5l-.94 2.06-2.06.94zm10 10l.94 2.06.94-2.06 2.06-.94-2.06-.94-.94-2.06-.94 2.06-2.06.94z\"/><path d=\"M17.41 7.96l-1.37-1.37c-.4-.4-.92-.59-1.43-.59-.52 0-1.04.2-1.43.59L10.3 9.45l-7.72 7.72c-.78.78-.78 2.05 0 2.83L4 21.41c.39.39.9.59 1.41.59.51 0 1.02-.2 1.41-.59l7.78-7.78 2.81-2.81c.8-.78.8-2.07 0-2.86zM5.41 20L4 18.59l7.72-7.72 1.47 1.35L5.41 20z\"/>\n",
              "  </svg>\n",
              "      </button>\n",
              "      \n",
              "  <style>\n",
              "    .colab-df-container {\n",
              "      display:flex;\n",
              "      flex-wrap:wrap;\n",
              "      gap: 12px;\n",
              "    }\n",
              "\n",
              "    .colab-df-convert {\n",
              "      background-color: #E8F0FE;\n",
              "      border: none;\n",
              "      border-radius: 50%;\n",
              "      cursor: pointer;\n",
              "      display: none;\n",
              "      fill: #1967D2;\n",
              "      height: 32px;\n",
              "      padding: 0 0 0 0;\n",
              "      width: 32px;\n",
              "    }\n",
              "\n",
              "    .colab-df-convert:hover {\n",
              "      background-color: #E2EBFA;\n",
              "      box-shadow: 0px 1px 2px rgba(60, 64, 67, 0.3), 0px 1px 3px 1px rgba(60, 64, 67, 0.15);\n",
              "      fill: #174EA6;\n",
              "    }\n",
              "\n",
              "    [theme=dark] .colab-df-convert {\n",
              "      background-color: #3B4455;\n",
              "      fill: #D2E3FC;\n",
              "    }\n",
              "\n",
              "    [theme=dark] .colab-df-convert:hover {\n",
              "      background-color: #434B5C;\n",
              "      box-shadow: 0px 1px 3px 1px rgba(0, 0, 0, 0.15);\n",
              "      filter: drop-shadow(0px 1px 2px rgba(0, 0, 0, 0.3));\n",
              "      fill: #FFFFFF;\n",
              "    }\n",
              "  </style>\n",
              "\n",
              "      <script>\n",
              "        const buttonEl =\n",
              "          document.querySelector('#df-932178c3-dda4-4ff7-8faf-040982c48680 button.colab-df-convert');\n",
              "        buttonEl.style.display =\n",
              "          google.colab.kernel.accessAllowed ? 'block' : 'none';\n",
              "\n",
              "        async function convertToInteractive(key) {\n",
              "          const element = document.querySelector('#df-932178c3-dda4-4ff7-8faf-040982c48680');\n",
              "          const dataTable =\n",
              "            await google.colab.kernel.invokeFunction('convertToInteractive',\n",
              "                                                     [key], {});\n",
              "          if (!dataTable) return;\n",
              "\n",
              "          const docLinkHtml = 'Like what you see? Visit the ' +\n",
              "            '<a target=\"_blank\" href=https://colab.research.google.com/notebooks/data_table.ipynb>data table notebook</a>'\n",
              "            + ' to learn more about interactive tables.';\n",
              "          element.innerHTML = '';\n",
              "          dataTable['output_type'] = 'display_data';\n",
              "          await google.colab.output.renderOutput(dataTable, element);\n",
              "          const docLink = document.createElement('div');\n",
              "          docLink.innerHTML = docLinkHtml;\n",
              "          element.appendChild(docLink);\n",
              "        }\n",
              "      </script>\n",
              "    </div>\n",
              "  </div>\n",
              "  "
            ]
          },
          "metadata": {},
          "execution_count": 920
        }
      ],
      "source": [
        "con_matrix(y_test, pred)"
      ],
      "id": "y86BY29ZSEXd"
    },
    {
      "cell_type": "markdown",
      "metadata": {
        "id": "Yc1hTiaxSH-7"
      },
      "source": [
        "- For k=13, we found type_h is the dominated set among the three sets"
      ],
      "id": "Yc1hTiaxSH-7"
    },
    {
      "cell_type": "markdown",
      "metadata": {
        "id": "dnD5WaGDS_Xk"
      },
      "source": [
        "**Using different Algorithms to improve the performance of the model:-**"
      ],
      "id": "dnD5WaGDS_Xk"
    },
    {
      "cell_type": "markdown",
      "metadata": {
        "id": "DQlJUgEHTCNb"
      },
      "source": [
        "- Picking k = 25, to get the better performance as per the plot (i.e from the MSE & K values)"
      ],
      "id": "DQlJUgEHTCNb"
    },
    {
      "cell_type": "markdown",
      "metadata": {
        "id": "0z9qKkAw-ZK2"
      },
      "source": [
        "**Ball_tree Algorithm:**"
      ],
      "id": "0z9qKkAw-ZK2"
    },
    {
      "cell_type": "code",
      "execution_count": null,
      "metadata": {
        "id": "fac0fe6e",
        "colab": {
          "base_uri": "https://localhost:8080/"
        },
        "outputId": "efbc4bb4-2f15-4d5e-b782-52f8ba9939d5"
      },
      "outputs": [
        {
          "output_type": "stream",
          "name": "stdout",
          "text": [
            "Train Accuracy is:  1.0\n",
            "********************\n",
            "Testing Accuracy is:  0.8225806451612904\n",
            "********************\n",
            "Training metrics: \n",
            "               precision    recall  f1-score   support\n",
            "\n",
            "      normal       1.00      1.00      1.00        82\n",
            "      type_h       1.00      1.00      1.00       121\n",
            "      type_s       1.00      1.00      1.00        45\n",
            "\n",
            "    accuracy                           1.00       248\n",
            "   macro avg       1.00      1.00      1.00       248\n",
            "weighted avg       1.00      1.00      1.00       248\n",
            "\n",
            "********************\n",
            "Testing metrics: \n",
            "               precision    recall  f1-score   support\n",
            "\n",
            "      normal       0.72      0.72      0.72        18\n",
            "      type_h       0.94      1.00      0.97        29\n",
            "      type_s       0.69      0.60      0.64        15\n",
            "\n",
            "    accuracy                           0.82        62\n",
            "   macro avg       0.78      0.77      0.78        62\n",
            "weighted avg       0.81      0.82      0.82        62\n",
            "\n",
            "********************\n"
          ]
        }
      ],
      "source": [
        "# To build knn model with weights = 'distance'\n",
        "knn_1 = KNeighborsClassifier(n_neighbors=25,algorithm='ball_tree',weights='distance',p=2)\n",
        "knn_1.fit(x_train,y_train)\n",
        "train_pred = knn_1.predict(x_train)\n",
        "test_pred = knn_1.predict(x_test)\n",
        "\n",
        "print(\"Train Accuracy is: \",accuracy_score(y_train,train_pred))\n",
        "print('*'*20)\n",
        "print(\"Testing Accuracy is: \",accuracy_score(y_test,test_pred))\n",
        "print('*'*20)\n",
        "print(\"Training metrics: \\n\",classification_report(y_train,train_pred))\n",
        "print('*'*20)\n",
        "print(\"Testing metrics: \\n\",classification_report(y_test,test_pred))\n",
        "print('*'*20)"
      ],
      "id": "fac0fe6e"
    },
    {
      "cell_type": "markdown",
      "metadata": {
        "id": "oMY8h51FtN84"
      },
      "source": [
        "**InSights:**\n",
        "- Training accuracy has gone up by 10%\n",
        "- Testing Precision and recall values of type_h increased by 4% by compromising 'type_s' and 'normal'"
      ],
      "id": "oMY8h51FtN84"
    },
    {
      "cell_type": "markdown",
      "metadata": {
        "id": "wzPWrkjXB_aR"
      },
      "source": [
        "**kd_tree Algorithm:**"
      ],
      "id": "wzPWrkjXB_aR"
    },
    {
      "cell_type": "code",
      "execution_count": null,
      "metadata": {
        "id": "QkOUCPpTCQy9",
        "colab": {
          "base_uri": "https://localhost:8080/"
        },
        "outputId": "75fc74d2-21a5-4c61-fe0b-2e0f1269c60f"
      },
      "outputs": [
        {
          "output_type": "stream",
          "name": "stdout",
          "text": [
            "Train Accuracy is:  1.0\n",
            "********************\n",
            "Testing Accuracy is:  0.8225806451612904\n",
            "********************\n",
            "Training metrics: \n",
            "               precision    recall  f1-score   support\n",
            "\n",
            "      normal       1.00      1.00      1.00        82\n",
            "      type_h       1.00      1.00      1.00       121\n",
            "      type_s       1.00      1.00      1.00        45\n",
            "\n",
            "    accuracy                           1.00       248\n",
            "   macro avg       1.00      1.00      1.00       248\n",
            "weighted avg       1.00      1.00      1.00       248\n",
            "\n",
            "********************\n",
            "Testing metrics: \n",
            "               precision    recall  f1-score   support\n",
            "\n",
            "      normal       0.72      0.72      0.72        18\n",
            "      type_h       0.94      1.00      0.97        29\n",
            "      type_s       0.69      0.60      0.64        15\n",
            "\n",
            "    accuracy                           0.82        62\n",
            "   macro avg       0.78      0.77      0.78        62\n",
            "weighted avg       0.81      0.82      0.82        62\n",
            "\n",
            "********************\n"
          ]
        }
      ],
      "source": [
        "# To build knn model with weights = 'distance'\n",
        "knn_2 = KNeighborsClassifier(n_neighbors=25,algorithm='kd_tree',weights='distance',p=2)\n",
        "knn_2.fit(x_train,y_train)\n",
        "train_pred = knn_2.predict(x_train)\n",
        "test_pred = knn_2.predict(x_test)\n",
        "\n",
        "print(\"Train Accuracy is: \",accuracy_score(y_train,train_pred))\n",
        "print('*'*20)\n",
        "print(\"Testing Accuracy is: \",accuracy_score(y_test,test_pred))\n",
        "print('*'*20)\n",
        "print(\"Training metrics: \\n\",classification_report(y_train,train_pred))\n",
        "print('*'*20)\n",
        "print(\"Testing metrics: \\n\",classification_report(y_test,test_pred))\n",
        "print('*'*20)"
      ],
      "id": "QkOUCPpTCQy9"
    },
    {
      "cell_type": "markdown",
      "metadata": {
        "id": "1MGTLv0Utg45"
      },
      "source": [
        "**InSights:**\n",
        "- Training accuracy has gone up by 10%\n",
        "- Testing Precision and recall values of type_h increased by 4% by compromising 'type_s' and 'normal'"
      ],
      "id": "1MGTLv0Utg45"
    },
    {
      "cell_type": "markdown",
      "metadata": {
        "id": "P9aguzPmCZzg"
      },
      "source": [
        "**Brute_force Algorithm:**"
      ],
      "id": "P9aguzPmCZzg"
    },
    {
      "cell_type": "code",
      "execution_count": null,
      "metadata": {
        "id": "8coEiwHWChtI",
        "colab": {
          "base_uri": "https://localhost:8080/"
        },
        "outputId": "cfb2031f-dd85-4676-9066-5f3c73469651"
      },
      "outputs": [
        {
          "output_type": "stream",
          "name": "stdout",
          "text": [
            "Train Accuracy is:  1.0\n",
            "********************\n",
            "Testing Accuracy is:  0.8225806451612904\n",
            "********************\n",
            "Training metrics: \n",
            "               precision    recall  f1-score   support\n",
            "\n",
            "      normal       1.00      1.00      1.00        82\n",
            "      type_h       1.00      1.00      1.00       121\n",
            "      type_s       1.00      1.00      1.00        45\n",
            "\n",
            "    accuracy                           1.00       248\n",
            "   macro avg       1.00      1.00      1.00       248\n",
            "weighted avg       1.00      1.00      1.00       248\n",
            "\n",
            "********************\n",
            "Testing metrics: \n",
            "               precision    recall  f1-score   support\n",
            "\n",
            "      normal       0.72      0.72      0.72        18\n",
            "      type_h       0.94      1.00      0.97        29\n",
            "      type_s       0.69      0.60      0.64        15\n",
            "\n",
            "    accuracy                           0.82        62\n",
            "   macro avg       0.78      0.77      0.78        62\n",
            "weighted avg       0.81      0.82      0.82        62\n",
            "\n",
            "********************\n"
          ]
        }
      ],
      "source": [
        "# To build knn model with weights = 'distance'\n",
        "knn_3 = KNeighborsClassifier(n_neighbors=25,algorithm='kd_tree',weights='distance',p=2)\n",
        "knn_3.fit(x_train,y_train)\n",
        "train_pred = knn_3.predict(x_train)\n",
        "test_pred = knn_3.predict(x_test)\n",
        "\n",
        "print(\"Train Accuracy is: \",accuracy_score(y_train,train_pred))\n",
        "print('*'*20)\n",
        "print(\"Testing Accuracy is: \",accuracy_score(y_test,test_pred))\n",
        "print('*'*20)\n",
        "print(\"Training metrics: \\n\",classification_report(y_train,train_pred))\n",
        "print('*'*20)\n",
        "print(\"Testing metrics: \\n\",classification_report(y_test,test_pred))\n",
        "print('*'*20)"
      ],
      "id": "8coEiwHWChtI"
    },
    {
      "cell_type": "markdown",
      "metadata": {
        "id": "YX2-WOXNCsfF"
      },
      "source": [
        "**InSights:**\n",
        "- Training accuracy has gone up by 10%\n",
        "- Testing Precision and recall values of type_h increased by 4% by compromising 'type_s' and 'normal'"
      ],
      "id": "YX2-WOXNCsfF"
    },
    {
      "cell_type": "markdown",
      "metadata": {
        "id": "55dd19dc"
      },
      "source": [
        "**Overall Observations:**\n",
        "\n",
        "1. Training accuracy has gone up by 10%\n",
        "2. Testing Precision and recall values of type_h increased by 4% by compromising 'type_s' and 'normal'"
      ],
      "id": "55dd19dc"
    },
    {
      "cell_type": "markdown",
      "metadata": {
        "id": "JQ1OquiGDq3t"
      },
      "source": [
        "**Parameters contributed most to improve model performance:**"
      ],
      "id": "JQ1OquiGDq3t"
    },
    {
      "cell_type": "markdown",
      "metadata": {
        "id": "aeeceb24"
      },
      "source": [
        "- Parameter 'weights' = 'distance' is the best parameter in improving training accuracy\n",
        "- When 'weights' = 'distance' has higher influence of neighboring datapoints instead of uniform resulting into better predictions."
      ],
      "id": "aeeceb24"
    },
    {
      "cell_type": "markdown",
      "metadata": {
        "id": "70e1d3dc"
      },
      "source": [
        "**▶ PART - B**"
      ],
      "id": "70e1d3dc"
    },
    {
      "cell_type": "markdown",
      "metadata": {
        "id": "VWmObAzOTmus"
      },
      "source": [
        "**Data Understanding**"
      ],
      "id": "VWmObAzOTmus"
    },
    {
      "cell_type": "code",
      "execution_count": null,
      "metadata": {
        "colab": {
          "base_uri": "https://localhost:8080/"
        },
        "id": "020b52de",
        "outputId": "d70a60ec-8ef5-4302-a535-12f983ad593f"
      },
      "outputs": [
        {
          "output_type": "stream",
          "name": "stdout",
          "text": [
            "Drive already mounted at /content/drive; to attempt to forcibly remount, call drive.mount(\"/content/drive\", force_remount=True).\n"
          ]
        }
      ],
      "source": [
        "from google.colab import drive\n",
        "drive.mount('/content/drive')"
      ],
      "id": "020b52de"
    },
    {
      "cell_type": "code",
      "execution_count": null,
      "metadata": {
        "id": "a913a3ad"
      },
      "outputs": [],
      "source": [
        "# To read all the 2 CSV files as DataFrame and store them into 2 separate variables.\n",
        "df1 = pd.read_csv('/content/drive/MyDrive/AI /Dec AI/Project - Supervised Learning/Part2+-+Data1.csv')\n",
        "df2 = pd.read_csv('/content/drive/MyDrive/AI /Dec AI/Project - Supervised Learning/Part2+-Data2.csv')"
      ],
      "id": "a913a3ad"
    },
    {
      "cell_type": "code",
      "execution_count": null,
      "metadata": {
        "id": "d6a3c8d6"
      },
      "outputs": [],
      "source": [
        "# To get the datatypes of two dataframes"
      ],
      "id": "d6a3c8d6"
    },
    {
      "cell_type": "code",
      "execution_count": null,
      "metadata": {
        "colab": {
          "base_uri": "https://localhost:8080/"
        },
        "id": "76ed515e",
        "outputId": "bb390b87-570c-4584-9d7e-b632d86c2cdc"
      },
      "outputs": [
        {
          "output_type": "stream",
          "name": "stdout",
          "text": [
            "ID                       int64\n",
            "Age                      int64\n",
            "CustomerSince            int64\n",
            "HighestSpend             int64\n",
            "ZipCode                  int64\n",
            "HiddenScore              int64\n",
            "MonthlyAverageSpend    float64\n",
            "Level                    int64\n",
            "dtype: object\n",
            "------------------------------\n",
            "ID                       int64\n",
            "Mortgage                 int64\n",
            "Security                 int64\n",
            "FixedDepositAccount      int64\n",
            "InternetBanking          int64\n",
            "CreditCard               int64\n",
            "LoanOnCard             float64\n",
            "dtype: object\n"
          ]
        }
      ],
      "source": [
        "print(df1.dtypes)\n",
        "print('-'*30)\n",
        "print(df2.dtypes)"
      ],
      "id": "76ed515e"
    },
    {
      "cell_type": "markdown",
      "metadata": {
        "id": "I1H_ODxkVUGK"
      },
      "source": [
        "All of the features are int values except 'MonthlyAverageSpend'and 'LoanOnCard' features having floating point values"
      ],
      "id": "I1H_ODxkVUGK"
    },
    {
      "cell_type": "code",
      "execution_count": null,
      "metadata": {
        "id": "8fdbaf38",
        "outputId": "81a6ec4c-fc40-42c0-bc14-29eda7a29e5b",
        "colab": {
          "base_uri": "https://localhost:8080/",
          "height": 183
        }
      },
      "outputs": [
        {
          "output_type": "error",
          "ename": "NameError",
          "evalue": "ignored",
          "traceback": [
            "\u001b[0;31m---------------------------------------------------------------------------\u001b[0m",
            "\u001b[0;31mNameError\u001b[0m                                 Traceback (most recent call last)",
            "\u001b[0;32m<ipython-input-1-1f8914be733d>\u001b[0m in \u001b[0;36m<cell line: 2>\u001b[0;34m()\u001b[0m\n\u001b[1;32m      1\u001b[0m \u001b[0;31m# Combine all the 2 DataFrames to form a single DataFrame\u001b[0m\u001b[0;34m\u001b[0m\u001b[0;34m\u001b[0m\u001b[0m\n\u001b[0;32m----> 2\u001b[0;31m \u001b[0mdf\u001b[0m \u001b[0;34m=\u001b[0m \u001b[0mpd\u001b[0m\u001b[0;34m.\u001b[0m\u001b[0mmerge\u001b[0m\u001b[0;34m(\u001b[0m\u001b[0mdf1\u001b[0m\u001b[0;34m,\u001b[0m \u001b[0mdf2\u001b[0m\u001b[0;34m,\u001b[0m\u001b[0mon\u001b[0m\u001b[0;34m=\u001b[0m\u001b[0;34m'ID'\u001b[0m\u001b[0;34m)\u001b[0m\u001b[0;34m\u001b[0m\u001b[0;34m\u001b[0m\u001b[0m\n\u001b[0m",
            "\u001b[0;31mNameError\u001b[0m: name 'pd' is not defined"
          ]
        }
      ],
      "source": [
        "# Combine all the 2 DataFrames to form a single DataFrame\n",
        "df = pd.merge(df1, df2,on='ID')"
      ],
      "id": "8fdbaf38"
    },
    {
      "cell_type": "code",
      "execution_count": null,
      "metadata": {
        "id": "0e7c1f85",
        "scrolled": true
      },
      "outputs": [],
      "source": [
        "# To change the datatypes of the following features: 'CreditCard’, ‘InternetBanking’, ‘FixedDepositAccount’, ‘Security’, ‘Level’, ‘HiddenScore’ to 'Object/Str'.\n",
        "\n",
        "lst_key = ['CreditCard','InternetBanking','FixedDepositAccount','Security','Level','HiddenScore']\n",
        "lst_val = ['object']*len(lst_key)"
      ],
      "id": "0e7c1f85"
    },
    {
      "cell_type": "code",
      "execution_count": null,
      "metadata": {
        "id": "93877d5c"
      },
      "outputs": [],
      "source": [
        "data_dict = {lst_key[i]: lst_val[i] for i in range(len(lst_key))}"
      ],
      "id": "93877d5c"
    },
    {
      "cell_type": "code",
      "execution_count": null,
      "metadata": {
        "colab": {
          "base_uri": "https://localhost:8080/"
        },
        "id": "08acd1b4",
        "outputId": "d3528668-6345-435f-8196-4f6890287baa"
      },
      "outputs": [
        {
          "output_type": "execute_result",
          "data": {
            "text/plain": [
              "{'CreditCard': 'object',\n",
              " 'InternetBanking': 'object',\n",
              " 'FixedDepositAccount': 'object',\n",
              " 'Security': 'object',\n",
              " 'Level': 'object',\n",
              " 'HiddenScore': 'object'}"
            ]
          },
          "metadata": {},
          "execution_count": 931
        }
      ],
      "source": [
        "data_dict"
      ],
      "id": "08acd1b4"
    },
    {
      "cell_type": "code",
      "execution_count": null,
      "metadata": {
        "id": "37bae031"
      },
      "outputs": [],
      "source": [
        "df = df.astype(data_dict) # To change the datatype 'int64' to 'object'for the above 6 features"
      ],
      "id": "37bae031"
    },
    {
      "cell_type": "code",
      "execution_count": null,
      "metadata": {
        "colab": {
          "base_uri": "https://localhost:8080/"
        },
        "id": "40f7a756",
        "scrolled": false,
        "outputId": "8ff91893-477e-404e-8532-19b24a399d09"
      },
      "outputs": [
        {
          "output_type": "execute_result",
          "data": {
            "text/plain": [
              "(5000, 14)"
            ]
          },
          "metadata": {},
          "execution_count": 933
        }
      ],
      "source": [
        "df.shape"
      ],
      "id": "40f7a756"
    },
    {
      "cell_type": "code",
      "execution_count": null,
      "metadata": {
        "colab": {
          "base_uri": "https://localhost:8080/"
        },
        "id": "feb2eb69",
        "outputId": "1be063f3-d946-4965-fcc0-7735ac8dc845"
      },
      "outputs": [
        {
          "output_type": "stream",
          "name": "stdout",
          "text": [
            "<class 'pandas.core.frame.DataFrame'>\n",
            "Int64Index: 5000 entries, 0 to 4999\n",
            "Data columns (total 14 columns):\n",
            " #   Column               Non-Null Count  Dtype  \n",
            "---  ------               --------------  -----  \n",
            " 0   ID                   5000 non-null   int64  \n",
            " 1   Age                  5000 non-null   int64  \n",
            " 2   CustomerSince        5000 non-null   int64  \n",
            " 3   HighestSpend         5000 non-null   int64  \n",
            " 4   ZipCode              5000 non-null   int64  \n",
            " 5   HiddenScore          5000 non-null   object \n",
            " 6   MonthlyAverageSpend  5000 non-null   float64\n",
            " 7   Level                5000 non-null   object \n",
            " 8   Mortgage             5000 non-null   int64  \n",
            " 9   Security             5000 non-null   object \n",
            " 10  FixedDepositAccount  5000 non-null   object \n",
            " 11  InternetBanking      5000 non-null   object \n",
            " 12  CreditCard           5000 non-null   object \n",
            " 13  LoanOnCard           4980 non-null   float64\n",
            "dtypes: float64(2), int64(6), object(6)\n",
            "memory usage: 585.9+ KB\n"
          ]
        }
      ],
      "source": [
        "df.info()"
      ],
      "id": "feb2eb69"
    },
    {
      "cell_type": "markdown",
      "metadata": {
        "id": "LNOe9VV3auyY"
      },
      "source": [
        "- There are '20' null values that need to be treated in LoanOnCard Column i.e 0.4% Null values in LoanOnCard\n",
        "- Features having int values are ID,Age,CustomerSince,HighestSpend,ZipCode,Mortage.\n",
        "- Features having floating point values are MonthlyAverageSpend and LoanOnCard.\n",
        "- Features having object values are HiddenScore,Level,Security,FixedDepositAccount,InternetBanking,CreditCard.\n",
        "- We have 500 instances and 14 columns with memory usage is 585.9+ kB."
      ],
      "id": "LNOe9VV3auyY"
    },
    {
      "cell_type": "markdown",
      "metadata": {
        "id": "Wz1kmk9YbSrL"
      },
      "source": [
        "**Data Exploration**"
      ],
      "id": "Wz1kmk9YbSrL"
    },
    {
      "cell_type": "code",
      "execution_count": null,
      "metadata": {
        "colab": {
          "base_uri": "https://localhost:8080/",
          "height": 288
        },
        "id": "c9c21880",
        "scrolled": false,
        "outputId": "f66c24c8-3cf6-4150-b860-5e2cc84f2b23"
      },
      "outputs": [
        {
          "output_type": "execute_result",
          "data": {
            "text/plain": [
              "<Axes: >"
            ]
          },
          "metadata": {},
          "execution_count": 935
        },
        {
          "output_type": "display_data",
          "data": {
            "text/plain": [
              "<Figure size 432x288 with 1 Axes>"
            ],
            "image/png": "[encoded data removed]"
          },
          "metadata": {
            "needs_background": "light"
          }
        }
      ],
      "source": [
        "df['LoanOnCard'].value_counts().plot(kind='bar')"
      ],
      "id": "c9c21880"
    },
    {
      "cell_type": "markdown",
      "metadata": {
        "id": "deb85c43"
      },
      "source": [
        " Data is highly imbalanced towards 'No'"
      ],
      "id": "deb85c43"
    },
    {
      "cell_type": "code",
      "execution_count": null,
      "metadata": {
        "colab": {
          "base_uri": "https://localhost:8080/"
        },
        "id": "a4824af5",
        "scrolled": true,
        "outputId": "0eb76f42-6d68-4d63-8992-4f834516739f"
      },
      "outputs": [
        {
          "output_type": "execute_result",
          "data": {
            "text/plain": [
              "ID                     0.0\n",
              "Age                    0.0\n",
              "CustomerSince          0.0\n",
              "HighestSpend           0.0\n",
              "ZipCode                0.0\n",
              "HiddenScore            0.0\n",
              "MonthlyAverageSpend    0.0\n",
              "Level                  0.0\n",
              "Mortgage               0.0\n",
              "Security               0.0\n",
              "FixedDepositAccount    0.0\n",
              "InternetBanking        0.0\n",
              "CreditCard             0.0\n",
              "LoanOnCard             0.4\n",
              "dtype: float64"
            ]
          },
          "metadata": {},
          "execution_count": 936
        }
      ],
      "source": [
        "# Print Feature-wise percentage of Null values\n",
        "df.isna().sum()/len(df)*100"
      ],
      "id": "a4824af5"
    },
    {
      "cell_type": "markdown",
      "metadata": {
        "id": "3b919a68"
      },
      "source": [
        "There are '20' null values that need to be treated in LoanOnCard Column i.e 0.4% Null values in LoanOnCard"
      ],
      "id": "3b919a68"
    },
    {
      "cell_type": "code",
      "execution_count": null,
      "metadata": {
        "id": "4eeaff04"
      },
      "outputs": [],
      "source": [
        "# Dropping the null values\n",
        "df.dropna(inplace=True)"
      ],
      "id": "4eeaff04"
    },
    {
      "cell_type": "code",
      "execution_count": null,
      "metadata": {
        "colab": {
          "base_uri": "https://localhost:8080/"
        },
        "id": "a1e47fbd",
        "outputId": "e5ce4d3b-b144-47b5-f46d-cfb7ab16904f"
      },
      "outputs": [
        {
          "output_type": "execute_result",
          "data": {
            "text/plain": [
              "ID                     0.0\n",
              "Age                    0.0\n",
              "CustomerSince          0.0\n",
              "HighestSpend           0.0\n",
              "ZipCode                0.0\n",
              "HiddenScore            0.0\n",
              "MonthlyAverageSpend    0.0\n",
              "Level                  0.0\n",
              "Mortgage               0.0\n",
              "Security               0.0\n",
              "FixedDepositAccount    0.0\n",
              "InternetBanking        0.0\n",
              "CreditCard             0.0\n",
              "LoanOnCard             0.0\n",
              "dtype: float64"
            ]
          },
          "metadata": {},
          "execution_count": 938
        }
      ],
      "source": [
        "# Print Feature-wise percentage of Null values\n",
        "df.isna().sum()/len(df)*100"
      ],
      "id": "a1e47fbd"
    },
    {
      "cell_type": "markdown",
      "metadata": {
        "id": "EdaT5_s5Zdff"
      },
      "source": [
        "There are no null values that need to be treated."
      ],
      "id": "EdaT5_s5Zdff"
    },
    {
      "cell_type": "code",
      "execution_count": null,
      "metadata": {
        "id": "f06df805"
      },
      "outputs": [],
      "source": [
        "# To change the values of the expected values like ‘?’, ‘a’, 1.5 in all the features to 0/1"
      ],
      "id": "f06df805"
    },
    {
      "cell_type": "code",
      "execution_count": null,
      "metadata": {
        "id": "aa5a9f76"
      },
      "outputs": [],
      "source": [
        "col_list = df.select_dtypes(include='object').columns"
      ],
      "id": "aa5a9f76"
    },
    {
      "cell_type": "code",
      "execution_count": null,
      "metadata": {
        "colab": {
          "base_uri": "https://localhost:8080/"
        },
        "id": "bf1470a4",
        "outputId": "0863e404-15b9-4f98-cf33-233af959374e"
      },
      "outputs": [
        {
          "output_type": "stream",
          "name": "stdout",
          "text": [
            "Unique values in HiddenScore are \n",
            " 1    1466\n",
            "2    1293\n",
            "4    1215\n",
            "3    1006\n",
            "Name: HiddenScore, dtype: int64\n",
            "HiddenScore\n",
            "********************\n",
            "Unique values in Level are \n",
            " 1    2089\n",
            "3    1496\n",
            "2    1395\n",
            "Name: Level, dtype: int64\n",
            "Level\n",
            "********************\n",
            "Unique values in Security are \n",
            " 0    4460\n",
            "1     520\n",
            "Name: Security, dtype: int64\n",
            "Security\n",
            "********************\n",
            "Unique values in FixedDepositAccount are \n",
            " 0    4678\n",
            "1     302\n",
            "Name: FixedDepositAccount, dtype: int64\n",
            "FixedDepositAccount\n",
            "********************\n",
            "Unique values in InternetBanking are \n",
            " 1    2974\n",
            "0    2006\n",
            "Name: InternetBanking, dtype: int64\n",
            "InternetBanking\n",
            "********************\n",
            "Unique values in CreditCard are \n",
            " 0    3514\n",
            "1    1466\n",
            "Name: CreditCard, dtype: int64\n",
            "CreditCard\n",
            "********************\n"
          ]
        }
      ],
      "source": [
        "# Using for loop, for getting all the unique values of the features each\n",
        "for i in col_list:\n",
        "    print('Unique values in {} are \\n'.format(i),df[i].value_counts())\n",
        "    print(i)\n",
        "    print('*'*20)"
      ],
      "id": "bf1470a4"
    },
    {
      "cell_type": "markdown",
      "metadata": {
        "id": "1c98b2dc"
      },
      "source": [
        "There are no unexpected values that are need to be treated.\n"
      ],
      "id": "1c98b2dc"
    },
    {
      "cell_type": "markdown",
      "metadata": {
        "id": "09f63f92"
      },
      "source": [
        "**Data Preparation**"
      ],
      "id": "09f63f92"
    },
    {
      "cell_type": "code",
      "execution_count": null,
      "metadata": {
        "id": "ae41d94f"
      },
      "outputs": [],
      "source": [
        "# To split data into X and Y\n",
        "# Create a separate dataframe consisting only of the features i.e independent attributes\n",
        "X = df.drop(['LoanOnCard','ID','ZipCode'],axis=1) # To drop 'LoanOnCard' , 'ID' , 'ZipCode'\n",
        "y = df['LoanOnCard']"
      ],
      "id": "ae41d94f"
    },
    {
      "cell_type": "code",
      "execution_count": null,
      "metadata": {
        "id": "8c1954a5"
      },
      "outputs": [],
      "source": [
        "# To split data into train and test with 75:25 proportion\n",
        "x_train, x_test, y_train, y_test = train_test_split(X,y,random_state = 90,test_size=0.25)"
      ],
      "id": "8c1954a5"
    },
    {
      "cell_type": "code",
      "execution_count": null,
      "metadata": {
        "id": "32e3cb8a"
      },
      "outputs": [],
      "source": [
        "from sklearn.linear_model import LogisticRegression"
      ],
      "id": "32e3cb8a"
    },
    {
      "cell_type": "code",
      "execution_count": null,
      "metadata": {
        "colab": {
          "base_uri": "https://localhost:8080/",
          "height": 206
        },
        "id": "50d1d37b",
        "outputId": "042fccf4-81f8-46a1-990c-7cb561665275"
      },
      "outputs": [
        {
          "output_type": "execute_result",
          "data": {
            "text/plain": [
              "      Age  CustomerSince  HighestSpend HiddenScore  MonthlyAverageSpend Level  \\\n",
              "3981   64             39            22           3                 0.50     1   \n",
              "1270   43             18            60           2                 2.20     3   \n",
              "1336   36             12            42           1                 1.33     1   \n",
              "2123   28              2             9           1                 0.10     2   \n",
              "1808   55             31            50           4                 1.50     1   \n",
              "\n",
              "      Mortgage Security FixedDepositAccount InternetBanking CreditCard  \n",
              "3981         0        1                   1               1          1  \n",
              "1270         0        0                   0               0          1  \n",
              "1336         0        0                   0               1          0  \n",
              "2123         0        0                   0               1          0  \n",
              "1808         0        0                   0               1          0  "
            ],
            "text/html": [
              "\n",
              "  <div id=\"df-65dd5d1a-af30-4719-904e-71a466b603ae\">\n",
              "    <div class=\"colab-df-container\">\n",
              "      <div>\n",
              "<style scoped>\n",
              "    .dataframe tbody tr th:only-of-type {\n",
              "        vertical-align: middle;\n",
              "    }\n",
              "\n",
              "    .dataframe tbody tr th {\n",
              "        vertical-align: top;\n",
              "    }\n",
              "\n",
              "    .dataframe thead th {\n",
              "        text-align: right;\n",
              "    }\n",
              "</style>\n",
              "<table border=\"1\" class=\"dataframe\">\n",
              "  <thead>\n",
              "    <tr style=\"text-align: right;\">\n",
              "      <th></th>\n",
              "      <th>Age</th>\n",
              "      <th>CustomerSince</th>\n",
              "      <th>HighestSpend</th>\n",
              "      <th>HiddenScore</th>\n",
              "      <th>MonthlyAverageSpend</th>\n",
              "      <th>Level</th>\n",
              "      <th>Mortgage</th>\n",
              "      <th>Security</th>\n",
              "      <th>FixedDepositAccount</th>\n",
              "      <th>InternetBanking</th>\n",
              "      <th>CreditCard</th>\n",
              "    </tr>\n",
              "  </thead>\n",
              "  <tbody>\n",
              "    <tr>\n",
              "      <th>3981</th>\n",
              "      <td>64</td>\n",
              "      <td>39</td>\n",
              "      <td>22</td>\n",
              "      <td>3</td>\n",
              "      <td>0.50</td>\n",
              "      <td>1</td>\n",
              "      <td>0</td>\n",
              "      <td>1</td>\n",
              "      <td>1</td>\n",
              "      <td>1</td>\n",
              "      <td>1</td>\n",
              "    </tr>\n",
              "    <tr>\n",
              "      <th>1270</th>\n",
              "      <td>43</td>\n",
              "      <td>18</td>\n",
              "      <td>60</td>\n",
              "      <td>2</td>\n",
              "      <td>2.20</td>\n",
              "      <td>3</td>\n",
              "      <td>0</td>\n",
              "      <td>0</td>\n",
              "      <td>0</td>\n",
              "      <td>0</td>\n",
              "      <td>1</td>\n",
              "    </tr>\n",
              "    <tr>\n",
              "      <th>1336</th>\n",
              "      <td>36</td>\n",
              "      <td>12</td>\n",
              "      <td>42</td>\n",
              "      <td>1</td>\n",
              "      <td>1.33</td>\n",
              "      <td>1</td>\n",
              "      <td>0</td>\n",
              "      <td>0</td>\n",
              "      <td>0</td>\n",
              "      <td>1</td>\n",
              "      <td>0</td>\n",
              "    </tr>\n",
              "    <tr>\n",
              "      <th>2123</th>\n",
              "      <td>28</td>\n",
              "      <td>2</td>\n",
              "      <td>9</td>\n",
              "      <td>1</td>\n",
              "      <td>0.10</td>\n",
              "      <td>2</td>\n",
              "      <td>0</td>\n",
              "      <td>0</td>\n",
              "      <td>0</td>\n",
              "      <td>1</td>\n",
              "      <td>0</td>\n",
              "    </tr>\n",
              "    <tr>\n",
              "      <th>1808</th>\n",
              "      <td>55</td>\n",
              "      <td>31</td>\n",
              "      <td>50</td>\n",
              "      <td>4</td>\n",
              "      <td>1.50</td>\n",
              "      <td>1</td>\n",
              "      <td>0</td>\n",
              "      <td>0</td>\n",
              "      <td>0</td>\n",
              "      <td>1</td>\n",
              "      <td>0</td>\n",
              "    </tr>\n",
              "  </tbody>\n",
              "</table>\n",
              "</div>\n",
              "      <button class=\"colab-df-convert\" onclick=\"convertToInteractive('df-65dd5d1a-af30-4719-904e-71a466b603ae')\"\n",
              "              title=\"Convert this dataframe to an interactive table.\"\n",
              "              style=\"display:none;\">\n",
              "        \n",
              "  <svg xmlns=\"http://www.w3.org/2000/svg\" height=\"24px\"viewBox=\"0 0 24 24\"\n",
              "       width=\"24px\">\n",
              "    <path d=\"M0 0h24v24H0V0z\" fill=\"none\"/>\n",
              "    <path d=\"M18.56 5.44l.94 2.06.94-2.06 2.06-.94-2.06-.94-.94-2.06-.94 2.06-2.06.94zm-11 1L8.5 8.5l.94-2.06 2.06-.94-2.06-.94L8.5 2.5l-.94 2.06-2.06.94zm10 10l.94 2.06.94-2.06 2.06-.94-2.06-.94-.94-2.06-.94 2.06-2.06.94z\"/><path d=\"M17.41 7.96l-1.37-1.37c-.4-.4-.92-.59-1.43-.59-.52 0-1.04.2-1.43.59L10.3 9.45l-7.72 7.72c-.78.78-.78 2.05 0 2.83L4 21.41c.39.39.9.59 1.41.59.51 0 1.02-.2 1.41-.59l7.78-7.78 2.81-2.81c.8-.78.8-2.07 0-2.86zM5.41 20L4 18.59l7.72-7.72 1.47 1.35L5.41 20z\"/>\n",
              "  </svg>\n",
              "      </button>\n",
              "      \n",
              "  <style>\n",
              "    .colab-df-container {\n",
              "      display:flex;\n",
              "      flex-wrap:wrap;\n",
              "      gap: 12px;\n",
              "    }\n",
              "\n",
              "    .colab-df-convert {\n",
              "      background-color: #E8F0FE;\n",
              "      border: none;\n",
              "      border-radius: 50%;\n",
              "      cursor: pointer;\n",
              "      display: none;\n",
              "      fill: #1967D2;\n",
              "      height: 32px;\n",
              "      padding: 0 0 0 0;\n",
              "      width: 32px;\n",
              "    }\n",
              "\n",
              "    .colab-df-convert:hover {\n",
              "      background-color: #E2EBFA;\n",
              "      box-shadow: 0px 1px 2px rgba(60, 64, 67, 0.3), 0px 1px 3px 1px rgba(60, 64, 67, 0.15);\n",
              "      fill: #174EA6;\n",
              "    }\n",
              "\n",
              "    [theme=dark] .colab-df-convert {\n",
              "      background-color: #3B4455;\n",
              "      fill: #D2E3FC;\n",
              "    }\n",
              "\n",
              "    [theme=dark] .colab-df-convert:hover {\n",
              "      background-color: #434B5C;\n",
              "      box-shadow: 0px 1px 3px 1px rgba(0, 0, 0, 0.15);\n",
              "      filter: drop-shadow(0px 1px 2px rgba(0, 0, 0, 0.3));\n",
              "      fill: #FFFFFF;\n",
              "    }\n",
              "  </style>\n",
              "\n",
              "      <script>\n",
              "        const buttonEl =\n",
              "          document.querySelector('#df-65dd5d1a-af30-4719-904e-71a466b603ae button.colab-df-convert');\n",
              "        buttonEl.style.display =\n",
              "          google.colab.kernel.accessAllowed ? 'block' : 'none';\n",
              "\n",
              "        async function convertToInteractive(key) {\n",
              "          const element = document.querySelector('#df-65dd5d1a-af30-4719-904e-71a466b603ae');\n",
              "          const dataTable =\n",
              "            await google.colab.kernel.invokeFunction('convertToInteractive',\n",
              "                                                     [key], {});\n",
              "          if (!dataTable) return;\n",
              "\n",
              "          const docLinkHtml = 'Like what you see? Visit the ' +\n",
              "            '<a target=\"_blank\" href=https://colab.research.google.com/notebooks/data_table.ipynb>data table notebook</a>'\n",
              "            + ' to learn more about interactive tables.';\n",
              "          element.innerHTML = '';\n",
              "          dataTable['output_type'] = 'display_data';\n",
              "          await google.colab.output.renderOutput(dataTable, element);\n",
              "          const docLink = document.createElement('div');\n",
              "          docLink.innerHTML = docLinkHtml;\n",
              "          element.appendChild(docLink);\n",
              "        }\n",
              "      </script>\n",
              "    </div>\n",
              "  </div>\n",
              "  "
            ]
          },
          "metadata": {},
          "execution_count": 945
        }
      ],
      "source": [
        "x_train.head() # To get first 5 rows of the dataframe"
      ],
      "id": "50d1d37b"
    },
    {
      "cell_type": "code",
      "execution_count": null,
      "metadata": {
        "colab": {
          "base_uri": "https://localhost:8080/",
          "height": 214
        },
        "id": "cb963b3b",
        "scrolled": true,
        "outputId": "1d3ef637-930d-4c88-ca2c-caae19f485c7"
      },
      "outputs": [
        {
          "output_type": "stream",
          "name": "stderr",
          "text": [
            "/usr/local/lib/python3.9/dist-packages/sklearn/linear_model/_logistic.py:458: ConvergenceWarning: lbfgs failed to converge (status=1):\n",
            "STOP: TOTAL NO. of ITERATIONS REACHED LIMIT.\n",
            "\n",
            "Increase the number of iterations (max_iter) or scale the data as shown in:\n",
            "    https://scikit-learn.org/stable/modules/preprocessing.html\n",
            "Please also refer to the documentation for alternative solver options:\n",
            "    https://scikit-learn.org/stable/modules/linear_model.html#logistic-regression\n",
            "  n_iter_i = _check_optimize_result(\n"
          ]
        },
        {
          "output_type": "execute_result",
          "data": {
            "text/plain": [
              "LogisticRegression()"
            ],
            "text/html": [
              "<style>#sk-container-id-27 {color: black;background-color: white;}#sk-container-id-27 pre{padding: 0;}#sk-container-id-27 div.sk-toggleable {background-color: white;}#sk-container-id-27 label.sk-toggleable__label {cursor: pointer;display: block;width: 100%;margin-bottom: 0;padding: 0.3em;box-sizing: border-box;text-align: center;}#sk-container-id-27 label.sk-toggleable__label-arrow:before {content: \"▸\";float: left;margin-right: 0.25em;color: #696969;}#sk-container-id-27 label.sk-toggleable__label-arrow:hover:before {color: black;}#sk-container-id-27 div.sk-estimator:hover label.sk-toggleable__label-arrow:before {color: black;}#sk-container-id-27 div.sk-toggleable__content {max-height: 0;max-width: 0;overflow: hidden;text-align: left;background-color: #f0f8ff;}#sk-container-id-27 div.sk-toggleable__content pre {margin: 0.2em;color: black;border-radius: 0.25em;background-color: #f0f8ff;}#sk-container-id-27 input.sk-toggleable__control:checked~div.sk-toggleable__content {max-height: 200px;max-width: 100%;overflow: auto;}#sk-container-id-27 input.sk-toggleable__control:checked~label.sk-toggleable__label-arrow:before {content: \"▾\";}#sk-container-id-27 div.sk-estimator input.sk-toggleable__control:checked~label.sk-toggleable__label {background-color: #d4ebff;}#sk-container-id-27 div.sk-label input.sk-toggleable__control:checked~label.sk-toggleable__label {background-color: #d4ebff;}#sk-container-id-27 input.sk-hidden--visually {border: 0;clip: rect(1px 1px 1px 1px);clip: rect(1px, 1px, 1px, 1px);height: 1px;margin: -1px;overflow: hidden;padding: 0;position: absolute;width: 1px;}#sk-container-id-27 div.sk-estimator {font-family: monospace;background-color: #f0f8ff;border: 1px dotted black;border-radius: 0.25em;box-sizing: border-box;margin-bottom: 0.5em;}#sk-container-id-27 div.sk-estimator:hover {background-color: #d4ebff;}#sk-container-id-27 div.sk-parallel-item::after {content: \"\";width: 100%;border-bottom: 1px solid gray;flex-grow: 1;}#sk-container-id-27 div.sk-label:hover label.sk-toggleable__label {background-color: #d4ebff;}#sk-container-id-27 div.sk-serial::before {content: \"\";position: absolute;border-left: 1px solid gray;box-sizing: border-box;top: 0;bottom: 0;left: 50%;z-index: 0;}#sk-container-id-27 div.sk-serial {display: flex;flex-direction: column;align-items: center;background-color: white;padding-right: 0.2em;padding-left: 0.2em;position: relative;}#sk-container-id-27 div.sk-item {position: relative;z-index: 1;}#sk-container-id-27 div.sk-parallel {display: flex;align-items: stretch;justify-content: center;background-color: white;position: relative;}#sk-container-id-27 div.sk-item::before, #sk-container-id-27 div.sk-parallel-item::before {content: \"\";position: absolute;border-left: 1px solid gray;box-sizing: border-box;top: 0;bottom: 0;left: 50%;z-index: -1;}#sk-container-id-27 div.sk-parallel-item {display: flex;flex-direction: column;z-index: 1;position: relative;background-color: white;}#sk-container-id-27 div.sk-parallel-item:first-child::after {align-self: flex-end;width: 50%;}#sk-container-id-27 div.sk-parallel-item:last-child::after {align-self: flex-start;width: 50%;}#sk-container-id-27 div.sk-parallel-item:only-child::after {width: 0;}#sk-container-id-27 div.sk-dashed-wrapped {border: 1px dashed gray;margin: 0 0.4em 0.5em 0.4em;box-sizing: border-box;padding-bottom: 0.4em;background-color: white;}#sk-container-id-27 div.sk-label label {font-family: monospace;font-weight: bold;display: inline-block;line-height: 1.2em;}#sk-container-id-27 div.sk-label-container {text-align: center;}#sk-container-id-27 div.sk-container {/* jupyter's `normalize.less` sets `[hidden] { display: none; }` but bootstrap.min.css set `[hidden] { display: none !important; }` so we also need the `!important` here to be able to override the default hidden behavior on the sphinx rendered scikit-learn.org. See: https://github.com/scikit-learn/scikit-learn/issues/21755 */display: inline-block !important;position: relative;}#sk-container-id-27 div.sk-text-repr-fallback {display: none;}</style><div id=\"sk-container-id-27\" class=\"sk-top-container\"><div class=\"sk-text-repr-fallback\"><pre>LogisticRegression()</pre><b>In a Jupyter environment, please rerun this cell to show the HTML representation or trust the notebook. <br />On GitHub, the HTML representation is unable to render, please try loading this page with nbviewer.org.</b></div><div class=\"sk-container\" hidden><div class=\"sk-item\"><div class=\"sk-estimator sk-toggleable\"><input class=\"sk-toggleable__control sk-hidden--visually\" id=\"sk-estimator-id-41\" type=\"checkbox\" checked><label for=\"sk-estimator-id-41\" class=\"sk-toggleable__label sk-toggleable__label-arrow\">LogisticRegression</label><div class=\"sk-toggleable__content\"><pre>LogisticRegression()</pre></div></div></div></div></div>"
            ]
          },
          "metadata": {},
          "execution_count": 946
        }
      ],
      "source": [
        "lr = LogisticRegression() # Using Logistic Regression model\n",
        "lr.fit(x_train,y_train) # To fit the model\n"
      ],
      "id": "cb963b3b"
    },
    {
      "cell_type": "code",
      "execution_count": null,
      "metadata": {
        "id": "684c841a"
      },
      "outputs": [],
      "source": [
        "train_pred = lr.predict(x_train) # To predict the train responses\n",
        "test_pred = lr.predict(x_test) # To predict the test responses"
      ],
      "id": "684c841a"
    },
    {
      "cell_type": "code",
      "execution_count": null,
      "metadata": {
        "colab": {
          "base_uri": "https://localhost:8080/"
        },
        "id": "d33dbffa",
        "outputId": "f8b27619-a613-4c8f-9c4f-056f1d0c4d94"
      },
      "outputs": [
        {
          "output_type": "execute_result",
          "data": {
            "text/plain": [
              "(1245,)"
            ]
          },
          "metadata": {},
          "execution_count": 948
        }
      ],
      "source": [
        "test_pred.shape # To get the no.of instances of test_pred"
      ],
      "id": "d33dbffa"
    },
    {
      "cell_type": "code",
      "execution_count": null,
      "metadata": {
        "colab": {
          "base_uri": "https://localhost:8080/"
        },
        "id": "fc2962db",
        "outputId": "0ff44384-a6fa-47e2-ce93-ea22b0dae024"
      },
      "outputs": [
        {
          "output_type": "execute_result",
          "data": {
            "text/plain": [
              "(1245,)"
            ]
          },
          "metadata": {},
          "execution_count": 949
        }
      ],
      "source": [
        "y_test.shape # To get the no. of instances of y_test"
      ],
      "id": "fc2962db"
    },
    {
      "cell_type": "code",
      "execution_count": null,
      "metadata": {
        "colab": {
          "base_uri": "https://localhost:8080/"
        },
        "id": "a429da4a",
        "scrolled": true,
        "outputId": "bc45c268-0450-4a02-a38f-fd00553728a4"
      },
      "outputs": [
        {
          "output_type": "stream",
          "name": "stdout",
          "text": [
            "              precision    recall  f1-score   support\n",
            "\n",
            "         0.0       0.96      0.98      0.97      3375\n",
            "         1.0       0.81      0.60      0.69       360\n",
            "\n",
            "    accuracy                           0.95      3735\n",
            "   macro avg       0.88      0.79      0.83      3735\n",
            "weighted avg       0.94      0.95      0.94      3735\n",
            "\n"
          ]
        }
      ],
      "source": [
        "print(classification_report(y_train,train_pred)) # To get the classification report for the train responses"
      ],
      "id": "a429da4a"
    },
    {
      "cell_type": "code",
      "execution_count": null,
      "metadata": {
        "colab": {
          "base_uri": "https://localhost:8080/"
        },
        "id": "036d0c5a",
        "scrolled": false,
        "outputId": "88abaef4-958c-4b91-c6bd-e65cb162cf3a"
      },
      "outputs": [
        {
          "output_type": "stream",
          "name": "stdout",
          "text": [
            "              precision    recall  f1-score   support\n",
            "\n",
            "         0.0       0.96      1.00      0.98      1125\n",
            "         1.0       0.93      0.59      0.72       120\n",
            "\n",
            "    accuracy                           0.96      1245\n",
            "   macro avg       0.95      0.79      0.85      1245\n",
            "weighted avg       0.96      0.96      0.95      1245\n",
            "\n"
          ]
        }
      ],
      "source": [
        "print(classification_report(y_test,test_pred)) # To get the classification report for the test responses"
      ],
      "id": "036d0c5a"
    },
    {
      "cell_type": "markdown",
      "metadata": {
        "id": "a7101af7"
      },
      "source": [
        "It is observed that accuracy is more but precision and recall values are on lower side for event 1."
      ],
      "id": "a7101af7"
    },
    {
      "cell_type": "markdown",
      "metadata": {
        "id": "h6g7DpUadv7N"
      },
      "source": [
        "**Oversampling & Undersampling Algorithms**"
      ],
      "id": "h6g7DpUadv7N"
    },
    {
      "cell_type": "code",
      "execution_count": null,
      "metadata": {
        "id": "d4b1e9d4"
      },
      "outputs": [],
      "source": [
        "from imblearn.under_sampling import RandomUnderSampler\n",
        "from imblearn.over_sampling import RandomOverSampler"
      ],
      "id": "d4b1e9d4"
    },
    {
      "cell_type": "code",
      "execution_count": null,
      "metadata": {
        "id": "acdace20"
      },
      "outputs": [],
      "source": [
        "undersample = RandomUnderSampler(sampling_strategy=0.5) # Balancing target variable with 50:50\n",
        "oversample = RandomOverSampler(sampling_strategy='minority')"
      ],
      "id": "acdace20"
    },
    {
      "cell_type": "code",
      "execution_count": null,
      "metadata": {
        "id": "8a3c4ac5"
      },
      "outputs": [],
      "source": [
        "X_under, y_under = undersample.fit_resample(X, y) # To fit the model"
      ],
      "id": "8a3c4ac5"
    },
    {
      "cell_type": "code",
      "execution_count": null,
      "metadata": {
        "colab": {
          "base_uri": "https://localhost:8080/"
        },
        "id": "bfc5929a",
        "outputId": "e707d7f2-1741-40c7-dbd8-d914b0abad3d"
      },
      "outputs": [
        {
          "output_type": "execute_result",
          "data": {
            "text/plain": [
              "(1440, 11)"
            ]
          },
          "metadata": {},
          "execution_count": 955
        }
      ],
      "source": [
        "X_under.shape"
      ],
      "id": "bfc5929a"
    },
    {
      "cell_type": "code",
      "execution_count": null,
      "metadata": {
        "colab": {
          "base_uri": "https://localhost:8080/"
        },
        "id": "b234022b",
        "outputId": "8cacc0e6-59cc-4046-bb9f-7bcca6dc7898"
      },
      "outputs": [
        {
          "output_type": "execute_result",
          "data": {
            "text/plain": [
              "(1440,)"
            ]
          },
          "metadata": {},
          "execution_count": 956
        }
      ],
      "source": [
        "y_under.shape"
      ],
      "id": "b234022b"
    },
    {
      "cell_type": "code",
      "execution_count": null,
      "metadata": {
        "colab": {
          "base_uri": "https://localhost:8080/"
        },
        "id": "3bac6d8f",
        "outputId": "ecb35290-5ebe-41e5-9473-c214a6b949aa"
      },
      "outputs": [
        {
          "output_type": "execute_result",
          "data": {
            "text/plain": [
              "0.0    960\n",
              "1.0    480\n",
              "Name: LoanOnCard, dtype: int64"
            ]
          },
          "metadata": {},
          "execution_count": 957
        }
      ],
      "source": [
        "y_under.value_counts() # To get the no.of instances for minority and majority classes seperately"
      ],
      "id": "3bac6d8f"
    },
    {
      "cell_type": "code",
      "execution_count": null,
      "metadata": {
        "id": "ffe43ca5"
      },
      "outputs": [],
      "source": [
        "X_new,y_new = oversample.fit_resample(X_under,y_under)"
      ],
      "id": "ffe43ca5"
    },
    {
      "cell_type": "code",
      "execution_count": null,
      "metadata": {
        "colab": {
          "base_uri": "https://localhost:8080/"
        },
        "id": "ef30146f",
        "outputId": "4012a12b-9d2c-40b8-f4f6-fcf68a77c84f"
      },
      "outputs": [
        {
          "output_type": "execute_result",
          "data": {
            "text/plain": [
              "0.0    960\n",
              "1.0    960\n",
              "Name: LoanOnCard, dtype: int64"
            ]
          },
          "metadata": {},
          "execution_count": 959
        }
      ],
      "source": [
        "y_new.value_counts() # To get the no.of instances for minority and majority classes seperately"
      ],
      "id": "ef30146f"
    },
    {
      "cell_type": "code",
      "source": [
        "y_new.value_counts().plot(kind='bar', title='LoanOncard') # To plot the no.of instances for minority and majority classes seperately"
      ],
      "metadata": {
        "colab": {
          "base_uri": "https://localhost:8080/",
          "height": 304
        },
        "id": "srPS7ep_Rxqf",
        "outputId": "b02fe745-9dc0-48b0-d57c-7c6331e71001"
      },
      "id": "srPS7ep_Rxqf",
      "execution_count": null,
      "outputs": [
        {
          "output_type": "execute_result",
          "data": {
            "text/plain": [
              "<Axes: title={'center': 'LoanOncard'}>"
            ]
          },
          "metadata": {},
          "execution_count": 960
        },
        {
          "output_type": "display_data",
          "data": {
            "text/plain": [
              "<Figure size 432x288 with 1 Axes>"
            ],
            "image/png": "[encoded data removed]"
          },
          "metadata": {
            "needs_background": "light"
          }
        }
      ]
    },
    {
      "cell_type": "code",
      "execution_count": null,
      "metadata": {
        "id": "b0dcd7a3"
      },
      "outputs": [],
      "source": [
        "# To train the data again with balanced data\n",
        "\n",
        "x_train,x_test,y_train,y_test = train_test_split(X_new,y_new,test_size=0.25,random_state=87)"
      ],
      "id": "b0dcd7a3"
    },
    {
      "cell_type": "code",
      "execution_count": null,
      "metadata": {
        "colab": {
          "base_uri": "https://localhost:8080/"
        },
        "id": "134f1aa1",
        "outputId": "cdbe80b8-ff67-44d5-e101-b0e3e82720c8"
      },
      "outputs": [
        {
          "output_type": "stream",
          "name": "stderr",
          "text": [
            "/usr/local/lib/python3.9/dist-packages/sklearn/linear_model/_logistic.py:458: ConvergenceWarning: lbfgs failed to converge (status=1):\n",
            "STOP: TOTAL NO. of ITERATIONS REACHED LIMIT.\n",
            "\n",
            "Increase the number of iterations (max_iter) or scale the data as shown in:\n",
            "    https://scikit-learn.org/stable/modules/preprocessing.html\n",
            "Please also refer to the documentation for alternative solver options:\n",
            "    https://scikit-learn.org/stable/modules/linear_model.html#logistic-regression\n",
            "  n_iter_i = _check_optimize_result(\n"
          ]
        }
      ],
      "source": [
        "lr.fit(x_train,y_train) # To fit the model\n",
        "train_pred = lr.predict(x_train)\n",
        "test_pred = lr.predict(x_test)"
      ],
      "id": "134f1aa1"
    },
    {
      "cell_type": "code",
      "execution_count": null,
      "metadata": {
        "colab": {
          "base_uri": "https://localhost:8080/"
        },
        "id": "ef133e40",
        "outputId": "e9651bf9-7122-4353-8efb-3e5f045c40ea"
      },
      "outputs": [
        {
          "output_type": "stream",
          "name": "stdout",
          "text": [
            "Training Metrics:\n",
            "              precision    recall  f1-score   support\n",
            "\n",
            "         0.0       0.91      0.89      0.90       725\n",
            "         1.0       0.89      0.91      0.90       715\n",
            "\n",
            "    accuracy                           0.90      1440\n",
            "   macro avg       0.90      0.90      0.90      1440\n",
            "weighted avg       0.90      0.90      0.90      1440\n",
            "\n"
          ]
        }
      ],
      "source": [
        "print('Training Metrics:')\n",
        "print(classification_report(y_train,train_pred))"
      ],
      "id": "ef133e40"
    },
    {
      "cell_type": "code",
      "execution_count": null,
      "metadata": {
        "colab": {
          "base_uri": "https://localhost:8080/"
        },
        "id": "99872f9a",
        "outputId": "b755e3f2-46ec-4ba0-a588-902a57de771f"
      },
      "outputs": [
        {
          "output_type": "stream",
          "name": "stdout",
          "text": [
            "Testing Metrics:\n",
            "              precision    recall  f1-score   support\n",
            "\n",
            "         0.0       0.89      0.88      0.89       235\n",
            "         1.0       0.89      0.90      0.89       245\n",
            "\n",
            "    accuracy                           0.89       480\n",
            "   macro avg       0.89      0.89      0.89       480\n",
            "weighted avg       0.89      0.89      0.89       480\n",
            "\n"
          ]
        }
      ],
      "source": [
        "print('Testing Metrics:')\n",
        "print(classification_report(y_test,test_pred))"
      ],
      "id": "99872f9a"
    },
    {
      "cell_type": "markdown",
      "metadata": {
        "id": "50aea614"
      },
      "source": [
        "Accuracy, precision and recall are improved and close to each other after balancing the data"
      ],
      "id": "50aea614"
    },
    {
      "cell_type": "markdown",
      "source": [
        "**Using Synthetic Minority Oversampling Technique(SMOTE) Oversampling:**"
      ],
      "metadata": {
        "id": "HjRswAaSlccl"
      },
      "id": "HjRswAaSlccl"
    },
    {
      "cell_type": "code",
      "source": [
        "# import library\n",
        "from imblearn.over_sampling import SMOTE\n",
        "\n",
        "smote = SMOTE()\n",
        "\n",
        "# fit predictor and target variable\n",
        "x_smote, y_smote = smote.fit_resample(X_under, y_under)\n",
        "\n",
        "y_smote.value_counts() # To get the no.of instances for minority and majority classes seperately"
      ],
      "metadata": {
        "colab": {
          "base_uri": "https://localhost:8080/"
        },
        "id": "Ri1EtLQ1lc2s",
        "outputId": "fbe31806-47d3-4973-c11b-ab30e8fda84a"
      },
      "id": "Ri1EtLQ1lc2s",
      "execution_count": null,
      "outputs": [
        {
          "output_type": "execute_result",
          "data": {
            "text/plain": [
              "0.0    960\n",
              "1.0    960\n",
              "Name: LoanOnCard, dtype: int64"
            ]
          },
          "metadata": {},
          "execution_count": 965
        }
      ]
    },
    {
      "cell_type": "code",
      "source": [
        "y_smote.value_counts().plot(kind='bar', title='LoanOncard') # To plot the no.of instances for minority and majority classes seperately"
      ],
      "metadata": {
        "colab": {
          "base_uri": "https://localhost:8080/",
          "height": 304
        },
        "id": "EBGXG46DlqOF",
        "outputId": "4f22d104-1798-4e02-8ab1-072c3fc5b85e"
      },
      "id": "EBGXG46DlqOF",
      "execution_count": null,
      "outputs": [
        {
          "output_type": "execute_result",
          "data": {
            "text/plain": [
              "<Axes: title={'center': 'LoanOncard'}>"
            ]
          },
          "metadata": {},
          "execution_count": 966
        },
        {
          "output_type": "display_data",
          "data": {
            "text/plain": [
              "<Figure size 432x288 with 1 Axes>"
            ],
            "image/png": "[encoded data removed]"
          },
          "metadata": {
            "needs_background": "light"
          }
        }
      ]
    },
    {
      "cell_type": "code",
      "source": [
        "# To train the data again with balanced data\n",
        "\n",
        "x_train,x_test,y_train,y_test = train_test_split(x_smote,y_smote,test_size=0.25,random_state=87)"
      ],
      "metadata": {
        "id": "oPojVg5_l3S3"
      },
      "id": "oPojVg5_l3S3",
      "execution_count": null,
      "outputs": []
    },
    {
      "cell_type": "code",
      "source": [
        "lr.fit(x_train,y_train) # To fit the model\n",
        "train_pred = lr.predict(x_train)\n",
        "test_pred = lr.predict(x_test)"
      ],
      "metadata": {
        "colab": {
          "base_uri": "https://localhost:8080/"
        },
        "id": "1bgYIpo4l3gu",
        "outputId": "a716672b-6ead-4235-a681-55eb76853644"
      },
      "id": "1bgYIpo4l3gu",
      "execution_count": null,
      "outputs": [
        {
          "output_type": "stream",
          "name": "stderr",
          "text": [
            "/usr/local/lib/python3.9/dist-packages/sklearn/linear_model/_logistic.py:458: ConvergenceWarning: lbfgs failed to converge (status=1):\n",
            "STOP: TOTAL NO. of ITERATIONS REACHED LIMIT.\n",
            "\n",
            "Increase the number of iterations (max_iter) or scale the data as shown in:\n",
            "    https://scikit-learn.org/stable/modules/preprocessing.html\n",
            "Please also refer to the documentation for alternative solver options:\n",
            "    https://scikit-learn.org/stable/modules/linear_model.html#logistic-regression\n",
            "  n_iter_i = _check_optimize_result(\n"
          ]
        }
      ]
    },
    {
      "cell_type": "code",
      "source": [
        "print('Training Metrics:')\n",
        "print(classification_report(y_train,train_pred))"
      ],
      "metadata": {
        "colab": {
          "base_uri": "https://localhost:8080/"
        },
        "id": "6kzCbkinl7ni",
        "outputId": "cb7e03d2-66a1-4aed-9550-0f142d6e6e0a"
      },
      "id": "6kzCbkinl7ni",
      "execution_count": null,
      "outputs": [
        {
          "output_type": "stream",
          "name": "stdout",
          "text": [
            "Training Metrics:\n",
            "              precision    recall  f1-score   support\n",
            "\n",
            "         0.0       0.91      0.89      0.90       725\n",
            "         1.0       0.89      0.92      0.90       715\n",
            "\n",
            "    accuracy                           0.90      1440\n",
            "   macro avg       0.90      0.90      0.90      1440\n",
            "weighted avg       0.90      0.90      0.90      1440\n",
            "\n"
          ]
        }
      ]
    },
    {
      "cell_type": "code",
      "source": [
        "print('Testing Metrics:')\n",
        "print(classification_report(y_test,test_pred))"
      ],
      "metadata": {
        "colab": {
          "base_uri": "https://localhost:8080/"
        },
        "id": "r9M-PkAil74X",
        "outputId": "146b404c-185a-4905-a4a0-96461890a350"
      },
      "id": "r9M-PkAil74X",
      "execution_count": null,
      "outputs": [
        {
          "output_type": "stream",
          "name": "stdout",
          "text": [
            "Testing Metrics:\n",
            "              precision    recall  f1-score   support\n",
            "\n",
            "         0.0       0.90      0.89      0.90       235\n",
            "         1.0       0.90      0.90      0.90       245\n",
            "\n",
            "    accuracy                           0.90       480\n",
            "   macro avg       0.90      0.90      0.90       480\n",
            "weighted avg       0.90      0.90      0.90       480\n",
            "\n"
          ]
        }
      ]
    },
    {
      "cell_type": "markdown",
      "source": [
        "Accuracy, precision and recall are improved and close to each other after balancing the data. Helps to overcome the overfitting problem posed by random oversampling."
      ],
      "metadata": {
        "id": "ZYDG9u-Fn7PG"
      },
      "id": "ZYDG9u-Fn7PG"
    },
    {
      "cell_type": "markdown",
      "metadata": {
        "id": "JYtM1ZStj3VW"
      },
      "source": [
        "**Performance Improvement:**"
      ],
      "id": "JYtM1ZStj3VW"
    },
    {
      "cell_type": "code",
      "execution_count": null,
      "metadata": {
        "id": "458c840f"
      },
      "outputs": [],
      "source": [
        "# To import neccessary libraries\n",
        "\n",
        "from sklearn.svm import SVC\n",
        "from sklearn.naive_bayes import MultinomialNB, GaussianNB\n",
        "from sklearn.tree import DecisionTreeClassifier\n",
        "from sklearn.ensemble import RandomForestClassifier"
      ],
      "id": "458c840f"
    },
    {
      "cell_type": "code",
      "execution_count": null,
      "metadata": {
        "id": "5aca2374"
      },
      "outputs": [],
      "source": [
        "def classify(classifier): # Using def for classifying the all classifiers models\n",
        "    classifier.fit(x_train,y_train)\n",
        "    pred_train = classifier.predict(x_train)\n",
        "    pred_test = classifier.predict(x_test)\n",
        "    print('Training Performace')\n",
        "    print(classification_report(y_train,pred_train))\n",
        "    print('*'*50)\n",
        "    print('Testing Performace')\n",
        "    print(classification_report(y_test,pred_test))\n",
        ""
      ],
      "id": "5aca2374"
    },
    {
      "cell_type": "code",
      "execution_count": null,
      "metadata": {
        "colab": {
          "base_uri": "https://localhost:8080/"
        },
        "id": "a5f05e98",
        "outputId": "9c9cfd22-d8bb-4bc1-da15-6ba1d63b08ee"
      },
      "outputs": [
        {
          "output_type": "stream",
          "name": "stdout",
          "text": [
            "Training Performace\n",
            "              precision    recall  f1-score   support\n",
            "\n",
            "         0.0       0.94      0.83      0.88       725\n",
            "         1.0       0.85      0.95      0.89       715\n",
            "\n",
            "    accuracy                           0.89      1440\n",
            "   macro avg       0.89      0.89      0.89      1440\n",
            "weighted avg       0.89      0.89      0.89      1440\n",
            "\n",
            "**************************************************\n",
            "Testing Performace\n",
            "              precision    recall  f1-score   support\n",
            "\n",
            "         0.0       0.89      0.83      0.85       235\n",
            "         1.0       0.84      0.90      0.87       245\n",
            "\n",
            "    accuracy                           0.86       480\n",
            "   macro avg       0.86      0.86      0.86       480\n",
            "weighted avg       0.86      0.86      0.86       480\n",
            "\n"
          ]
        }
      ],
      "source": [
        "svm = SVC() # Using SVM model\n",
        "classify(svm)"
      ],
      "id": "a5f05e98"
    },
    {
      "cell_type": "code",
      "execution_count": null,
      "metadata": {
        "colab": {
          "base_uri": "https://localhost:8080/"
        },
        "id": "244a9297",
        "outputId": "7f355185-9cae-4d7c-bbf7-05e7ec406d11"
      },
      "outputs": [
        {
          "output_type": "stream",
          "name": "stdout",
          "text": [
            "Training Performace\n",
            "              precision    recall  f1-score   support\n",
            "\n",
            "         0.0       0.81      0.88      0.85       725\n",
            "         1.0       0.87      0.79      0.83       715\n",
            "\n",
            "    accuracy                           0.84      1440\n",
            "   macro avg       0.84      0.84      0.84      1440\n",
            "weighted avg       0.84      0.84      0.84      1440\n",
            "\n",
            "**************************************************\n",
            "Testing Performace\n",
            "              precision    recall  f1-score   support\n",
            "\n",
            "         0.0       0.79      0.90      0.84       235\n",
            "         1.0       0.89      0.77      0.82       245\n",
            "\n",
            "    accuracy                           0.83       480\n",
            "   macro avg       0.84      0.83      0.83       480\n",
            "weighted avg       0.84      0.83      0.83       480\n",
            "\n"
          ]
        }
      ],
      "source": [
        "nb = GaussianNB() # Using Gaussian Naive Model\n",
        "classify(nb)"
      ],
      "id": "244a9297"
    },
    {
      "cell_type": "code",
      "execution_count": null,
      "metadata": {
        "colab": {
          "base_uri": "https://localhost:8080/"
        },
        "id": "sopURPXbnTYx",
        "outputId": "d49fe5a8-832f-4542-d201-6ad032b3a2a3"
      },
      "outputs": [
        {
          "output_type": "stream",
          "name": "stdout",
          "text": [
            "Training Performace\n",
            "              precision    recall  f1-score   support\n",
            "\n",
            "         0.0       0.95      0.86      0.90       725\n",
            "         1.0       0.87      0.96      0.91       715\n",
            "\n",
            "    accuracy                           0.91      1440\n",
            "   macro avg       0.91      0.91      0.91      1440\n",
            "weighted avg       0.91      0.91      0.91      1440\n",
            "\n",
            "**************************************************\n",
            "Testing Performace\n",
            "              precision    recall  f1-score   support\n",
            "\n",
            "         0.0       0.90      0.83      0.87       235\n",
            "         1.0       0.85      0.91      0.88       245\n",
            "\n",
            "    accuracy                           0.88       480\n",
            "   macro avg       0.88      0.87      0.87       480\n",
            "weighted avg       0.88      0.88      0.87       480\n",
            "\n"
          ]
        }
      ],
      "source": [
        "knn = KNeighborsClassifier() # Using KneighborsClassifier model\n",
        "classify(knn)"
      ],
      "id": "sopURPXbnTYx"
    },
    {
      "cell_type": "markdown",
      "metadata": {
        "id": "jaoskFqXrPGH"
      },
      "source": [
        "**Tuning Parameters**"
      ],
      "id": "jaoskFqXrPGH"
    },
    {
      "cell_type": "code",
      "execution_count": null,
      "metadata": {
        "colab": {
          "base_uri": "https://localhost:8080/"
        },
        "id": "bc3f292e",
        "outputId": "f3a2e59c-1938-4bd1-a66c-fccdb81c87dc"
      },
      "outputs": [
        {
          "output_type": "stream",
          "name": "stdout",
          "text": [
            "Training Performace\n",
            "              precision    recall  f1-score   support\n",
            "\n",
            "         0.0       1.00      1.00      1.00       725\n",
            "         1.0       1.00      1.00      1.00       715\n",
            "\n",
            "    accuracy                           1.00      1440\n",
            "   macro avg       1.00      1.00      1.00      1440\n",
            "weighted avg       1.00      1.00      1.00      1440\n",
            "\n",
            "**************************************************\n",
            "Testing Performace\n",
            "              precision    recall  f1-score   support\n",
            "\n",
            "         0.0       0.79      0.90      0.84       235\n",
            "         1.0       0.89      0.77      0.82       245\n",
            "\n",
            "    accuracy                           0.83       480\n",
            "   macro avg       0.84      0.83      0.83       480\n",
            "weighted avg       0.84      0.83      0.83       480\n",
            "\n"
          ]
        }
      ],
      "source": [
        "svm = SVC(C=5,kernel='rbf',gamma='auto') # Using SVM model\n",
        "classify(svm)"
      ],
      "id": "bc3f292e"
    },
    {
      "cell_type": "code",
      "execution_count": null,
      "metadata": {
        "colab": {
          "base_uri": "https://localhost:8080/"
        },
        "id": "y3xv8y5ZsWKo",
        "outputId": "c8ca7eb6-d7c6-471f-a35c-e1468b417fba"
      },
      "outputs": [
        {
          "output_type": "stream",
          "name": "stdout",
          "text": [
            "Training Performace\n",
            "              precision    recall  f1-score   support\n",
            "\n",
            "         0.0       1.00      1.00      1.00       725\n",
            "         1.0       1.00      1.00      1.00       715\n",
            "\n",
            "    accuracy                           1.00      1440\n",
            "   macro avg       1.00      1.00      1.00      1440\n",
            "weighted avg       1.00      1.00      1.00      1440\n",
            "\n",
            "**************************************************\n",
            "Testing Performace\n",
            "              precision    recall  f1-score   support\n",
            "\n",
            "         0.0       0.78      0.90      0.84       235\n",
            "         1.0       0.89      0.76      0.82       245\n",
            "\n",
            "    accuracy                           0.83       480\n",
            "   macro avg       0.83      0.83      0.83       480\n",
            "weighted avg       0.84      0.83      0.83       480\n",
            "\n"
          ]
        }
      ],
      "source": [
        "svm = SVC(C=10,kernel='rbf',gamma=0.1)\n",
        "classify(svm)"
      ],
      "id": "y3xv8y5ZsWKo"
    },
    {
      "cell_type": "code",
      "execution_count": null,
      "metadata": {
        "colab": {
          "base_uri": "https://localhost:8080/"
        },
        "id": "332d1c2a",
        "outputId": "88f64b2a-40cb-4c32-de4e-42e027ccb21a"
      },
      "outputs": [
        {
          "output_type": "stream",
          "name": "stdout",
          "text": [
            "Training Performace\n",
            "              precision    recall  f1-score   support\n",
            "\n",
            "         0.0       0.98      0.98      0.98       725\n",
            "         1.0       0.98      0.98      0.98       715\n",
            "\n",
            "    accuracy                           0.98      1440\n",
            "   macro avg       0.98      0.98      0.98      1440\n",
            "weighted avg       0.98      0.98      0.98      1440\n",
            "\n",
            "**************************************************\n",
            "Testing Performace\n",
            "              precision    recall  f1-score   support\n",
            "\n",
            "         0.0       0.95      0.95      0.95       235\n",
            "         1.0       0.95      0.95      0.95       245\n",
            "\n",
            "    accuracy                           0.95       480\n",
            "   macro avg       0.95      0.95      0.95       480\n",
            "weighted avg       0.95      0.95      0.95       480\n",
            "\n"
          ]
        }
      ],
      "source": [
        "dt = DecisionTreeClassifier(criterion='entropy',max_depth=10,max_leaf_nodes=15) # Using decision Tree Classifier model\n",
        "classify(dt)"
      ],
      "id": "332d1c2a"
    },
    {
      "cell_type": "markdown",
      "metadata": {
        "id": "6KfyAW2I1E64"
      },
      "source": [
        "**Using Gridsearch CV**"
      ],
      "id": "6KfyAW2I1E64"
    },
    {
      "cell_type": "code",
      "execution_count": null,
      "metadata": {
        "colab": {
          "base_uri": "https://localhost:8080/",
          "height": 1000
        },
        "id": "5b3b1ny-1EIa",
        "outputId": "f703d77c-c680-4cad-9afc-019f118ad3d5"
      },
      "outputs": [
        {
          "output_type": "stream",
          "name": "stdout",
          "text": [
            "Fitting 5 folds for each of 25 candidates, totalling 125 fits\n",
            "[CV 1/5] END ........C=0.1, gamma=1, kernel=rbf;, score=0.503 total time=   0.1s\n",
            "[CV 2/5] END ........C=0.1, gamma=1, kernel=rbf;, score=0.503 total time=   0.1s\n",
            "[CV 3/5] END ........C=0.1, gamma=1, kernel=rbf;, score=0.503 total time=   0.1s\n",
            "[CV 4/5] END ........C=0.1, gamma=1, kernel=rbf;, score=0.503 total time=   0.1s\n",
            "[CV 5/5] END ........C=0.1, gamma=1, kernel=rbf;, score=0.503 total time=   0.1s\n",
            "[CV 1/5] END ......C=0.1, gamma=0.1, kernel=rbf;, score=0.503 total time=   0.1s\n",
            "[CV 2/5] END ......C=0.1, gamma=0.1, kernel=rbf;, score=0.503 total time=   0.1s\n",
            "[CV 3/5] END ......C=0.1, gamma=0.1, kernel=rbf;, score=0.503 total time=   0.1s\n",
            "[CV 4/5] END ......C=0.1, gamma=0.1, kernel=rbf;, score=0.503 total time=   0.1s\n",
            "[CV 5/5] END ......C=0.1, gamma=0.1, kernel=rbf;, score=0.503 total time=   0.1s\n",
            "[CV 1/5] END .....C=0.1, gamma=0.01, kernel=rbf;, score=0.840 total time=   0.1s\n",
            "[CV 2/5] END .....C=0.1, gamma=0.01, kernel=rbf;, score=0.885 total time=   0.1s\n",
            "[CV 3/5] END .....C=0.1, gamma=0.01, kernel=rbf;, score=0.861 total time=   0.1s\n",
            "[CV 4/5] END .....C=0.1, gamma=0.01, kernel=rbf;, score=0.819 total time=   0.1s\n",
            "[CV 5/5] END .....C=0.1, gamma=0.01, kernel=rbf;, score=0.840 total time=   0.1s\n",
            "[CV 1/5] END ....C=0.1, gamma=0.001, kernel=rbf;, score=0.878 total time=   0.1s\n",
            "[CV 2/5] END ....C=0.1, gamma=0.001, kernel=rbf;, score=0.903 total time=   0.1s\n",
            "[CV 3/5] END ....C=0.1, gamma=0.001, kernel=rbf;, score=0.872 total time=   0.1s\n",
            "[CV 4/5] END ....C=0.1, gamma=0.001, kernel=rbf;, score=0.875 total time=   0.1s\n",
            "[CV 5/5] END ....C=0.1, gamma=0.001, kernel=rbf;, score=0.878 total time=   0.1s\n",
            "[CV 1/5] END ...C=0.1, gamma=0.0001, kernel=rbf;, score=0.872 total time=   0.0s\n",
            "[CV 2/5] END ...C=0.1, gamma=0.0001, kernel=rbf;, score=0.903 total time=   0.0s\n",
            "[CV 3/5] END ...C=0.1, gamma=0.0001, kernel=rbf;, score=0.865 total time=   0.0s\n",
            "[CV 4/5] END ...C=0.1, gamma=0.0001, kernel=rbf;, score=0.868 total time=   0.0s\n",
            "[CV 5/5] END ...C=0.1, gamma=0.0001, kernel=rbf;, score=0.878 total time=   0.0s\n",
            "[CV 1/5] END ..........C=1, gamma=1, kernel=rbf;, score=0.615 total time=   0.1s\n",
            "[CV 2/5] END ..........C=1, gamma=1, kernel=rbf;, score=0.667 total time=   0.1s\n",
            "[CV 3/5] END ..........C=1, gamma=1, kernel=rbf;, score=0.608 total time=   0.1s\n",
            "[CV 4/5] END ..........C=1, gamma=1, kernel=rbf;, score=0.670 total time=   0.1s\n",
            "[CV 5/5] END ..........C=1, gamma=1, kernel=rbf;, score=0.667 total time=   0.1s\n",
            "[CV 1/5] END ........C=1, gamma=0.1, kernel=rbf;, score=0.795 total time=   0.1s\n",
            "[CV 2/5] END ........C=1, gamma=0.1, kernel=rbf;, score=0.785 total time=   0.1s\n",
            "[CV 3/5] END ........C=1, gamma=0.1, kernel=rbf;, score=0.750 total time=   0.1s\n",
            "[CV 4/5] END ........C=1, gamma=0.1, kernel=rbf;, score=0.795 total time=   0.1s\n",
            "[CV 5/5] END ........C=1, gamma=0.1, kernel=rbf;, score=0.816 total time=   0.1s\n",
            "[CV 1/5] END .......C=1, gamma=0.01, kernel=rbf;, score=0.878 total time=   0.1s\n",
            "[CV 2/5] END .......C=1, gamma=0.01, kernel=rbf;, score=0.882 total time=   0.1s\n",
            "[CV 3/5] END .......C=1, gamma=0.01, kernel=rbf;, score=0.875 total time=   0.1s\n",
            "[CV 4/5] END .......C=1, gamma=0.01, kernel=rbf;, score=0.868 total time=   0.1s\n",
            "[CV 5/5] END .......C=1, gamma=0.01, kernel=rbf;, score=0.865 total time=   0.1s\n",
            "[CV 1/5] END ......C=1, gamma=0.001, kernel=rbf;, score=0.882 total time=   0.0s\n",
            "[CV 2/5] END ......C=1, gamma=0.001, kernel=rbf;, score=0.917 total time=   0.0s\n",
            "[CV 3/5] END ......C=1, gamma=0.001, kernel=rbf;, score=0.872 total time=   0.0s\n",
            "[CV 4/5] END ......C=1, gamma=0.001, kernel=rbf;, score=0.872 total time=   0.0s\n",
            "[CV 5/5] END ......C=1, gamma=0.001, kernel=rbf;, score=0.875 total time=   0.0s\n",
            "[CV 1/5] END .....C=1, gamma=0.0001, kernel=rbf;, score=0.875 total time=   0.0s\n",
            "[CV 2/5] END .....C=1, gamma=0.0001, kernel=rbf;, score=0.920 total time=   0.0s\n",
            "[CV 3/5] END .....C=1, gamma=0.0001, kernel=rbf;, score=0.878 total time=   0.0s\n",
            "[CV 4/5] END .....C=1, gamma=0.0001, kernel=rbf;, score=0.882 total time=   0.0s\n",
            "[CV 5/5] END .....C=1, gamma=0.0001, kernel=rbf;, score=0.875 total time=   0.1s\n",
            "[CV 1/5] END .........C=10, gamma=1, kernel=rbf;, score=0.625 total time=   0.1s\n",
            "[CV 2/5] END .........C=10, gamma=1, kernel=rbf;, score=0.691 total time=   0.1s\n",
            "[CV 3/5] END .........C=10, gamma=1, kernel=rbf;, score=0.622 total time=   0.1s\n",
            "[CV 4/5] END .........C=10, gamma=1, kernel=rbf;, score=0.677 total time=   0.1s\n",
            "[CV 5/5] END .........C=10, gamma=1, kernel=rbf;, score=0.684 total time=   0.1s\n",
            "[CV 1/5] END .......C=10, gamma=0.1, kernel=rbf;, score=0.809 total time=   0.1s\n",
            "[CV 2/5] END .......C=10, gamma=0.1, kernel=rbf;, score=0.799 total time=   0.1s\n",
            "[CV 3/5] END .......C=10, gamma=0.1, kernel=rbf;, score=0.760 total time=   0.1s\n",
            "[CV 4/5] END .......C=10, gamma=0.1, kernel=rbf;, score=0.806 total time=   0.1s\n",
            "[CV 5/5] END .......C=10, gamma=0.1, kernel=rbf;, score=0.830 total time=   0.1s\n",
            "[CV 1/5] END ......C=10, gamma=0.01, kernel=rbf;, score=0.885 total time=   0.1s\n",
            "[CV 2/5] END ......C=10, gamma=0.01, kernel=rbf;, score=0.899 total time=   0.1s\n",
            "[CV 3/5] END ......C=10, gamma=0.01, kernel=rbf;, score=0.906 total time=   0.1s\n",
            "[CV 4/5] END ......C=10, gamma=0.01, kernel=rbf;, score=0.889 total time=   0.1s\n",
            "[CV 5/5] END ......C=10, gamma=0.01, kernel=rbf;, score=0.889 total time=   0.1s\n",
            "[CV 1/5] END .....C=10, gamma=0.001, kernel=rbf;, score=0.892 total time=   0.1s\n",
            "[CV 2/5] END .....C=10, gamma=0.001, kernel=rbf;, score=0.920 total time=   0.0s\n",
            "[CV 3/5] END .....C=10, gamma=0.001, kernel=rbf;, score=0.882 total time=   0.0s\n",
            "[CV 4/5] END .....C=10, gamma=0.001, kernel=rbf;, score=0.885 total time=   0.0s\n",
            "[CV 5/5] END .....C=10, gamma=0.001, kernel=rbf;, score=0.878 total time=   0.0s\n",
            "[CV 1/5] END ....C=10, gamma=0.0001, kernel=rbf;, score=0.882 total time=   0.0s\n",
            "[CV 2/5] END ....C=10, gamma=0.0001, kernel=rbf;, score=0.910 total time=   0.0s\n",
            "[CV 3/5] END ....C=10, gamma=0.0001, kernel=rbf;, score=0.875 total time=   0.0s\n",
            "[CV 4/5] END ....C=10, gamma=0.0001, kernel=rbf;, score=0.885 total time=   0.0s\n",
            "[CV 5/5] END ....C=10, gamma=0.0001, kernel=rbf;, score=0.878 total time=   0.1s\n",
            "[CV 1/5] END ........C=100, gamma=1, kernel=rbf;, score=0.625 total time=   0.1s\n",
            "[CV 2/5] END ........C=100, gamma=1, kernel=rbf;, score=0.691 total time=   0.1s\n",
            "[CV 3/5] END ........C=100, gamma=1, kernel=rbf;, score=0.622 total time=   0.1s\n",
            "[CV 4/5] END ........C=100, gamma=1, kernel=rbf;, score=0.677 total time=   0.1s\n",
            "[CV 5/5] END ........C=100, gamma=1, kernel=rbf;, score=0.684 total time=   0.1s\n",
            "[CV 1/5] END ......C=100, gamma=0.1, kernel=rbf;, score=0.809 total time=   0.1s\n",
            "[CV 2/5] END ......C=100, gamma=0.1, kernel=rbf;, score=0.799 total time=   0.1s\n",
            "[CV 3/5] END ......C=100, gamma=0.1, kernel=rbf;, score=0.760 total time=   0.1s\n",
            "[CV 4/5] END ......C=100, gamma=0.1, kernel=rbf;, score=0.806 total time=   0.1s\n",
            "[CV 5/5] END ......C=100, gamma=0.1, kernel=rbf;, score=0.830 total time=   0.1s\n",
            "[CV 1/5] END .....C=100, gamma=0.01, kernel=rbf;, score=0.865 total time=   0.1s\n",
            "[CV 2/5] END .....C=100, gamma=0.01, kernel=rbf;, score=0.889 total time=   0.1s\n",
            "[CV 3/5] END .....C=100, gamma=0.01, kernel=rbf;, score=0.913 total time=   0.1s\n",
            "[CV 4/5] END .....C=100, gamma=0.01, kernel=rbf;, score=0.889 total time=   0.2s\n",
            "[CV 5/5] END .....C=100, gamma=0.01, kernel=rbf;, score=0.889 total time=   0.2s\n",
            "[CV 1/5] END ....C=100, gamma=0.001, kernel=rbf;, score=0.927 total time=   0.1s\n",
            "[CV 2/5] END ....C=100, gamma=0.001, kernel=rbf;, score=0.924 total time=   0.1s\n",
            "[CV 3/5] END ....C=100, gamma=0.001, kernel=rbf;, score=0.931 total time=   0.1s\n",
            "[CV 4/5] END ....C=100, gamma=0.001, kernel=rbf;, score=0.910 total time=   0.1s\n",
            "[CV 5/5] END ....C=100, gamma=0.001, kernel=rbf;, score=0.917 total time=   0.1s\n",
            "[CV 1/5] END ...C=100, gamma=0.0001, kernel=rbf;, score=0.892 total time=   0.1s\n",
            "[CV 2/5] END ...C=100, gamma=0.0001, kernel=rbf;, score=0.913 total time=   0.1s\n",
            "[CV 3/5] END ...C=100, gamma=0.0001, kernel=rbf;, score=0.889 total time=   0.1s\n",
            "[CV 4/5] END ...C=100, gamma=0.0001, kernel=rbf;, score=0.899 total time=   0.1s\n",
            "[CV 5/5] END ...C=100, gamma=0.0001, kernel=rbf;, score=0.903 total time=   0.1s\n",
            "[CV 1/5] END .......C=1000, gamma=1, kernel=rbf;, score=0.625 total time=   0.2s\n",
            "[CV 2/5] END .......C=1000, gamma=1, kernel=rbf;, score=0.691 total time=   0.2s\n",
            "[CV 3/5] END .......C=1000, gamma=1, kernel=rbf;, score=0.622 total time=   0.2s\n",
            "[CV 4/5] END .......C=1000, gamma=1, kernel=rbf;, score=0.677 total time=   0.2s\n",
            "[CV 5/5] END .......C=1000, gamma=1, kernel=rbf;, score=0.684 total time=   0.2s\n",
            "[CV 1/5] END .....C=1000, gamma=0.1, kernel=rbf;, score=0.809 total time=   0.2s\n",
            "[CV 2/5] END .....C=1000, gamma=0.1, kernel=rbf;, score=0.799 total time=   0.2s\n",
            "[CV 3/5] END .....C=1000, gamma=0.1, kernel=rbf;, score=0.760 total time=   0.2s\n",
            "[CV 4/5] END .....C=1000, gamma=0.1, kernel=rbf;, score=0.806 total time=   0.2s\n",
            "[CV 5/5] END .....C=1000, gamma=0.1, kernel=rbf;, score=0.830 total time=   0.2s\n",
            "[CV 1/5] END ....C=1000, gamma=0.01, kernel=rbf;, score=0.865 total time=   0.2s\n",
            "[CV 2/5] END ....C=1000, gamma=0.01, kernel=rbf;, score=0.889 total time=   0.2s\n",
            "[CV 3/5] END ....C=1000, gamma=0.01, kernel=rbf;, score=0.913 total time=   0.2s\n",
            "[CV 4/5] END ....C=1000, gamma=0.01, kernel=rbf;, score=0.889 total time=   0.2s\n",
            "[CV 5/5] END ....C=1000, gamma=0.01, kernel=rbf;, score=0.889 total time=   0.2s\n",
            "[CV 1/5] END ...C=1000, gamma=0.001, kernel=rbf;, score=0.920 total time=   0.1s\n",
            "[CV 2/5] END ...C=1000, gamma=0.001, kernel=rbf;, score=0.920 total time=   0.1s\n",
            "[CV 3/5] END ...C=1000, gamma=0.001, kernel=rbf;, score=0.920 total time=   0.1s\n",
            "[CV 4/5] END ...C=1000, gamma=0.001, kernel=rbf;, score=0.917 total time=   0.1s\n",
            "[CV 5/5] END ...C=1000, gamma=0.001, kernel=rbf;, score=0.917 total time=   0.1s\n",
            "[CV 1/5] END ..C=1000, gamma=0.0001, kernel=rbf;, score=0.924 total time=   0.1s\n",
            "[CV 2/5] END ..C=1000, gamma=0.0001, kernel=rbf;, score=0.938 total time=   0.1s\n",
            "[CV 3/5] END ..C=1000, gamma=0.0001, kernel=rbf;, score=0.948 total time=   0.1s\n",
            "[CV 4/5] END ..C=1000, gamma=0.0001, kernel=rbf;, score=0.955 total time=   0.1s\n",
            "[CV 5/5] END ..C=1000, gamma=0.0001, kernel=rbf;, score=0.934 total time=   0.1s\n"
          ]
        },
        {
          "output_type": "execute_result",
          "data": {
            "text/plain": [
              "GridSearchCV(estimator=SVC(),\n",
              "             param_grid={'C': [0.1, 1, 10, 100, 1000],\n",
              "                         'gamma': [1, 0.1, 0.01, 0.001, 0.0001],\n",
              "                         'kernel': ['rbf']},\n",
              "             verbose=3)"
            ],
            "text/html": [
              "<style>#sk-container-id-28 {color: black;background-color: white;}#sk-container-id-28 pre{padding: 0;}#sk-container-id-28 div.sk-toggleable {background-color: white;}#sk-container-id-28 label.sk-toggleable__label {cursor: pointer;display: block;width: 100%;margin-bottom: 0;padding: 0.3em;box-sizing: border-box;text-align: center;}#sk-container-id-28 label.sk-toggleable__label-arrow:before {content: \"▸\";float: left;margin-right: 0.25em;color: #696969;}#sk-container-id-28 label.sk-toggleable__label-arrow:hover:before {color: black;}#sk-container-id-28 div.sk-estimator:hover label.sk-toggleable__label-arrow:before {color: black;}#sk-container-id-28 div.sk-toggleable__content {max-height: 0;max-width: 0;overflow: hidden;text-align: left;background-color: #f0f8ff;}#sk-container-id-28 div.sk-toggleable__content pre {margin: 0.2em;color: black;border-radius: 0.25em;background-color: #f0f8ff;}#sk-container-id-28 input.sk-toggleable__control:checked~div.sk-toggleable__content {max-height: 200px;max-width: 100%;overflow: auto;}#sk-container-id-28 input.sk-toggleable__control:checked~label.sk-toggleable__label-arrow:before {content: \"▾\";}#sk-container-id-28 div.sk-estimator input.sk-toggleable__control:checked~label.sk-toggleable__label {background-color: #d4ebff;}#sk-container-id-28 div.sk-label input.sk-toggleable__control:checked~label.sk-toggleable__label {background-color: #d4ebff;}#sk-container-id-28 input.sk-hidden--visually {border: 0;clip: rect(1px 1px 1px 1px);clip: rect(1px, 1px, 1px, 1px);height: 1px;margin: -1px;overflow: hidden;padding: 0;position: absolute;width: 1px;}#sk-container-id-28 div.sk-estimator {font-family: monospace;background-color: #f0f8ff;border: 1px dotted black;border-radius: 0.25em;box-sizing: border-box;margin-bottom: 0.5em;}#sk-container-id-28 div.sk-estimator:hover {background-color: #d4ebff;}#sk-container-id-28 div.sk-parallel-item::after {content: \"\";width: 100%;border-bottom: 1px solid gray;flex-grow: 1;}#sk-container-id-28 div.sk-label:hover label.sk-toggleable__label {background-color: #d4ebff;}#sk-container-id-28 div.sk-serial::before {content: \"\";position: absolute;border-left: 1px solid gray;box-sizing: border-box;top: 0;bottom: 0;left: 50%;z-index: 0;}#sk-container-id-28 div.sk-serial {display: flex;flex-direction: column;align-items: center;background-color: white;padding-right: 0.2em;padding-left: 0.2em;position: relative;}#sk-container-id-28 div.sk-item {position: relative;z-index: 1;}#sk-container-id-28 div.sk-parallel {display: flex;align-items: stretch;justify-content: center;background-color: white;position: relative;}#sk-container-id-28 div.sk-item::before, #sk-container-id-28 div.sk-parallel-item::before {content: \"\";position: absolute;border-left: 1px solid gray;box-sizing: border-box;top: 0;bottom: 0;left: 50%;z-index: -1;}#sk-container-id-28 div.sk-parallel-item {display: flex;flex-direction: column;z-index: 1;position: relative;background-color: white;}#sk-container-id-28 div.sk-parallel-item:first-child::after {align-self: flex-end;width: 50%;}#sk-container-id-28 div.sk-parallel-item:last-child::after {align-self: flex-start;width: 50%;}#sk-container-id-28 div.sk-parallel-item:only-child::after {width: 0;}#sk-container-id-28 div.sk-dashed-wrapped {border: 1px dashed gray;margin: 0 0.4em 0.5em 0.4em;box-sizing: border-box;padding-bottom: 0.4em;background-color: white;}#sk-container-id-28 div.sk-label label {font-family: monospace;font-weight: bold;display: inline-block;line-height: 1.2em;}#sk-container-id-28 div.sk-label-container {text-align: center;}#sk-container-id-28 div.sk-container {/* jupyter's `normalize.less` sets `[hidden] { display: none; }` but bootstrap.min.css set `[hidden] { display: none !important; }` so we also need the `!important` here to be able to override the default hidden behavior on the sphinx rendered scikit-learn.org. See: https://github.com/scikit-learn/scikit-learn/issues/21755 */display: inline-block !important;position: relative;}#sk-container-id-28 div.sk-text-repr-fallback {display: none;}</style><div id=\"sk-container-id-28\" class=\"sk-top-container\"><div class=\"sk-text-repr-fallback\"><pre>GridSearchCV(estimator=SVC(),\n",
              "             param_grid={&#x27;C&#x27;: [0.1, 1, 10, 100, 1000],\n",
              "                         &#x27;gamma&#x27;: [1, 0.1, 0.01, 0.001, 0.0001],\n",
              "                         &#x27;kernel&#x27;: [&#x27;rbf&#x27;]},\n",
              "             verbose=3)</pre><b>In a Jupyter environment, please rerun this cell to show the HTML representation or trust the notebook. <br />On GitHub, the HTML representation is unable to render, please try loading this page with nbviewer.org.</b></div><div class=\"sk-container\" hidden><div class=\"sk-item sk-dashed-wrapped\"><div class=\"sk-label-container\"><div class=\"sk-label sk-toggleable\"><input class=\"sk-toggleable__control sk-hidden--visually\" id=\"sk-estimator-id-42\" type=\"checkbox\" ><label for=\"sk-estimator-id-42\" class=\"sk-toggleable__label sk-toggleable__label-arrow\">GridSearchCV</label><div class=\"sk-toggleable__content\"><pre>GridSearchCV(estimator=SVC(),\n",
              "             param_grid={&#x27;C&#x27;: [0.1, 1, 10, 100, 1000],\n",
              "                         &#x27;gamma&#x27;: [1, 0.1, 0.01, 0.001, 0.0001],\n",
              "                         &#x27;kernel&#x27;: [&#x27;rbf&#x27;]},\n",
              "             verbose=3)</pre></div></div></div><div class=\"sk-parallel\"><div class=\"sk-parallel-item\"><div class=\"sk-item\"><div class=\"sk-label-container\"><div class=\"sk-label sk-toggleable\"><input class=\"sk-toggleable__control sk-hidden--visually\" id=\"sk-estimator-id-43\" type=\"checkbox\" ><label for=\"sk-estimator-id-43\" class=\"sk-toggleable__label sk-toggleable__label-arrow\">estimator: SVC</label><div class=\"sk-toggleable__content\"><pre>SVC()</pre></div></div></div><div class=\"sk-serial\"><div class=\"sk-item\"><div class=\"sk-estimator sk-toggleable\"><input class=\"sk-toggleable__control sk-hidden--visually\" id=\"sk-estimator-id-44\" type=\"checkbox\" ><label for=\"sk-estimator-id-44\" class=\"sk-toggleable__label sk-toggleable__label-arrow\">SVC</label><div class=\"sk-toggleable__content\"><pre>SVC()</pre></div></div></div></div></div></div></div></div></div></div>"
            ]
          },
          "metadata": {},
          "execution_count": 979
        }
      ],
      "source": [
        "from sklearn.model_selection import GridSearchCV\n",
        "\n",
        "# defining parameter range\n",
        "param_grid = {'C': [0.1, 1, 10, 100, 1000],\n",
        "              'gamma': [1, 0.1, 0.01, 0.001, 0.0001],\n",
        "              'kernel': ['rbf']}\n",
        "\n",
        "grid = GridSearchCV(SVC(), param_grid, refit = True, verbose = 3)\n",
        "\n",
        "# fitting the model for grid search\n",
        "grid.fit(x_train, y_train)"
      ],
      "id": "5b3b1ny-1EIa"
    },
    {
      "cell_type": "code",
      "execution_count": null,
      "metadata": {
        "colab": {
          "base_uri": "https://localhost:8080/"
        },
        "id": "YL-OayOj1TCP",
        "outputId": "a4853973-5938-40c2-850c-4af91fb3a3df"
      },
      "outputs": [
        {
          "output_type": "stream",
          "name": "stdout",
          "text": [
            "{'C': 1000, 'gamma': 0.0001, 'kernel': 'rbf'}\n",
            "SVC(C=1000, gamma=0.0001)\n"
          ]
        }
      ],
      "source": [
        "\n",
        "# print best parameter after tuning\n",
        "print(grid.best_params_)\n",
        "\n",
        "# print how our model looks after hyper-parameter tuning\n",
        "print(grid.best_estimator_)"
      ],
      "id": "YL-OayOj1TCP"
    },
    {
      "cell_type": "code",
      "execution_count": null,
      "metadata": {
        "colab": {
          "base_uri": "https://localhost:8080/"
        },
        "id": "vb4H7THf1TZ9",
        "outputId": "a8f84f19-d506-4fc8-c7af-b73125e68075"
      },
      "outputs": [
        {
          "output_type": "stream",
          "name": "stdout",
          "text": [
            "              precision    recall  f1-score   support\n",
            "\n",
            "         0.0       0.94      0.94      0.94       235\n",
            "         1.0       0.95      0.94      0.94       245\n",
            "\n",
            "    accuracy                           0.94       480\n",
            "   macro avg       0.94      0.94      0.94       480\n",
            "weighted avg       0.94      0.94      0.94       480\n",
            "\n"
          ]
        }
      ],
      "source": [
        "grid_predictions = grid.predict(x_test)\n",
        "\n",
        "# print classification report\n",
        "print(classification_report(y_test, grid_predictions))"
      ],
      "id": "vb4H7THf1TZ9"
    },
    {
      "cell_type": "markdown",
      "metadata": {
        "id": "906434da"
      },
      "source": [
        "**Improvement Achieved:**\n",
        "\n",
        "4 to 7% increase in both train and test data for Accuracy, Precision & Recall is seen."
      ],
      "id": "906434da"
    }
  ],
  "metadata": {
    "colab": {
      "provenance": [],
      "include_colab_link": true
    },
    "gpuClass": "standard",
    "kernelspec": {
      "display_name": "Python 3",
      "name": "python3"
    },
    "language_info": {
      "name": "python"
    }
  },
  "nbformat": 4,
  "nbformat_minor": 5
}